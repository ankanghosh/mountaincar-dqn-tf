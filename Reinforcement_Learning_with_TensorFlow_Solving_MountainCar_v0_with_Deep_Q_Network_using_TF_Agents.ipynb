{
  "cells": [
    {
      "cell_type": "markdown",
      "metadata": {
        "id": "view-in-github",
        "colab_type": "text"
      },
      "source": [
        "<a href=\"https://colab.research.google.com/github/ankanghosh/mountaincar-dqn-tf/blob/main/Reinforcement_Learning_with_TensorFlow_Solving_MountainCar_v0_with_Deep_Q_Network_using_TF_Agents.ipynb\" target=\"_parent\"><img src=\"https://colab.research.google.com/assets/colab-badge.svg\" alt=\"Open In Colab\"/></a>"
      ]
    },
    {
      "cell_type": "markdown",
      "metadata": {
        "id": "pmDI-h7cI0tI"
      },
      "source": [
        "# Reinforcement Learning with TensorFlow: Solving MountainCar-v0 with Deep Q-Network using TF-Agents"
      ]
    },
    {
      "cell_type": "markdown",
      "source": [
        "There are many applications of Reinforcement Learning (RL) - a branch of ML where an agent learns to make decisions by interacting with an environment and receiving rewards as feedback. Examples include game-playing AI, robotics control, recommendation systems, traffic signal optimization, resource management, and autonomous driving. In RL, the agent improves its actions over time by receiving rewards or penalties based on its performance. This blog will focus on solving the classic `MountainCar-v0` problem using a Deep Q-Network (DQN) built with TensorFlow Agents (TF-Agents)."
      ],
      "metadata": {
        "id": "fm3LowMtdwqk"
      }
    },
    {
      "cell_type": "markdown",
      "metadata": {
        "id": "lsaQlK8fFQqH"
      },
      "source": [
        "## Introduction\n"
      ]
    },
    {
      "cell_type": "markdown",
      "source": [
        "This tutorial is an adaptation of the official CartPole-environment-based [TensorFlow DQN agent tutorial](https://www.tensorflow.org/agents/tutorials/1_dqn_tutorial) to solve the `MountainCar-v0` environment using the following enhancements. See the DQN paper [here](https://storage.googleapis.com/deepmind-media/dqn/DQNNaturePaper.pdf).\n",
        "\n",
        "\n",
        "1.   ε-decay for improved exploration-exploitation balance.\n",
        "2.   Reward shaping to accelerate learning in sparse-reward settings.\n",
        "1.   Hyperparameter tuning to improve convergence and stability."
      ],
      "metadata": {
        "id": "ajqXjb5QDzNG"
      }
    },
    {
      "cell_type": "markdown",
      "source": [
        "The goal in `MountainCar-v0` is to drive an underpowered car up a hill and reach a flag. Since gravity is stronger than the engine, the agent must learn to rock back and forth to build momentum and reach the flag. This tutorial guides you through each component of a RL pipeline, covering the data collection, training, and evaluation processes."
      ],
      "metadata": {
        "id": "JEAo_d5u7lnA"
      }
    },
    {
      "cell_type": "markdown",
      "metadata": {
        "id": "1u9QVVsShC9X"
      },
      "source": [
        "## Setup"
      ]
    },
    {
      "cell_type": "markdown",
      "source": [
        "Install the necessary system packages for rendering and video generation."
      ],
      "metadata": {
        "id": "h2r5kkOKHfPD"
      }
    },
    {
      "cell_type": "code",
      "source": [
        "# Install the necessary system packages for rendering and video generation.\n",
        "!sudo apt-get update\n",
        "!sudo apt-get install -y xvfb ffmpeg freeglut3-dev"
      ],
      "metadata": {
        "colab": {
          "base_uri": "https://localhost:8080/"
        },
        "id": "iuAVXgl8CKRY",
        "outputId": "58cab008-2341-43e4-8c11-d1117a7a00c1"
      },
      "execution_count": null,
      "outputs": [
        {
          "output_type": "stream",
          "name": "stdout",
          "text": [
            "Hit:1 http://archive.ubuntu.com/ubuntu jammy InRelease\n",
            "Get:2 http://archive.ubuntu.com/ubuntu jammy-updates InRelease [128 kB]\n",
            "Get:3 https://developer.download.nvidia.com/compute/cuda/repos/ubuntu2204/x86_64  InRelease [1,581 B]\n",
            "Get:4 https://cloud.r-project.org/bin/linux/ubuntu jammy-cran40/ InRelease [3,632 B]\n",
            "Get:5 http://security.ubuntu.com/ubuntu jammy-security InRelease [129 kB]\n",
            "Get:6 http://archive.ubuntu.com/ubuntu jammy-backports InRelease [127 kB]\n",
            "Hit:7 https://r2u.stat.illinois.edu/ubuntu jammy InRelease\n",
            "Get:8 https://developer.download.nvidia.com/compute/cuda/repos/ubuntu2204/x86_64  Packages [1,929 kB]\n",
            "Hit:9 https://ppa.launchpadcontent.net/deadsnakes/ppa/ubuntu jammy InRelease\n",
            "Hit:10 https://ppa.launchpadcontent.net/graphics-drivers/ppa/ubuntu jammy InRelease\n",
            "Hit:11 https://ppa.launchpadcontent.net/ubuntugis/ppa/ubuntu jammy InRelease\n",
            "Get:12 http://archive.ubuntu.com/ubuntu jammy-updates/main amd64 Packages [3,520 kB]\n",
            "Get:13 http://archive.ubuntu.com/ubuntu jammy-updates/universe amd64 Packages [1,575 kB]\n",
            "Get:14 http://security.ubuntu.com/ubuntu jammy-security/main amd64 Packages [3,208 kB]\n",
            "Get:15 http://security.ubuntu.com/ubuntu jammy-security/restricted amd64 Packages [5,111 kB]\n",
            "Get:16 http://security.ubuntu.com/ubuntu jammy-security/universe amd64 Packages [1,270 kB]\n",
            "Fetched 17.0 MB in 4s (4,285 kB/s)\n",
            "Reading package lists... Done\n",
            "W: Skipping acquire of configured file 'main/source/Sources' as repository 'https://r2u.stat.illinois.edu/ubuntu jammy InRelease' does not seem to provide it (sources.list entry misspelt?)\n",
            "Reading package lists... Done\n",
            "Building dependency tree... Done\n",
            "Reading state information... Done\n",
            "ffmpeg is already the newest version (7:4.4.2-0ubuntu0.22.04.1).\n",
            "xvfb is already the newest version (2:21.1.4-2ubuntu1.7~22.04.15).\n",
            "The following additional packages will be installed:\n",
            "  freeglut3 libegl-dev libgl-dev libgl1-mesa-dev libgles-dev libgles1\n",
            "  libglu1-mesa libglu1-mesa-dev libglvnd-core-dev libglvnd-dev libglx-dev\n",
            "  libopengl-dev libxt-dev\n",
            "Suggested packages:\n",
            "  libxt-doc\n",
            "The following NEW packages will be installed:\n",
            "  freeglut3 freeglut3-dev libegl-dev libgl-dev libgl1-mesa-dev libgles-dev\n",
            "  libgles1 libglu1-mesa libglu1-mesa-dev libglvnd-core-dev libglvnd-dev\n",
            "  libglx-dev libopengl-dev libxt-dev\n",
            "0 upgraded, 14 newly installed, 0 to remove and 37 not upgraded.\n",
            "Need to get 1,192 kB of archives.\n",
            "After this operation, 6,439 kB of additional disk space will be used.\n",
            "Get:1 http://archive.ubuntu.com/ubuntu jammy/universe amd64 freeglut3 amd64 2.8.1-6 [74.0 kB]\n",
            "Get:2 http://archive.ubuntu.com/ubuntu jammy/main amd64 libglx-dev amd64 1.4.0-1 [14.1 kB]\n",
            "Get:3 http://archive.ubuntu.com/ubuntu jammy/main amd64 libgl-dev amd64 1.4.0-1 [101 kB]\n",
            "Get:4 http://archive.ubuntu.com/ubuntu jammy/main amd64 libglvnd-core-dev amd64 1.4.0-1 [12.7 kB]\n",
            "Get:5 http://archive.ubuntu.com/ubuntu jammy/main amd64 libegl-dev amd64 1.4.0-1 [18.0 kB]\n",
            "Get:6 http://archive.ubuntu.com/ubuntu jammy/main amd64 libgles1 amd64 1.4.0-1 [11.5 kB]\n",
            "Get:7 http://archive.ubuntu.com/ubuntu jammy/main amd64 libgles-dev amd64 1.4.0-1 [49.4 kB]\n",
            "Get:8 http://archive.ubuntu.com/ubuntu jammy/main amd64 libopengl-dev amd64 1.4.0-1 [3,400 B]\n",
            "Get:9 http://archive.ubuntu.com/ubuntu jammy/main amd64 libglvnd-dev amd64 1.4.0-1 [3,162 B]\n",
            "Get:10 http://archive.ubuntu.com/ubuntu jammy-updates/main amd64 libgl1-mesa-dev amd64 23.2.1-1ubuntu3.1~22.04.3 [6,848 B]\n",
            "Get:11 http://archive.ubuntu.com/ubuntu jammy/main amd64 libglu1-mesa amd64 9.0.2-1 [145 kB]\n",
            "Get:12 http://archive.ubuntu.com/ubuntu jammy/main amd64 libglu1-mesa-dev amd64 9.0.2-1 [231 kB]\n",
            "Get:13 http://archive.ubuntu.com/ubuntu jammy/main amd64 libxt-dev amd64 1:1.2.1-1 [396 kB]\n",
            "Get:14 http://archive.ubuntu.com/ubuntu jammy/universe amd64 freeglut3-dev amd64 2.8.1-6 [126 kB]\n",
            "Fetched 1,192 kB in 0s (4,897 kB/s)\n",
            "debconf: unable to initialize frontend: Dialog\n",
            "debconf: (No usable dialog-like program is installed, so the dialog based frontend cannot be used. at /usr/share/perl5/Debconf/FrontEnd/Dialog.pm line 78, <> line 14.)\n",
            "debconf: falling back to frontend: Readline\n",
            "debconf: unable to initialize frontend: Readline\n",
            "debconf: (This frontend requires a controlling tty.)\n",
            "debconf: falling back to frontend: Teletype\n",
            "dpkg-preconfigure: unable to re-open stdin: \n",
            "Selecting previously unselected package freeglut3:amd64.\n",
            "(Reading database ... 126284 files and directories currently installed.)\n",
            "Preparing to unpack .../00-freeglut3_2.8.1-6_amd64.deb ...\n",
            "Unpacking freeglut3:amd64 (2.8.1-6) ...\n",
            "Selecting previously unselected package libglx-dev:amd64.\n",
            "Preparing to unpack .../01-libglx-dev_1.4.0-1_amd64.deb ...\n",
            "Unpacking libglx-dev:amd64 (1.4.0-1) ...\n",
            "Selecting previously unselected package libgl-dev:amd64.\n",
            "Preparing to unpack .../02-libgl-dev_1.4.0-1_amd64.deb ...\n",
            "Unpacking libgl-dev:amd64 (1.4.0-1) ...\n",
            "Selecting previously unselected package libglvnd-core-dev:amd64.\n",
            "Preparing to unpack .../03-libglvnd-core-dev_1.4.0-1_amd64.deb ...\n",
            "Unpacking libglvnd-core-dev:amd64 (1.4.0-1) ...\n",
            "Selecting previously unselected package libegl-dev:amd64.\n",
            "Preparing to unpack .../04-libegl-dev_1.4.0-1_amd64.deb ...\n",
            "Unpacking libegl-dev:amd64 (1.4.0-1) ...\n",
            "Selecting previously unselected package libgles1:amd64.\n",
            "Preparing to unpack .../05-libgles1_1.4.0-1_amd64.deb ...\n",
            "Unpacking libgles1:amd64 (1.4.0-1) ...\n",
            "Selecting previously unselected package libgles-dev:amd64.\n",
            "Preparing to unpack .../06-libgles-dev_1.4.0-1_amd64.deb ...\n",
            "Unpacking libgles-dev:amd64 (1.4.0-1) ...\n",
            "Selecting previously unselected package libopengl-dev:amd64.\n",
            "Preparing to unpack .../07-libopengl-dev_1.4.0-1_amd64.deb ...\n",
            "Unpacking libopengl-dev:amd64 (1.4.0-1) ...\n",
            "Selecting previously unselected package libglvnd-dev:amd64.\n",
            "Preparing to unpack .../08-libglvnd-dev_1.4.0-1_amd64.deb ...\n",
            "Unpacking libglvnd-dev:amd64 (1.4.0-1) ...\n",
            "Selecting previously unselected package libgl1-mesa-dev:amd64.\n",
            "Preparing to unpack .../09-libgl1-mesa-dev_23.2.1-1ubuntu3.1~22.04.3_amd64.deb ...\n",
            "Unpacking libgl1-mesa-dev:amd64 (23.2.1-1ubuntu3.1~22.04.3) ...\n",
            "Selecting previously unselected package libglu1-mesa:amd64.\n",
            "Preparing to unpack .../10-libglu1-mesa_9.0.2-1_amd64.deb ...\n",
            "Unpacking libglu1-mesa:amd64 (9.0.2-1) ...\n",
            "Selecting previously unselected package libglu1-mesa-dev:amd64.\n",
            "Preparing to unpack .../11-libglu1-mesa-dev_9.0.2-1_amd64.deb ...\n",
            "Unpacking libglu1-mesa-dev:amd64 (9.0.2-1) ...\n",
            "Selecting previously unselected package libxt-dev:amd64.\n",
            "Preparing to unpack .../12-libxt-dev_1%3a1.2.1-1_amd64.deb ...\n",
            "Unpacking libxt-dev:amd64 (1:1.2.1-1) ...\n",
            "Selecting previously unselected package freeglut3-dev:amd64.\n",
            "Preparing to unpack .../13-freeglut3-dev_2.8.1-6_amd64.deb ...\n",
            "Unpacking freeglut3-dev:amd64 (2.8.1-6) ...\n",
            "Setting up freeglut3:amd64 (2.8.1-6) ...\n",
            "Setting up libglvnd-core-dev:amd64 (1.4.0-1) ...\n",
            "Setting up libxt-dev:amd64 (1:1.2.1-1) ...\n",
            "Setting up libgles1:amd64 (1.4.0-1) ...\n",
            "Setting up libglx-dev:amd64 (1.4.0-1) ...\n",
            "Setting up libglu1-mesa:amd64 (9.0.2-1) ...\n",
            "Setting up libopengl-dev:amd64 (1.4.0-1) ...\n",
            "Setting up libgl-dev:amd64 (1.4.0-1) ...\n",
            "Setting up libegl-dev:amd64 (1.4.0-1) ...\n",
            "Setting up libglu1-mesa-dev:amd64 (9.0.2-1) ...\n",
            "Setting up libgles-dev:amd64 (1.4.0-1) ...\n",
            "Setting up libglvnd-dev:amd64 (1.4.0-1) ...\n",
            "Setting up libgl1-mesa-dev:amd64 (23.2.1-1ubuntu3.1~22.04.3) ...\n",
            "Setting up freeglut3-dev:amd64 (2.8.1-6) ...\n",
            "Processing triggers for man-db (2.10.2-1) ...\n",
            "Processing triggers for libc-bin (2.35-0ubuntu3.8) ...\n",
            "/sbin/ldconfig.real: /usr/local/lib/libtcm_debug.so.1 is not a symbolic link\n",
            "\n",
            "/sbin/ldconfig.real: /usr/local/lib/libtbbmalloc_proxy.so.2 is not a symbolic link\n",
            "\n",
            "/sbin/ldconfig.real: /usr/local/lib/libtbbbind_2_0.so.3 is not a symbolic link\n",
            "\n",
            "/sbin/ldconfig.real: /usr/local/lib/libtcm.so.1 is not a symbolic link\n",
            "\n",
            "/sbin/ldconfig.real: /usr/local/lib/libtbbbind_2_5.so.3 is not a symbolic link\n",
            "\n",
            "/sbin/ldconfig.real: /usr/local/lib/libhwloc.so.15 is not a symbolic link\n",
            "\n",
            "/sbin/ldconfig.real: /usr/local/lib/libur_adapter_level_zero_v2.so.0 is not a symbolic link\n",
            "\n",
            "/sbin/ldconfig.real: /usr/local/lib/libumf.so.0 is not a symbolic link\n",
            "\n",
            "/sbin/ldconfig.real: /usr/local/lib/libtbbmalloc.so.2 is not a symbolic link\n",
            "\n",
            "/sbin/ldconfig.real: /usr/local/lib/libtbb.so.12 is not a symbolic link\n",
            "\n",
            "/sbin/ldconfig.real: /usr/local/lib/libur_adapter_opencl.so.0 is not a symbolic link\n",
            "\n",
            "/sbin/ldconfig.real: /usr/local/lib/libur_adapter_level_zero.so.0 is not a symbolic link\n",
            "\n",
            "/sbin/ldconfig.real: /usr/local/lib/libtbbbind.so.3 is not a symbolic link\n",
            "\n",
            "/sbin/ldconfig.real: /usr/local/lib/libur_loader.so.0 is not a symbolic link\n",
            "\n"
          ]
        }
      ]
    },
    {
      "cell_type": "markdown",
      "source": [
        "Install the necessary Python dependencies, including libraries for rendering, video recording, and core deep RL packages."
      ],
      "metadata": {
        "id": "9Tgbtrh8HqEx"
      }
    },
    {
      "cell_type": "code",
      "source": [
        "# Install the Python dependencies.\n",
        "!pip install \"imageio==2.4.0\"\n",
        "!pip install pyvirtualdisplay\n",
        "!pip install tensorflow==2.15.0 tf-agents[reverb]==0.19.0\n",
        "!pip install pyglet"
      ],
      "metadata": {
        "colab": {
          "base_uri": "https://localhost:8080/",
          "height": 1000
        },
        "id": "vfAb2aeJCROZ",
        "outputId": "ad27e432-b115-4822-b283-4fcba3a4c143"
      },
      "execution_count": null,
      "outputs": [
        {
          "output_type": "stream",
          "name": "stdout",
          "text": [
            "Collecting imageio==2.4.0\n",
            "  Downloading imageio-2.4.0.tar.gz (3.3 MB)\n",
            "\u001b[2K     \u001b[90m━━━━━━━━━━━━━━━━━━━━━━━━━━━━━━━━━━━━━━━━\u001b[0m \u001b[32m3.3/3.3 MB\u001b[0m \u001b[31m7.1 MB/s\u001b[0m eta \u001b[36m0:00:00\u001b[0m\n",
            "\u001b[?25h  Preparing metadata (setup.py) ... \u001b[?25l\u001b[?25hdone\n",
            "Requirement already satisfied: numpy in /usr/local/lib/python3.11/dist-packages (from imageio==2.4.0) (2.0.2)\n",
            "Requirement already satisfied: pillow in /usr/local/lib/python3.11/dist-packages (from imageio==2.4.0) (11.3.0)\n",
            "Building wheels for collected packages: imageio\n",
            "  Building wheel for imageio (setup.py) ... \u001b[?25l\u001b[?25hdone\n",
            "  Created wheel for imageio: filename=imageio-2.4.0-py3-none-any.whl size=3303893 sha256=023f0b466f4a3ddc8a64f7e6c4ff0e025c360842dffa508cd1b4006471ee3567\n",
            "  Stored in directory: /root/.cache/pip/wheels/00/d9/a6/102182c294ff3e90d8d0679ad48e3aa3aa61f7fa02061120c5\n",
            "Successfully built imageio\n",
            "Installing collected packages: imageio\n",
            "  Attempting uninstall: imageio\n",
            "    Found existing installation: imageio 2.37.0\n",
            "    Uninstalling imageio-2.37.0:\n",
            "      Successfully uninstalled imageio-2.37.0\n",
            "\u001b[31mERROR: pip's dependency resolver does not currently take into account all the packages that are installed. This behaviour is the source of the following dependency conflicts.\n",
            "moviepy 1.0.3 requires imageio<3.0,>=2.5; python_version >= \"3.4\", but you have imageio 2.4.0 which is incompatible.\n",
            "scikit-image 0.25.2 requires imageio!=2.35.0,>=2.33, but you have imageio 2.4.0 which is incompatible.\u001b[0m\u001b[31m\n",
            "\u001b[0mSuccessfully installed imageio-2.4.0\n",
            "Collecting pyvirtualdisplay\n",
            "  Downloading PyVirtualDisplay-3.0-py3-none-any.whl.metadata (943 bytes)\n",
            "Downloading PyVirtualDisplay-3.0-py3-none-any.whl (15 kB)\n",
            "Installing collected packages: pyvirtualdisplay\n",
            "Successfully installed pyvirtualdisplay-3.0\n",
            "Collecting tensorflow==2.15.0\n",
            "  Downloading tensorflow-2.15.0-cp311-cp311-manylinux_2_17_x86_64.manylinux2014_x86_64.whl.metadata (4.4 kB)\n",
            "Collecting tf-agents==0.19.0 (from tf-agents[reverb]==0.19.0)\n",
            "  Downloading tf_agents-0.19.0-py3-none-any.whl.metadata (12 kB)\n",
            "Requirement already satisfied: absl-py>=1.0.0 in /usr/local/lib/python3.11/dist-packages (from tensorflow==2.15.0) (1.4.0)\n",
            "Requirement already satisfied: astunparse>=1.6.0 in /usr/local/lib/python3.11/dist-packages (from tensorflow==2.15.0) (1.6.3)\n",
            "Requirement already satisfied: flatbuffers>=23.5.26 in /usr/local/lib/python3.11/dist-packages (from tensorflow==2.15.0) (25.2.10)\n",
            "Requirement already satisfied: gast!=0.5.0,!=0.5.1,!=0.5.2,>=0.2.1 in /usr/local/lib/python3.11/dist-packages (from tensorflow==2.15.0) (0.6.0)\n",
            "Requirement already satisfied: google-pasta>=0.1.1 in /usr/local/lib/python3.11/dist-packages (from tensorflow==2.15.0) (0.2.0)\n",
            "Requirement already satisfied: h5py>=2.9.0 in /usr/local/lib/python3.11/dist-packages (from tensorflow==2.15.0) (3.14.0)\n",
            "Requirement already satisfied: libclang>=13.0.0 in /usr/local/lib/python3.11/dist-packages (from tensorflow==2.15.0) (18.1.1)\n",
            "Collecting ml-dtypes~=0.2.0 (from tensorflow==2.15.0)\n",
            "  Downloading ml_dtypes-0.2.0-cp311-cp311-manylinux_2_17_x86_64.manylinux2014_x86_64.whl.metadata (20 kB)\n",
            "Collecting numpy<2.0.0,>=1.23.5 (from tensorflow==2.15.0)\n",
            "  Downloading numpy-1.26.4-cp311-cp311-manylinux_2_17_x86_64.manylinux2014_x86_64.whl.metadata (61 kB)\n",
            "\u001b[2K     \u001b[90m━━━━━━━━━━━━━━━━━━━━━━━━━━━━━━━━━━━━━━━━\u001b[0m \u001b[32m61.0/61.0 kB\u001b[0m \u001b[31m2.7 MB/s\u001b[0m eta \u001b[36m0:00:00\u001b[0m\n",
            "\u001b[?25hRequirement already satisfied: opt-einsum>=2.3.2 in /usr/local/lib/python3.11/dist-packages (from tensorflow==2.15.0) (3.4.0)\n",
            "Requirement already satisfied: packaging in /usr/local/lib/python3.11/dist-packages (from tensorflow==2.15.0) (25.0)\n",
            "Collecting protobuf!=4.21.0,!=4.21.1,!=4.21.2,!=4.21.3,!=4.21.4,!=4.21.5,<5.0.0dev,>=3.20.3 (from tensorflow==2.15.0)\n",
            "  Downloading protobuf-4.25.8-cp37-abi3-manylinux2014_x86_64.whl.metadata (541 bytes)\n",
            "Requirement already satisfied: setuptools in /usr/local/lib/python3.11/dist-packages (from tensorflow==2.15.0) (75.2.0)\n",
            "Requirement already satisfied: six>=1.12.0 in /usr/local/lib/python3.11/dist-packages (from tensorflow==2.15.0) (1.17.0)\n",
            "Requirement already satisfied: termcolor>=1.1.0 in /usr/local/lib/python3.11/dist-packages (from tensorflow==2.15.0) (3.1.0)\n",
            "Requirement already satisfied: typing-extensions>=3.6.6 in /usr/local/lib/python3.11/dist-packages (from tensorflow==2.15.0) (4.14.1)\n",
            "Collecting wrapt<1.15,>=1.11.0 (from tensorflow==2.15.0)\n",
            "  Downloading wrapt-1.14.2-cp311-cp311-manylinux1_x86_64.manylinux_2_28_x86_64.manylinux_2_5_x86_64.whl.metadata (6.5 kB)\n",
            "Requirement already satisfied: tensorflow-io-gcs-filesystem>=0.23.1 in /usr/local/lib/python3.11/dist-packages (from tensorflow==2.15.0) (0.37.1)\n",
            "Requirement already satisfied: grpcio<2.0,>=1.24.3 in /usr/local/lib/python3.11/dist-packages (from tensorflow==2.15.0) (1.74.0)\n",
            "Collecting tensorboard<2.16,>=2.15 (from tensorflow==2.15.0)\n",
            "  Downloading tensorboard-2.15.2-py3-none-any.whl.metadata (1.7 kB)\n",
            "Collecting tensorflow-estimator<2.16,>=2.15.0 (from tensorflow==2.15.0)\n",
            "  Downloading tensorflow_estimator-2.15.0-py2.py3-none-any.whl.metadata (1.3 kB)\n",
            "Collecting keras<2.16,>=2.15.0 (from tensorflow==2.15.0)\n",
            "  Downloading keras-2.15.0-py3-none-any.whl.metadata (2.4 kB)\n",
            "Requirement already satisfied: cloudpickle>=1.3 in /usr/local/lib/python3.11/dist-packages (from tf-agents==0.19.0->tf-agents[reverb]==0.19.0) (3.1.1)\n",
            "Requirement already satisfied: gin-config>=0.4.0 in /usr/local/lib/python3.11/dist-packages (from tf-agents==0.19.0->tf-agents[reverb]==0.19.0) (0.5.0)\n",
            "Collecting gym<=0.23.0,>=0.17.0 (from tf-agents==0.19.0->tf-agents[reverb]==0.19.0)\n",
            "  Downloading gym-0.23.0.tar.gz (624 kB)\n",
            "\u001b[2K     \u001b[90m━━━━━━━━━━━━━━━━━━━━━━━━━━━━━━━━━━━━━━\u001b[0m \u001b[32m624.4/624.4 kB\u001b[0m \u001b[31m14.3 MB/s\u001b[0m eta \u001b[36m0:00:00\u001b[0m\n",
            "\u001b[?25h  Installing build dependencies ... \u001b[?25l\u001b[?25hdone\n",
            "  Getting requirements to build wheel ... \u001b[?25l\u001b[?25hdone\n",
            "  Preparing metadata (pyproject.toml) ... \u001b[?25l\u001b[?25hdone\n",
            "Requirement already satisfied: pillow in /usr/local/lib/python3.11/dist-packages (from tf-agents==0.19.0->tf-agents[reverb]==0.19.0) (11.3.0)\n",
            "Collecting typing-extensions>=3.6.6 (from tensorflow==2.15.0)\n",
            "  Downloading typing_extensions-4.5.0-py3-none-any.whl.metadata (8.5 kB)\n",
            "Collecting pygame==2.1.3 (from tf-agents==0.19.0->tf-agents[reverb]==0.19.0)\n",
            "  Downloading pygame-2.1.3-cp311-cp311-manylinux_2_17_x86_64.manylinux2014_x86_64.whl.metadata (9.3 kB)\n",
            "Collecting tensorflow-probability~=0.23.0 (from tf-agents==0.19.0->tf-agents[reverb]==0.19.0)\n",
            "  Downloading tensorflow_probability-0.23.0-py2.py3-none-any.whl.metadata (13 kB)\n",
            "Collecting rlds (from tf-agents[reverb]==0.19.0)\n",
            "  Downloading rlds-0.1.8-py3-none-manylinux2010_x86_64.whl.metadata (1.7 kB)\n",
            "Collecting dm-reverb~=0.14.0 (from tf-agents[reverb]==0.19.0)\n",
            "  Downloading dm_reverb-0.14.0-cp311-cp311-manylinux2014_x86_64.whl.metadata (17 kB)\n",
            "Requirement already satisfied: wheel<1.0,>=0.23.0 in /usr/local/lib/python3.11/dist-packages (from astunparse>=1.6.0->tensorflow==2.15.0) (0.45.1)\n",
            "Requirement already satisfied: dm-tree in /usr/local/lib/python3.11/dist-packages (from dm-reverb~=0.14.0->tf-agents[reverb]==0.19.0) (0.1.9)\n",
            "Requirement already satisfied: portpicker in /usr/local/lib/python3.11/dist-packages (from dm-reverb~=0.14.0->tf-agents[reverb]==0.19.0) (1.5.2)\n",
            "Requirement already satisfied: gym_notices>=0.0.4 in /usr/local/lib/python3.11/dist-packages (from gym<=0.23.0,>=0.17.0->tf-agents==0.19.0->tf-agents[reverb]==0.19.0) (0.1.0)\n",
            "Requirement already satisfied: google-auth<3,>=1.6.3 in /usr/local/lib/python3.11/dist-packages (from tensorboard<2.16,>=2.15->tensorflow==2.15.0) (2.38.0)\n",
            "Requirement already satisfied: google-auth-oauthlib<2,>=0.5 in /usr/local/lib/python3.11/dist-packages (from tensorboard<2.16,>=2.15->tensorflow==2.15.0) (1.2.2)\n",
            "Requirement already satisfied: markdown>=2.6.8 in /usr/local/lib/python3.11/dist-packages (from tensorboard<2.16,>=2.15->tensorflow==2.15.0) (3.8.2)\n",
            "Requirement already satisfied: requests<3,>=2.21.0 in /usr/local/lib/python3.11/dist-packages (from tensorboard<2.16,>=2.15->tensorflow==2.15.0) (2.32.3)\n",
            "Requirement already satisfied: tensorboard-data-server<0.8.0,>=0.7.0 in /usr/local/lib/python3.11/dist-packages (from tensorboard<2.16,>=2.15->tensorflow==2.15.0) (0.7.2)\n",
            "Requirement already satisfied: werkzeug>=1.0.1 in /usr/local/lib/python3.11/dist-packages (from tensorboard<2.16,>=2.15->tensorflow==2.15.0) (3.1.3)\n",
            "Requirement already satisfied: decorator in /usr/local/lib/python3.11/dist-packages (from tensorflow-probability~=0.23.0->tf-agents==0.19.0->tf-agents[reverb]==0.19.0) (4.4.2)\n",
            "Requirement already satisfied: cachetools<6.0,>=2.0.0 in /usr/local/lib/python3.11/dist-packages (from google-auth<3,>=1.6.3->tensorboard<2.16,>=2.15->tensorflow==2.15.0) (5.5.2)\n",
            "Requirement already satisfied: pyasn1-modules>=0.2.1 in /usr/local/lib/python3.11/dist-packages (from google-auth<3,>=1.6.3->tensorboard<2.16,>=2.15->tensorflow==2.15.0) (0.4.2)\n",
            "Requirement already satisfied: rsa<5,>=3.1.4 in /usr/local/lib/python3.11/dist-packages (from google-auth<3,>=1.6.3->tensorboard<2.16,>=2.15->tensorflow==2.15.0) (4.9.1)\n",
            "Requirement already satisfied: requests-oauthlib>=0.7.0 in /usr/local/lib/python3.11/dist-packages (from google-auth-oauthlib<2,>=0.5->tensorboard<2.16,>=2.15->tensorflow==2.15.0) (2.0.0)\n",
            "Requirement already satisfied: charset-normalizer<4,>=2 in /usr/local/lib/python3.11/dist-packages (from requests<3,>=2.21.0->tensorboard<2.16,>=2.15->tensorflow==2.15.0) (3.4.2)\n",
            "Requirement already satisfied: idna<4,>=2.5 in /usr/local/lib/python3.11/dist-packages (from requests<3,>=2.21.0->tensorboard<2.16,>=2.15->tensorflow==2.15.0) (3.10)\n",
            "Requirement already satisfied: urllib3<3,>=1.21.1 in /usr/local/lib/python3.11/dist-packages (from requests<3,>=2.21.0->tensorboard<2.16,>=2.15->tensorflow==2.15.0) (2.5.0)\n",
            "Requirement already satisfied: certifi>=2017.4.17 in /usr/local/lib/python3.11/dist-packages (from requests<3,>=2.21.0->tensorboard<2.16,>=2.15->tensorflow==2.15.0) (2025.8.3)\n",
            "Requirement already satisfied: MarkupSafe>=2.1.1 in /usr/local/lib/python3.11/dist-packages (from werkzeug>=1.0.1->tensorboard<2.16,>=2.15->tensorflow==2.15.0) (3.0.2)\n",
            "Requirement already satisfied: attrs>=18.2.0 in /usr/local/lib/python3.11/dist-packages (from dm-tree->dm-reverb~=0.14.0->tf-agents[reverb]==0.19.0) (25.3.0)\n",
            "Requirement already satisfied: psutil in /usr/local/lib/python3.11/dist-packages (from portpicker->dm-reverb~=0.14.0->tf-agents[reverb]==0.19.0) (5.9.5)\n",
            "Requirement already satisfied: pyasn1<0.7.0,>=0.6.1 in /usr/local/lib/python3.11/dist-packages (from pyasn1-modules>=0.2.1->google-auth<3,>=1.6.3->tensorboard<2.16,>=2.15->tensorflow==2.15.0) (0.6.1)\n",
            "Requirement already satisfied: oauthlib>=3.0.0 in /usr/local/lib/python3.11/dist-packages (from requests-oauthlib>=0.7.0->google-auth-oauthlib<2,>=0.5->tensorboard<2.16,>=2.15->tensorflow==2.15.0) (3.3.1)\n",
            "Downloading tensorflow-2.15.0-cp311-cp311-manylinux_2_17_x86_64.manylinux2014_x86_64.whl (475.3 MB)\n",
            "\u001b[2K   \u001b[90m━━━━━━━━━━━━━━━━━━━━━━━━━━━━━━━━━━━━━━━━\u001b[0m \u001b[32m475.3/475.3 MB\u001b[0m \u001b[31m3.7 MB/s\u001b[0m eta \u001b[36m0:00:00\u001b[0m\n",
            "\u001b[?25hDownloading tf_agents-0.19.0-py3-none-any.whl (1.4 MB)\n",
            "\u001b[2K   \u001b[90m━━━━━━━━━━━━━━━━━━━━━━━━━━━━━━━━━━━━━━━━\u001b[0m \u001b[32m1.4/1.4 MB\u001b[0m \u001b[31m38.4 MB/s\u001b[0m eta \u001b[36m0:00:00\u001b[0m\n",
            "\u001b[?25hDownloading pygame-2.1.3-cp311-cp311-manylinux_2_17_x86_64.manylinux2014_x86_64.whl (13.7 MB)\n",
            "\u001b[2K   \u001b[90m━━━━━━━━━━━━━━━━━━━━━━━━━━━━━━━━━━━━━━━━\u001b[0m \u001b[32m13.7/13.7 MB\u001b[0m \u001b[31m50.8 MB/s\u001b[0m eta \u001b[36m0:00:00\u001b[0m\n",
            "\u001b[?25hDownloading typing_extensions-4.5.0-py3-none-any.whl (27 kB)\n",
            "Downloading dm_reverb-0.14.0-cp311-cp311-manylinux2014_x86_64.whl (6.4 MB)\n",
            "\u001b[2K   \u001b[90m━━━━━━━━━━━━━━━━━━━━━━━━━━━━━━━━━━━━━━━━\u001b[0m \u001b[32m6.4/6.4 MB\u001b[0m \u001b[31m57.2 MB/s\u001b[0m eta \u001b[36m0:00:00\u001b[0m\n",
            "\u001b[?25hDownloading keras-2.15.0-py3-none-any.whl (1.7 MB)\n",
            "\u001b[2K   \u001b[90m━━━━━━━━━━━━━━━━━━━━━━━━━━━━━━━━━━━━━━━━\u001b[0m \u001b[32m1.7/1.7 MB\u001b[0m \u001b[31m41.4 MB/s\u001b[0m eta \u001b[36m0:00:00\u001b[0m\n",
            "\u001b[?25hDownloading ml_dtypes-0.2.0-cp311-cp311-manylinux_2_17_x86_64.manylinux2014_x86_64.whl (1.0 MB)\n",
            "\u001b[2K   \u001b[90m━━━━━━━━━━━━━━━━━━━━━━━━━━━━━━━━━━━━━━━━\u001b[0m \u001b[32m1.0/1.0 MB\u001b[0m \u001b[31m39.2 MB/s\u001b[0m eta \u001b[36m0:00:00\u001b[0m\n",
            "\u001b[?25hDownloading numpy-1.26.4-cp311-cp311-manylinux_2_17_x86_64.manylinux2014_x86_64.whl (18.3 MB)\n",
            "\u001b[2K   \u001b[90m━━━━━━━━━━━━━━━━━━━━━━━━━━━━━━━━━━━━━━━━\u001b[0m \u001b[32m18.3/18.3 MB\u001b[0m \u001b[31m74.1 MB/s\u001b[0m eta \u001b[36m0:00:00\u001b[0m\n",
            "\u001b[?25hDownloading protobuf-4.25.8-cp37-abi3-manylinux2014_x86_64.whl (294 kB)\n",
            "\u001b[2K   \u001b[90m━━━━━━━━━━━━━━━━━━━━━━━━━━━━━━━━━━━━━━━━\u001b[0m \u001b[32m294.9/294.9 kB\u001b[0m \u001b[31m16.4 MB/s\u001b[0m eta \u001b[36m0:00:00\u001b[0m\n",
            "\u001b[?25hDownloading tensorboard-2.15.2-py3-none-any.whl (5.5 MB)\n",
            "\u001b[2K   \u001b[90m━━━━━━━━━━━━━━━━━━━━━━━━━━━━━━━━━━━━━━━━\u001b[0m \u001b[32m5.5/5.5 MB\u001b[0m \u001b[31m71.2 MB/s\u001b[0m eta \u001b[36m0:00:00\u001b[0m\n",
            "\u001b[?25hDownloading tensorflow_estimator-2.15.0-py2.py3-none-any.whl (441 kB)\n",
            "\u001b[2K   \u001b[90m━━━━━━━━━━━━━━━━━━━━━━━━━━━━━━━━━━━━━━━━\u001b[0m \u001b[32m442.0/442.0 kB\u001b[0m \u001b[31m27.0 MB/s\u001b[0m eta \u001b[36m0:00:00\u001b[0m\n",
            "\u001b[?25hDownloading tensorflow_probability-0.23.0-py2.py3-none-any.whl (6.9 MB)\n",
            "\u001b[2K   \u001b[90m━━━━━━━━━━━━━━━━━━━━━━━━━━━━━━━━━━━━━━━━\u001b[0m \u001b[32m6.9/6.9 MB\u001b[0m \u001b[31m82.5 MB/s\u001b[0m eta \u001b[36m0:00:00\u001b[0m\n",
            "\u001b[?25hDownloading wrapt-1.14.2-cp311-cp311-manylinux1_x86_64.manylinux_2_28_x86_64.manylinux_2_5_x86_64.whl (77 kB)\n",
            "\u001b[2K   \u001b[90m━━━━━━━━━━━━━━━━━━━━━━━━━━━━━━━━━━━━━━━━\u001b[0m \u001b[32m77.4/77.4 kB\u001b[0m \u001b[31m4.9 MB/s\u001b[0m eta \u001b[36m0:00:00\u001b[0m\n",
            "\u001b[?25hDownloading rlds-0.1.8-py3-none-manylinux2010_x86_64.whl (48 kB)\n",
            "\u001b[2K   \u001b[90m━━━━━━━━━━━━━━━━━━━━━━━━━━━━━━━━━━━━━━━━\u001b[0m \u001b[32m48.4/48.4 kB\u001b[0m \u001b[31m2.7 MB/s\u001b[0m eta \u001b[36m0:00:00\u001b[0m\n",
            "\u001b[?25hBuilding wheels for collected packages: gym\n",
            "  Building wheel for gym (pyproject.toml) ... \u001b[?25l\u001b[?25hdone\n",
            "  Created wheel for gym: filename=gym-0.23.0-py3-none-any.whl size=697740 sha256=51356066b2cd458a3d14c8517a8a5917ae1173522a5424985dbce5378cf73839\n",
            "  Stored in directory: /root/.cache/pip/wheels/bf/19/ce/d2b762b6d61115bf0b4260ca59650ba2d55d49f34f61e095f6\n",
            "Successfully built gym\n",
            "Installing collected packages: wrapt, typing-extensions, tensorflow-estimator, pygame, protobuf, numpy, keras, rlds, ml-dtypes, gym, tensorflow-probability, dm-reverb, tf-agents, tensorboard, tensorflow\n",
            "  Attempting uninstall: wrapt\n",
            "    Found existing installation: wrapt 1.17.2\n",
            "    Uninstalling wrapt-1.17.2:\n",
            "      Successfully uninstalled wrapt-1.17.2\n",
            "  Attempting uninstall: typing-extensions\n",
            "    Found existing installation: typing_extensions 4.14.1\n",
            "    Uninstalling typing_extensions-4.14.1:\n",
            "      Successfully uninstalled typing_extensions-4.14.1\n",
            "  Attempting uninstall: pygame\n",
            "    Found existing installation: pygame 2.6.1\n",
            "    Uninstalling pygame-2.6.1:\n",
            "      Successfully uninstalled pygame-2.6.1\n",
            "  Attempting uninstall: protobuf\n",
            "    Found existing installation: protobuf 5.29.5\n",
            "    Uninstalling protobuf-5.29.5:\n",
            "      Successfully uninstalled protobuf-5.29.5\n",
            "  Attempting uninstall: numpy\n",
            "    Found existing installation: numpy 2.0.2\n",
            "    Uninstalling numpy-2.0.2:\n",
            "      Successfully uninstalled numpy-2.0.2\n",
            "  Attempting uninstall: keras\n",
            "    Found existing installation: keras 3.10.0\n",
            "    Uninstalling keras-3.10.0:\n",
            "      Successfully uninstalled keras-3.10.0\n",
            "  Attempting uninstall: ml-dtypes\n",
            "    Found existing installation: ml_dtypes 0.5.3\n",
            "    Uninstalling ml_dtypes-0.5.3:\n",
            "      Successfully uninstalled ml_dtypes-0.5.3\n",
            "  Attempting uninstall: gym\n",
            "    Found existing installation: gym 0.25.2\n",
            "    Uninstalling gym-0.25.2:\n",
            "      Successfully uninstalled gym-0.25.2\n",
            "  Attempting uninstall: tensorflow-probability\n",
            "    Found existing installation: tensorflow-probability 0.25.0\n",
            "    Uninstalling tensorflow-probability-0.25.0:\n",
            "      Successfully uninstalled tensorflow-probability-0.25.0\n",
            "  Attempting uninstall: tensorboard\n",
            "    Found existing installation: tensorboard 2.19.0\n",
            "    Uninstalling tensorboard-2.19.0:\n",
            "      Successfully uninstalled tensorboard-2.19.0\n",
            "  Attempting uninstall: tensorflow\n",
            "    Found existing installation: tensorflow 2.19.0\n",
            "    Uninstalling tensorflow-2.19.0:\n",
            "      Successfully uninstalled tensorflow-2.19.0\n",
            "\u001b[31mERROR: pip's dependency resolver does not currently take into account all the packages that are installed. This behaviour is the source of the following dependency conflicts.\n",
            "tensorstore 0.1.76 requires ml_dtypes>=0.5.0, but you have ml-dtypes 0.2.0 which is incompatible.\n",
            "openai 1.99.1 requires typing-extensions<5,>=4.11, but you have typing-extensions 4.5.0 which is incompatible.\n",
            "opencv-python 4.12.0.88 requires numpy<2.3.0,>=2; python_version >= \"3.9\", but you have numpy 1.26.4 which is incompatible.\n",
            "pydantic 2.11.7 requires typing-extensions>=4.12.2, but you have typing-extensions 4.5.0 which is incompatible.\n",
            "typeguard 4.4.4 requires typing_extensions>=4.14.0, but you have typing-extensions 4.5.0 which is incompatible.\n",
            "grpcio-status 1.71.2 requires protobuf<6.0dev,>=5.26.1, but you have protobuf 4.25.8 which is incompatible.\n",
            "jax 0.5.3 requires ml_dtypes>=0.4.0, but you have ml-dtypes 0.2.0 which is incompatible.\n",
            "torch 2.6.0+cu124 requires nvidia-cublas-cu12==12.4.5.8; platform_system == \"Linux\" and platform_machine == \"x86_64\", but you have nvidia-cublas-cu12 12.5.3.2 which is incompatible.\n",
            "torch 2.6.0+cu124 requires nvidia-cuda-cupti-cu12==12.4.127; platform_system == \"Linux\" and platform_machine == \"x86_64\", but you have nvidia-cuda-cupti-cu12 12.5.82 which is incompatible.\n",
            "torch 2.6.0+cu124 requires nvidia-cuda-nvrtc-cu12==12.4.127; platform_system == \"Linux\" and platform_machine == \"x86_64\", but you have nvidia-cuda-nvrtc-cu12 12.5.82 which is incompatible.\n",
            "torch 2.6.0+cu124 requires nvidia-cuda-runtime-cu12==12.4.127; platform_system == \"Linux\" and platform_machine == \"x86_64\", but you have nvidia-cuda-runtime-cu12 12.5.82 which is incompatible.\n",
            "torch 2.6.0+cu124 requires nvidia-cudnn-cu12==9.1.0.70; platform_system == \"Linux\" and platform_machine == \"x86_64\", but you have nvidia-cudnn-cu12 9.3.0.75 which is incompatible.\n",
            "torch 2.6.0+cu124 requires nvidia-cufft-cu12==11.2.1.3; platform_system == \"Linux\" and platform_machine == \"x86_64\", but you have nvidia-cufft-cu12 11.2.3.61 which is incompatible.\n",
            "torch 2.6.0+cu124 requires nvidia-curand-cu12==10.3.5.147; platform_system == \"Linux\" and platform_machine == \"x86_64\", but you have nvidia-curand-cu12 10.3.6.82 which is incompatible.\n",
            "torch 2.6.0+cu124 requires nvidia-cusolver-cu12==11.6.1.9; platform_system == \"Linux\" and platform_machine == \"x86_64\", but you have nvidia-cusolver-cu12 11.6.3.83 which is incompatible.\n",
            "torch 2.6.0+cu124 requires nvidia-cusparse-cu12==12.3.1.170; platform_system == \"Linux\" and platform_machine == \"x86_64\", but you have nvidia-cusparse-cu12 12.5.1.3 which is incompatible.\n",
            "torch 2.6.0+cu124 requires nvidia-nccl-cu12==2.21.5; platform_system == \"Linux\" and platform_machine == \"x86_64\", but you have nvidia-nccl-cu12 2.23.4 which is incompatible.\n",
            "torch 2.6.0+cu124 requires nvidia-nvjitlink-cu12==12.4.127; platform_system == \"Linux\" and platform_machine == \"x86_64\", but you have nvidia-nvjitlink-cu12 12.5.82 which is incompatible.\n",
            "torch 2.6.0+cu124 requires typing-extensions>=4.10.0, but you have typing-extensions 4.5.0 which is incompatible.\n",
            "google-genai 1.28.0 requires typing-extensions<5.0.0,>=4.11.0, but you have typing-extensions 4.5.0 which is incompatible.\n",
            "typing-inspection 0.4.1 requires typing-extensions>=4.12.0, but you have typing-extensions 4.5.0 which is incompatible.\n",
            "pydantic-core 2.33.2 requires typing-extensions!=4.7.0,>=4.6.0, but you have typing-extensions 4.5.0 which is incompatible.\n",
            "tf-keras 2.19.0 requires tensorflow<2.20,>=2.19, but you have tensorflow 2.15.0 which is incompatible.\n",
            "wandb 0.21.0 requires typing-extensions<5,>=4.8, but you have typing-extensions 4.5.0 which is incompatible.\n",
            "moviepy 1.0.3 requires imageio<3.0,>=2.5; python_version >= \"3.4\", but you have imageio 2.4.0 which is incompatible.\n",
            "starlette 0.47.2 requires typing-extensions>=4.10.0; python_version < \"3.13\", but you have typing-extensions 4.5.0 which is incompatible.\n",
            "keras-hub 0.21.1 requires keras>=3.5, but you have keras 2.15.0 which is incompatible.\n",
            "langchain-core 0.3.72 requires typing-extensions>=4.7, but you have typing-extensions 4.5.0 which is incompatible.\n",
            "ydf 0.13.0 requires protobuf<7.0.0,>=5.29.1, but you have protobuf 4.25.8 which is incompatible.\n",
            "fastapi 0.116.1 requires typing-extensions>=4.8.0, but you have typing-extensions 4.5.0 which is incompatible.\n",
            "tensorflow-text 2.19.0 requires tensorflow<2.20,>=2.19.0, but you have tensorflow 2.15.0 which is incompatible.\n",
            "scikit-image 0.25.2 requires imageio!=2.35.0,>=2.33, but you have imageio 2.4.0 which is incompatible.\n",
            "optree 0.17.0 requires typing-extensions>=4.6.0, but you have typing-extensions 4.5.0 which is incompatible.\n",
            "thinc 8.3.6 requires numpy<3.0.0,>=2.0.0, but you have numpy 1.26.4 which is incompatible.\n",
            "opencv-contrib-python 4.12.0.88 requires numpy<2.3.0,>=2; python_version >= \"3.9\", but you have numpy 1.26.4 which is incompatible.\n",
            "nibabel 5.3.2 requires typing-extensions>=4.6; python_version < \"3.13\", but you have typing-extensions 4.5.0 which is incompatible.\n",
            "opencv-python-headless 4.12.0.88 requires numpy<2.3.0,>=2; python_version >= \"3.9\", but you have numpy 1.26.4 which is incompatible.\n",
            "altair 5.5.0 requires typing-extensions>=4.10.0; python_version < \"3.14\", but you have typing-extensions 4.5.0 which is incompatible.\n",
            "tensorflow-decision-forests 1.12.0 requires tensorflow==2.19.0, but you have tensorflow 2.15.0 which is incompatible.\n",
            "sqlalchemy 2.0.42 requires typing-extensions>=4.6.0, but you have typing-extensions 4.5.0 which is incompatible.\u001b[0m\u001b[31m\n",
            "\u001b[0mSuccessfully installed dm-reverb-0.14.0 gym-0.23.0 keras-2.15.0 ml-dtypes-0.2.0 numpy-1.26.4 protobuf-4.25.8 pygame-2.1.3 rlds-0.1.8 tensorboard-2.15.2 tensorflow-2.15.0 tensorflow-estimator-2.15.0 tensorflow-probability-0.23.0 tf-agents-0.19.0 typing-extensions-4.5.0 wrapt-1.14.2\n"
          ]
        },
        {
          "output_type": "display_data",
          "data": {
            "application/vnd.colab-display-data+json": {
              "pip_warning": {
                "packages": [
                  "google",
                  "numpy"
                ]
              },
              "id": "fedcd4b8fe774870a12e8a2d1ebc237a"
            }
          },
          "metadata": {}
        },
        {
          "output_type": "stream",
          "name": "stdout",
          "text": [
            "Collecting pyglet\n",
            "  Downloading pyglet-2.1.6-py3-none-any.whl.metadata (7.7 kB)\n",
            "Downloading pyglet-2.1.6-py3-none-any.whl (983 kB)\n",
            "\u001b[2K   \u001b[90m━━━━━━━━━━━━━━━━━━━━━━━━━━━━━━━━━━━━━━━━\u001b[0m \u001b[32m984.0/984.0 kB\u001b[0m \u001b[31m3.1 MB/s\u001b[0m eta \u001b[36m0:00:00\u001b[0m\n",
            "\u001b[?25hInstalling collected packages: pyglet\n",
            "Successfully installed pyglet-2.1.6\n"
          ]
        }
      ]
    },
    {
      "cell_type": "markdown",
      "source": [
        "Ensure compatibility with `tf.keras` (Keras 2.x)."
      ],
      "metadata": {
        "id": "4DYJT90hHtP6"
      }
    },
    {
      "cell_type": "code",
      "source": [
        "# Ensure compatibility with \"tf.keras\" (Keras 2.x).\n",
        "import os\n",
        "os.environ[\"TF_USE_LEGACY_KERAS\"] = \"1\""
      ],
      "metadata": {
        "id": "rRp7YAUQCTUB"
      },
      "execution_count": null,
      "outputs": []
    },
    {
      "cell_type": "markdown",
      "source": [
        "Define the imports for Future, standard library, third-party packages, and TF-Agents."
      ],
      "metadata": {
        "id": "SkpCOZGZKccO"
      }
    },
    {
      "cell_type": "code",
      "source": [
        "# Future imports.\n",
        "from __future__ import absolute_import, division, print_function\n",
        "\n",
        "# Standard library.\n",
        "import base64\n",
        "\n",
        "# Third-party packages.\n",
        "import gym\n",
        "from gym import RewardWrapper\n",
        "import imageio\n",
        "import matplotlib.pyplot as plt\n",
        "import numpy as np\n",
        "import PIL.Image\n",
        "import pyvirtualdisplay\n",
        "import reverb\n",
        "import tensorflow as tf\n",
        "import IPython.display\n",
        "\n",
        "# TF-Agents imports.\n",
        "from tf_agents.environments import suite_gym, tf_py_environment\n",
        "from tf_agents.networks import q_network, sequential\n",
        "from tf_agents.agents.dqn import dqn_agent\n",
        "from tf_agents.utils import common\n",
        "from tf_agents.replay_buffers import reverb_replay_buffer, reverb_utils\n",
        "from tf_agents.trajectories import trajectory\n",
        "from tf_agents.policies import random_tf_policy, py_tf_eager_policy\n",
        "from tf_agents.metrics import tf_metrics\n",
        "from tf_agents.drivers import dynamic_step_driver, py_driver\n",
        "from tf_agents.specs import tensor_spec"
      ],
      "metadata": {
        "id": "NnCONoPSCftv",
        "colab": {
          "base_uri": "https://localhost:8080/"
        },
        "outputId": "1aae06ab-62de-4168-a699-bd155053316a"
      },
      "execution_count": null,
      "outputs": [
        {
          "output_type": "stream",
          "name": "stderr",
          "text": [
            "Gym has been unmaintained since 2022 and does not support NumPy 2.0 amongst other critical functionality.\n",
            "Please upgrade to Gymnasium, the maintained drop-in replacement of Gym, or contact the authors of your software and request that they upgrade.\n",
            "See the migration guide at https://gymnasium.farama.org/introduction/migration_guide/ for additional information.\n"
          ]
        }
      ]
    },
    {
      "cell_type": "markdown",
      "source": [
        "Confirm that the installed TensorFlow version is the intended one."
      ],
      "metadata": {
        "id": "KIm1JXG-SX9N"
      }
    },
    {
      "cell_type": "code",
      "source": [
        "# Confirm that the installed TensorFlow version is the intended one.\n",
        "print(\"TensorFlow version:\", tf.__version__)"
      ],
      "metadata": {
        "colab": {
          "base_uri": "https://localhost:8080/"
        },
        "id": "Ciya3MNoI92L",
        "outputId": "eb9deb66-3877-4f72-bb09-ee1aec43c733"
      },
      "execution_count": null,
      "outputs": [
        {
          "output_type": "stream",
          "name": "stdout",
          "text": [
            "TensorFlow version: 2.15.0\n"
          ]
        }
      ]
    },
    {
      "cell_type": "markdown",
      "source": [
        "Set up a virtual display for rendering OpenAI Gym environments."
      ],
      "metadata": {
        "id": "PRNgitxlHFzc"
      }
    },
    {
      "cell_type": "code",
      "execution_count": null,
      "metadata": {
        "id": "J6HsdS5GbSjd"
      },
      "outputs": [],
      "source": [
        "# Set up a virtual display for rendering OpenAI gym environments.\n",
        "display = pyvirtualdisplay.Display(visible=0, size=(1400, 900)).start()"
      ]
    },
    {
      "cell_type": "markdown",
      "metadata": {
        "id": "VMsJC3DEgI0x"
      },
      "source": [
        "## Environment"
      ]
    },
    {
      "cell_type": "markdown",
      "source": [
        "In RL, the environment defines the task or problem the agent must solve. In TF-Agents, standard environments can be loaded using the `tf_agents.environments` suites, which support sources like OpenAI Gym, Atari, and DM Control. Load the `MountainCar-v0` environment from the OpenAI Gym suite."
      ],
      "metadata": {
        "id": "jdlUprcdjlvj"
      }
    },
    {
      "cell_type": "code",
      "source": [
        "# \"MountainCar-v0\" environment.\n",
        "env_name = \"MountainCar-v0\"\n",
        "\n",
        "# Load environment using TF-Agents suite.\n",
        "preview_env = suite_gym.load(env_name)"
      ],
      "metadata": {
        "id": "rf-xsxquCvbN"
      },
      "execution_count": null,
      "outputs": []
    },
    {
      "cell_type": "markdown",
      "source": [
        "Go ahead and inspect the `MountainCar-v0` setup. A car can be seen trying to climb up a mountain."
      ],
      "metadata": {
        "id": "pkKfzwHGS7dU"
      }
    },
    {
      "cell_type": "code",
      "source": [
        "# Reset the environment before rendering a new episode frame.\n",
        "preview_env.reset()\n",
        "\n",
        "# Render a single frame from the environment and display it as an image.\n",
        "PIL.Image.fromarray(preview_env.render())"
      ],
      "metadata": {
        "id": "cbLUhsV7TE2m",
        "colab": {
          "base_uri": "https://localhost:8080/",
          "height": 417
        },
        "outputId": "8c12db32-618b-4e2a-bda8-24a609b83e82"
      },
      "execution_count": null,
      "outputs": [
        {
          "output_type": "execute_result",
          "data": {
            "text/plain": [
              "<PIL.Image.Image image mode=RGB size=600x400>"
            ],
            "image/png": "[encoded data removed]",
            "image/jpeg": "[encoded data removed]"
          },
          "metadata": {},
          "execution_count": 6
        }
      ]
    },
    {
      "cell_type": "markdown",
      "source": [
        "Instantiate one environment for training and another one for evaluation."
      ],
      "metadata": {
        "id": "DChwA2Ms9LnN"
      }
    },
    {
      "cell_type": "code",
      "source": [
        "# Load Python environments for training and evaluation.\n",
        "train_py_env = suite_gym.load(env_name)\n",
        "eval_py_env = suite_gym.load(env_name)"
      ],
      "metadata": {
        "id": "nUrIufSf9MP2"
      },
      "execution_count": null,
      "outputs": []
    },
    {
      "cell_type": "markdown",
      "source": [
        "Next, wrap the environments for TF-Agents. Like most environments, the `MountainCar-v0` environment is written in pure Python and is required to be converted to TensorFlow using the `TFPyEnvironment` wrapper. The original environment operates with NumPy arrays, while the `TFPyEnvironment` acts as a bridge by converting them into `Tensors`, making the environment compatible with TensorFlow-based agents and policies."
      ],
      "metadata": {
        "id": "kd_tT4O-7EhC"
      }
    },
    {
      "cell_type": "code",
      "source": [
        "# Convert Python environments for training and evaluation to TF-Agents environments.\n",
        "train_env = tf_py_environment.TFPyEnvironment(train_py_env)\n",
        "eval_env = tf_py_environment.TFPyEnvironment(eval_py_env)"
      ],
      "metadata": {
        "id": "_ARdv9ou7C0c"
      },
      "execution_count": null,
      "outputs": []
    },
    {
      "cell_type": "markdown",
      "source": [
        "**Note:** The standard environment loading and wrapping process has been demonstrated here for clarity. However, the actual training environment used later will incorporate reward shaping and be redefined in the “Reward Shaping” section."
      ],
      "metadata": {
        "id": "ECF9Xkiwprhr"
      }
    },
    {
      "cell_type": "markdown",
      "source": [
        "### Observation and action spaces"
      ],
      "metadata": {
        "id": "LYHZYWxAQVCX"
      }
    },
    {
      "cell_type": "markdown",
      "source": [
        "The `MountainCar-v0` environment provides the following observation or state space and the action space.\n",
        "\n",
        "*   **Observation Space:** A Two-Dimensional (2D) continuous space representing:\n",
        " *   **`position:`** Values in the range ~`−1.2` to `0.6`.\n",
        " *   **`velocity:`** Values in the range: ~−`0.07` to `0.07`.\n",
        "*   **Action Space:** A discrete space with 3 actions shown below.\n",
        " *   **`0`**: Accelerate to the left.\n",
        " *   **`1:`** Do not accelerate.\n",
        " *   **`2:`** Accelerate to the right."
      ],
      "metadata": {
        "id": "DL1hmk8GSB2T"
      }
    },
    {
      "cell_type": "markdown",
      "source": [
        "In the `MountainCar-v0` environment, the agent receives a reward of `-1` at each time step (an interaction with the environment) until it reaches the goal. The agent must learn to build momentum by oscillating between left and right to climb the hill and reach the goal at `position ≥ 0.5`. Also note that in the `MountainCar-v0` environment, an episode also terminates automatically after 200 time steps if the agent has not reached the goal. Learn more about the `MountainCar-v0` environment [here](https://gymnasium.farama.org/environments/classic_control/mountain_car/)."
      ],
      "metadata": {
        "id": "hfd41JN3Tnsw"
      }
    },
    {
      "cell_type": "markdown",
      "source": [
        "Next, display the specifications for the observation and action."
      ],
      "metadata": {
        "id": "LBfMy_RF8oXj"
      }
    },
    {
      "cell_type": "markdown",
      "source": [
        "**Note:** In this tutorial, “specifications” and “specs” will be used interchangeably."
      ],
      "metadata": {
        "id": "AAqmKup5iqVU"
      }
    },
    {
      "cell_type": "markdown",
      "metadata": {
        "id": "LmC0NDhdLIKY"
      },
      "source": [
        "## Hyperparameters"
      ]
    },
    {
      "cell_type": "markdown",
      "source": [
        "With `MountainCar-v0`, rewards are sparse and delayed. Hyperparameters play a crucial role. Note that in RL, each experience is typically stored as a tuple `(s, a, r, s′)`, where:\n",
        "*   **`s`:** Current state.\n",
        "*   **`a`:** Action taken.\n",
        "*   **`r`:** Reward received.\n",
        "*   **`s'`:** Next state after the action."
      ],
      "metadata": {
        "id": "7jyNSD5Gh2HK"
      }
    },
    {
      "cell_type": "markdown",
      "source": [
        "Also note the following definition.\n",
        "\n",
        "*   **Episode:** One complete run from environment reset to terminal state.\n",
        "*   **Training Step:** One iteration of environment interaction and learning (gradient) update. It can involve multiple interactions of the agent in the environment, where each interaction represents a transition from state `s` to state `s′` after taking an action `a`. This interaction is also denoted by a time step. Also, note that an iteration is typically shorter than a full episode.\n",
        "*   **Replay Buffer:** A memory that stores experience tuples `(s, a, r, s′)` for sampling during training, enabling off-policy learning - where the agent learns from past data collected by earlier versions of the same policy, rather than only from the most recent one."
      ],
      "metadata": {
        "id": "lRae7VYd85by"
      }
    },
    {
      "cell_type": "markdown",
      "source": [
        "It is important to have clarity about the role of a policy in RL. A policy is the decision-making function that maps states to actions and is continuously updated as the agent learns from the environment and past experiences, ideally converging towards an optimal policy. The optimal policy is the best possible action strategy that maximizes the total reward over time."
      ],
      "metadata": {
        "id": "e-8JgwZxiqkq"
      }
    },
    {
      "cell_type": "markdown",
      "source": [
        "Start with the following set of hyperparameter values."
      ],
      "metadata": {
        "id": "3uafHZj-8BaW"
      }
    },
    {
      "cell_type": "code",
      "execution_count": null,
      "metadata": {
        "id": "HC1kNrOsLSIZ"
      },
      "outputs": [],
      "source": [
        "num_iterations = 150000  #  Number of training iterations.\n",
        "\n",
        "# Initial experience collection before training starts.\n",
        "initial_collect_steps = 10000\n",
        "\n",
        "# Number of environment steps or agent interactions to collect per training iteration.\n",
        "collect_steps_per_iteration = 4\n",
        "\n",
        "# Maximum size of the replay buffer.\n",
        "replay_buffer_max_length = 100000\n",
        "\n",
        "# Batch size for sampling from replay buffer.\n",
        "batch_size = 256\n",
        "\n",
        "# Learning rate for the optimizer.\n",
        "learning_rate = 5e-4\n",
        "\n",
        "# Log training progress every \"N\" steps.\n",
        "log_interval = 200\n",
        "\n",
        "# Evaluation settings.\n",
        "num_eval_episodes = 10  # Number of episodes to average over during evaluation.\n",
        "eval_interval = 1000  # Evaluate the agent every \"N\" training steps."
      ]
    },
    {
      "cell_type": "markdown",
      "source": [
        "## Custom ε-decay scheduler: Balance exploration and exploitation"
      ],
      "metadata": {
        "id": "_WH7Y7egQggf"
      }
    },
    {
      "cell_type": "markdown",
      "source": [
        "With sparse rewards from the `MountainCar-v0` environment, it is important to balance exploration and exploitation by implementing an ε-decay scheduler. In RL, exploration means trying random actions to discover new strategies, while exploitation means using the best-known actions (with highest Q-value according to the current Q-network; see subsection \"DQN agent\" to learn more about Q-value) to maximize rewards. Early in training, high exploration helps the agent discover successful behaviors, but too much exploration prevents convergence (achieving the goal). Conversely, too much exploitation too early can trap the agent in suboptimal policies before it has learned effective strategies."
      ],
      "metadata": {
        "id": "xZZPilC4GcPi"
      }
    },
    {
      "cell_type": "markdown",
      "source": [
        "Early in training, the agent explores more (high `ε`), but gradually reduces `ε` to act more greedily. Decay `ε` linearly from `1.0` to `0.01` over the training period to start with more exploration and gradually favor exploitation. We will use this to create a custom ε-greedy policy that wraps the agent’s `collect_policy`, injecting ε-decay into the data collection process. This custom policy becomes a separate, second policy that is used specifically for data collection - the agent interacts with the environment using this policy and stores the resulting experiences in the replay buffer."
      ],
      "metadata": {
        "id": "RbL27F7lwzmJ"
      }
    },
    {
      "cell_type": "code",
      "source": [
        "class EpsilonDecayScheduler:\n",
        "    def __init__(self, initial_epsilon=1.0, final_epsilon=0.01, decay_duration=25000):\n",
        "        # Epsilon starts at \"1.0\" (fully random actions).\n",
        "        self.initial_epsilon = initial_epsilon\n",
        "        # Final value of epsilon after decay (mostly greedy actions).\n",
        "        self.final_epsilon = final_epsilon\n",
        "        # Number of steps over which epsilon decays.\n",
        "        self.decay_duration = decay_duration\n",
        "\n",
        "    def get_epsilon(self, step):\n",
        "        # Use TensorFlow operations instead of Python operations.\n",
        "        # Convert step and decay duration to \"float\" tensors.\n",
        "        step = tf.cast(step, tf.float32)\n",
        "        decay_duration = tf.cast(self.decay_duration, tf.float32)\n",
        "\n",
        "        # Compute how far along the decay process we are.\n",
        "        decay_ratio = tf.minimum(step / decay_duration, 1.0)\n",
        "\n",
        "        # Linearly interpolate epsilon between initial and final values.\n",
        "        epsilon = self.initial_epsilon - decay_ratio * (self.initial_epsilon - self.final_epsilon)\n",
        "\n",
        "        # Ensure epsilon never goes below \"final_epsilon\".\n",
        "        return tf.maximum(epsilon, self.final_epsilon)\n",
        "\n",
        "# Instantiate the scheduler to track and compute epsilon values as training progresses.\n",
        "epsilon_scheduler = EpsilonDecayScheduler()\n",
        "\n",
        "# We will inject this \"ε\" into a custom policy later when we wrap the collect policy."
      ],
      "metadata": {
        "id": "dF0CyvMT47Vv"
      },
      "execution_count": null,
      "outputs": []
    },
    {
      "cell_type": "markdown",
      "source": [
        "## Reward shaping: Modify rewards to speed up learning"
      ],
      "metadata": {
        "id": "tT8Bx79vUltc"
      }
    },
    {
      "cell_type": "markdown",
      "source": [
        "The `MountainCar-v0` environment only gives a reward of `-1` at every time step (interaction with the environment) until the car reaches the goal, making it hard for the agent to learn. To help the agent progress faster, we introduce reward shaping - giving additional reward when the car moves closer to the flag (i.e., increases its position) and gains momentum (i.e., moves with higher velocity). This shaped reward does not change the optimal policy, but makes it easier to learn."
      ],
      "metadata": {
        "id": "lNMeO9__Uhbg"
      }
    },
    {
      "cell_type": "markdown",
      "source": [
        "As the next step, build a reward shaping wrapper that gives small positive feedback as the car gets closer to the flag and adds a bonus when it moves faster. This helps learning in the sparse-reward regime. `position + 1.2` scales the reward since the mountain car’s position ranges from ~`−1.2` to `0.6`, while `abs(velocity)` provides a signal that encourages acceleration."
      ],
      "metadata": {
        "id": "hgXtQThrVchN"
      }
    },
    {
      "cell_type": "code",
      "source": [
        "class ShapedMountainCarEnv(gym.RewardWrapper):\n",
        "    def reward(self, reward):\n",
        "        # Extract the car's current position and velocity from the environment's internal state.\n",
        "        position = self.unwrapped.state[0]\n",
        "        velocity = self.unwrapped.state[1]\n",
        "\n",
        "        # Apply reward shaping:\n",
        "        # - Add a positive reward proportional to the position (\"+1.2\" shifts it to be always positive).\n",
        "        # - Add a velocity bonus (absolute value) to encourage building momentum.\n",
        "        # This shaped reward helps the agent explore better and speeds up learning.\n",
        "        return reward + 0.1 * (position + 1.2) + 0.1 * abs(velocity)"
      ],
      "metadata": {
        "id": "hnSxYrGaV2-5"
      },
      "execution_count": null,
      "outputs": []
    },
    {
      "cell_type": "markdown",
      "source": [
        "Go ahead and load the reward shaping wrapper. Apply the custom Gym `RewardWrapper` only to the training environment. The evaluation environment remains unchanged to ensure fair performance measurement."
      ],
      "metadata": {
        "id": "JLEqKifuV4b6"
      }
    },
    {
      "cell_type": "markdown",
      "source": [
        "Also, before wrapping the environment for use with TF-Agents, inspect the original Gym environment’s observation and action spaces. This helps understand what the agent will perceive and control before any transformations."
      ],
      "metadata": {
        "id": "YJigutfrATiP"
      }
    },
    {
      "cell_type": "code",
      "source": [
        "# Create raw Gym environment and apply reward shaping.\n",
        "raw_env = ShapedMountainCarEnv(gym.make(env_name))\n",
        "\n",
        "# Show raw Gym environment specs before wrapping.\n",
        "print(\"Raw Observation Space:\", raw_env.observation_space)\n",
        "print(\"Raw Action Space:\", raw_env.action_space)\n",
        "\n",
        "# Wrap raw Gym environment using TF-Agents Gym wrapper.\n",
        "shaped_py_env = suite_gym.wrap_env(raw_env)\n",
        "\n",
        "# Replace ONLY \"train_env\" with shaped version.\n",
        "train_env = tf_py_environment.TFPyEnvironment(shaped_py_env)\n",
        "\n",
        "# \"eval_env\" remains unchanged (vanilla)."
      ],
      "metadata": {
        "id": "_4FX3BzrV3u1",
        "colab": {
          "base_uri": "https://localhost:8080/"
        },
        "outputId": "0b9f3290-97bb-450f-fd62-f4a5c18e1148"
      },
      "execution_count": null,
      "outputs": [
        {
          "output_type": "stream",
          "name": "stdout",
          "text": [
            "Raw Observation Space: Box([-1.2  -0.07], [0.6  0.07], (2,), float32)\n",
            "Raw Action Space: Discrete(3)\n"
          ]
        }
      ]
    },
    {
      "cell_type": "markdown",
      "source": [
        "## Observation, reward, and action specs"
      ],
      "metadata": {
        "id": "XW_lPcjhfRfB"
      }
    },
    {
      "cell_type": "markdown",
      "source": [
        "TF-Agents uses a `TimeStep` structure to represent interaction at each step. When `env.step(action)` is called, it takes an `action` in the environment and returns a `TimeStep` tuple containing the following.\n",
        "\n",
        "*   **`step_type`**:  Integer flag indicating if it is the first, mid (intermediate or middle steps in an episode), or last step `(FIRST, MID, LAST)`.\n",
        "*   **`reward`**: Scalar reward received after the action.\n",
        "*   **`discount`**: Scalar discount factor (usually `1.0` unless it is the terminal state). A discount factor is a scalar (e.g., 0.99) that reduces the value of future rewards compared to the immediate ones. It helps the agent prioritize short-term vs. long-term rewards and ensures convergence during training.\n",
        "*   **`observation`**: Current state, includes the shape of observations, the data, types, alongside the ranges of allowed values."
      ],
      "metadata": {
        "id": "FMzGxlywfrpd"
      }
    },
    {
      "cell_type": "markdown",
      "source": [
        "The structure of this returned data is defined by the `time_step_spec()` method, which returns the specification of the `TimeStep` tuple. The method defines the structure of observations, rewards, and discounts returned at each step, while `action_spec()` defines the structure of the expected input from the agent."
      ],
      "metadata": {
        "id": "mtb7jtJPNBQc"
      }
    },
    {
      "cell_type": "markdown",
      "source": [
        "Inspect the `TimeStep` tuple's specifications (observation, reward, and action) to understand how data flows between the environment and agent."
      ],
      "metadata": {
        "id": "qxhpb5iBiHk3"
      }
    },
    {
      "cell_type": "code",
      "source": [
        "# Inspect the observation specification of the \"TimeStep\" tuple.\n",
        "print(\"Observation Spec:\")\n",
        "print(train_env.time_step_spec().observation)\n",
        "\n",
        "# Inspect the reward specification of the \"TimeStep\" tuple.\n",
        "print(\"Reward Spec:\")\n",
        "print(train_env.time_step_spec().reward)\n",
        "\n",
        "# Inspect the action specification of the \"TimeStep\" tuple.\n",
        "print(\"Action Spec:\")\n",
        "print(train_env.action_spec())"
      ],
      "metadata": {
        "id": "VNbLO2d2jdqw",
        "colab": {
          "base_uri": "https://localhost:8080/"
        },
        "outputId": "6d42f8c6-cff9-4504-a88f-e2188bbef305"
      },
      "execution_count": null,
      "outputs": [
        {
          "output_type": "stream",
          "name": "stdout",
          "text": [
            "Observation Spec:\n",
            "BoundedTensorSpec(shape=(2,), dtype=tf.float32, name='observation', minimum=array([-1.2 , -0.07], dtype=float32), maximum=array([0.6 , 0.07], dtype=float32))\n",
            "Reward Spec:\n",
            "TensorSpec(shape=(), dtype=tf.float32, name='reward')\n",
            "Action Spec:\n",
            "BoundedTensorSpec(shape=(), dtype=tf.int64, name='action', minimum=array(0), maximum=array(2))\n"
          ]
        }
      ]
    },
    {
      "cell_type": "markdown",
      "source": [
        "The specs help verify the following and help define the agent’s data collection logic.\n",
        "\n",
        "*   Defining the input / output shapes of neural networks.\n",
        "*   Understanding observation and action bounds (shape and range).\n",
        "*   Designing the agent’s data collection and training pipelines.\n",
        "*   Defining the reward format."
      ],
      "metadata": {
        "id": "KOA9g4dmjl0U"
      }
    },
    {
      "cell_type": "markdown",
      "source": [
        "Take a quick look at a sample interaction to better understand how TF-Agents environments work. Reset the environment to obtain the initial `TimeStep`, then take a sample action (`2` → push right) and observe the resulting `TimeStep`. This shows how the environment returns observations, rewards, and step metadata."
      ],
      "metadata": {
        "id": "WMrC1VdUHCMF"
      }
    },
    {
      "cell_type": "code",
      "source": [
        "# Step through once.\n",
        "time_step = train_env.reset()\n",
        "print(\"Sample TimeStep:\")\n",
        "print(time_step)\n",
        "\n",
        "action = np.array(2, dtype=np.int32)  # Push right.\n",
        "next_time_step = train_env.step(action)\n",
        "print(\"Next TimeStep:\")\n",
        "print(next_time_step)"
      ],
      "metadata": {
        "colab": {
          "base_uri": "https://localhost:8080/"
        },
        "id": "PbMEdhPbFVOD",
        "outputId": "4edfc363-d0b7-45c1-cd7a-dea34972d822"
      },
      "execution_count": null,
      "outputs": [
        {
          "output_type": "stream",
          "name": "stdout",
          "text": [
            "Sample TimeStep:\n",
            "TimeStep(\n",
            "{'step_type': <tf.Tensor: shape=(1,), dtype=int32, numpy=array([0], dtype=int32)>,\n",
            " 'reward': <tf.Tensor: shape=(1,), dtype=float32, numpy=array([0.], dtype=float32)>,\n",
            " 'discount': <tf.Tensor: shape=(1,), dtype=float32, numpy=array([1.], dtype=float32)>,\n",
            " 'observation': <tf.Tensor: shape=(1, 2), dtype=float32, numpy=array([[-0.5562014,  0.       ]], dtype=float32)>})\n",
            "Next TimeStep:\n",
            "TimeStep(\n",
            "{'step_type': <tf.Tensor: shape=(1,), dtype=int32, numpy=array([1], dtype=int32)>,\n",
            " 'reward': <tf.Tensor: shape=(1,), dtype=float32, numpy=array([-0.93537134], dtype=float32)>,\n",
            " 'discount': <tf.Tensor: shape=(1,), dtype=float32, numpy=array([1.], dtype=float32)>,\n",
            " 'observation': <tf.Tensor: shape=(1, 2), dtype=float32, numpy=array([[-0.5549573 ,  0.00124413]], dtype=float32)>})\n"
          ]
        }
      ]
    },
    {
      "cell_type": "markdown",
      "source": [
        "## Agent"
      ],
      "metadata": {
        "id": "DOAyP64bDrBD"
      }
    },
    {
      "cell_type": "markdown",
      "source": [
        "In RL, the decision-making component - the entity that interacts with the environment and improves its behavior over time by maximizing rewards - is called an agent. The agent uses an algorithm to learn from its experience in the environment. TF-Agents provides ready-made implementations of popular algorithms like [DQN](https://storage.googleapis.com/deepmind-media/dqn/DQNNaturePaper.pdf), [REINFORCE (Reward Increment = Nonnegative Factor × Offset Reinforcement × Characteristic Eligibility)](https://people.cs.umass.edu/~barto/courses/cs687/williams92simple.pdf), [Deep Deterministic Policy Gradient (DDPG)](https://arxiv.org/pdf/1509.02971), [Twin Delayed Deep Deterministic Policy Gradient (TD3)](https://arxiv.org/pdf/1802.09477), [Proximal Policy Optimization (PPO)](https://arxiv.org/abs/1707.06347), and [Soft Actor-Critic (SAC)](https://arxiv.org/abs/1801.01290). Each is suited to a different class of environments and tasks.\n",
        "\n",
        "In this case, the agent controls the mountain car and must learn to drive it up the hill. For the learning algorithm, this work will focus exclusively on DQN, which is well-suited for problems with discrete action spaces - exactly the case with `MountainCar-v0`, where the agent can push left, push right, or do nothing."
      ],
      "metadata": {
        "id": "rSc3UQ0WE1sP"
      }
    },
    {
      "cell_type": "markdown",
      "source": [
        "### DQN agent"
      ],
      "metadata": {
        "id": "KpM4gjJhHa_e"
      }
    },
    {
      "cell_type": "markdown",
      "source": [
        "A DQN agent relies on a Q-network - an implementation of the classic RL algorithm [Q-learning](https://doi.org/10.1007/BF00992698), built using a deep neural network that learns to estimate the “quality” or expected future reward of each possible action in a given state. The model receives an environment observation (current state) and outputs Q-values (expected returns) for all of the possible actions in the state. DQNs, introduced by DeepMind in 2015, enhanced earlier Q-learning approaches by using deep neural networks at scale, experience replay (see section \"Experience Replay and Replay Buffer\"), and a target network (see subsection \"Create and initialize the agent\"), enabling them to solve multiple Atari games. Learn more about the Q-network and DQN from [this](https://www.tensorflow.org/agents/tutorials/0_intro_rl) TensorFlow tutorial.\n"
      ],
      "metadata": {
        "id": "0SHxtt1iHc4Q"
      }
    },
    {
      "cell_type": "markdown",
      "source": [
        "Create the Q-network using `tf_agents.networks`. The network comprises a sequence of `tf.keras.layers.Dense` layers with Rectified Linear Unit (ReLU) activations, which help the model learn non-linear patterns by passing only positive values. Initialize the weights using `VarianceScaling` with a `fan_in` mode and a `truncated_normal` distribution - this ensures proper weight magnitudes based on the number of input connections, aiding in stable training. The final layer outputs one Q-value per available action and does not apply any activation function. Its weights are initialized using a `RandomUniform` distribution in a small range to start outputs near `0`, and biases are set to a small constant (`-0.2`) to slightly encourage exploration at the start. To build the network, use TF-Agents’ `sequential.Sequential`, which helps chain the `Dense` layers together."
      ],
      "metadata": {
        "id": "Gcwi6G0gcftW"
      }
    },
    {
      "cell_type": "code",
      "source": [
        "# Define the fuly connected hidden layer sizes for the Q-network.\n",
        "fc_layer_units = (100, 50)\n",
        "\n",
        "# Determine the number of actions from the environment's action spec.\n",
        "action_spec = tensor_spec.from_spec(train_env.action_spec())\n",
        "num_actions = action_spec.maximum - action_spec.minimum + 1\n",
        "\n",
        "# Helper function to construct a ReLU-activated \"Dense\" layer.\n",
        "def dense_layer(units):\n",
        "    return tf.keras.layers.Dense(\n",
        "        units,\n",
        "        activation=\"relu\",\n",
        "        kernel_initializer=tf.keras.initializers.VarianceScaling(\n",
        "            scale=2.0, mode=\"fan_in\", distribution=\"truncated_normal\"))\n",
        "\n",
        "# Build the hidden layers of the Q-network.\n",
        "dense_layers = [dense_layer(units) for units in fc_layer_units]\n",
        "\n",
        "# Final layer outputs Q-values for each possible action.\n",
        "q_values_output = tf.keras.layers.Dense(\n",
        "    num_actions,\n",
        "    activation=None,\n",
        "    kernel_initializer=tf.keras.initializers.RandomUniform(minval=-0.03, maxval=0.03),\n",
        "    bias_initializer=tf.keras.initializers.Constant(-0.2))\n",
        "\n",
        "# Combine the layers to form the Q-network.\n",
        "q_net = sequential.Sequential(dense_layers + [q_values_output])"
      ],
      "metadata": {
        "id": "TQh-AKRxOJyM"
      },
      "execution_count": null,
      "outputs": []
    },
    {
      "cell_type": "markdown",
      "source": [
        "### Create and initialize the agent"
      ],
      "metadata": {
        "id": "GJ2wk7tqOPE8"
      }
    },
    {
      "cell_type": "markdown",
      "source": [
        "To bring it all together, instantiate a `DqnAgent` using the defined Q-network. This is achieved using `tf_agents.agents.dqn.dqn_agent`. Specify the following along with the model.\n",
        "\n",
        "*   `time_step_spec` and `action_spec` - the expected structure of interactions between the agent and the environment, which are required to interface with the environment.\n",
        "*   An `AdamOptimizer` for adaptive learning rate optimization.\n",
        "*   A Temporal Difference (TD) error-based loss function (squared TD error).\n",
        "*   A counter to keep track of the training steps."
      ],
      "metadata": {
        "id": "1UP30XmwOQzH"
      }
    },
    {
      "cell_type": "markdown",
      "source": [
        "Internally, the DQN agent maintains two Q-networks given below.\n",
        "\n",
        "*   An online Q-network, used for action selection and learning. It is updated at every training step.\n",
        "*   A target Q-network, a delayed copy of the online network used to compute stable target Q-values. It is updated less frequently."
      ],
      "metadata": {
        "id": "nevPDVX0qQLq"
      }
    },
    {
      "cell_type": "markdown",
      "source": [
        "Updating the Q-network here implies that the network’s weights are adjusted using gradient descent during training. For the online network, this happens at every step. For the target network, the weights are periodically replaced with the current weights of the online network, not learned directly."
      ],
      "metadata": {
        "id": "mteIeysvxoLJ"
      }
    },
    {
      "cell_type": "markdown",
      "source": [
        "In RL, agents learn from predicted returns vs. actual outcomes. The difference between the predicted Q-value (from the online Q-network) and the target Q-value (based on actual reward received + estimated future rewards from the target Q-network) is called the TD error. Minimizing the TD error is central to how DQN agents learn and improve. During training, the agent minimizes this difference by computing the squared TD error and using it as a loss to update the weights of the online Q-network. This ensures the agent gradually aligns its predictions with actual long-term rewards. See [this](https://www.tensorflow.org/agents/tutorials/1_dqn_tutorial) TensorFlow tutorial to learn more about how the DQN agent works theoretically."
      ],
      "metadata": {
        "id": "YwtJwc9sSBmb"
      }
    },
    {
      "cell_type": "code",
      "source": [
        "# Set up the optimizer for training the Q-network.\n",
        "optimizer = tf.keras.optimizers.Adam(learning_rate=learning_rate)\n",
        "\n",
        "# Counter to keep track of how many training steps have been completed.\n",
        "train_step_counter = tf.Variable(0)\n",
        "\n",
        "# Construct the DQN agent.\n",
        "agent = dqn_agent.DqnAgent(\n",
        "    time_step_spec=train_env.time_step_spec(),\n",
        "    action_spec=train_env.action_spec(),\n",
        "    q_network=q_net,\n",
        "    optimizer=optimizer,\n",
        "    td_errors_loss_fn=common.element_wise_squared_loss,\n",
        "    train_step_counter=train_step_counter,\n",
        "    target_update_period=1000)\n",
        "\n",
        "# Initialize internal variables and prepare the agent for training.\n",
        "agent.initialize()"
      ],
      "metadata": {
        "id": "BlxhSU7vSf2t"
      },
      "execution_count": null,
      "outputs": []
    },
    {
      "cell_type": "markdown",
      "source": [
        "## Policies: How the agent chooses actions"
      ],
      "metadata": {
        "id": "egIjYXUNI6Lc"
      }
    },
    {
      "cell_type": "markdown",
      "source": [
        "In RL, a policy defines the agent’s behavior - how it chooses actions based on the current observation. The goal of training is to improve the policy until it consistently produces desired behavior. In this tutorial, the following holds true.\n",
        "\n",
        "*   The goal is to learn how to drive the car up the hill.\n",
        "*   Based on the observation (the current state of the environment - position and velocity) at each time step (represented by `time_step`), the policy decides an action - whether to accelerate left or right."
      ],
      "metadata": {
        "id": "dpNPEv8QJlzP"
      }
    },
    {
      "cell_type": "markdown",
      "source": [
        "### Two policies in every agent"
      ],
      "metadata": {
        "id": "qpldl8wTLopD"
      }
    },
    {
      "cell_type": "markdown",
      "source": [
        "TF-Agents conveniently bundles two policies inside every agent. See below.\n",
        "\n",
        "1.   **`agent.policy`:** The policy to be evaluated or deployed after training.\n",
        "2.   **`agent.collect_policy`:** The policy used while interacting with the environment to collect data."
      ],
      "metadata": {
        "id": "BE2QFOC5L95h"
      }
    },
    {
      "cell_type": "code",
      "source": [
        "# Extract evaluation policy (used during testing / deployment).\n",
        "eval_policy = agent.policy\n",
        "\n",
        "# Extract data collection policy (used during training).\n",
        "collect_policy = agent.collect_policy"
      ],
      "metadata": {
        "id": "-tD91XNcNAbk"
      },
      "execution_count": null,
      "outputs": []
    },
    {
      "cell_type": "markdown",
      "source": [
        "Sometimes, the performance of a policy is compared against a random baseline. TF-Agents provides `RandomTFPolicy` through `tf_agents.policies.random_tf_policy`, which simply picks a random valid action at each `time_step`."
      ],
      "metadata": {
        "id": "0dIwkriHNF7X"
      }
    },
    {
      "cell_type": "code",
      "source": [
        "# Create a random policy for the training environment.\n",
        "random_policy = random_tf_policy.RandomTFPolicy(\n",
        "    train_env.time_step_spec(),  # Expected input format.\n",
        "    train_env.action_spec())     # Valid action range."
      ],
      "metadata": {
        "id": "39304b8LN2xx"
      },
      "execution_count": null,
      "outputs": []
    },
    {
      "cell_type": "markdown",
      "source": [
        "To get an action from any policy, pass in a `time_step` (which contains the current observation) into the `policy.action()` method. The policy returns a `PolicyStep`, a named tuple with the following components.\n",
        "\n",
        "1.   **`action`:** The action to take (e.g., `0` or `1`).\n",
        "2.   **`state`:** For stateful systems, such as Recurrent Neural Networks or RNNs (not used here).\n",
        "3.   **`info`:** Any extra metadata, such as log-probabilities of actions."
      ],
      "metadata": {
        "id": "maoI0E_LOLQM"
      }
    },
    {
      "cell_type": "code",
      "source": [
        "# Reset the training environment to get the initial time_step.\n",
        "time_step = train_env.reset()\n",
        "\n",
        "# Query the random policy to get an action for this time_step.\n",
        "action_step = random_policy.action(time_step)"
      ],
      "metadata": {
        "id": "bv4xza5UR7-x"
      },
      "execution_count": null,
      "outputs": []
    },
    {
      "cell_type": "markdown",
      "source": [
        "By default, `agent.policy` (used for evaluation or deployment) and `agent.collect_policy` are both greedy, meaning they always select the best-known action. In greedy mode, the action for the evaluation policy is selected as the `argmax` of Q-values predicted by the online Q-network. The target Q-network is never used for action selection - it is only referenced during training updates to compute stable target values. However, to encourage exploration during training, the agent’s `collect_policy` is wrapped with a custom ε-greedy policy (`EpsilonGreedyPolicy`). This wrapper chooses a random action with probability `ε`, and the learned (greedy) action otherwise. The `ε` value decays over time via the `epsilon_scheduler`. This setup ensures effective exploration during training while maintaining deterministic behavior during evaluation or deployment."
      ],
      "metadata": {
        "id": "7TeeZ4S77N5-"
      }
    },
    {
      "cell_type": "markdown",
      "source": [
        "Both policies are continually updated as the agent learns - since they rely on the underlying Q-network, which is trained to better approximate the true optimal action-values or Q-values over time. As learning progresses, the agent becomes more accurate in selecting the action that truly leads to the highest expected reward."
      ],
      "metadata": {
        "id": "BGJScgqy8uUp"
      }
    },
    {
      "cell_type": "code",
      "source": [
        "# Custom epsilon-greedy policy wrapper that switches between random and learned policy based on epsilon.\n",
        "class EpsilonGreedyPolicy:\n",
        "    def __init__(self, policy, epsilon_scheduler):\n",
        "        self._policy = policy  # The base policy (typically \"agent.collect_policy\").\n",
        "        self._epsilon_scheduler = epsilon_scheduler  # Scheduler to provide decaying epsilon values.\n",
        "\n",
        "    def action(self, time_step, policy_state=()):\n",
        "        epsilon = self._epsilon_scheduler.get_epsilon(agent.train_step_counter)  # Get current epsilon value.\n",
        "\n",
        "        random_value = tf.random.uniform(())  # Sample a random float between \"0\" and \"1\".\n",
        "\n",
        "        def choose_random():\n",
        "            return random_policy.action(time_step)  # Select an action using the random policy.\n",
        "\n",
        "        def choose_greedy():\n",
        "            return self._policy.action(time_step, policy_state)  # Select an action using the learned policy.\n",
        "\n",
        "        return tf.cond(\n",
        "            random_value < epsilon,  # With probability \"epsilon\", act randomly.\n",
        "            choose_random,\n",
        "            choose_greedy,           # Otherwise, act greedily.\n",
        "        )\n",
        "\n",
        "    def get_initial_state(self, batch_size):  # Required by TF-Agents drivers to maintain stateful policies.\n",
        "        return self._policy.get_initial_state(batch_size)\n",
        "\n",
        "    @property\n",
        "    def time_step_spec(self):  # Specifies the format of \"time_step\" inputs.\n",
        "        return self._policy.time_step_spec\n",
        "\n",
        "    @property\n",
        "    def action_spec(self):  # Specifies the structure of actions returned by the policy.\n",
        "        return self._policy.action_spec\n",
        "\n",
        "    @property\n",
        "    def policy_state_spec(self):  # Specifies the structure of internal policy state.\n",
        "        return self._policy.policy_state_spec\n",
        "\n",
        "    @property\n",
        "    def info_spec(self):  # Specifies the format of auxiliary information returned by the policy.\n",
        "        return self._policy.info_spec\n",
        "\n",
        "# Wrap the agent's \"collect_policy\" with epsilon-greedy behavior.\n",
        "epsilon_greedy_policy = EpsilonGreedyPolicy(agent.collect_policy, epsilon_scheduler)"
      ],
      "metadata": {
        "id": "MEkmu_peoa_4"
      },
      "execution_count": null,
      "outputs": []
    },
    {
      "cell_type": "markdown",
      "source": [
        "## Metrics and Evaluation: How good is the policy?"
      ],
      "metadata": {
        "id": "l86pyNyBVvkh"
      }
    },
    {
      "cell_type": "markdown",
      "source": [
        "To measure how well a policy (agent's evaluation policy) is doing, a reliable metric is needed. The most widely used one in RL is average return.\n",
        "\n",
        "*   Return is the sum of rewards the agent receives over a single episode.\n",
        "*   The policy is run over multiple episodes and the average is computed to get a stable estimate.\n",
        "\n",
        "This helps in monitoring learning progress and comparing performance between different policies - like a trained agent versus a random baseline. See other common RL metrics available in TF-Agents [here](https://github.com/tensorflow/agents/tree/master/tf_agents/metrics)."
      ],
      "metadata": {
        "id": "bNtt8hRc7cW6"
      }
    },
    {
      "cell_type": "markdown",
      "source": [
        "Define a function that performs the following tasks.\n",
        "\n",
        "1.   Runs the agent’s policy in the environment for multiple episodes.\n",
        "2.   Tracks the cumulative reward in each episode.\n",
        "3.   Returns the average reward per episode."
      ],
      "metadata": {
        "id": "SjjuLsAn84rx"
      }
    },
    {
      "cell_type": "code",
      "source": [
        "def compute_avg_return(environment, policy, num_episodes=10):\n",
        "    total_return = 0.0\n",
        "\n",
        "    for _ in range(num_episodes):\n",
        "        # Reset environment at the beginning of each episode.\n",
        "        time_step = environment.reset()\n",
        "        episode_return = 0.0\n",
        "\n",
        "        # Run until episode ends.\n",
        "        while not time_step.is_last():\n",
        "            action_step = policy.action(time_step)     # Get action from policy.\n",
        "            time_step = environment.step(action_step.action)  # Take an action in the environment.\n",
        "            episode_return += time_step.reward         # Accumulate reward.\n",
        "\n",
        "        total_return += episode_return\n",
        "\n",
        "    # Compute average over episodes.\n",
        "    avg_return = total_return / num_episodes\n",
        "    return avg_return.numpy()[0]"
      ],
      "metadata": {
        "id": "xM6dLI4R7cD9"
      },
      "execution_count": null,
      "outputs": []
    },
    {
      "cell_type": "markdown",
      "source": [
        "The function `compute_avg_return()` can be used to evaluate any policy. For instance, running it on the random policy will provide us with a baseline that is useful for comparing against the learning agent later."
      ],
      "metadata": {
        "id": "IwouDj3p9sYE"
      }
    },
    {
      "cell_type": "code",
      "source": [
        "# Compute average return.\n",
        "compute_avg_return(eval_env, random_policy, num_eval_episodes)"
      ],
      "metadata": {
        "colab": {
          "base_uri": "https://localhost:8080/"
        },
        "id": "u_CtGrUr96wi",
        "outputId": "08355938-2767-476f-9b77-275d925a5a0e"
      },
      "execution_count": null,
      "outputs": [
        {
          "output_type": "execute_result",
          "data": {
            "text/plain": [
              "-200.0"
            ]
          },
          "metadata": {},
          "execution_count": 22
        }
      ]
    },
    {
      "cell_type": "markdown",
      "source": [
        "## Experience Replay and Replay Buffer: Store and sample past experiences"
      ],
      "metadata": {
        "id": "pXH6edpyRHrY"
      }
    },
    {
      "cell_type": "markdown",
      "source": [
        "When training RL agents like DQN, relying only on the latest transition `(s, a, r, s′)` for updates makes learning unstable and inefficient. That is where Experience Replay comes in. Instead of discarding transitions after one use, they are stored in a buffer called the Replay Buffer, and batches are sampled randomly during training. This has two big advantages.\n",
        "\n",
        "*   **Improved Data Efficiency:** A batch of transitions is updated for every new real interaction, allowing reuse across multiple updates.\n",
        "*   **Greater Stability:** Random sampling breaks correlations in sequential data (sequence of transitions), stabilizing training."
      ],
      "metadata": {
        "id": "nGPZh1zfRLBZ"
      }
    },
    {
      "cell_type": "markdown",
      "source": [
        "This idea was introduced in the original [Atari DQN paper](https://arxiv.org/abs/1312.5602) and is now a standard component in most off-policy RL algorithms."
      ],
      "metadata": {
        "id": "SPtmvG6-gmX1"
      }
    },
    {
      "cell_type": "markdown",
      "source": [
        "To store and retrieve the data (transitions) collected from the environment, use [Reverb](https://github.com/google-deepmind/reverb) - an easy-to-use and high-performance replay system from DeepMind. The experience data from trajectories is stored by this replay buffer."
      ],
      "metadata": {
        "id": "JbiBjqdlSdBV"
      }
    },
    {
      "cell_type": "markdown",
      "source": [
        "Go ahead and set up a Reverb replay buffer table that stores agent experiences using First-In, First-Out (FIFO) eviction and uniform random sampling, ensuring efficient and stable training data management. Note that each agent provides an `agent.collect_data_spec`, which describes the shape and type of data or tensors it expects to store and train on."
      ],
      "metadata": {
        "id": "Je9O3CVAhlL2"
      }
    },
    {
      "cell_type": "code",
      "source": [
        "# Define the table name to store experiences.\n",
        "table_name = \"uniform_table\"\n",
        "\n",
        "# Get the spec (structure) of data that will be stored in the buffer.\n",
        "# Ensures the data spec is in TensorFlow format.\n",
        "replay_buffer_signature = tensor_spec.from_spec(agent.collect_data_spec)\n",
        "replay_buffer_signature = tensor_spec.add_outer_dim(replay_buffer_signature)  # Add batch dimension for storing multiple transitions.\n",
        "\n",
        "# Define a Reverb table to store experiences using FIFO and uniform sampling.\n",
        "table = reverb.Table(\n",
        "    table_name,\n",
        "    max_size=replay_buffer_max_length,\n",
        "    sampler=reverb.selectors.Uniform(),      # Random sampling.\n",
        "    remover=reverb.selectors.Fifo(),         # FIFO eviction.\n",
        "    rate_limiter=reverb.rate_limiters.MinSize(1),  # Start only after 1 item.\n",
        "    signature=replay_buffer_signature)"
      ],
      "metadata": {
        "id": "z_K_oOzHSuA9"
      },
      "execution_count": null,
      "outputs": []
    },
    {
      "cell_type": "markdown",
      "source": [
        "Initialize the Reverb server with the replay buffer table and set up the replay buffer to store sequences of agent-environment interactions for training."
      ],
      "metadata": {
        "id": "ZhUfbyn5sui0"
      }
    },
    {
      "cell_type": "code",
      "source": [
        "# Start the Reverb server with the defined table.\n",
        "reverb_server = reverb.Server([table])\n",
        "\n",
        "# Create the replay buffer object using the agent’s data spec.\n",
        "replay_buffer = reverb_replay_buffer.ReverbReplayBuffer(\n",
        "    agent.collect_data_spec,\n",
        "    table_name=table_name,\n",
        "    sequence_length=2,\n",
        "    local_server=reverb_server)"
      ],
      "metadata": {
        "id": "sCG7dF8mSu0x"
      },
      "execution_count": null,
      "outputs": []
    },
    {
      "cell_type": "markdown",
      "source": [
        "Create an observer to push trajectories into the replay buffer during data collection."
      ],
      "metadata": {
        "id": "DtfghRGBsMXG"
      }
    },
    {
      "cell_type": "code",
      "source": [
        "# Create an observer to push trajectories into the replay buffer during data collection.\n",
        "rb_observer = reverb_utils.ReverbAddTrajectoryObserver(\n",
        "    replay_buffer.py_client,\n",
        "    table_name,\n",
        "    sequence_length=2)"
      ],
      "metadata": {
        "id": "db9tU11Wii4o"
      },
      "execution_count": null,
      "outputs": []
    },
    {
      "cell_type": "markdown",
      "source": [
        "`collect_data_spec`, typically includes the specs for the agent's observation, action, reward, and next observation. This spec is structured as a named tuple called `Trajectory`. Before moving on, go ahead and inspect the data specs used by the agent for experience collection for a better understanding."
      ],
      "metadata": {
        "id": "tuLqOuRESzh0"
      }
    },
    {
      "cell_type": "code",
      "source": [
        "# Inspect the data specification used by the agent for experience collection.\n",
        "agent.collect_data_spec"
      ],
      "metadata": {
        "id": "pCIDAPTlS2ou",
        "colab": {
          "base_uri": "https://localhost:8080/"
        },
        "outputId": "e990033f-da04-454c-c9b1-142403d8cee9"
      },
      "execution_count": null,
      "outputs": [
        {
          "output_type": "execute_result",
          "data": {
            "text/plain": [
              "Trajectory(\n",
              "{'step_type': TensorSpec(shape=(), dtype=tf.int32, name='step_type'),\n",
              " 'observation': BoundedTensorSpec(shape=(2,), dtype=tf.float32, name='observation', minimum=array([-1.2 , -0.07], dtype=float32), maximum=array([0.6 , 0.07], dtype=float32)),\n",
              " 'action': BoundedTensorSpec(shape=(), dtype=tf.int64, name='action', minimum=array(0), maximum=array(2)),\n",
              " 'policy_info': (),\n",
              " 'next_step_type': TensorSpec(shape=(), dtype=tf.int32, name='step_type'),\n",
              " 'reward': TensorSpec(shape=(), dtype=tf.float32, name='reward'),\n",
              " 'discount': BoundedTensorSpec(shape=(), dtype=tf.float32, name='discount', minimum=array(0., dtype=float32), maximum=array(1., dtype=float32))})"
            ]
          },
          "metadata": {},
          "execution_count": 26
        }
      ]
    },
    {
      "cell_type": "markdown",
      "source": [
        "Inspect the named fields in the tuple `Trajectory`."
      ],
      "metadata": {
        "id": "ZoBHEQYxkLpW"
      }
    },
    {
      "cell_type": "code",
      "source": [
        "# Inspect the named fields in the \"Trajectory\" tuple.\n",
        "agent.collect_data_spec._fields"
      ],
      "metadata": {
        "colab": {
          "base_uri": "https://localhost:8080/"
        },
        "id": "UeSG2U1NjiTg",
        "outputId": "c513273c-4f51-4ba3-9108-a37f2d4b2a9d"
      },
      "execution_count": null,
      "outputs": [
        {
          "output_type": "execute_result",
          "data": {
            "text/plain": [
              "('step_type',\n",
              " 'observation',\n",
              " 'action',\n",
              " 'policy_info',\n",
              " 'next_step_type',\n",
              " 'reward',\n",
              " 'discount')"
            ]
          },
          "metadata": {},
          "execution_count": 27
        }
      ]
    },
    {
      "cell_type": "markdown",
      "source": [
        "## Data collection"
      ],
      "metadata": {
        "id": "ip8j9VV7kpHl"
      }
    },
    {
      "cell_type": "markdown",
      "source": [
        "Before training begins, the replay buffer must be seeded with some experience. Run the `random_policy` in the environment for a few steps and collect those transitions into the buffer. TF-Agents provides a utility called `PyDriver` for such step-wise data collection. It runs the environment, executes actions using a given policy, and records the results using observers like the `rb_observer`. More about TF-Agents driver [here](https://www.tensorflow.org/agents/tutorials/4_drivers_tutorial)."
      ],
      "metadata": {
        "id": "9yBbSN3vlgQk"
      }
    },
    {
      "cell_type": "code",
      "source": [
        "# Run random policy in the environment to fill the replay buffer initially.\n",
        "# Uses \"PyDriver\" to collect transitions.\n",
        "py_driver.PyDriver(\n",
        "    env=shaped_py_env,\n",
        "    policy=py_tf_eager_policy.PyTFEagerPolicy(\n",
        "        random_policy, use_tf_function=True),\n",
        "    observers=[rb_observer],\n",
        "    max_steps=initial_collect_steps\n",
        ").run(shaped_py_env.reset())"
      ],
      "metadata": {
        "colab": {
          "base_uri": "https://localhost:8080/"
        },
        "id": "5ktHekhAnXLT",
        "outputId": "5f4768e2-e0fd-483e-9ccf-3afc6f562a20"
      },
      "execution_count": null,
      "outputs": [
        {
          "output_type": "execute_result",
          "data": {
            "text/plain": [
              "(TimeStep(\n",
              " {'step_type': array(2, dtype=int32),\n",
              "  'reward': array(-0.9325548, dtype=float32),\n",
              "  'discount': array(0., dtype=float32),\n",
              "  'observation': array([-0.5293638 , -0.00381627], dtype=float32)}),\n",
              " ())"
            ]
          },
          "metadata": {},
          "execution_count": 28
        }
      ]
    },
    {
      "cell_type": "markdown",
      "source": [
        "At this point, the replay buffer holds a collection of `Trajectory` objects - each representing a step of experience `(s, a, r, s′)`. Inspect a sample trajectory (observation, action, reward, etc.) from the replay buffer."
      ],
      "metadata": {
        "id": "prxMp6YKnZNQ"
      }
    },
    {
      "cell_type": "code",
      "source": [
        "# Inspect one of the trajectories from the replay buffer\n",
        "next(iter(replay_buffer.as_dataset()))"
      ],
      "metadata": {
        "colab": {
          "base_uri": "https://localhost:8080/"
        },
        "id": "km0dmNnCnbHq",
        "outputId": "9e65d07a-5a03-4e11-df75-46aa7e76e94c"
      },
      "execution_count": null,
      "outputs": [
        {
          "output_type": "execute_result",
          "data": {
            "text/plain": [
              "(Trajectory(\n",
              " {'step_type': <tf.Tensor: shape=(2,), dtype=int32, numpy=array([1, 1], dtype=int32)>,\n",
              "  'observation': <tf.Tensor: shape=(2, 2), dtype=float32, numpy=\n",
              " array([[-0.5197099 , -0.00266905],\n",
              "        [-0.52240807, -0.00269821]], dtype=float32)>,\n",
              "  'action': <tf.Tensor: shape=(2,), dtype=int64, numpy=array([1, 0])>,\n",
              "  'policy_info': (),\n",
              "  'next_step_type': <tf.Tensor: shape=(2,), dtype=int32, numpy=array([1, 1], dtype=int32)>,\n",
              "  'reward': <tf.Tensor: shape=(2,), dtype=float32, numpy=array([-0.931971 , -0.9322408], dtype=float32)>,\n",
              "  'discount': <tf.Tensor: shape=(2,), dtype=float32, numpy=array([1., 1.], dtype=float32)>}),\n",
              " SampleInfo(key=<tf.Tensor: shape=(2,), dtype=uint64, numpy=array([4130756033370010392, 4130756033370010392], dtype=uint64)>, probability=<tf.Tensor: shape=(2,), dtype=float64, numpy=array([0.00010003, 0.00010003])>, table_size=<tf.Tensor: shape=(2,), dtype=int64, numpy=array([9997, 9997])>, priority=<tf.Tensor: shape=(2,), dtype=float64, numpy=array([1., 1.])>, times_sampled=<tf.Tensor: shape=(2,), dtype=int32, numpy=array([1, 1], dtype=int32)>))"
            ]
          },
          "metadata": {},
          "execution_count": 29
        }
      ]
    },
    {
      "cell_type": "markdown",
      "source": [
        "To train the agent, the replay buffer must be converted into an iterable `tf.data.Dataset` pipeline. This dataset feeds the agent batches of sampled experience."
      ],
      "metadata": {
        "id": "-8D48j9HndbE"
      }
    },
    {
      "cell_type": "markdown",
      "source": [
        "Each entry in the replay buffer represents a single observation based on a single step of the agent's interaction with the environment. Each replay buffer sample, on the other hand, contains two consecutive steps (`num_steps=2`). This is because the DQN needs both the current and next states `(s, s′)` for computing the TD error."
      ],
      "metadata": {
        "id": "dZf4DpeVneHU"
      }
    },
    {
      "cell_type": "markdown",
      "source": [
        "To optimize for performance, the dataset uses adaptive parallel calls for data fetching, as well as adaptive prefetching to ensure efficient data loading during training."
      ],
      "metadata": {
        "id": "wcv9yDgsFemy"
      }
    },
    {
      "cell_type": "code",
      "source": [
        "# Prepare replay data as a TensorFlow Dataset.\n",
        "# Samples \"batch_size\" trajectories, each consisting of two steps of \"(s, a, r, s′)\" transitions.\n",
        "dataset = replay_buffer.as_dataset(\n",
        "    num_parallel_calls=tf.data.AUTOTUNE,\n",
        "    sample_batch_size=batch_size,\n",
        "    num_steps=2\n",
        ").prefetch(tf.data.AUTOTUNE)  # Improve performance with adaptive prefetching."
      ],
      "metadata": {
        "id": "Lkt7vPMOnhSt"
      },
      "execution_count": null,
      "outputs": []
    },
    {
      "cell_type": "markdown",
      "source": [
        "Create an iterator for the dataset."
      ],
      "metadata": {
        "id": "5cXx8rPQFxBb"
      }
    },
    {
      "cell_type": "code",
      "source": [
        "# Create an iterator for the dataset.\n",
        "iterator = iter(dataset)\n",
        "print(iterator)"
      ],
      "metadata": {
        "colab": {
          "base_uri": "https://localhost:8080/"
        },
        "id": "XVMIFGe6njBY",
        "outputId": "d4f2f298-50c4-46b5-98ed-975fdce2a006"
      },
      "execution_count": null,
      "outputs": [
        {
          "output_type": "stream",
          "name": "stdout",
          "text": [
            "<tensorflow.python.data.ops.iterator_ops.OwnedIterator object at 0x7ce16ccd6710>\n"
          ]
        }
      ]
    },
    {
      "cell_type": "markdown",
      "source": [
        "This dataset will be used continuously by the agent during training to sample mini-batches of experience."
      ],
      "metadata": {
        "id": "A10epuxpnqvI"
      }
    },
    {
      "cell_type": "markdown",
      "source": [
        "## Learning from experience: Train the agent"
      ],
      "metadata": {
        "id": "RJJHX822XaiU"
      }
    },
    {
      "cell_type": "markdown",
      "source": [
        "With some initial experience collected in the replay buffer, it is safe to begin training. This involves two core steps given below.\n",
        "\n",
        "1.   Collecting new experience (data) from the environment which will feed into the replay buffer.\n",
        "2.   Training the agent’s deep neural network using mini-batches of data sampled from the replay buffer, which now contains transitions with shaped rewards that encourage progress towards the goal by building momentum (i.e., higher velocity)."
      ],
      "metadata": {
        "id": "Ub-y0ATkXqYb"
      }
    },
    {
      "cell_type": "markdown",
      "source": [
        "Periodically evaluate the agent’s performance during training using its learned policy (evaluation policy) to measure how well it is improving over time. Note that the policy itself is not updated directly; instead, TF-Agents internally updates the Q-network’s weights during training. Since the policy selects actions based on the Q-values (e.g., via `argmax` for actions with the highest Q-values), improvements in the Q-network automatically lead to better policies over time."
      ],
      "metadata": {
        "id": "FOYsRlWQ9mDV"
      }
    },
    {
      "cell_type": "markdown",
      "source": [
        "Before starting the training loop, reset the `train_step_counter` and evaluate the agent once using its current (untrained) policy. For initial data collection, set up a `PyDriver` to collect fresh trajectories using the agent’s `collect_policy`. This driver will continue to fill the buffer with new experiences as training progresses."
      ],
      "metadata": {
        "id": "5DLssUpXYomW"
      }
    },
    {
      "cell_type": "markdown",
      "source": [
        "To optimize performance, wrap the `agent.train()` method with `common.function()`, which compiles it into a TensorFlow graph for faster execution."
      ],
      "metadata": {
        "id": "OkvJtY98ZmTW"
      }
    },
    {
      "cell_type": "markdown",
      "source": [
        "An iteration of the training loop consists of the following.\n",
        "\n",
        "*   Running the driver to collect `collect_steps_per_iteration` steps and store them in the buffer.\n",
        "*   Sampling a batch of transitions from the replay buffer via the dataset iterator (`iterator`).\n",
        "*   Using the samples to perform a single training step (gradient update) and update the Q-network.\n",
        "*   Logging loss every few steps for debugging.\n",
        "*   Evaluating the average return periodically to track the agent’s performance over time."
      ],
      "metadata": {
        "id": "av_hi7u6TWOR"
      }
    },
    {
      "cell_type": "markdown",
      "source": [
        "Note that evaluation is done at periodic intervals using `compute_avg_return()` and run for `num_eval_episodes` to track training progress by computing the average return. These evaluation episodes are not part of the training itself."
      ],
      "metadata": {
        "id": "Z2qs3N1eTYFT"
      }
    },
    {
      "cell_type": "markdown",
      "source": [
        "This loop runs for `num_iterations` training iterations, where each iteration collects experience and performs a single optimization step on the agent’s network. This gradually improves the policy the agent uses to make decisions."
      ],
      "metadata": {
        "id": "3QANorBgTZq3"
      }
    },
    {
      "cell_type": "code",
      "source": [
        "# Optimize by wrapping training in a TensorFlow graph.\n",
        "agent.train = common.function(agent.train)\n",
        "\n",
        "# Reset training step counter.\n",
        "agent.train_step_counter.assign(0)\n",
        "\n",
        "# Evaluate once before training.\n",
        "avg_return = compute_avg_return(eval_env, agent.policy, num_eval_episodes)\n",
        "returns = [avg_return]\n",
        "\n",
        "# Reset the environment.\n",
        "time_step = shaped_py_env.reset()\n",
        "\n",
        "# Set up the experience collection driver.\n",
        "collect_driver = py_driver.PyDriver(\n",
        "    shaped_py_env,\n",
        "    py_tf_eager_policy.PyTFEagerPolicy(\n",
        "        epsilon_greedy_policy, use_tf_function=True),\n",
        "    [rb_observer],\n",
        "    max_steps=collect_steps_per_iteration)\n",
        "\n",
        "\n",
        "# Training loop.\n",
        "for _ in range(num_iterations):\n",
        "\n",
        "    # Collect steps and add to replay buffer.\n",
        "    time_step, _ = collect_driver.run(time_step)\n",
        "\n",
        "    # Sample batch and train.\n",
        "    experience, unused_info = next(iterator)\n",
        "    train_loss = agent.train(experience).loss\n",
        "\n",
        "    step = agent.train_step_counter.numpy()\n",
        "\n",
        "    # Log the training loss.\n",
        "    if step % log_interval == 0:\n",
        "        print(f\"step = {step}: loss = {train_loss}\")\n",
        "\n",
        "    # Evaluate periodically.\n",
        "    if step % eval_interval == 0:\n",
        "        avg_return = compute_avg_return(eval_env, agent.policy, num_eval_episodes)\n",
        "        print(f\"step = {step}: Average Return = {avg_return}\")\n",
        "        returns.append(avg_return)"
      ],
      "metadata": {
        "colab": {
          "base_uri": "https://localhost:8080/"
        },
        "id": "1XEA7ntxcqzM",
        "outputId": "1668dc58-9a4b-4d35-f10b-ff7522343764"
      },
      "execution_count": null,
      "outputs": [
        {
          "output_type": "stream",
          "name": "stderr",
          "text": [
            "WARNING:tensorflow:From /usr/local/lib/python3.11/dist-packages/tensorflow/python/util/dispatch.py:1260: calling foldr_v2 (from tensorflow.python.ops.functional_ops) with back_prop=False is deprecated and will be removed in a future version.\n",
            "Instructions for updating:\n",
            "back_prop=False is deprecated. Consider using tf.stop_gradient instead.\n",
            "Instead of:\n",
            "results = tf.foldr(fn, elems, back_prop=False)\n",
            "Use:\n",
            "results = tf.nest.map_structure(tf.stop_gradient, tf.foldr(fn, elems))\n"
          ]
        },
        {
          "output_type": "stream",
          "name": "stdout",
          "text": [
            "step = 200: loss = 0.013196873478591442\n",
            "step = 400: loss = 0.01472952589392662\n",
            "step = 600: loss = 0.008573388680815697\n",
            "step = 800: loss = 0.00275311223231256\n",
            "step = 1000: loss = 0.0001607746526133269\n",
            "step = 1000: Average Return = -200.0\n",
            "step = 1200: loss = 0.0035984639544039965\n",
            "step = 1400: loss = 0.009328832849860191\n",
            "step = 1600: loss = 0.00035720044979825616\n",
            "step = 1800: loss = 0.009308191016316414\n",
            "step = 2000: loss = 0.0003343543503433466\n",
            "step = 2000: Average Return = -200.0\n",
            "step = 2200: loss = 0.01711236871778965\n",
            "step = 2400: loss = 0.0006941457977518439\n",
            "step = 2600: loss = 0.00020655170374084264\n",
            "step = 2800: loss = 0.03159261867403984\n",
            "step = 3000: loss = 0.03041623905301094\n",
            "step = 3000: Average Return = -200.0\n",
            "step = 3200: loss = 0.06489439308643341\n",
            "step = 3400: loss = 0.0006541362381540239\n",
            "step = 3600: loss = 0.03304753825068474\n",
            "step = 3800: loss = 0.03266981616616249\n",
            "step = 4000: loss = 0.09804613143205643\n",
            "step = 4000: Average Return = -200.0\n",
            "step = 4200: loss = 0.1112230122089386\n",
            "step = 4400: loss = 0.0537719763815403\n",
            "step = 4600: loss = 0.0005850314046256244\n",
            "step = 4800: loss = 0.1073407307267189\n",
            "step = 5000: loss = 0.16594377160072327\n",
            "step = 5000: Average Return = -200.0\n",
            "step = 5200: loss = 0.17538872361183167\n",
            "step = 5400: loss = 0.2576642632484436\n",
            "step = 5600: loss = 0.000420288008172065\n",
            "step = 5800: loss = 0.25237512588500977\n",
            "step = 6000: loss = 0.17069515585899353\n",
            "step = 6000: Average Return = -200.0\n",
            "step = 6200: loss = 0.0022945827804505825\n",
            "step = 6400: loss = 0.12932835519313812\n",
            "step = 6600: loss = 0.1236657127737999\n",
            "step = 6800: loss = 0.24017846584320068\n",
            "step = 7000: loss = 0.34963253140449524\n",
            "step = 7000: Average Return = -200.0\n",
            "step = 7200: loss = 0.48984161019325256\n",
            "step = 7400: loss = 0.32929176092147827\n",
            "step = 7600: loss = 0.16577018797397614\n",
            "step = 7800: loss = 0.0007230315823107958\n",
            "step = 8000: loss = 0.0002652030379977077\n",
            "step = 8000: Average Return = -200.0\n",
            "step = 8200: loss = 0.6407039165496826\n",
            "step = 8400: loss = 0.19808359444141388\n",
            "step = 8600: loss = 0.002515692263841629\n",
            "step = 8800: loss = 0.6319859027862549\n",
            "step = 9000: loss = 0.8264397978782654\n",
            "step = 9000: Average Return = -200.0\n",
            "step = 9200: loss = 0.2780717611312866\n",
            "step = 9400: loss = 0.0024629058316349983\n",
            "step = 9600: loss = 0.26107093691825867\n",
            "step = 9800: loss = 0.2742023169994354\n",
            "step = 10000: loss = 0.5238513946533203\n",
            "step = 10000: Average Return = -200.0\n",
            "step = 10200: loss = 0.6295235753059387\n",
            "step = 10400: loss = 0.0024624497164040804\n",
            "step = 10600: loss = 0.3159228265285492\n",
            "step = 10800: loss = 0.3223140835762024\n",
            "step = 11000: loss = 0.647032618522644\n",
            "step = 11000: Average Return = -200.0\n",
            "step = 11200: loss = 0.0032013391610234976\n",
            "step = 11400: loss = 0.3911740779876709\n",
            "step = 11600: loss = 0.3874247670173645\n",
            "step = 11800: loss = 0.39885786175727844\n",
            "step = 12000: loss = 1.1162852048873901\n",
            "step = 12000: Average Return = -200.0\n",
            "step = 12200: loss = 0.0042562335729599\n",
            "step = 12400: loss = 1.8499438762664795\n",
            "step = 12600: loss = 0.8915489315986633\n",
            "step = 12800: loss = 0.4470840096473694\n",
            "step = 13000: loss = 1.7340519428253174\n",
            "step = 13000: Average Return = -200.0\n",
            "step = 13200: loss = 0.5176858901977539\n",
            "step = 13400: loss = 1.0319337844848633\n",
            "step = 13600: loss = 0.022332075983285904\n",
            "step = 13800: loss = 1.5361955165863037\n",
            "step = 14000: loss = 0.534078061580658\n",
            "step = 14000: Average Return = -200.0\n",
            "step = 14200: loss = 1.8335493803024292\n",
            "step = 14400: loss = 0.001515339594334364\n",
            "step = 14600: loss = 0.013235711492598057\n",
            "step = 14800: loss = 1.2439186573028564\n",
            "step = 15000: loss = 0.5617233514785767\n",
            "step = 15000: Average Return = -200.0\n",
            "step = 15200: loss = 0.6673564910888672\n",
            "step = 15400: loss = 1.3730204105377197\n",
            "step = 15600: loss = 0.6952855587005615\n",
            "step = 15800: loss = 0.006147834938019514\n",
            "step = 16000: loss = 1.3150324821472168\n",
            "step = 16000: Average Return = -200.0\n",
            "step = 16200: loss = 3.719938039779663\n",
            "step = 16400: loss = 0.6884346604347229\n",
            "step = 16600: loss = 0.7691494226455688\n",
            "step = 16800: loss = 0.7401112914085388\n",
            "step = 17000: loss = 2.9132165908813477\n",
            "step = 17000: Average Return = -200.0\n",
            "step = 17200: loss = 0.005036736838519573\n",
            "step = 17400: loss = 2.394357681274414\n",
            "step = 17600: loss = 0.02435957081615925\n",
            "step = 17800: loss = 0.006838394328951836\n",
            "step = 18000: loss = 1.6768091917037964\n",
            "step = 18000: Average Return = -200.0\n",
            "step = 18200: loss = 2.614936590194702\n",
            "step = 18400: loss = 0.012187573127448559\n",
            "step = 18600: loss = 0.8799117803573608\n",
            "step = 18800: loss = 1.0070090293884277\n",
            "step = 19000: loss = 0.9056140184402466\n",
            "step = 19000: Average Return = -200.0\n",
            "step = 19200: loss = 1.0826456546783447\n",
            "step = 19400: loss = 1.0856629610061646\n",
            "step = 19600: loss = 0.006840449757874012\n",
            "step = 19800: loss = 1.0620063543319702\n",
            "step = 20000: loss = 1.1136040687561035\n",
            "step = 20000: Average Return = -200.0\n",
            "step = 20200: loss = 0.0203254371881485\n",
            "step = 20400: loss = 0.829433798789978\n",
            "step = 20600: loss = 0.025239024311304092\n",
            "step = 20800: loss = 2.2573602199554443\n",
            "step = 21000: loss = 2.1538639068603516\n",
            "step = 21000: Average Return = -200.0\n",
            "step = 21200: loss = 0.07338462769985199\n",
            "step = 21400: loss = 2.4587562084198\n",
            "step = 21600: loss = 0.004195083864033222\n",
            "step = 21800: loss = 2.46000337600708\n",
            "step = 22000: loss = 1.2888011932373047\n",
            "step = 22000: Average Return = -200.0\n",
            "step = 22200: loss = 2.4285106658935547\n",
            "step = 22400: loss = 2.6777501106262207\n",
            "step = 22600: loss = 2.5460023880004883\n",
            "step = 22800: loss = 1.3496365547180176\n",
            "step = 23000: loss = 1.4138022661209106\n",
            "step = 23000: Average Return = -200.0\n",
            "step = 23200: loss = 2.8996496200561523\n",
            "step = 23400: loss = 2.8520193099975586\n",
            "step = 23600: loss = 0.05804426968097687\n",
            "step = 23800: loss = 2.628844738006592\n",
            "step = 24000: loss = 0.01423568930476904\n",
            "step = 24000: Average Return = -200.0\n",
            "step = 24200: loss = 1.5153874158859253\n",
            "step = 24400: loss = 1.558211326599121\n",
            "step = 24600: loss = 1.5855786800384521\n",
            "step = 24800: loss = 1.6179972887039185\n",
            "step = 25000: loss = 0.019757801666855812\n",
            "step = 25000: Average Return = -200.0\n",
            "step = 25200: loss = 0.013615148141980171\n",
            "step = 25400: loss = 3.1393332481384277\n",
            "step = 25600: loss = 0.019844820722937584\n",
            "step = 25800: loss = 6.352020740509033\n",
            "step = 26000: loss = 0.007042055018246174\n",
            "step = 26000: Average Return = -200.0\n",
            "step = 26200: loss = 1.4774736166000366\n",
            "step = 26400: loss = 0.00803509820252657\n",
            "step = 26600: loss = 0.045228175818920135\n",
            "step = 26800: loss = 0.010481301695108414\n",
            "step = 27000: loss = 1.787727952003479\n",
            "step = 27000: Average Return = -200.0\n",
            "step = 27200: loss = 5.550970554351807\n",
            "step = 27400: loss = 1.3829238414764404\n",
            "step = 27600: loss = 3.8929929733276367\n",
            "step = 27800: loss = 2.053910732269287\n",
            "step = 28000: loss = 2.0478436946868896\n",
            "step = 28000: Average Return = -200.0\n",
            "step = 28200: loss = 1.9026161432266235\n",
            "step = 28400: loss = 4.091481685638428\n",
            "step = 28600: loss = 2.03848934173584\n",
            "step = 28800: loss = 3.861539363861084\n",
            "step = 29000: loss = 1.845319151878357\n",
            "step = 29000: Average Return = -200.0\n",
            "step = 29200: loss = 0.0108193289488554\n",
            "step = 29400: loss = 2.1380815505981445\n",
            "step = 29600: loss = 2.1734561920166016\n",
            "step = 29800: loss = 0.022738199681043625\n",
            "step = 30000: loss = 2.2692325115203857\n",
            "step = 30000: Average Return = -165.39999389648438\n",
            "step = 30200: loss = 2.5329172611236572\n",
            "step = 30400: loss = 0.01325901597738266\n",
            "step = 30600: loss = 4.756821632385254\n",
            "step = 30800: loss = 1.6293833255767822\n",
            "step = 31000: loss = 4.84645938873291\n",
            "step = 31000: Average Return = -181.3000030517578\n",
            "step = 31200: loss = 0.014404448680579662\n",
            "step = 31400: loss = 0.03875336796045303\n",
            "step = 31600: loss = 7.649735450744629\n",
            "step = 31800: loss = 0.027577629312872887\n",
            "step = 32000: loss = 0.02557986043393612\n",
            "step = 32000: Average Return = -200.0\n",
            "step = 32200: loss = 0.04330690950155258\n",
            "step = 32400: loss = 1.1739282608032227\n",
            "step = 32600: loss = 2.912606716156006\n",
            "step = 32800: loss = 0.027634628117084503\n",
            "step = 33000: loss = 5.699093341827393\n",
            "step = 33000: Average Return = -200.0\n",
            "step = 33200: loss = 3.1175637245178223\n",
            "step = 33400: loss = 5.415748119354248\n",
            "step = 33600: loss = 2.3944880962371826\n",
            "step = 33800: loss = 1.4462323188781738\n",
            "step = 34000: loss = 2.9378409385681152\n",
            "step = 34000: Average Return = -200.0\n",
            "step = 34200: loss = 0.05645433068275452\n",
            "step = 34400: loss = 0.07228332757949829\n",
            "step = 34600: loss = 3.1447865962982178\n",
            "step = 34800: loss = 5.198575019836426\n",
            "step = 35000: loss = 3.109497308731079\n",
            "step = 35000: Average Return = -200.0\n",
            "step = 35200: loss = 6.888418197631836\n",
            "step = 35400: loss = 0.01735893078148365\n",
            "step = 35600: loss = 3.1894302368164062\n",
            "step = 35800: loss = 0.02866533026099205\n",
            "step = 36000: loss = 0.02009631134569645\n",
            "step = 36000: Average Return = -200.0\n",
            "step = 36200: loss = 0.017281919717788696\n",
            "step = 36400: loss = 0.03661811724305153\n",
            "step = 36600: loss = 0.04398110508918762\n",
            "step = 36800: loss = 3.6511402130126953\n",
            "step = 37000: loss = 0.07126407325267792\n",
            "step = 37000: Average Return = -200.0\n",
            "step = 37200: loss = 3.4729504585266113\n",
            "step = 37400: loss = 12.947134971618652\n",
            "step = 37600: loss = 6.7733073234558105\n",
            "step = 37800: loss = 0.09268049150705338\n",
            "step = 38000: loss = 0.060736026614904404\n",
            "step = 38000: Average Return = -200.0\n",
            "step = 38200: loss = 3.575129508972168\n",
            "step = 38400: loss = 0.06439942121505737\n",
            "step = 38600: loss = 3.1713716983795166\n",
            "step = 38800: loss = 3.5596065521240234\n",
            "step = 39000: loss = 4.110849857330322\n",
            "step = 39000: Average Return = -200.0\n",
            "step = 39200: loss = 4.081215858459473\n",
            "step = 39400: loss = 6.731077194213867\n",
            "step = 39600: loss = 0.0550190731883049\n",
            "step = 39800: loss = 13.796709060668945\n",
            "step = 40000: loss = 4.0521931648254395\n",
            "step = 40000: Average Return = -178.39999389648438\n",
            "step = 40200: loss = 4.065079212188721\n",
            "step = 40400: loss = 2.221111297607422\n",
            "step = 40600: loss = 3.7489013671875\n",
            "step = 40800: loss = 0.06897809356451035\n",
            "step = 41000: loss = 3.6946840286254883\n",
            "step = 41000: Average Return = -200.0\n",
            "step = 41200: loss = 0.0703931525349617\n",
            "step = 41400: loss = 2.9880692958831787\n",
            "step = 41600: loss = 9.113924026489258\n",
            "step = 41800: loss = 0.11798520386219025\n",
            "step = 42000: loss = 6.827695846557617\n",
            "step = 42000: Average Return = -200.0\n",
            "step = 42200: loss = 0.05467333644628525\n",
            "step = 42400: loss = 0.059893034398555756\n",
            "step = 42600: loss = 7.346973419189453\n",
            "step = 42800: loss = 2.737607955932617\n",
            "step = 43000: loss = 7.570722579956055\n",
            "step = 43000: Average Return = -200.0\n",
            "step = 43200: loss = 7.917844772338867\n",
            "step = 43400: loss = 0.18513664603233337\n",
            "step = 43600: loss = 3.8746979236602783\n",
            "step = 43800: loss = 0.06304518133401871\n",
            "step = 44000: loss = 0.02478472702205181\n",
            "step = 44000: Average Return = -185.39999389648438\n",
            "step = 44200: loss = 5.236182689666748\n",
            "step = 44400: loss = 5.205183029174805\n",
            "step = 44600: loss = 0.17971831560134888\n",
            "step = 44800: loss = 0.030152708292007446\n",
            "step = 45000: loss = 0.07330325245857239\n",
            "step = 45000: Average Return = -157.89999389648438\n",
            "step = 45200: loss = 9.869874954223633\n",
            "step = 45400: loss = 2.4512457847595215\n",
            "step = 45600: loss = 0.03965063393115997\n",
            "step = 45800: loss = 5.4847941398620605\n",
            "step = 46000: loss = 3.904829502105713\n",
            "step = 46000: Average Return = -200.0\n",
            "step = 46200: loss = 0.04627342149615288\n",
            "step = 46400: loss = 0.057983435690402985\n",
            "step = 46600: loss = 9.951123237609863\n",
            "step = 46800: loss = 14.400805473327637\n",
            "step = 47000: loss = 5.0744547843933105\n",
            "step = 47000: Average Return = -200.0\n",
            "step = 47200: loss = 4.226550579071045\n",
            "step = 47400: loss = 0.04501291364431381\n",
            "step = 47600: loss = 0.5559980869293213\n",
            "step = 47800: loss = 8.683745384216309\n",
            "step = 48000: loss = 10.53547477722168\n",
            "step = 48000: Average Return = -200.0\n",
            "step = 48200: loss = 0.031276553869247437\n",
            "step = 48400: loss = 9.751077651977539\n",
            "step = 48600: loss = 3.3856606483459473\n",
            "step = 48800: loss = 12.459976196289062\n",
            "step = 49000: loss = 0.021321862936019897\n",
            "step = 49000: Average Return = -200.0\n",
            "step = 49200: loss = 15.817098617553711\n",
            "step = 49400: loss = 0.10932280123233795\n",
            "step = 49600: loss = 5.696251392364502\n",
            "step = 49800: loss = 0.03183896094560623\n",
            "step = 50000: loss = 0.018876776099205017\n",
            "step = 50000: Average Return = -141.3000030517578\n",
            "step = 50200: loss = 10.987366676330566\n",
            "step = 50400: loss = 6.2235026359558105\n",
            "step = 50600: loss = 0.0623587891459465\n",
            "step = 50800: loss = 10.251886367797852\n",
            "step = 51000: loss = 6.092310428619385\n",
            "step = 51000: Average Return = -172.1999969482422\n",
            "step = 51200: loss = 6.423910617828369\n",
            "step = 51400: loss = 5.798457622528076\n",
            "step = 51600: loss = 4.0335693359375\n",
            "step = 51800: loss = 0.031026847660541534\n",
            "step = 52000: loss = 6.326749801635742\n",
            "step = 52000: Average Return = -200.0\n",
            "step = 52200: loss = 6.667906761169434\n",
            "step = 52400: loss = 0.18552768230438232\n",
            "step = 52600: loss = 3.867614269256592\n",
            "step = 52800: loss = 0.06577812135219574\n",
            "step = 53000: loss = 11.506629943847656\n",
            "step = 53000: Average Return = -105.5\n",
            "step = 53200: loss = 13.10870361328125\n",
            "step = 53400: loss = 0.043922554701566696\n",
            "step = 53600: loss = 0.1039886623620987\n",
            "step = 53800: loss = 16.17127799987793\n",
            "step = 54000: loss = 12.485310554504395\n",
            "step = 54000: Average Return = -117.9000015258789\n",
            "step = 54200: loss = 13.410200119018555\n",
            "step = 54400: loss = 12.679342269897461\n",
            "step = 54600: loss = 0.041799020022153854\n",
            "step = 54800: loss = 0.09860027581453323\n",
            "step = 55000: loss = 4.451754570007324\n",
            "step = 55000: Average Return = -200.0\n",
            "step = 55200: loss = 0.06287690997123718\n",
            "step = 55400: loss = 0.036383748054504395\n",
            "step = 55600: loss = 7.346724033355713\n",
            "step = 55800: loss = 0.12529513239860535\n",
            "step = 56000: loss = 12.559249877929688\n",
            "step = 56000: Average Return = -185.0\n",
            "step = 56200: loss = 3.2447926998138428\n",
            "step = 56400: loss = 8.987469673156738\n",
            "step = 56600: loss = 10.552145004272461\n",
            "step = 56800: loss = 5.421695709228516\n",
            "step = 57000: loss = 0.23140689730644226\n",
            "step = 57000: Average Return = -200.0\n",
            "step = 57200: loss = 0.06972486525774002\n",
            "step = 57400: loss = 0.1794164478778839\n",
            "step = 57600: loss = 21.332359313964844\n",
            "step = 57800: loss = 7.908543109893799\n",
            "step = 58000: loss = 0.05757816135883331\n",
            "step = 58000: Average Return = -200.0\n",
            "step = 58200: loss = 0.06818953901529312\n",
            "step = 58400: loss = 6.824803829193115\n",
            "step = 58600: loss = 0.04483150690793991\n",
            "step = 58800: loss = 0.11707375943660736\n",
            "step = 59000: loss = 6.201871395111084\n",
            "step = 59000: Average Return = -200.0\n",
            "step = 59200: loss = 0.06128086894750595\n",
            "step = 59400: loss = 7.161087512969971\n",
            "step = 59600: loss = 19.12770652770996\n",
            "step = 59800: loss = 7.873836994171143\n",
            "step = 60000: loss = 7.5953779220581055\n",
            "step = 60000: Average Return = -121.4000015258789\n",
            "step = 60200: loss = 13.930386543273926\n",
            "step = 60400: loss = 6.206634521484375\n",
            "step = 60600: loss = 4.8395161628723145\n",
            "step = 60800: loss = 0.07506977021694183\n",
            "step = 61000: loss = 0.14443986117839813\n",
            "step = 61000: Average Return = -200.0\n",
            "step = 61200: loss = 7.543122291564941\n",
            "step = 61400: loss = 8.33212947845459\n",
            "step = 61600: loss = 0.05582885071635246\n",
            "step = 61800: loss = 0.03816870227456093\n",
            "step = 62000: loss = 0.190273255109787\n",
            "step = 62000: Average Return = -134.39999389648438\n",
            "step = 62200: loss = 16.547119140625\n",
            "step = 62400: loss = 0.2976444363594055\n",
            "step = 62600: loss = 0.3955674171447754\n",
            "step = 62800: loss = 0.09522798657417297\n",
            "step = 63000: loss = 0.03594724088907242\n",
            "step = 63000: Average Return = -128.0\n",
            "step = 63200: loss = 0.259267121553421\n",
            "step = 63400: loss = 0.047019727528095245\n",
            "step = 63600: loss = 0.20214886963367462\n",
            "step = 63800: loss = 0.04967054724693298\n",
            "step = 64000: loss = 0.1032097116112709\n",
            "step = 64000: Average Return = -141.60000610351562\n",
            "step = 64200: loss = 8.362408638000488\n",
            "step = 64400: loss = 3.5448126792907715\n",
            "step = 64600: loss = 0.12182598561048508\n",
            "step = 64800: loss = 0.10395702719688416\n",
            "step = 65000: loss = 0.1482682228088379\n",
            "step = 65000: Average Return = -121.69999694824219\n",
            "step = 65200: loss = 0.12294693291187286\n",
            "step = 65400: loss = 0.05028548091650009\n",
            "step = 65600: loss = 0.06898821890354156\n",
            "step = 65800: loss = 0.10343977808952332\n",
            "step = 66000: loss = 0.07645602524280548\n",
            "step = 66000: Average Return = -198.8000030517578\n",
            "step = 66200: loss = 0.21013125777244568\n",
            "step = 66400: loss = 4.751574516296387\n",
            "step = 66600: loss = 1.8590234518051147\n",
            "step = 66800: loss = 9.155524253845215\n",
            "step = 67000: loss = 0.03987382352352142\n",
            "step = 67000: Average Return = -166.0\n",
            "step = 67200: loss = 0.1686459630727768\n",
            "step = 67400: loss = 1.0997759103775024\n",
            "step = 67600: loss = 0.09268014132976532\n",
            "step = 67800: loss = 0.18664881587028503\n",
            "step = 68000: loss = 0.07809266448020935\n",
            "step = 68000: Average Return = -174.60000610351562\n",
            "step = 68200: loss = 0.1975516825914383\n",
            "step = 68400: loss = 0.24609707295894623\n",
            "step = 68600: loss = 0.09163369238376617\n",
            "step = 68800: loss = 9.47335433959961\n",
            "step = 69000: loss = 0.06004800647497177\n",
            "step = 69000: Average Return = -159.0\n",
            "step = 69200: loss = 9.879438400268555\n",
            "step = 69400: loss = 0.09005145728588104\n",
            "step = 69600: loss = 27.77375030517578\n",
            "step = 69800: loss = 0.23047614097595215\n",
            "step = 70000: loss = 0.19915132224559784\n",
            "step = 70000: Average Return = -152.1999969482422\n",
            "step = 70200: loss = 0.13635963201522827\n",
            "step = 70400: loss = 0.21003276109695435\n",
            "step = 70600: loss = 0.06284421682357788\n",
            "step = 70800: loss = 0.10653276741504669\n",
            "step = 71000: loss = 0.06069503724575043\n",
            "step = 71000: Average Return = -162.3000030517578\n",
            "step = 71200: loss = 11.015470504760742\n",
            "step = 71400: loss = 0.058237314224243164\n",
            "step = 71600: loss = 24.27324867248535\n",
            "step = 71800: loss = 0.26735541224479675\n",
            "step = 72000: loss = 0.16628798842430115\n",
            "step = 72000: Average Return = -175.60000610351562\n",
            "step = 72200: loss = 0.25093281269073486\n",
            "step = 72400: loss = 0.1765676736831665\n",
            "step = 72600: loss = 0.3964921832084656\n",
            "step = 72800: loss = 0.05374663323163986\n",
            "step = 73000: loss = 11.310142517089844\n",
            "step = 73000: Average Return = -169.3000030517578\n",
            "step = 73200: loss = 0.08541929721832275\n",
            "step = 73400: loss = 0.18579396605491638\n",
            "step = 73600: loss = 20.960834503173828\n",
            "step = 73800: loss = 0.12040424346923828\n",
            "step = 74000: loss = 0.07657842338085175\n",
            "step = 74000: Average Return = -135.60000610351562\n",
            "step = 74200: loss = 1.3850703239440918\n",
            "step = 74400: loss = 0.12084323912858963\n",
            "step = 74600: loss = 0.17248186469078064\n",
            "step = 74800: loss = 0.10011562705039978\n",
            "step = 75000: loss = 0.06430841982364655\n",
            "step = 75000: Average Return = -124.0\n",
            "step = 75200: loss = 0.23632438480854034\n",
            "step = 75400: loss = 0.10964648425579071\n",
            "step = 75600: loss = 0.15198807418346405\n",
            "step = 75800: loss = 0.3909328579902649\n",
            "step = 76000: loss = 0.11859360337257385\n",
            "step = 76000: Average Return = -191.3000030517578\n",
            "step = 76200: loss = 0.24798430502414703\n",
            "step = 76400: loss = 0.22192762792110443\n",
            "step = 76600: loss = 0.06692224740982056\n",
            "step = 76800: loss = 12.357441902160645\n",
            "step = 77000: loss = 0.14957241714000702\n",
            "step = 77000: Average Return = -128.10000610351562\n",
            "step = 77200: loss = 0.08897864818572998\n",
            "step = 77400: loss = 0.10861825942993164\n",
            "step = 77600: loss = 4.44713020324707\n",
            "step = 77800: loss = 11.870357513427734\n",
            "step = 78000: loss = 0.11979439854621887\n",
            "step = 78000: Average Return = -134.8000030517578\n",
            "step = 78200: loss = 0.14667032659053802\n",
            "step = 78400: loss = 0.14610472321510315\n",
            "step = 78600: loss = 0.11086606979370117\n",
            "step = 78800: loss = 0.09668806195259094\n",
            "step = 79000: loss = 0.07506835460662842\n",
            "step = 79000: Average Return = -129.0\n",
            "step = 79200: loss = 0.13169126212596893\n",
            "step = 79400: loss = 0.09177103638648987\n",
            "step = 79600: loss = 0.14902612566947937\n",
            "step = 79800: loss = 0.07815062999725342\n",
            "step = 80000: loss = 0.07810969650745392\n",
            "step = 80000: Average Return = -131.6999969482422\n",
            "step = 80200: loss = 0.17146381735801697\n",
            "step = 80400: loss = 0.1093328595161438\n",
            "step = 80600: loss = 0.10271024703979492\n",
            "step = 80800: loss = 0.17252704501152039\n",
            "step = 81000: loss = 0.09434296190738678\n",
            "step = 81000: Average Return = -129.5\n",
            "step = 81200: loss = 9.9932861328125\n",
            "step = 81400: loss = 12.910971641540527\n",
            "step = 81600: loss = 0.12145763635635376\n",
            "step = 81800: loss = 0.06379462778568268\n",
            "step = 82000: loss = 0.053475480526685715\n",
            "step = 82000: Average Return = -112.4000015258789\n",
            "step = 82200: loss = 0.2017877697944641\n",
            "step = 82400: loss = 0.12853296101093292\n",
            "step = 82600: loss = 0.184719055891037\n",
            "step = 82800: loss = 0.12038388103246689\n",
            "step = 83000: loss = 0.8525153398513794\n",
            "step = 83000: Average Return = -129.89999389648438\n",
            "step = 83200: loss = 0.08706161379814148\n",
            "step = 83400: loss = 0.12522584199905396\n",
            "step = 83600: loss = 0.0956868827342987\n",
            "step = 83800: loss = 11.924406051635742\n",
            "step = 84000: loss = 0.11100615561008453\n",
            "step = 84000: Average Return = -151.39999389648438\n",
            "step = 84200: loss = 0.11741727590560913\n",
            "step = 84400: loss = 0.1232101172208786\n",
            "step = 84600: loss = 0.12836043536663055\n",
            "step = 84800: loss = 0.23038887977600098\n",
            "step = 85000: loss = 0.07953536510467529\n",
            "step = 85000: Average Return = -155.89999389648438\n",
            "step = 85200: loss = 0.24912479519844055\n",
            "step = 85400: loss = 0.1066669449210167\n",
            "step = 85600: loss = 0.13256500661373138\n",
            "step = 85800: loss = 0.15567991137504578\n",
            "step = 86000: loss = 16.158203125\n",
            "step = 86000: Average Return = -161.89999389648438\n",
            "step = 86200: loss = 0.31718146800994873\n",
            "step = 86400: loss = 12.138947486877441\n",
            "step = 86600: loss = 0.10515713691711426\n",
            "step = 86800: loss = 0.2649948298931122\n",
            "step = 87000: loss = 0.1053316742181778\n",
            "step = 87000: Average Return = -165.8000030517578\n",
            "step = 87200: loss = 0.3231036365032196\n",
            "step = 87400: loss = 0.2961537539958954\n",
            "step = 87600: loss = 0.3329976201057434\n",
            "step = 87800: loss = 7.624706745147705\n",
            "step = 88000: loss = 0.09025165438652039\n",
            "step = 88000: Average Return = -142.89999389648438\n",
            "step = 88200: loss = 0.7563077807426453\n",
            "step = 88400: loss = 0.44542765617370605\n",
            "step = 88600: loss = 0.10777464509010315\n",
            "step = 88800: loss = 9.690834045410156\n",
            "step = 89000: loss = 0.5667997598648071\n",
            "step = 89000: Average Return = -148.10000610351562\n",
            "step = 89200: loss = 0.1694713532924652\n",
            "step = 89400: loss = 15.515064239501953\n",
            "step = 89600: loss = 0.15432880818843842\n",
            "step = 89800: loss = 0.5934435129165649\n",
            "step = 90000: loss = 0.10229958593845367\n",
            "step = 90000: Average Return = -141.1999969482422\n",
            "step = 90200: loss = 0.20163437724113464\n",
            "step = 90400: loss = 0.30038779973983765\n",
            "step = 90600: loss = 0.3705933690071106\n",
            "step = 90800: loss = 0.13838064670562744\n",
            "step = 91000: loss = 0.2055552452802658\n",
            "step = 91000: Average Return = -178.5\n",
            "step = 91200: loss = 0.4297110140323639\n",
            "step = 91400: loss = 8.136735916137695\n",
            "step = 91600: loss = 0.2146616280078888\n",
            "step = 91800: loss = 0.12129662930965424\n",
            "step = 92000: loss = 0.15253770351409912\n",
            "step = 92000: Average Return = -176.0\n",
            "step = 92200: loss = 0.3660132884979248\n",
            "step = 92400: loss = 0.20202158391475677\n",
            "step = 92600: loss = 0.14485079050064087\n",
            "step = 92800: loss = 0.263336718082428\n",
            "step = 93000: loss = 1.1635457277297974\n",
            "step = 93000: Average Return = -154.89999389648438\n",
            "step = 93200: loss = 0.18438395857810974\n",
            "step = 93400: loss = 17.91665267944336\n",
            "step = 93600: loss = 0.15072430670261383\n",
            "step = 93800: loss = 19.06875991821289\n",
            "step = 94000: loss = 0.12192562967538834\n",
            "step = 94000: Average Return = -102.19999694824219\n",
            "step = 94200: loss = 0.230447456240654\n",
            "step = 94400: loss = 1.8177967071533203\n",
            "step = 94600: loss = 0.1041472852230072\n",
            "step = 94800: loss = 0.5753226280212402\n",
            "step = 95000: loss = 17.23567008972168\n",
            "step = 95000: Average Return = -147.3000030517578\n",
            "step = 95200: loss = 10.48939323425293\n",
            "step = 95400: loss = 2.2666587829589844\n",
            "step = 95600: loss = 0.22734075784683228\n",
            "step = 95800: loss = 0.19773197174072266\n",
            "step = 96000: loss = 39.074920654296875\n",
            "step = 96000: Average Return = -151.0\n",
            "step = 96200: loss = 0.33207806944847107\n",
            "step = 96400: loss = 0.20196616649627686\n",
            "step = 96600: loss = 19.872278213500977\n",
            "step = 96800: loss = 1.9127775430679321\n",
            "step = 97000: loss = 0.13301274180412292\n",
            "step = 97000: Average Return = -177.89999389648438\n",
            "step = 97200: loss = 0.1624571979045868\n",
            "step = 97400: loss = 0.1650349646806717\n",
            "step = 97600: loss = 0.28890421986579895\n",
            "step = 97800: loss = 11.156218528747559\n",
            "step = 98000: loss = 1.2162251472473145\n",
            "step = 98000: Average Return = -165.89999389648438\n",
            "step = 98200: loss = 0.16137492656707764\n",
            "step = 98400: loss = 2.7192370891571045\n",
            "step = 98600: loss = 0.19745633006095886\n",
            "step = 98800: loss = 0.3816320598125458\n",
            "step = 99000: loss = 19.82227325439453\n",
            "step = 99000: Average Return = -188.3000030517578\n",
            "step = 99200: loss = 22.678436279296875\n",
            "step = 99400: loss = 0.1694200038909912\n",
            "step = 99600: loss = 0.3183833062648773\n",
            "step = 99800: loss = 0.305155873298645\n",
            "step = 100000: loss = 20.417724609375\n",
            "step = 100000: Average Return = -166.0\n",
            "step = 100200: loss = 2.561598777770996\n",
            "step = 100400: loss = 25.50918197631836\n",
            "step = 100600: loss = 21.72612953186035\n",
            "step = 100800: loss = 2.5439887046813965\n",
            "step = 101000: loss = 21.783220291137695\n",
            "step = 101000: Average Return = -165.60000610351562\n",
            "step = 101200: loss = 20.888437271118164\n",
            "step = 101400: loss = 21.36760902404785\n",
            "step = 101600: loss = 42.65013885498047\n",
            "step = 101800: loss = 0.28925275802612305\n",
            "step = 102000: loss = 20.833541870117188\n",
            "step = 102000: Average Return = -155.89999389648438\n",
            "step = 102200: loss = 2.4875946044921875\n",
            "step = 102400: loss = 40.86351776123047\n",
            "step = 102600: loss = 22.302780151367188\n",
            "step = 102800: loss = 0.27082353830337524\n",
            "step = 103000: loss = 45.096031188964844\n",
            "step = 103000: Average Return = -137.3000030517578\n",
            "step = 103200: loss = 0.4339086413383484\n",
            "step = 103400: loss = 0.2199145406484604\n",
            "step = 103600: loss = 0.27840641140937805\n",
            "step = 103800: loss = 21.941848754882812\n",
            "step = 104000: loss = 0.27019965648651123\n",
            "step = 104000: Average Return = -160.3000030517578\n",
            "step = 104200: loss = 0.2188328206539154\n",
            "step = 104400: loss = 22.109745025634766\n",
            "step = 104600: loss = 0.4326835572719574\n",
            "step = 104800: loss = 5.342677593231201\n",
            "step = 105000: loss = 2.940747022628784\n",
            "step = 105000: Average Return = -156.3000030517578\n",
            "step = 105200: loss = 1.5256602764129639\n",
            "step = 105400: loss = 23.448896408081055\n",
            "step = 105600: loss = 23.67643928527832\n",
            "step = 105800: loss = 0.5639833211898804\n",
            "step = 106000: loss = 23.023725509643555\n",
            "step = 106000: Average Return = -154.1999969482422\n",
            "step = 106200: loss = 0.36352771520614624\n",
            "step = 106400: loss = 45.640987396240234\n",
            "step = 106600: loss = 44.11507797241211\n",
            "step = 106800: loss = 24.15898323059082\n",
            "step = 107000: loss = 22.69091033935547\n",
            "step = 107000: Average Return = -120.19999694824219\n",
            "step = 107200: loss = 19.553592681884766\n",
            "step = 107400: loss = 23.514123916625977\n",
            "step = 107600: loss = 26.51856803894043\n",
            "step = 107800: loss = 24.28227424621582\n",
            "step = 108000: loss = 0.6923646926879883\n",
            "step = 108000: Average Return = -141.5\n",
            "step = 108200: loss = 22.83802604675293\n",
            "step = 108400: loss = 0.3157130777835846\n",
            "step = 108600: loss = 0.23797890543937683\n",
            "step = 108800: loss = 0.22129300236701965\n",
            "step = 109000: loss = 0.3898293077945709\n",
            "step = 109000: Average Return = -155.10000610351562\n",
            "step = 109200: loss = 0.5386394262313843\n",
            "step = 109400: loss = 30.14938735961914\n",
            "step = 109600: loss = 22.853979110717773\n",
            "step = 109800: loss = 48.906005859375\n",
            "step = 110000: loss = 23.31499671936035\n",
            "step = 110000: Average Return = -164.0\n",
            "step = 110200: loss = 24.796239852905273\n",
            "step = 110400: loss = 25.76744270324707\n",
            "step = 110600: loss = 48.15127944946289\n",
            "step = 110800: loss = 2.6037344932556152\n",
            "step = 111000: loss = 0.24098552763462067\n",
            "step = 111000: Average Return = -166.3000030517578\n",
            "step = 111200: loss = 34.321380615234375\n",
            "step = 111400: loss = 0.29907459020614624\n",
            "step = 111600: loss = 0.218337282538414\n",
            "step = 111800: loss = 52.732295989990234\n",
            "step = 112000: loss = 25.262680053710938\n",
            "step = 112000: Average Return = -164.39999389648438\n",
            "step = 112200: loss = 0.3205842971801758\n",
            "step = 112400: loss = 0.8136075735092163\n",
            "step = 112600: loss = 0.5091373324394226\n",
            "step = 112800: loss = 26.739713668823242\n",
            "step = 113000: loss = 24.408096313476562\n",
            "step = 113000: Average Return = -146.6999969482422\n",
            "step = 113200: loss = 48.62769317626953\n",
            "step = 113400: loss = 23.570941925048828\n",
            "step = 113600: loss = 26.877605438232422\n",
            "step = 113800: loss = 24.547683715820312\n",
            "step = 114000: loss = 48.15284729003906\n",
            "step = 114000: Average Return = -126.30000305175781\n",
            "step = 114200: loss = 24.51993179321289\n",
            "step = 114400: loss = 0.45993244647979736\n",
            "step = 114600: loss = 0.3706164062023163\n",
            "step = 114800: loss = 0.28070300817489624\n",
            "step = 115000: loss = 74.44309997558594\n",
            "step = 115000: Average Return = -159.6999969482422\n",
            "step = 115200: loss = 0.40497440099716187\n",
            "step = 115400: loss = 0.45363712310791016\n",
            "step = 115600: loss = 29.117996215820312\n",
            "step = 115800: loss = 0.5153383016586304\n",
            "step = 116000: loss = 30.32275390625\n",
            "step = 116000: Average Return = -179.1999969482422\n",
            "step = 116200: loss = 18.63173484802246\n",
            "step = 116400: loss = 0.6899855136871338\n",
            "step = 116600: loss = 0.5951803922653198\n",
            "step = 116800: loss = 110.343994140625\n",
            "step = 117000: loss = 0.49481672048568726\n",
            "step = 117000: Average Return = -130.39999389648438\n",
            "step = 117200: loss = 24.897869110107422\n",
            "step = 117400: loss = 28.26983642578125\n",
            "step = 117600: loss = 23.51288414001465\n",
            "step = 117800: loss = 25.215898513793945\n",
            "step = 118000: loss = 0.48565673828125\n",
            "step = 118000: Average Return = -161.89999389648438\n",
            "step = 118200: loss = 27.09664535522461\n",
            "step = 118400: loss = 25.695449829101562\n",
            "step = 118600: loss = 2.8121018409729004\n",
            "step = 118800: loss = 0.26252031326293945\n",
            "step = 119000: loss = 28.5599365234375\n",
            "step = 119000: Average Return = -140.1999969482422\n",
            "step = 119200: loss = 0.26449549198150635\n",
            "step = 119400: loss = 26.0084171295166\n",
            "step = 119600: loss = 0.44422218203544617\n",
            "step = 119800: loss = 26.309846878051758\n",
            "step = 120000: loss = 30.849210739135742\n",
            "step = 120000: Average Return = -189.39999389648438\n",
            "step = 120200: loss = 0.5859614610671997\n",
            "step = 120400: loss = 1.1136220693588257\n",
            "step = 120600: loss = 27.269502639770508\n",
            "step = 120800: loss = 5.5028076171875\n",
            "step = 121000: loss = 80.629150390625\n",
            "step = 121000: Average Return = -195.5\n",
            "step = 121200: loss = 0.43606817722320557\n",
            "step = 121400: loss = 0.40835899114608765\n",
            "step = 121600: loss = 0.7803397178649902\n",
            "step = 121800: loss = 0.43758678436279297\n",
            "step = 122000: loss = 28.855628967285156\n",
            "step = 122000: Average Return = -154.0\n",
            "step = 122200: loss = 0.2848784327507019\n",
            "step = 122400: loss = 33.01790237426758\n",
            "step = 122600: loss = 0.42150288820266724\n",
            "step = 122800: loss = 88.9075698852539\n",
            "step = 123000: loss = 0.5164127945899963\n",
            "step = 123000: Average Return = -138.39999389648438\n",
            "step = 123200: loss = 13.748788833618164\n",
            "step = 123400: loss = 24.207889556884766\n",
            "step = 123600: loss = 0.2960289716720581\n",
            "step = 123800: loss = 0.5185073614120483\n",
            "step = 124000: loss = 26.537694931030273\n",
            "step = 124000: Average Return = -142.5\n",
            "step = 124200: loss = 27.654691696166992\n",
            "step = 124400: loss = 27.625701904296875\n",
            "step = 124600: loss = 0.3127434253692627\n",
            "step = 124800: loss = 0.4366998076438904\n",
            "step = 125000: loss = 36.223087310791016\n",
            "step = 125000: Average Return = -151.3000030517578\n",
            "step = 125200: loss = 0.5434426069259644\n",
            "step = 125400: loss = 0.2767370939254761\n",
            "step = 125600: loss = 30.497041702270508\n",
            "step = 125800: loss = 0.3247193694114685\n",
            "step = 126000: loss = 2.5052530765533447\n",
            "step = 126000: Average Return = -152.3000030517578\n",
            "step = 126200: loss = 0.3250010013580322\n",
            "step = 126400: loss = 31.864286422729492\n",
            "step = 126600: loss = 30.883689880371094\n",
            "step = 126800: loss = 0.35440534353256226\n",
            "step = 127000: loss = 0.7704111337661743\n",
            "step = 127000: Average Return = -151.1999969482422\n",
            "step = 127200: loss = 17.10576629638672\n",
            "step = 127400: loss = 1.0931410789489746\n",
            "step = 127600: loss = 0.2780168652534485\n",
            "step = 127800: loss = 15.955679893493652\n",
            "step = 128000: loss = 5.339568138122559\n",
            "step = 128000: Average Return = -151.1999969482422\n",
            "step = 128200: loss = 0.41144198179244995\n",
            "step = 128400: loss = 0.2105233073234558\n",
            "step = 128600: loss = 0.7018304467201233\n",
            "step = 128800: loss = 34.34140396118164\n",
            "step = 129000: loss = 0.4442816376686096\n",
            "step = 129000: Average Return = -170.10000610351562\n",
            "step = 129200: loss = 34.173274993896484\n",
            "step = 129400: loss = 0.39867228269577026\n",
            "step = 129600: loss = 61.53571701049805\n",
            "step = 129800: loss = 0.35502517223358154\n",
            "step = 130000: loss = 0.44736260175704956\n",
            "step = 130000: Average Return = -170.10000610351562\n",
            "step = 130200: loss = 0.5360562801361084\n",
            "step = 130400: loss = 5.415657043457031\n",
            "step = 130600: loss = 33.76190185546875\n",
            "step = 130800: loss = 28.65095329284668\n",
            "step = 131000: loss = 0.6164622902870178\n",
            "step = 131000: Average Return = -177.39999389648438\n",
            "step = 131200: loss = 30.218915939331055\n",
            "step = 131400: loss = 25.304960250854492\n",
            "step = 131600: loss = 2.233548164367676\n",
            "step = 131800: loss = 31.600357055664062\n",
            "step = 132000: loss = 28.323930740356445\n",
            "step = 132000: Average Return = -141.6999969482422\n",
            "step = 132200: loss = 31.570676803588867\n",
            "step = 132400: loss = 0.4226544499397278\n",
            "step = 132600: loss = 32.85146713256836\n",
            "step = 132800: loss = 0.31770795583724976\n",
            "step = 133000: loss = 0.47672051191329956\n",
            "step = 133000: Average Return = -179.0\n",
            "step = 133200: loss = 28.89395523071289\n",
            "step = 133400: loss = 8.300501823425293\n",
            "step = 133600: loss = 35.81027603149414\n",
            "step = 133800: loss = 0.278258740901947\n",
            "step = 134000: loss = 0.8034701347351074\n",
            "step = 134000: Average Return = -152.39999389648438\n",
            "step = 134200: loss = 0.1849014163017273\n",
            "step = 134400: loss = 0.24505537748336792\n",
            "step = 134600: loss = 29.36308479309082\n",
            "step = 134800: loss = 34.00047302246094\n",
            "step = 135000: loss = 31.454923629760742\n",
            "step = 135000: Average Return = -142.8000030517578\n",
            "step = 135200: loss = 0.6549637317657471\n",
            "step = 135400: loss = 33.53628921508789\n",
            "step = 135600: loss = 0.30945107340812683\n",
            "step = 135800: loss = 33.50835037231445\n",
            "step = 136000: loss = 36.4393424987793\n",
            "step = 136000: Average Return = -120.19999694824219\n",
            "step = 136200: loss = 0.6286097764968872\n",
            "step = 136400: loss = 2.6886074542999268\n",
            "step = 136600: loss = 24.320777893066406\n",
            "step = 136800: loss = 63.810035705566406\n",
            "step = 137000: loss = 3.3324646949768066\n",
            "step = 137000: Average Return = -159.10000610351562\n",
            "step = 137200: loss = 0.4164724051952362\n",
            "step = 137400: loss = 35.64336013793945\n",
            "step = 137600: loss = 0.3325859606266022\n",
            "step = 137800: loss = 0.32119011878967285\n",
            "step = 138000: loss = 33.576107025146484\n",
            "step = 138000: Average Return = -147.8000030517578\n",
            "step = 138200: loss = 0.8649293780326843\n",
            "step = 138400: loss = 0.6983518004417419\n",
            "step = 138600: loss = 3.180694818496704\n",
            "step = 138800: loss = 0.17426693439483643\n",
            "step = 139000: loss = 0.7059892416000366\n",
            "step = 139000: Average Return = -174.1999969482422\n",
            "step = 139200: loss = 0.3262621760368347\n",
            "step = 139400: loss = 2.289668560028076\n",
            "step = 139600: loss = 0.4162580966949463\n",
            "step = 139800: loss = 0.1681862771511078\n",
            "step = 140000: loss = 33.35375213623047\n",
            "step = 140000: Average Return = -130.6999969482422\n",
            "step = 140200: loss = 35.36043167114258\n",
            "step = 140400: loss = 0.21340131759643555\n",
            "step = 140600: loss = 0.1767697036266327\n",
            "step = 140800: loss = 0.3186674118041992\n",
            "step = 141000: loss = 0.26440560817718506\n",
            "step = 141000: Average Return = -143.8000030517578\n",
            "step = 141200: loss = 35.62926483154297\n",
            "step = 141400: loss = 0.27985453605651855\n",
            "step = 141600: loss = 0.22711783647537231\n",
            "step = 141800: loss = 0.3573976159095764\n",
            "step = 142000: loss = 0.3996232748031616\n",
            "step = 142000: Average Return = -111.0999984741211\n",
            "step = 142200: loss = 0.745862603187561\n",
            "step = 142400: loss = 1.5462794303894043\n",
            "step = 142600: loss = 0.2966809868812561\n",
            "step = 142800: loss = 0.5289040207862854\n",
            "step = 143000: loss = 33.73651123046875\n",
            "step = 143000: Average Return = -117.0\n",
            "step = 143200: loss = 0.2411128282546997\n",
            "step = 143400: loss = 37.364810943603516\n",
            "step = 143600: loss = 3.104586362838745\n",
            "step = 143800: loss = 2.992758274078369\n",
            "step = 144000: loss = 0.35356202721595764\n",
            "step = 144000: Average Return = -120.69999694824219\n",
            "step = 144200: loss = 34.722450256347656\n",
            "step = 144400: loss = 0.2560310363769531\n",
            "step = 144600: loss = 0.4410385489463806\n",
            "step = 144800: loss = 0.34827423095703125\n",
            "step = 145000: loss = 0.3638281226158142\n",
            "step = 145000: Average Return = -120.30000305175781\n",
            "step = 145200: loss = 2.5034542083740234\n",
            "step = 145400: loss = 36.267555236816406\n",
            "step = 145600: loss = 0.6505559682846069\n",
            "step = 145800: loss = 35.50004196166992\n",
            "step = 146000: loss = 0.1882985532283783\n",
            "step = 146000: Average Return = -120.19999694824219\n",
            "step = 146200: loss = 37.07264709472656\n",
            "step = 146400: loss = 3.4931509494781494\n",
            "step = 146600: loss = 3.351799488067627\n",
            "step = 146800: loss = 6.075802803039551\n",
            "step = 147000: loss = 0.6686490178108215\n",
            "step = 147000: Average Return = -127.80000305175781\n",
            "step = 147200: loss = 3.594088554382324\n",
            "step = 147400: loss = 0.3141676187515259\n",
            "step = 147600: loss = 0.7262458205223083\n",
            "step = 147800: loss = 0.33934250473976135\n",
            "step = 148000: loss = 0.24458849430084229\n",
            "step = 148000: Average Return = -123.80000305175781\n",
            "step = 148200: loss = 0.3673893213272095\n",
            "step = 148400: loss = 36.79423522949219\n",
            "step = 148600: loss = 0.4667954444885254\n",
            "step = 148800: loss = 0.3842299282550812\n",
            "step = 149000: loss = 0.23860999941825867\n",
            "step = 149000: Average Return = -116.9000015258789\n",
            "step = 149200: loss = 0.9955002069473267\n",
            "step = 149400: loss = 0.4801866114139557\n",
            "step = 149600: loss = 0.35006335377693176\n",
            "step = 149800: loss = 0.46562981605529785\n",
            "step = 150000: loss = 0.5567528605461121\n",
            "step = 150000: Average Return = -114.9000015258789\n"
          ]
        }
      ]
    },
    {
      "cell_type": "markdown",
      "source": [
        "Review the final average return after the training is complete."
      ],
      "metadata": {
        "id": "BkhWz7vTbCnu"
      }
    },
    {
      "cell_type": "code",
      "source": [
        "# Review final average return.\n",
        "print(f\"Final average return: {returns[-1]}\")"
      ],
      "metadata": {
        "colab": {
          "base_uri": "https://localhost:8080/"
        },
        "id": "V2ATUXjq0ZZd",
        "outputId": "00c8466f-6d35-44a0-c40d-f62498706026"
      },
      "execution_count": null,
      "outputs": [
        {
          "output_type": "stream",
          "name": "stdout",
          "text": [
            "Final average return: -114.9000015258789\n"
          ]
        }
      ]
    },
    {
      "cell_type": "markdown",
      "source": [
        "## Visualization"
      ],
      "metadata": {
        "id": "tlqm8u78nrBd"
      }
    },
    {
      "cell_type": "markdown",
      "source": [
        "This section will focus on visualizing the DQN agent's training and learning process. We will first evaluate the agent's learning using a training progress curve and then visualize the agent's performance through a video."
      ],
      "metadata": {
        "id": "1e1WhiJACucy"
      }
    },
    {
      "cell_type": "markdown",
      "source": [
        "### Evaluating the agent’s performance"
      ],
      "metadata": {
        "id": "2yc2hyDTounh"
      }
    },
    {
      "cell_type": "markdown",
      "source": [
        "To understand how the DQN agent improves over time, track the average return (cumulative reward) across evaluation episodes at regular training intervals. In the `MountainCar-v0` environment, the agent receives a reward of `-1` at each time step until it reaches the goal. Therefore, the maximum return is close to `0`, and the minimum is `-200` (if the agent never reaches the goal within 200 steps). Over the course of training, the agent learns to build momentum by oscillating between the hills and eventually reaching the goal faster. This is reflected as an increase in average return towards `0`. Note that with reward shaping, the agent also receives small positive feedback for moving forward and building speed. This helps the agent learn faster in the early stages by making progress more measurable, even before it reaches the goal."
      ],
      "metadata": {
        "id": "Sbo5MoOanv7R"
      }
    },
    {
      "cell_type": "markdown",
      "source": [
        "Go ahead and plot this progression. The curve may not increase monotonically at each checkpoint - some instability is natural in RL - but the overall trend shows improvement as the agent learns an optimal policy."
      ],
      "metadata": {
        "id": "kNA6gBv-oL4B"
      }
    },
    {
      "cell_type": "code",
      "source": [
        "# In \"MountainCar-v0\":\n",
        "# - Each episode lasts up to 200 steps.\n",
        "# - The agent receives \"-1\" reward at each time step until it reaches the goal.\n",
        "# - So, the return is between \"-200\" (worst) and ~\"0\" (best).\n",
        "# Plot how the agent improves over time.\n",
        "\n",
        "iterations = range(0, num_iterations + 1, eval_interval)\n",
        "plt.plot(iterations, returns)\n",
        "plt.ylabel(\"Average Return\")\n",
        "plt.xlabel(\"Iterations\")\n",
        "plt.title(\"Training Progress (MountainCar-v0)\")\n",
        "plt.ylim(bottom=-250, top=50)\n",
        "plt.grid(True)\n",
        "plt.show()"
      ],
      "metadata": {
        "colab": {
          "base_uri": "https://localhost:8080/",
          "height": 472
        },
        "id": "8NVn8kIAtgf1",
        "outputId": "0951a4e8-42ce-48d7-f1e1-0286c4611e1c"
      },
      "execution_count": null,
      "outputs": [
        {
          "output_type": "display_data",
          "data": {
            "text/plain": [
              "<Figure size 640x480 with 1 Axes>"
            ],
            "image/png": "[encoded data removed]"
          },
          "metadata": {}
        }
      ]
    },
    {
      "cell_type": "markdown",
      "source": [
        "### Watch the agent learn"
      ],
      "metadata": {
        "id": "rxmEZyPYoybg"
      }
    },
    {
      "cell_type": "markdown",
      "source": [
        "Charts are insightful, but watching an agent in action is far more exciting. Therefore, the next step is to visualize how the DQN agent performs in the `MountainCar-v0` environment after training."
      ],
      "metadata": {
        "id": "de4g1Mknquln"
      }
    },
    {
      "cell_type": "markdown",
      "source": [
        "The car starts in a valley and must build up enough momentum to climb the opposite hill and reach the flag. Initially, it has no idea how to do that. But after training, it learns to swing back and forth to gain momentum - and eventually succeeds."
      ],
      "metadata": {
        "id": "-jwWQiU3sCS4"
      }
    },
    {
      "cell_type": "markdown",
      "source": [
        "Use the environment’s `render()` function to capture each frame and create a video of the agent interacting with the environment. Below is a helper function to embed the video directly in the Colab notebook."
      ],
      "metadata": {
        "id": "KunDeaSusDiU"
      }
    },
    {
      "cell_type": "code",
      "source": [
        "def embed_mp4(filename):\n",
        "  \"\"\"Embeds an mp4 file in the notebook for playback.\"\"\"\n",
        "  # Read the video file in binary mode.\n",
        "  video = open(filename, \"rb\").read()\n",
        "\n",
        "  # Encode the binary data to \"base64\" for embedding.\n",
        "  b64 = base64.b64encode(video)\n",
        "\n",
        "  # Create an HTML5 video tag with the base64-encoded video.\n",
        "  tag = '''\n",
        "  <video width=\"640\" height=\"480\" controls>\n",
        "    <source src=\"data:video/mp4;base64,{0}\" type=\"video/mp4\">\n",
        "  Your browser does not support the video tag.\n",
        "  </video>'''.format(b64.decode())\n",
        "\n",
        "  # Return the HTML to render in the notebook.\n",
        "  return IPython.display.HTML(tag)"
      ],
      "metadata": {
        "id": "TS6L74ILthOJ"
      },
      "execution_count": null,
      "outputs": []
    },
    {
      "cell_type": "markdown",
      "source": [
        "The following function evaluates the trained agent for a few episodes, recording and saving its performance. Use the function to generate and view the video of the trained agent."
      ],
      "metadata": {
        "id": "4dIuGlHosII4"
      }
    },
    {
      "cell_type": "code",
      "source": [
        "def create_policy_eval_video(policy, filename, num_episodes=5, fps=30):\n",
        "  # Set the output filename with \".mp4\" extension.\n",
        "  filename = filename + \".mp4\"\n",
        "\n",
        "  # Create a video writer object using \"imageio\".\n",
        "  with imageio.get_writer(filename, fps=fps) as video:\n",
        "\n",
        "    # Run the policy for a specified number of episodes.\n",
        "    for _ in range(num_episodes):\n",
        "      # Reset the evaluation environment.\n",
        "      time_step = eval_env.reset()\n",
        "\n",
        "      # Append the initial frame to the video.\n",
        "      video.append_data(eval_py_env.render())\n",
        "\n",
        "      # Step through the episode until it ends.\n",
        "      while not time_step.is_last():\n",
        "        # Get the action from the agent's policy.\n",
        "        action_step = policy.action(time_step)\n",
        "\n",
        "        # Apply the action in the environment.\n",
        "        time_step = eval_env.step(action_step.action)\n",
        "\n",
        "        # Append the new frame to the video.\n",
        "        video.append_data(eval_py_env.render())\n",
        "\n",
        "  # Embed and return the created video in the notebook.\n",
        "  return embed_mp4(filename)\n",
        "\n",
        "# Generate and display the video for the trained agent's behavior.\n",
        "create_policy_eval_video(agent.policy, \"trained-agent\")"
      ],
      "metadata": {
        "colab": {
          "base_uri": "https://localhost:8080/",
          "height": 539
        },
        "id": "hCRYliXltk2w",
        "outputId": "ec3e4fd3-273a-4cc9-d365-b370207ca916"
      },
      "execution_count": null,
      "outputs": [
        {
          "output_type": "stream",
          "name": "stderr",
          "text": [
            "WARNING:root:IMAGEIO FFMPEG_WRITER WARNING: input image is not divisible by macro_block_size=16, resizing from (400, 600) to (400, 608) to ensure video compatibility with most codecs and players. To prevent resizing, make your input image divisible by the macro_block_size or set the macro_block_size to None (risking incompatibility). You may also see a FFMPEG warning concerning speedloss due to data not being aligned.\n"
          ]
        },
        {
          "output_type": "execute_result",
          "data": {
            "text/plain": [
              "<IPython.core.display.HTML object>"
            ],
            "text/html": [
              "\n",
              "  <video width=\"640\" height=\"480\" controls>\n",
              "    <source src=\"data:video/mp4;base64,AAAAIGZ0eXBpc29tAAACAGlzb21pc28yYXZjMW1wNDEAAAAIZnJlZQABi0htZGF0AAACrgYF//+q3EXpvebZSLeWLNgg2SPu73gyNjQgLSBjb3JlIDE2MyByMzA2MCA1ZGI2YWE2IC0gSC4yNjQvTVBFRy00IEFWQyBjb2RlYyAtIENvcHlsZWZ0IDIwMDMtMjAyMSAtIGh0dHA6Ly93d3cudmlkZW9sYW4ub3JnL3gyNjQuaHRtbCAtIG9wdGlvbnM6IGNhYmFjPTEgcmVmPTMgZGVibG9jaz0xOjA6MCBhbmFseXNlPTB4MzoweDExMyBtZT1oZXggc3VibWU9NyBwc3k9MSBwc3lfcmQ9MS4wMDowLjAwIG1peGVkX3JlZj0xIG1lX3JhbmdlPTE2IGNocm9tYV9tZT0xIHRyZWxsaXM9MSA4eDhkY3Q9MSBjcW09MCBkZWFkem9uZT0yMSwxMSBmYXN0X3Bza2lwPTEgY2hyb21hX3FwX29mZnNldD0tMiB0aHJlYWRzPTMgbG9va2FoZWFkX3RocmVhZHM9MSBzbGljZWRfdGhyZWFkcz0wIG5yPTAgZGVjaW1hdGU9MSBpbnRlcmxhY2VkPTAgYmx1cmF5X2NvbXBhdD0wIGNvbnN0cmFpbmVkX2ludHJhPTAgYmZyYW1lcz0zIGJfcHlyYW1pZD0yIGJfYWRhcHQ9MSBiX2JpYXM9MCBkaXJlY3Q9MSB3ZWlnaHRiPTEgb3Blbl9nb3A9MCB3ZWlnaHRwPTIga2V5aW50PTI1MCBrZXlpbnRfbWluPTI1IHNjZW5lY3V0PTQwIGludHJhX3JlZnJlc2g9MCByY19sb29rYWhlYWQ9NDAgcmM9Y3JmIG1idHJlZT0xIGNyZj0yNS4wIHFjb21wPTAuNjAgcXBtaW49MCBxcG1heD02OSBxcHN0ZXA9NCBpcF9yYXRpbz0xLjQwIGFxPTE6MS4wMACAAAAM0mWIhAA3//72rvzLK0cLlS4dWXuzUfLoSXL9iDB9aAAAAwAAAwAAJuKiZ0WFMeJsgAABLJacMUhkBK9KK/W/ny0ktZ1tau3psL5Rg1c5GYvUpY3fPl0QBuRZZ8tED2jxR8+8CSu2UQ2X/1d6gqmu810Z2wSRMaMcXBicos8j2CRQp0468VhYNxqi/oU6y14tKCUaj5DJzpWf09aO1pF6Yo43/2wxbTTes6SOyQ8WiRwgCsG35ugD2JgZmDcTiF4FSFLW5219tw/XHu533pVm9ZEAADATdCn+IBMOhGCqQtOvxN9jXGzHcmWj44bVO7lP9xWYubl3uWXgl0rUWHePkDgauhKFFzcSvUMHQlYGEGnzxgNIwHzG4JmJzTKuF5+Fn2tJ0gdtNa5hE9c4HZrVoPmaE2YpdMVkm/fdggpnXxoOcN0OJ48oGwbfCI5AtN8mcO6NpwHc7VliDAqeK8vyUA2FiPZGt7Y5Ss9Ob8/JQZrf0iELSr0gejU5BOby0ANZwCvBE+PUgMGfV7PnWgeq/wce41NueRjh4B9/K/XyuH84mmMo3n6SYIrsJq58Iemti05idxANbp0Gr2AYKu06UOjs0IR5ZtxZCoI+QtpFbtFmSy7ZJnzFUzg7xZ+BCjmgLbgdNs8DaM8W5PC06SD6qHytpNjqKAJTKAQFv4eAyq+VtBMwpTolIGwUTKJyGveqgBUPBJCQUPMurPDj94KPvCe8Zza/ptz0zqu1ij95YU3LADPDhNivI1TD4PjE0ZmISYNVcEfD2TECVN58w1iJezdEDzU+uYqT/JPg6UeX6tI2vTQqolEW9SwCW7RdQKjVRs++Etjc6FtqXOqOc5UuErENldDbArjVC/3ptldPoqhYwxi0TVaqqQpFk1+MTt/a3lZ4rQB20PFEq8Fp5AGkk0rcquH7kZj1Sht+ozuzaNrmDix3ye6CBpXxdtPoZp9tOZrETeAO3vUt9ArmmOltRr3HV1XIe8p7QGn2oKr/fnVNOVRUfQ1BOuGQSYEPNs5UNCCl6xW39Kvpyjb6fnezx8KHwRP38ZJRrxWqyRrt6NEyK0t7D4vHwdSeneBLdExVDJ7F0uRQhkiHIhEB2P08XiHfqMYg2sGh0JyIFg8LmPFVAq2W13RE0R17wAAAAwAIlOrJABjjFJmSnH9a2oI3r6C4ASI3ejROVSblnRdyTT07CKZGCDcTqH7j5z+MO1WQsbQxReb4Gvx7F+++wvNXgvCagNAAhMXs6An+BU9KWX6Vus+MjNEBp9xHtkauOy+8Hz+GkCNzxSKfyshW4wrRieAMNfmMbczryXEJp6mNi6eMsgmAANpXoiehPW2lNzFWMYHYaCkZR0M29EgNwktSA88rO/E5CvQQf3hWwicChwvyHJsSAtbFRJG5VKhLZex1b5AydeIALYDr3841nbNHxVJV3oFsVvqDI4wEfRfAeoX0a/RROZ58GD2ytPr4KZgoBS/rw+gZr9kfpgJecFNWGo2ZvwK34dmW+24hI6so9n54BVI0Qh+cP9CYBBYgv2Tvg0q4V8N3Qi3/EnISK2amsqj3wmbE2LD7NUx2N1ivtBmwTsRr64BNHgZWPitMcB1NverOY+SHdVkPEXL2dOyHDDT9ZQ6eKl+ilrA0AXyV4ocUmd6C3kXNUo6zbB0+KGKrl8jno37HCV0giLjhUUA5MknT6+QurNQ3q23bwnc5SFJmeX/J8cUBXuVxwGGmzSLqB7LPTTHi/YLp6G5fo+K5FTzdrT48tzs5HOfGR4bH1/3Lr+4IDhhXqFA71QzW2B0oG1MZGPb08DOCcUuPkTTiGXVZcSIX6vbv4BSft0eP+tjEnSkyrgDSfHe+KLfYcqMzUFM0bnmr9m51mkiu4JWHHAYZkY+9t8Olydl5NgPRkZJl6XHErnvYIwxFKg2gEG70q9dzc1NaziR0h+88mZj/xGFNKocjgB552jbrqiD6DkO3uDZAaLD/CTbPhG6e8RxpQvpuXcdbkpg1NtzLTZFYSSSyIF2UWPBZdrlnAAHIC7pyeD5VPik49ZQjFSZ6FyABfu6ub0p+r3lwB5mc8/YLG1rdeFwtVtEGmohR3x0KPP1wljoZKfhKZeoVvxH3812B0odbuQrt9H1qqQDRWxADpkjICRwf1bVn3CD30aKe7KeQFGV3YUlv4wLPmLvzrqYXsxEA3M6IvdslssuqhRi5BTii5D4PW7LcJtADyg7zcZkpbJqge3GA7fHIF0vZhMagkyRMyGtL1UIxxCQwPf7BZD9UimNFZJWkFFdD46QNw89Ow5mvFRtX0gcRjdue/fMglN/wC0uhNXl18zFjTs+S5S1FPpr3gRXWYkIbnQqc2vsdTxhYsgDRzfUWTPUZfBtL+po65N8AUmdlhFaiR18yisEJSx0AEIc/Cydwnzk6HbsAAYHv24xYzViFCLDXCaBi03UDkqiqXhrzCbIS9zBIhFoM/U3u0PNc92ab2ssrVPhVPMO4FfRjhqoXgfU0dk4uYMQ92K1FkKTgGuE+lZVCttFdvI9nVPTDcpIOT3T8hKJGXkgYW24Bodn2/XwP7J2RXBIMluMKpUYN9gq9CjnGHZTkVnsYi+7P48QSABbyoVVqrDj75QKTAGoZsNKpXdTMKsGr8QNl13tp/6pAc2VdOFHCxUqR+nC3rcDsprZvICNKE6vmV6613twXuIFpjMbrd7Gv8j0u5T0yZctrgAfvftDb26q/zVuvoDtXkvLX3FxBfWUiMOx1b5GZrdl/+D2oFiGNncAJrn9pd2U/Cl+ogcpXnQABiaOWhT3shci7PjFQX/pYURYhEiA+prBADKZQt0wZwheXbRy+PibXHqVanyGg+/MXp/tfwCXLsdMttjHmjOckNNQio9kkS+UFnK1eVjm3hZ0KIsbKChYeD8nQFDrjjGJ9uD92ns8OanFi/wCkhCiFMHkIqmgNt1QlMjPZledcc3t6KkMBJ8ILTh3MXGWN1PbNZclEFnaOtFgpW1TeH+7xKZDizYoAAWvOLnpCvGmonrWVfaV9UNSsM3e9pTman0uadYgTDgpYs5zf5m+7o994y8mQQuoHb0AxiLNE4MH7tGJ0A2LliuQNAEx4bPxp+1VIxr0gXE/9PvnYe6eDVW+e49zQFSmk6Yh5/yGws9qh24uprHeU2cjZOm9yHMV9LWJc/FCkwrtSvgobfCfkUIxfYDQSl+UrH+ABLNp611s/7QAHg16VGhw7XVHDUh0i7gzQ7I1zseie5bEYlptZQAuaKuB5KsapB/Mca15u6q6nnkbzG261ljRfPLLYCwppHDKcsVnMg1RGzU6/8l0g/VPdBYNvXk2FXIZ2iicgyU+dNROAvTDSQbnE7DYjGYUX4T+nmzYbFKh/z3EYgtWMvEA+CYNYcRayPaBpGRYveDT3wunH3brjO2QwxvEUGW+XGgp7BPzacq+/RR2ro38+OXURGfVu5WPjboI22D/bFf+EJiG3zPpZkw8YsE0oCrFOE0oLjUuP6SRwrZ+8pzwNjH0F7+f8UrAsV6Um2cz9hKgh1i4UWe78XcLgxNg0Wklo1+0hvRkzduuru6P6yJYKq2agNx+80xadbMp4RjS3qJFM82KjAACo12JRHPpXBsVLxYWNdOT42jWaqObMWv8qLY8/OGMiUzdaTaHAjr+QN9tViEVZHr28WCEjZ+a7i+sF8Im0ZZA2OHZ9h6WwsmYJN/wqEzVzzGMDh+A3s3Ak46VeSwzSXkSSkgn8N3/mOSkAx2H9acLEvudxybYyjW1M/IFZAOhTxv8sfAJNi2bIyQpv4ncygLHWQM+Wa+4qtREUoYsUcaLtwUO1oU7HqGzwYYN2hz3QAsWApEju93pB3zY9Pnn6y8bl3nIFipgksBvM7GhmB3QGjw68i/DvosrH+RjSRqxXsXWgiSockRfgmblXDcyl583gG6ejlGVgLIwQJcuI1z9b/z5uLtfRde55DwwuwcKRoz2BBhCGdb4sQvAAACilghjAU2eMzvqN49XAlRe7tKwr/6NVN8BkAYk14lYx9KzRxEfkBFcQqPWRgSYEQNlw4Fyimw2FXB2RNpfRvf3DMtXhbAtjvwYhWT8R0wl+bE9cr08eFEjpfjyGIXxoXPhjm2JmuwYlpt8xm1zyHYFXPvGbWnOXz1d88P8wI/qiviGdDiEUJI7Hmyq05dTVtcWsWsr0sEFA0HwHgvbcqYMB1hStuDWpWC8uBsdd5sY9UW8du/DQgidCDI0iGR+z+EQITvH7FmF6pL+2fajo77AXHUEhZTIygdjbUkWIx/UHZ7dskFkwvmezWNfx345hJZFAJuKWgbJGD5kEFO/qtmPNsi8OvkGvWBY6TN3Zqffdaqf30Nn4XNsUPLpNQbtpiAIJSQl0XaAbEGkQlIAPmQAAAMZBmiRsQ3/+jLAAOk23bANABQ1FvE+EAHweoDnHpG1PKA9p6C43FhdWAgoAmXcYC+YRgPcPOqPCyHkrlnRRZixmelA92jShHt5w9GXoZNDUCM7x4nZzfByK1VPT5IcGypIM+cQ8kb95jlJEMfIQSSPIJ3TZwobX+r3q9beSM+MHctW4nwtlUPSDfkTfDg7ZeUtbb2cTWavjZRxuvNV/AszJYGTfqyNCow/4W52vUrfW+YR6oCmxBT6nYgtn7J/qNmJGX/ne3/AAAAAmQZ5CeIV/ABLXrgABPa9KvSIsVIObUYr+ZyhGdLBRdemqSyt/lyMAAAAeAZ5hdEJ/AE+7WWqAAw7CNN2CYEs3SE7ZuOJxh+OwAAAAHAGeY2pCfwBPx71AAHxWs7aDzo1S7dljtlPcDcEAAACGQZpoSahBaJlMCG///oywAAADAALf7mhuMMl3BuvmChiokXcP4Vylurx/u6AEctKWUs+ceqkN6QCFz2IoyymPP4pUTGQnmq7LXQ9BNCszW6SZZ1nkKipGt5ohvrzHLzN1/HHwK44A498iMQ6uKZ71IWjGwN0PMiFkeroITJf119iR3ECqGzsAAABMQZ6GRREsK/8AAAMAAOgBGG9VgCu64i1IibKIgAoGwrN1LhAuQ7qOmcWZVAluwhXR1VdrSijaySbTs0/QxA76H+dubaT8EonVYgBWtQAAAB4BnqV0Qn8AAAMAAXQW3n1OJbQkDoggxam6VaQ0R6kAAAAgAZ6nakJ/AAADAACS5zdGiF1KHMOqzB+KXgiSvfmtDYAAAABoQZqqSahBbJlMFEw3//6MsAAAAwABIAvZYzGXm90apZYAWnkIb5RveTj/u8rXADEYrovGw07szRU/XvolnFqg33H1f4cjTu6KadRUaO1Gj1nffdCYbtKxwBrp7Xajb/Qp3/y5jdhXRbMAAAA8AZ7JakJ/AAADAAF0zXde23jRUhrcDUnavoO4AGw3FjNjWx4c4rQcvhb/eUUr6D6++TxgLCfxV9Q6kUBZAAAAkEGazknhClJlMCG//oywAAADAALcxCt6dwMa+eYPI4S1tpg8PaaTzfArBXrYOkOBoLpvOaL/DX6dvFMS4YqhIX/S+LAOfgt5aeZWBihA+fZNUR3vOwXnnP14Yj9xG/jr6fRgDdGtUXT4PMN0EhwrkVHGZQTWyWvG2MONt/UC6sl5mDvMlq+xGD6s7A8kQ/TPgAAAAEFBnuxFNEwr/wAAAwAA5+zNgJ0D+tQrzDMKEUx8BftT2OoCBv65ACySIVxgbkmHCl2OXxGdK0wx5sYd/SeNwNm0PgAAADsBnwt0Qn8AAAMAAXCIMymEVWWyuyMcm8nY1hgmYAAvZs8RMW40hHEpi5XWfzyvOOHRJuwh41mWGRIpnQAAADkBnw1qQn8AAAMAAXTMfIpLQe4FAjsU4ZmsAADlGtKi8gX7imHhrrIrdx2p0LYucVpbdyjsfuXXoNkAAACEQZsSSahBaJlMCG///oywAAADAALdEFoakCAS+a4SepEsJJpAkIUdcclnSqnd7emFoFK3EtBLHy2/M1DIc3lpYnhxwwJo4H6s/QklFkWvD9P8TO2v74GcWSkaEreLQGpErjkNb9/mhgyM2XMmWNGX1rxHtAoBD0X5TPSG00940Io16f6BAAAAQUGfMEURLCv/AAADAADn7MjN5iY7sUNPXvS7YZwTSPM+haH1crYYAQoQ78Ke4psnLJ/ybigpwtacohrfv2bDfitQAAAALwGfT3RCfwAAAwABdPHEYEfwmtVU3a3Y4lnivgAmYd+dVAIAfj5+bGQC2KM9nRzAAAAANQGfUWpCfwAAAwABdE0+L7dBffeVQDK658t1mG6vFLuAB9ew34rBmtYVjrEr/Qtv/ufg+3zBAAAAe0GbVEmoQWyZTBRMN//+jLAAAAMAAtzeW4VTZBEtDRnMf4YovgGDcAK+Do88H6wmG9+l+QmpZtxh1URdwfBnU7e9E/iZPCMi5EkNgqC/P+lv7tfeTGl77U3LefWK5h9ibqTRXztTEqWaCsdy56Labn2K0//nwyViDGALoAAAADMBn3NqQn8AAAMAAX6SFLqK2pBSF8yR4fAAEN+nWCNS8GnFd26Dw/GQ/bh+MTIIIxhIwPMAAACOQZt4SeEKUmUwIb/+jLAAAAMAAttK9oscARHU0bV9Ll2k1dv9GeY8xU1O3sfhc51l5du+1XSeKty+8S+xpYQIo6wFz+xs9829CmUCSk5CTlEWPF9qobDMBZZx/NpsCbKW44PHBxSh6oRUozDLeYaLJ0nMMHgV6XqGdXDq0Di0EUxqG7QldU/uuPY9Hu2t0QAAAEtBn5ZFNEwr/wAAAwAA7e36kqd+47YA0IinlGADT67jOvtIM1DmZcjUCXqxOQS9xys8fRsP86kVr/kJYMkaq6j+6pedz3IwbdeV/SAAAAAhAZ+1dEJ/AAADAAF9wPMRo+v5Oqd3PG1vNp4hgJX1b0pZAAAAKwGft2pCfwAAAwABfpKkFqKyzFZXuIR65KeCwcVABnWOs3fFWIQuWQB0mcEAAAClQZu8SahBaJlMCG///oywAAADAALxzLkWx0ZJc3u/tABs37gd+69bEwJ06IbgWjxE7saK/FaT7kpqft/g0lkv7yP1ie2v4CXDq3w44gw7mcvw8Lri1VEAEsL0rygjGeS8XNAVxGecQCmqha2haUe3B1O1Ab0waC3zHVhhr2EUiyHaEdW4zMRw+yjg1eUUKEbZcDtVk9DrbNaXdXUCGCug0nTUvvpLAAAANEGf2kURLCv/AAADAADtfyhEh/scJ/Tfjz9sHWzrEhDGv+gAtQMy4wLwq+0FpsXq2QyvR/MAAAAxAZ/5dEJ/AAADAAF9wBjaSC0qAt+JQAAN+NEJq+QCiGCNv1pF8uqpdOdqFR3KDIomzgAAADQBn/tqQn8AAAMAAXTAV2bB8S3gXHsumod8MlXeBaa2ACGMOERSpfm8o86Noduz1mTtaGhxAAAAXUGb/0moQWyZTAhv//6MsAAAAwAC21+PDUIa2De4KE+jCqgAH86slaHUb6CvWg/wFs1KZt/aHTE9RnoixabGu7hbKHrwTQZG9EEH//TxHMKQmcCIzS+8MtO/GWGX0QAAACRBnh1FFSwr/wAAAwAA6EPkfx1js/CJHcny8cLPEwozhhxf2YAAAAAZAZ4+akJ/AAADAAFz124g9hqmvUFcIXsagAAAAIlBmiNJqEFsmUwIb//+jLAAAAMAAtylSQt5C1VGRgywAbo2U/U4HoO9TVdyJay1TlZgXFs9zxnamBNOeZ2AtQ9lMAKUwsno9BFttKqqvNb1c5vw1BLeMJ6xDZchUkVne84QyW1ewrGuxUCTswMDs1R2nr+umggVwzu1K9RFqjr2ZuGI+miSm7zfTQAAAB1BnkFFFSwr/wAAAwAA5/9KQ1HGIfopwlU2wTyk9AAAAC8BnmB0Qn8AAAMAAX67n/EQLQl3oT5ErAAdn1iddwsMsnl6XFjOTU5tzJEmxD19GwAAABQBnmJqQn8AAAMAAX7yFEfEnVR1YAAAAK5BmmdJqEFsmUwIZ//+OEAAAAMAC2cn14GvGaC0EAB+0tmlXcwNlwVK/aFahkNkRs8ftWMaKj7xePZH8Y2j9UkDqmuS79p/9rK9Vyyi8jn3soM62XY9GnUTPVt9r9g02AjLWSyF2zceGN+4qm7jccxZF6RQW35y9j6XlmVVMnh20l5n++C6vaEidFrFMLgi7DEczPpWGCGhJ+K8M75IcKdgf4V5c5/xDL9fzOUnSiEAAAA5QZ6FRRUsK/8AAAMAAO3bTHZFRnIx9Stdghnb1/vcDPC1mN3y6BsXqZxDXNLEd9ABdLdPO7Uj8hvhAAAANgGepHRCfwAAAwABfb/1vCgBm1TGPnRxZ0cAC+sXJ13CwyzzZHYAX0TGx35v8smeqjvPPRsDxQAAAD8BnqZqQn8AAAMAAX6R2Zkh5LT4C4NSahzRJI4J1u+AABc28+mL+fiNiuYyajxDJMpRA16bt89N/QDpGEbvonEAAAD8QZqpSahBbJlMFEwz//44QAAAAwALHyfaCx1t8TwCi4AEI8DKbAzzwMmLkuxqMCPHB8pWQn9rCh2D5Mqo6JUOOcD8HML0fRrHZM40jk7V0bGvrsHEtdH9M3O7W5wFOh6yLelbmk8nkIul5RPsq3mGhBJwTLZBNJe5c5ufycjrBghgGgl6+NpUYC097W4itdQZOIv0Y3toKtbPDYoG0Of5YmjHCLSGkJ8HP5vCz6/kvsIeZURixfvPiO+D/h/cnieXmsb0SWkNCUlgeh2f+6j+e/eun8AXn2IzvJuD7fzeAiz5JzPNQE6nwJMfrQLO1hG4Q8W3TH5AzaMArwrcAAAASQGeyGpCfwAAAwABfvBp3HD26i6cgG9iy8FmHmt7CyNIw5oOmdQP8jz2izUrTwAE7LrRTuJroGgk14TJVI/5MD2Nah04Mdr9r4AAAADVQZrLSeEKUmUwUsM//jhAAAADAARzwhQrADpHG7xHJyzx1Dp5uBYxL2Oq6oFj5Dyn210GiLywMT5rWIfA4a6yi5Uuj2mDGYzhaw33gHsrG3ptSgOlZMhbRz0VNJy6lSTjg0Swzr239kPf35nisN6wLdLueXaI3QkGiPX2wbRp0IobNqP+VhhdhpQP3tMtxOEqTLLo3V1O3LdGVRwiibXf10EE2RXmn5fTmbY8mgsO4MXMxjZH4NXutToMnoBzq0lDsfEZMklPABVgVgOywA0bBdi/ojNlAAAAUgGe6mpCfwAAAwAAlru79CS+QVjpZ6YQUnuiW7Y8QATqnY6GvKIh+QJIb5bmg4TJCpauggvw/rCrqUL0w296YWolTViwuqeXuUYfI938I/ZkgqAAAAEEQZruSeEOiZTAhn/+OEAAAAMABHSECwATqGOyzaHhbPlhJ6Gh76bRKTk76SYJZDyL0mrTKzGOClJrRa5dczZVxUEK+4Mw93gE27eGzDxQFZkyB3hQEisnKdQ/p2mm9z79N7B+bFTSDrZyCyam8NvpABLgE7unZvJ4MNbW+WIVhr0wp1E1DYi5grOG4g8Qjx2FTTFzgnrXY4b4rPuLibANAoCbvL66Rg2fVzjDjdkEDl0FLU2VWxZ7NcXFoiQvrLeQEZIDl+xJB3D5Z/LcvsJzfqnOIrzuMCyDKEfe5jlWn8L5wdMMS/WSyPP/ciM/qnHu94fxGOZXlhRFxk6eXqJ+4lcn5y8AAACHQZ8MRRU8K/8AAAMAAF+hn3FABc8XGl2QgtLI4gKnZb3vI1XQMLEhwzQpQsXHouY4CfcUSdxGC/6HchZ8bNdvtQqB2ToOrZQnXtIkgAtUARnneSvM3jVVyt81d/d+x+5dG3D/AY2eWueAPJH18Uj4lYo+fXG0UZTafkbYn6PFFpGL5NwoNZ5hAAAAfwGfLWpCfwAAAwABfo688b/3iCySq3yJr0QgYBymZi8Q3+++wIy1YATVy7f0hofnAgEXRJ28oHsz334O1/FXOOoFMtRX3Z3PUEIcpQ/PXpvN7ORJCe3Z3ACiJ7j7mLfvUfILINu2f4SiXvRSeujZ5VNCiZG5Opwwhn///XjcNt0AAAEJQZswSahBaJlMFPC//fEAAAMAAAubznPi0gBHvG/g29csSi7UxPJMfe0XrxTJOqPj1pdrunpY6oRxNNGXVM8Nt51P1+gwZKGIy9PLrI9eZ2ohOGEr/c2Te8vIBGc9MfGD/ymhXbV3ooy5ZhoVeSJCWrApikhGsALH94Em8Yy26NG5ImPS4oPSMmZ0shajQOHTXApocLeuCxmYgy7mAsYWxOpeTy2fontvZf4GFcsPNKxzurALfFuHXfUt6c3I296LIi/DujzK45dHsK0RE6aTg5rhD9FwK0PP3WYQDyjQw7vsXv4x/KMPq91uBjnqkZ9VblU4JTt89hQC8w7/y1sy+ITUEt5FuzSZoQAAAHYBn09qQn8AAAMAAX37j5qk158xbFH1H0Q465nwY5gA/WvrN1RLrk0ZWeaDDcefsp/6pSnVstWLjDw2HeFB211MLgyakcykbfhYumXGMjZ0v00rtEytXQapSJT0VSfxfqNrn1c/cDKoLIoz0kN04WKF25wh1RooAAAA2UGbUUnhClJlMCF//fEAAAMAAAuin0A3+3n74ATSG9TV3dZqQmRdbx/gfUFa+7+0BJxY+a6cDupxD1Fsr6/2zYvkUneilAALQUZRsMpXm0VglFdQ14Zj3jz2usUoOfsm1WDYUFetox+FQueGk2IFXSN0F8/4YyRMb+wi0KxqtLOThv1CS9PGJhoEz+uffCSq8j9QWZDirPKgsEF7YNwFx5UHSHz9zlFWbk/TOGzRmAdGbMGIaycpzyVt5foWWfJRFfjVkf33nyRtoKLWexbibZL43rUSjlv/XpoAAADgQZtySeEOiZTAhf/98QAAAwAAC+lDyFmgA4LGJXMb3sWrt8X7lLF8MJgZadM+P/6fqNDloZcjwXUZFHcFyiCiZx5Ubj7fiNSS0XwhF3wyEAenAE7LPYERP5Cx7W5i5xeun+C7PJ0DdvYimjs/3xRWzrD+blEWEX2KH9uP8AdWyYPSn12McaTHdzm7rgw0B6fX9yF+O8eBzsUP+2t2STibuKmbVb8pduP6/dFphhbUDeOOvcLIZB2ZIRjby7GlhQoikrNM3/mNsSXTssfxA3KH0+vtVeMkuyEiCv3a59IU/kkAAADLQZuTSeEPJlMCF//98QAAAwAAC+lF5vf4ACIO//JwGZSTBRZ0wUOYtHc8J/3Aux2yrMR520GovSErjLekQNxtoY1W2N7+V4j4tVth3VEQDXW/zUzOVX0LYA90Ojo7dCGJvB7kLer9S7fTnG90Y89WKoBeMUKPr3QxCGwzHZrACf7tUOvr4TRXCbydn/YFW3zNZpQ1mYAhDNKtTxp64C0rmmMrAsbqUWw+lpBDQuEEE9JmQNa1TRjY9ZSA8C955Tl21llGF7VupoJgfcwAAADJQZu0SeEPJlMCF//98QAAAwAADEill5WABaCcg4eGOnXZjJr29SjfdhH2SdujFC8UkO5Negtp21CtbXpuT6SJmI7uWT1f1bsy6PRDazSv9pRTlinSfy005brdmRTVNxJlE4tlvyeqd/NziAYBQprPvZxDw6AZE4pRnUOLqIyblbeR/rjY2MNsiWnI9awm3WwAzeos10M36RZFFrqb9gVFmHp028SWa5Y/nSVAUQ+xfaIsyicdz3zrdq8XQSob3g/moFC6wcM6szCAAAAA6EGb1UnhDyZTAhf//fEAAAMAAB+rb8Gw/AA4aqyQFsNolq/XJCfydFPWMZETqAJAQLjiLik4yugKwUfHlwW2+VUB4NQAfPOClKzM4L9PzRNG2QdlGdwNRASvDS5KhLceKGYzqbajzOLHr8lBX6um0NCMPKSHZ3XwDZLdPxz+EwEbRcr9RYpvJO+mcjTARpnuwxSOlDgv/YoxI1hxp5WAuQmXQawHJ+SyCUGTeyPCYHwH68z88bew0rh+tTslGUmWdpWfSS2+8oHaFgQhFPX5bVOKRx+lByaX1fJLByQitT/zYSYwpHUCosEAAADwQZv2SeEPJlMCGf/+OEAAAAMADSnl61I6QAYOAmOvBzWEXP+DpVhBVAIzgQF6ZE8KaSM/ei5wXQwGLwa8nevF9zDX4gB2smvvL4y6wCUpK11nkOPC6/G9dZDmfTKmlb4p929+RQBHb2DBMhYnYhhdg4FuNzArHynm4qjc3h4WdIU6bzFY9G171jgnRo8hcCfYmPjCMD3YVChUYISbwmxO0E/jFIXUEURYhqvodyu6hY5cnSSZUaR963vxzExzTShFEXWnyUYuIHuOBVHOlg1zqOJzTbThIRxW4Z/j+ZILRb7gDYV2h+pl2Jlriuoxe13AAAAA1kGaF0nhDyZTAhn//jhAAAADAA13MELr1iWHwsw5m5IHmbwAgWJmWx9Mz9FbGaftFfej+BkhgrMwl/GkaGNLuNEq32oomJiG2t5GpaCEq6U5xyBeyL1s23xLBSfqsEoHhnvv9g/cFZcHNtUOiJMGxmGJKyBW9PK5Ab040zOmGIZ5PIZ20pfhkkELxT4+UYNuvZffDbh0nJZoGJLfVLIL/eqnnkffJ+x9fjbAMWQGssgyYV+WtD5ZO0GaTXhpPwdDDnpR0cX/7DFVZN2kJ91nf3uNdNsvNj0AAADfQZo4SeEPJlMCGf/+OEAAAAMAI7IzasTkiqEkAJqpp5WnlWrF0FNkescphSE++urGCvHczFnPNvQrVWRrgcrdxE3NBLsvYKkbs7zPRj6Wc7jQxA2vwK1RPEgM3A1v2uyar0s14TEP+w3dCS6ucO8CE5KZwgr9c0Ts9pQ1CzZxIjMdPyMrpItaqhN/Z6/Z6B66Nid346ZSDTWUdKkp/k/csrUuMieVklD/6uHDsxqqRjqieQw7TcQZ3IFVyJSkmPSlQCdft9ERAno6qICSTtWtLHIE9FhccvfEA8k9TvifoQAAAVBBmlpJ4Q8mUwURPDP//jhAAAADAGHPh8kLbsAHFLiH6a8UfdEpUfr/3gNuKtzaRrZwh4tbyuIsewsSoFhuPoPwmPbztgn1reLNdwOKTJ+iZAJb9LByEGCRyCklkrPck9kqeUk0641go8MOqpzTnAGv9mPk/nBSjKtQCX7muq9KgV4X7NO9lTpAPpsUwdmokj/fyRIMT5Mz/eh+3lkDHiLbrgFh2r1qwfPZ+1zb1iHl1dHWQauHDinXkylCTvNlyqY+UvJY8w1X1reQT9aMe8otbmmYZdl4BHvoHUK9To9lCy57vs98xk2kNimBDt8HtscO0RjgDGzJlirvJZqxC6rviP3SKJC5H2EH4zAzmcGp+ScuQOW3/kDAPvER1z+iYSckmn0PPLT6qJe8oF+FJpK9Si21lnvV/2b2Ojw6nK70jC8O5DoFjXjghgKRUKfcoKAAAABuAZ55akJ/AAADAAzklS9ahFoB5qsAWNU015FT9GLH3i1VOq32gADaYoBUgK268Et/AQxVTAgMpaehfapxJHYYuV/4F3YkjD+fFelNYXyQk+jMuX9LifT2slofFulG5ricsQ5m6pL13iLTyNNSUkEAAADQQZp7SeEPJlMCGf/+OEAAAAMAZE9rciuXHBLNF9Ri5vABtB/EKtp/ReRzepLkJkX8jzs3iD7BZUaDj8VNUtLRKggIDMFNQogswC0xv3kOAZeMADaZ5o3UOvCXAmUU/6WPrXRsAHvwP7AEenYxPO/trwjf0PMQhIDsYukZu69d7a4DZEuq/q52udrDA/5gfEEGom0XQtDRDyeS7Eoz9n0tZTCsdwpHATXwdENl9euFXjXmoUTwPCePw546oUAIi91dsk7d/R0o2sjyiJm4XnwSwAAAAPZBmpxJ4Q8mUwIZ//44QAAAAwEE9BFLiG29s+Ss7yer4Fxc/pAFhYNVvRi5j4DlwdDSmxqeTszwzsEazlZNb++HMvH0l6vR2ZwpF4bHElELwTUuWu02K4qyJEBC1v0gFuhNSsF93IYjI2dgXX2IgIbny6itwgqmKRWcsS5IkM3Dfe/xo3n6xEPkYeRPdcQXGGDbMGA36fcXJwSQUj9p/vAl7CBuBauPVuqTdCIXACfCJVJeL2cE/N3J7emFOrflHiqstbHBCl8hXSX/PG9qQ99B9l0WovFfkHZlq2sk4nsl/Dk+iJ98i21ZZ5/3fwoWMmUplnQtY60AAAC4QZq9SeEPJlMCG//+jLAAAAMARilCSlUtcnXzIAF8tp0OwgS/OnbmVrZqZ8k8YAXEZ1zRSlDyf9ypjlQRRrqnWOdxya8MtIGonP55P8MlqIjQ4zfO6XxGddPKsEqnkOFqDeCtTw8rtNh4+TC9znvTZxqtQmP4hMxSuskE2m9wfb9RNiCoWt+wnL3Ht3ZHcbtswtjUIcVr9thsDVWhCdfPM5VI1/UBjTQgI+kIdQQbR7CJOxo3h7Eb0QAAAQ5Bmt9J4Q8mUwURPDf//oywAAADALwdTHP+gRAA2o02tMpRMcjLn5Godq2D1QxOEEDKdoElf+gLfu5Vuq4VsR4U2cxfNi/8dbm88xKbTT6fN17nZExtZaGomCWhTTxbVIZ1vO2vZmjg7ZTtryq9FwADLOvic2sZAEh05P9XMISYFy9AYUvCqNA6Ewni6ZBx3Wq9HvDpvPYWwFyvIsKAwk2eZJ401mB2iZfgm1CGXnn1vTkUlIeaLhuamABDKuoyhp+w4NksRrC4hx5rZjs+mFD6Q+aYeyVmbGwMKp31oGKYqbxT7LcKibhJLvHxfQSrkvH5uiccTd3vIq1awmETs8jO9Kn/ZHuRw7cbFw6+GbMAAABNAZ7+akJ/AAADAF+kTqMIPQCHJOH6SUYggAvu0xUrMDyBx5fLMcjRAWyxGuKHhbf7HA+4sZuxCec5ajolYr0KoTmm2He891bL5Nr2GLgAAAEeQZrjSeEPJlMCG//+jLAAAAVTfHwUc/QEJMKEy9Ecj3FkgnhUO1HZWa2uTNLzbwm1UAnQaQ2eTfVI7bvFwBrEE4JN5kvH9wxzmmUM6T2rzwD3qN8vA1ypngG7oLEeQIiOOhVpuC0Rw+2SeeILc2mNSTvNKHzUI5tsrBQh/hgp1CZuxVu9RigY6KmbYjOcRjVW+Ps3KB+eswL+bohj0IPkKhyyfNY/RQx7fWLsH3oT9WZU8pFLqFj5rgsyG61FWX87y6Cevc4UX4ug7NuNUNVlS8MutbQmEnFsOYm1wa8Odhs0gzk7nTuD5Pabn0noygtLEDhYVPZu3s4jpCBc6d+jbndJbURuLAAWURPrBkO+tj2pXVzWk6OKfk6cz+kMeQAAAFVBnwFFETwr/wAAAwGwmQtu+0nbVkaHBlbzIdtomxhZfkAE5Qb2xYD0ChBXQavjaS+PmvznZkAoEWDkxsx7iiWk+Jff13Rx/bkT4d15YWKC9p6K99v8AAAAQgGfIHRCfwAAAwD+V8dGNverwRAARBuvf9pXvUT37aLt/M9NCkTSktjrx0VJzhFglja+X0+LyiKlBLIgivaI2gbbQQAAADwBnyJqQn8AAAMCs5rkmpTc9/6rZcmu65cEk0Il0VAAAJj6KK7fG6FAUpPb71gQiDzXzzJ5qOFBYnduKhgAAAByQZsnSahBaJlMCGf//jhAAAAU+MfJQewCkikiLvrPHgVHw+mYRrbORjybr2aKMt4yvtBFN2Mn5y4WOFmzpKX/U1LNbPeGgri5Zc11gqmWRIskjzOrcgOFW9+VzrII0Z324pzU1HeZk/v2fbZ03fTXJNhBAAAAQUGfRUURLCv/AAADAbomsuotEhtTDolMrnhN6J+zaKwAQdNxMjhaABHHn8C6LJvr8zSTAaJNLhKASnsM0s5X30z5AAAARAGfZHRCfwAAAwLF41ANKgyNjW8wAGvmdF9/Ki6a+qIUpUb2QMEEyLW8lRZwd9hUXMCWRFWtWSltluqlWX98F9jtpkjBAAAAPwGfZmpCfwAAAwLEQAD/thBSd24FQbtAAhTtBTj2yGwLsRuV7DAaVQPW/WHKvRZbVDYpAYPB5TKQlgvDtUy7oQAAAGNBm2lJqEFsmUwUTDP//jhAAAAVHk+y8fqbBVQq1YACv9GSf8cD89AENlVeEr9WQTuzq+jv83FbV/zOCgJi6wveG9RB6mjVBZWxP8ZzaEY+miWh2K9wnVVsyfWRun9Z/4XQHBAAAABFAZ+IakJ/AAADAsSWvy8DWr8Ktx0l7kAXUrw6H2Rfv7Aei5gAgSUwDtOE9QhbkSHnC1ShBO4WGXhyPR6yvi9GGp6c5xHoAAAAbkGbiknhClJlMCGf/jhAAAAHw3cg0LtpYdsFZroFmADaBV6zhmKkKrTT1dON/zIJQKIwNxDYQCMEmQ2+7rk6NBvbg6IxL7Zpk2TXNQ0Au6CrzbrKrkxQ8RdoAunGZ8JPJe7/k48dvu6cgubuONWxAAAAvUGbrEnhDomUwU0TC//98QAAAwAS7om1mNTx0RTaHLS4Q6B9gMbn//88/JqcaAdvNz3lcad7T20b/FRfvGE+/vfW37PFE7NrF4EC6e1Gut3xW9EUSP8f8j6YNthaIBEUx9q6tuTFiWkcA3yl3fBN3TUwtvjqj74uQ2LtNeg/WMIR0OwDSDpqNiCb4QYhi51P+Z3CDU/HIi9wXggWQOJLgXo36A7AEBoT5nHulKny4yH4NGUtNQd3ahDfSkMYUAAAADwBn8tqQn8AAAMA/nH/4TPLNbpLAwQrZsqeqQVgDtZYcSAB2QX5uLy95/+S0a19eAQYbPSrlIHCF/QYVDwAAAC2QZvNSeEPJlMCF//98QAAAwAHE42cr/QTwMrKbIPqoIY9O74UftkS2GEJc1JR0mSpy8xUuKYxWTMU1peFfPjcZQiAgHUQXhZ+mCkz0tz/58R99NsppYvKuyHltWFOG0SN4EbztOFuQlDm9RlmzGjndQUHLNS8KQmjA1h0b6b3gfkjzHoh3nXWPdtOpvn5sVzkCqRPn++qR7JPdruOSOvSDbHUm7D+NRrRX0hOJs1D5YbwA4n2+5EAAADAQZvuSeEPJlMCF//98QAAAwAG79NzGlvP6BAv2B9oMBqSyZsD+jUrxPSSHDdnPTcynIUy2jV7ZFZITYxmqBGc2w/FW6zEVGSSw5XEje9beYMa9ha4BToi8s0QV1BJ+ZP6+zTDVsw/U/G4evVusUk1zW7oLdr59wAwIepNG6bnUFvpaZb4Joo4kguTFjmAhxccrYingMISquKvEFBDp/qnwIKKt+gWA26kfOmzC8l33SIKLeryy+I7koH79kZIsM2ZAAAAyEGaD0nhDyZTAhn//jhAAAADAQ74IW/lfe1078ocTZfHR71fIDqwHSlJslABKsZsBAIzWwY+jiHDr8IX6KVYglyfj0rmykrVl+xMeCGrn2c+kngx8qf7A07efiTB63khF49pCCvFvOdvMLXvpP06NTv9ZQaA7AIBJzXz3G7zRs6RNl2qox9Tz6iI5EjVhMkGKHfUvl1S0dKn/idI9kbPyQO5rmNQwGyQOyT53kW4h/HcgIPnDjyLA47m9mwWK/ERrfO5sgUgxG9BAAAAu0GaMEnhDyZTAhn//jhAAAADAQ0sS2ReiaxnhkO3fgA5wyGn+u2QS7iTDDrq16vdxCCnJAY8hJL8UWHlx5ErXA3C3Neus9UMCfgL73Qj9azS0uj79Z9iDOCCwuJnyFP5sRpfi8f8psrTp03QOCtcnzFG7E8aMKVQjsjJtTh6uw3wIVt0SFe65z3m+bK0ZV67UbUs4eo9fVw+mm+D7UjM+x8jFfWdasK+KU5Xni4NGTYDusGA6JTpIZgbg9gAAADUQZpRSeEPJlMCGf/+OEAAAAMBBvgiKJaxpVGl58xTnxqBgHvJW6Az7++oDph5n74EVDDQbLSjgpmjlw8NiC1EUuEz2DqxdTvQaY5zuOuYvP1ORK2yBEjAHpLIfDRtYeUp1z3wdV7AbIJo+AtLlDOdsh3OwsZOAm4ZiY1GIjy3XtYM+0YVdCj4WcpXGzD98XOZUZr7AUfVomAd4ZCjK0n1Nu93kjU3FSU9buvAUs/zOIC0/xvimQJs0H1g9iA9Xly42GfhgieLWoHAom8i5Kk6QBRtZuAAAAEqQZpzSeEPJlMFETwz//44QAAAAwAk3wQ4nOgTNTldWI+Mne9nHbLAPiZvETHx0gFSiesqoD0fDh0uuIXGwG94sPmzNIIxK6IzjOCfRwgTmj1Va+SCJUOBfgNtFOOeH4JNqpBZdx5RGSCSdSkHy0T9c/um7TMz8FSPpju/yp0Quu93nrCx/RvCmDe1iX0SW2zca72jY8EIV3Cb0hkAYTAFxjfT6eEX5v5vNHHJlh7MDGmxDiwpvt+7dgGhfXMRHc+UUpqRFcHEkZZanjp2N/9HsHgJjH/PF/jqmCWmI8WXuE1s9+u7bnISlRxy1sxrlg+8ComJbR8JUjMNr+aoQxdBP3EkavR9X+YPzbkSowLb71d5DFjQ1X7ccJT/kSujW8tG0VHMaKemeTIf+QAAAJEBnpJqQn8AAAMABNY5Xc6dOap1T697SV+6CYAxX4+AAAtAHzZARpweXPe9KxAaGHG8pxtOa4JMVNMbFOoj5wJMwh1or9KPx49rnhPlLQ5kfugWo2OciRbAED8DTFbbfGU8nXx1Adcz5dVD/gDZZLp/SXrFbdZHsEp9/eQMcsFabgE4suTo0G93RzqfJiwGfGjAAAAA3EGalEnhDyZTAhn//jhAAAADAA2PqQ5moxddriHadSAo9oEHR2Nev+zbWwjhCAryQnwXoGInK7c82YWtGwVsiqFhvq8HHXioBmd99U7R247Td4asQRdgFNGJuDy6u/7IdoK2lZBxHf7bchfQDkIeI0qEUbTC9WBaK8SetcKHhAQjyoyjl2M12X6nn3IpTFZkGrcmiIU5QnrDPfLr8hiJ5S8nDpOtkV9QjUJoWtWVWmQOB59QH5Bup4++O46DHiV0FaWaSWpJ6c8/hBq6pO6MtKwfzzAz4oFK8mG0MkoAAADlQZq2SeEPJlMFETwz//44QAAAAwAM76kXv9ToONNgGILkwAdd+veexE6FApxW+WJPHMS++BH3Dy0Uo631FNwKrb14owT2Zw6W0Ce5+Oxj58bPJqmPNvbQFIrlbmli5g2rlAaqAXo2plko5emdyE1O4qRuro3ZY5n43dZvXYRxPQH9WnS9e/6VcfNfcGVoYQH+Yvj9cZCTrHLtiM+PS9MfLrKGSWjKBh56ILv3gNzkgnWCEYO3jcxgP7vUYWsK+euYapUnargaNK3QbsDkeQX+kBWqk3me7S+R7BF5kW/uWkrXD+GIwQAAAKUBntVqQn8AAAMAAa/7bNYy2VESmRACGhvKn49oyBmVHuiG/VNN4LnOxG4joHg7o90KIniX2FJZuM1u5ceC7siFCJ1LsRWUgXvFXUVswJ8T2HnARPvHo6ffLe3egSiUDS0k+uvK9qY7HISuQjEbPZWXSO01VivtFQHIXezX6hbKOixBkElK8HBdWRR2D/rE0ar71Y2Mq8wtGLB+4G9NNqadHscxyeAAAADIQZrXSeEPJlMCGf/+OEAAAAMABLvmaP+gQU2AQjytDIqPGSKzEHD368m7kgkGeFi3nOmUPHZEnsA9JqyGKEbI7KL2h/5+sA0vpa6yNaLLjYP8t2p7R928TDwJ8HrQSzkGFGcepSftvvpTEUie82VYE2v3fRX1KQHnAxXdShDH9p1LVQozlE+buyYHf/7RSSIxELyeVF0A/j0gBhGVcjBjFFbcNYoTnBeID2NpSfq/3BApywopRdXlhWk45vLVnaCo9l2KK0L8MqEAAAFcQZr7SeEPJlMCF//98QAAAwAARTe1FzLN4Area/rKV6SrAQMFZ+/kDRayCTdOca+txjArqV9Rp4OjCmFOXVLXr/PYJjel7XghfVT7wlMqBsqhwUkb9D48Bbjd/I1f9lf4MHx0gAoPU6L/bYG++BWYKtjGuA8YUJU2tf2ulpbmj5YVvaRK6FyQNT0XnjFKi1NErWhnfbaC1c4LAiaV2NePYna0n38246z8z9B3+BhK6EYs7M5nbOAvVKcRMd0zuRX1V7kxCqjRJhuo5Gkly7bpjYvgWXtfM8oghbi1jr6IiHuZJFCbQ7UtQRxD1ZzRqEpwGJc4flyPWGu7aSiKmvUVeLXQuPcWaCSBp9+CVLRX7ouARsVkgTmWIkpADwK1yOk6a///LOYuyxwxHP0NLcLHfhnrJzRSYt04oHpukbOivBzIj+QXjW/QNkSNkPeTZgCk6/vKQGivCQvvTwqBAAAA80GfGUURPCv/AAADAAJbyHoMtzv49nbwhqOTgBNCmx775lUAvoAQjoa/7Yq6DmXZo6W+Qw81CEZ2VIWT7b3v4r5/EzECL/VNQEzIXifgeca4sNxeZ4PYWYeAUi+PGf9zWkfDmXAF3z3jhwjkQiTMgJ3eH/Iq+lDYAVqHLwZz3ytJb/j29DmdcnyBpoqX2/1EB/1qckrIGSkASQztGs013cy3J9butxNTWeCoQdurivoiBPMBa2o5Jb3UfCA/LaFadnIC4zeWCjarcPtci4LQfGIoOXqFeuSHTGVDK3JGuVZYBhacmShcOlX/UrYGgJtGtWQ1yAAAAKQBnzh0Qn8AAAMAAX6zeeN/qHg3e9UsS5xK2ysh4AGysNda8IUSrffh/4vJz0UD1m8murQP7GAQeUKhus+K1xfF4tRz+Il+qJr9E7W4dj1cU28V7oEIrZJpCsjU3w9A6hGww3KOpx4dgX9buqDqrmz8mVdP9n5n9lcxSqy0xIAz9svCKmwU/fsMujGQQaxMsFvwAQxcMb2Khjj0emvZWDlPS9UZBwAAAKABnzpqQn8AAAMAA7b9LlPyH+3XkycM1NnMcbO3aLAAP9tPMmRT+OXk0/Y8XNZ1awd6/gUP9yvN0YNiTJm6XKV7oqxnoKZkZeOBMD2Ny7L0vPEpe6O5SyMfnGN1Mnqyhd6oEtxjzDmzI/JT1vBpNIHEfkTC4d8+cz4a3BGYInkqYYdPIBGgu4RllP1QbyoCTciLgAPGIaEA7JAVGLGx7gzgAAAA9UGbPEmoQWiZTAhn//44QAAAAwAcTNzKV6iAExkn8yx22MXNjOm0iEvKFNPYcBG9/0fmCXQTB4RA6D/Mn8qVof1y02EbRiFHTVUzyQq/dluhGOTolkI7AeJsg0TlWAqNtd4tdx5yGYw5A+QFMuZ4TRScZbcOTCyFfPTBNgxwtpqrybwHLvm66g6jO/+u3O+aZ8Ubzqrq2VKO4uvrJ1GBAteL6+X0jzWh7YrN3Yh1Xuj6tWXkR99kYPS5OWMY6Mb2CA242qCdntYLE+b812fT4xLNNAakb/pPFlbWVhWEnIYfIAjZ27AhdOw85RhBl53Tdsu34TfbAAAA1kGbXUnhClJlMCGf/jhAAAADAEkslHRX3yJEANstaWIv+6K+deoopS9SkGrxKSSxBByfaz5TkMe1ObdR1XrUM30fMaId7fJkoqmlNC6jMFJbY31FVkKxVy6W+eMRk6sgFmo7Lb5p3AMxSx7BeyhT5dfG+gF+YciTwQQ6xTmKFWhPfNmCgorYRJ3gJxlldT3ZlpA9BjszIycd8iTdh68i/kxn94Z10+UCqqclZMfAyy5Y8zCyIetbCKhowRhjy/OoO0MaiXcmY1j1DwnlQvQi8+FuyTvzhmEAAADuQZt+SeEOiZTAhn/+OEAAAAMAvp8hyCy+4ATV3VF27YUj6qkQhUd5sR06XSVsCoL41TE+0UvZNO2rxEZFmWGNhYEovh3WvF15HUPF6fO8T2komzzTM9t1YHEnehsnubvDNIgMyFkc+/qV8NpdB8KYNwgo1bUisB+uF5rWVc0cb1vVK6G+3dPiToySJAH1zd8iXTk5JDwOibuPT+y4wSqWBQrwpG7nQa0Y7s/QeX6rBcJu5s380Slvxduzp74jboBq7A0nm1eMRDeX/1KvyHRc8U/crnxJTSibhsX7257+dx1lhZtYg6rToPC+U7G2FgAAAPJBm4BJ4Q8mUwURPDP//jhAAAANKxQIBq+dHY3HET8QDEENyzJk2eo2AOFrwP44UHJ1hoQIa3pTTxccC+/mJVpKLJPTx7Kq8zorQoPdwx6PqDkB+hxTudAJqR8FBJAGwzhDthQ55cXMznPzWiNC9RELITSEG9ShyZoEHdtSrrRN+uC5fT0jjSOXNtFL2TGFwXR+V13ijfTBLOvNvQGHivefdVEDqq4nB7hMtLe1+lzZmtv/+cdLhQvg8inLd6jDP5C+PLJelv4EseYYqq7HBs61mCbAKnFmeJbqgk9cOmP/efts39xns7CwDMm3sk+N1d46YAAAAGQBn79qQn8AAAMBupKl61XzfoioAQ76eZ79aU7FF9NJUd0F54AA6mJGzcpgAyaXGhw8ooO/W+hyoakfGWNA4TrRakSf74RmkWSICs5WqD5ecf4vD+q7BA50ofpa5AlgFs8twYhBAAAAtkGboUnhDyZTAhn//jhAAAAhnqeMY/1EAVqLPvEwlp7u0iALz9hIq+9LWLHkz8Hu7JP/HA1xgxYuAqCGRJKI9O/Ty3kRGQ3O1QV8sKQ2QxYn9m+oQ5Pzb1dyaSbYgy9HdPtTnbmhr342YRrwUZXApbTLvI8Tp6gUXxB+MJ550uwUat5kSENvZxqbkH2kB1UYfiCLrrCNwdWJjjNYtCoAUwJA2JOi/3bxAa5T1uTDdMrZ3XwhaFsCAAAAmkGbwknhDyZTAhn//jhAAABYlEJgKZNSZVLskKZXC0HPADYJDEVq4JcmE6pI0LLKIWolb7MCNekB4Q1cjwWIm5h0ax5ppYfxhxFMWBkrMvq6JyOFGQP1mBaSYVw0C6Es9u5hpbRRvl6G0Wd7lh35w7ekaY+v7PpwSMAZCwU7YX23FIwWjxgadJnR0u3yAH8abkSTuum9tCyQXEEAAAC0QZvkSeEPJlMFETwz//44QAACWetjBnMhRAFbfmBmsw4cXmjoQPKkGi81IombGFJVEbpKUlkKK3I5xeIH0qJX8MTDIaBJG9XpVcKJ0nCGp/fdQnPiqD995KLPmJcWEAJvA4LAFB0Q76fRkccjmOoc+AZyJlHr8pcnHROfGJvi39Tn+Q4g94W5/9aHkgp8hAegTS/3AFxB+L8f0nI7mplBKXvPVE/aIZFSR30ewJzizcBR+AMyAAAAKwGeA2pCfwAAT7MJetUAXX6mwa7nm7YbxnlTdL3UrrXSNf2ArOkF4EHhAd0AAACsQZoFSeEPJlMCGf/+OEAABhz4bGE4McWYfmolxze8yU2nC64XYgA2n9rvscpReMZABybpBiLxzdXGkcE/4nD/UBzrtJuMGCL8NYkH4MOiHrz+fZ6dorRbzpi9EOE3TV/TP6sfQe7o4vLPqr3gQh/XflvX+jdUb7DLuSFeTxgIc2wQOM++N30UstgS2riAnQWfz/9TN+Gc59NVM5fU4zX9IO6j6vbAbIfMqgUa8QAAANZBmidJ4Q8mUwURPDP//jhAAA+GduvKZFMgAfzug6Ng/CDLvzArCMg+4PhDdEgaWsarBXqb7JW7bS0Djj1R56ZDDmtPaPIpgX1aW1RQ97rdX3st+fD0vDyqS+1MjwGJ+GCF7sLqrjIyzX1sBSgZBPJgXI9paUpuLPIsytAdV45hLMRCx39uwpWNcJjbl0Hq6SRTNWL2EmGhryjumDY+LvJX4TqMxHOJ/3eBVpgMLhkY8NiIA6+8tNpZNr6yceEbcuH+KdfRpWNmd7kqteTY9s4ebgJdMAEHAAAAXAGeRmpCfwAFZzXKYH4SkaiPwYC2tJOL0345/6l/17coowAQpHjnuwnjXJg5BO9dvDqtwdhTzTF48ZwAih+5F9jOkOPNV0yXwyRrqC4hphSSA/F5iyhQzEa/wCphAAAAr0GaSEnhDyZTAhn//jhAACjqSI3QjZ11QAF8xjMx0SyxoZX4LMIMyEpp3mK8vVT2p6oqp+ZQqBvCvXGCJbsCHNqyFfTlVWrA6XltLRG8VFSkQsx5akiYYTdh1aGfK5UZ+G+5pDqyypciJluU6UJkr6iPtoeRM5axI2MS/tbhzIEZc6jh4MJaeD5ceRbv0RQVoG7T+i/eqeFVf8L5LNsZEWZddHdITgl2U36i17wABZQAAADJQZpqSeEPJlMFETwz//44QAENFOxAJr50djw78vHTaM6n9qduzXEY66MtNodBomU9IKl6EoRXajkWgx9A4MaIWK6KPfW96BYcdStVPigR9FZqsy+1Gh+l5dDsCsYO9rw7gqZmohy5cYvn7WK79l4pTyZ9ghQFMROIeVIag6Wnj+5dc0DOs1RTZeuazDoTeff+mzffYHicj/51iGvrhAIcO6JxhZEHEYqru2rRVXu5/VBeNXF7AcxQsJzRPWJw6GDC19PioO1OAAxYAAAAXgGeiWpCfwAkvwQkcDB0JZiLcK+kfRJaLMyB6cJJesmut9RVcvzSilwGd1X6EgAdbVCIJCot1tZanB4JQNTTaoyRlmgQGFFdPKeXiRgl2dmJtsTIsuSPHLXazzQAIOEAAADMQZqLSeEPJlMCGf/+OEABDZTEub/oc+YAJsEIBdsahJ7+VMT8Zgvy/B6CG8F6OFaszxXr4vrDqZVrV5FaH+25DT9v0dgOQit+e6CSZZFNXhitziv6DigfNXykUgOGsmCOkkQWXVDxafCHMuWlPNRxEpvZFwclW3WAGby4qoK6ZURh4TGnBmPGQS13JTE9YS5VeErDcjfwQv2mH8v2JHz59S17wdZAWpXMv6WhklCqx3t5VDfJbMrky0PrzXsl1xdihYx/Q0GnAAADALOAAAABD0GarUnhDyZTBRE8N//+jLAAttU8syhSBABvSEDE7TICCeT3mJUP9GNTP5Cb88c0NHBKMD96kwAbEwD7Y1JZrJ/M982Oj0vzkyZ0lwYEJ4zO9pWiQwWjri06O70ECmTk+0qkJWNy/AZ8Zg/I/qhS9Nw41ECSMTBKfqqCdgAnraxG7N71/gHr2S26iCkrl8ohSCRoCLyfrfOmGT3NukFW1KF1QzdKtRFxUM9wlY/T2l/qB8F5W54NUMHAoE1s0xnI07XYcf/vi0+C8oIRd5MVglgfQFWKH7sglh5YmDuh1pQqDp4e0AepJgppQJWZeXAuDSL0i2gsVv/+RRZ/lyok4N/b26jxvoEKNYOTrJAADUgAAAB1AZ7MakJ/AF0HM16JWwcrMfSxZeEmkBHZzH2MM+nWisAgjSJ48/ltdREQAH8kpgJn4RD6CCCiHNAL3Zfstal+t0CtpG2quEj9nzeI0Y94e5i5ErPb67D63dHfaVQ93Mr5tWqXofK/h8/8/fNzgpd7fBtAACbhAAABKkGaz0nhDyZTBTw3//6MsAHG5uY4BrbgA5oyBkbm350KAiDbW/mrXm2Rcrb5cPjEwaPrZSVJOe22qZGmgSHmyU3JyRB+PVgL5CmFS/LX9avLs+Mv91g6MWioDCx6KQMBsN9Jh+cs8Roc+xy2aKJptYkmUXdftbTe+lpKkJmKde2E6n0005gndBYbaMycqBdG+5cU30KQS1ExvAGuKB+lkuaNq2JqFELLwEEv/hrTwLZ2//+emw6RgeH15cdBhWK86p0WmfB1lid38iuAetsMzC35LfNsDIJeDKHMScMdPuaZS5RzkAitTxHBVQJiVclnPXpHa2SBty0unDi7Wv7ioai931V3DylX9Fdb3QvF8TU9nJufwXH+Mx+i0oADefutja3ysFCdU3ZXlxUAAABvAZ7uakJ/AO2/SmxQ7HdPVWlR+AMseltfSOmB1NzyjzZIABv/3ZSCzC9ybT39tyx/MgZfqgCUUV2sHwTP3W7TMLxE9L8s7ZSJG8tZurWNI+SVNuGuuzAly/OV6AR2qA1qNr9Hv9IFg+4RQAB+y+OxAAAA6UGa8UnhDyZTBTw3//6MsAHU4ToMi73/rnHikCMAEu7UxSImCo2AKxjC/Nk6BF0Qzq3Mq4yadYhw/ELPre4eAyILuyZp+bPqVOPy6x6WEmYv7U8RgGwqZr7ZSu8IY9lrs8DBBjpw18rXgq0kn5l49o1JhyqkR8KBR0NP17p2A3dMdH4i1q9WJYcPt/l8autbjFN1JPAg7mITHPapnHzVlZchduqvMD/L5dn8EcnI8pkK96mFa05SIH8il7d0HsUiG0jui0+80/4ggftzQ+L8cHWpEMuAkbfdfCtjwjQKpCAQ/z9+duQAAG1AAAAAVAGfEGpCfwDt9xzzCcdPeMT9NufTdscQl/CRHR/CF+QoxIkPbozavYOff/DchQeuk8OFMADZ6vilBTD4dV0syIHMOlyfl79en/8q6cnVEAAfIIZKgAAAAOlBmxNJ4Q8mUwU8N//+jLAB1PWzLKtPG+5AB1A1c20Jb4GxIvPkBef9KQtDkCbHyg2wEtS3PL0m54qNr3zw+aszWIOvBwqD1+LPKvM2CP1Y/QVHYj/uAzbcJyBStcryuo/ntRD3XkdCvtHQibzN3e42LkVlRS9s5MNOHKuHW0CD3BvPRm30of57eDKAPakPpPKcP1qWy5hupFRVBMW+XRUWkYw4Vvn0TQE/IjIR6xp/kpyutKbUoF4/dyHC8jrTYPP/+JJCwfvmHlKpFCXUGaZdHPDQNjDgpJRiZdU6uIwTXke3yc4gAAAZ8QAAAIYBnzJqQn8A7WJMvMaH+xIA0gCYV+KEdCv9XmyABeWR3Iidj02q9z9fxXAdMQxe7pVvyJ+W/NbA/UqqtfmHqKFmDseTlzAAayNkssLSiGzZLrFvcuyV59dTobUimRThVdgDOCvSiE++ZPNsHWvep6dNovPIdGvYSWce11mOiMPljTrwAAAyoAAAAbRBmzdJ4Q8mUwIb//6MsAHJ9btz26u2OYbA0INuC+3IAWxjygFrPThHRHdU9sjeDzmdKYQZ+N5uL3z/C54RNoqYMGIy6aIstHM+J+eAAQN+JbU6zWsLVfS6Zf2f0SRuvx09hDhU9V5lT8e71ko0VbORG4VM6PBwdGKCA2s3IRPJ0hdmfuH9y4omS/4RfneafjaIuIttNUHnO7tCOSNNi40+U8I7svkmn3Tsdznh0SVgrwqqKOTbhNFTthtkPMys2cS6OoDoKMlUJVBj20mTBTv7TJbPzHnx+4zYN+bkWdopQpYvP/Z2FXwh78I6BH7F2hDiocYiM5eFbrm0Dh50gLtuAs+ZYLhU+B3hgYRumYOJkMm0Kb8ysxenJHQxm10IqSyKvd6lxIJ6ufZOUOw+9HWgvKymoSMIjogijB3gYa+fzv6yJuxUFhnyuFczxv/6trmBMg2xsEbcq4r2vy4gEOIIQCDtnhUdqGQ9pyY3oCix0yn0vWf3eJpQ0S/A8gQq7d2ASveSEN2J06Z7rj0xWNB1bpu7HnXmo6WCvdhB44zD2X+B1OnwrtLnXXcXmk387zdxU9TwAAAAuEGfVUURPCv/AJK/Rjq1IqFNJwATK7e8X0dY73FwD7PhqIExdPz9yKZmtUix4sP9gfE8rJhDMvk6NEotufvxIinriF0ioggkMDyn9+Ddl9UoTChXt5b31xfjH8m+fbCLl5ERwJnb5qJS9FDmWNcsKL23OitDpH2KG8/tlDFhvI68CWsrWT/JU7nK+GDMSelcqeqZKNQWUm9e7BC2B8jtQf3oTIfSNBOP61y1HwD0rHxieBXVA6ZOhpkAAABuAZ90dEJ/Alw0cIZZuLlVAA5uiBaIWuXTDZWkxq55gsuv8JRo8Kuk6YX+uKkQPjlPjWfqj89g0HVnPCYMsHrFhR+2499FOqJ2R53GmWGHqh7WFhiRjS1hEzaeVqICiBw68CT58yVsKwDhpzhbOIAAAAAuAZ92akJ/AlsiruJ7mFFYO6lNyxUowDTvKzHubS8EHmJbpOKwAGzc5RFeZiW5hQAAAJlBm3tJqEFomUwIb//+jLAAAAMAASgL2yBWZdsl8gZm9VHfgA3HFlDNfurahVQgZbfTlGNj10mmZrAiz3fgtxwJFtLfqnnzQFinUl0ZC7GN7h/HF42Fdenw17CC33jzRtiS+cQ9DTAFVOQKH4qnFktnMb2lqOwRCAeuuU+WJdXK2Tkrnt+CI0F+KCQeKR8SttO178OV44b6VGEAAAA5QZ+ZRREsK/8AMb9zNYcpe7gboruIHOv1ovtHdYXtFfZScgAnGJVWHXnGGRt8z1CFWps5K8i/FTGAAAAAHQGfuHRCfwBPhDVm53GAxGAL9HDXQEc6ekRhGqphAAAAMQGfumpCfwBPshjYsJLgbBxLYS4ATVJw/u3chAB8JQiwWudlWHOwfC4XFzStGCwsKYAAAABmQZu/SahBbJlMCG///oywAAADAAEoCFbeiVfQAJagB48JaMEL+NZOZrCPgpCnHnS9buNsFxaCjCeqem1/nvrWYKlPvzmCz1rLaOx4rtNfLxOLGN61KDxPmttO8ypJKyMTj0qE2JDTAAAAPkGf3UUVLCv/ADJblcqIlIgEJv+p5UnM4LX4dI+ANIdkoNoZL4NgAANnhcpI2BVG+Kko6sZ2dBKfpudJAtOBAAAAMwGf/HRCfwBPhDVm53GAw7EupCmh9xsrz03bABBeyAHOEeYMg41XL1rppZX2cf+VByVPgAAAADoBn/5qQn8AT7IY2LCS4GvpWyYgnvTI0biHr02ictOSFZi/gAh99vOnsLZ+p7Swfs0bm9f5YYLeL5bwAAAAnUGb40moQWyZTAhv//6MsAAAAwABKem9E8Dvrrm+b7yWHdIwh4ycAEtWi9a17gSIz/PIIIqY/nyNQ9bPNMx/y0KZPer3WmvtP9gpqFsQESSuSOrncbg+gWBaXUdvgih61mZFi5CUEY5BuBYoh6NmIervOcL4mzEuNq6wyCRAnxBuHAF84byE+h4Z3MRS0AzU7w+i4vsKTok25E9vb+EAAABXQZ4BRRUsK/8AMluVyoiUiAQlGgNG2/8Hlt/UEVzm5nbxGLXfB7KdmBFkf0OgA+/eN8jnqw62jxynug0519j1znyoGPuW046KWO6AteUrgS3IX8naZOFgAAAAMQGeIHRCfwBPhDVm53GB26/C47IygskPVMP/N1kdIgAPViByer+chTNXCU6MIfHu+hkAAAA6AZ4iakJ/AE+yGNiwkuEOSm8rp8JOGMuZuZMeg8HyEDhcvgPuACGfZkKeAm7yX+2A3FjsAWkkcebpwAAAAJtBmiZJqEFsmUwIb//+jLAAAAMAAttXoaYgFRV5P+gvxuCDvjqmkojuql1asMdoC7oVIJi06NeIlJg9OhVljgYnVIfiOlnSlfODY7BYncHpK3IqgBLnKXGqn9EHw9dqvt1qfKUcnX5GRZFzmjxaeXPz83cDB+5hCO23wntDLEa+e42+C/rV4LQFTZY1NybWuDD9wkOZSNdG7lwC6QAAAEZBnkRFFSwr/wAyW5XKiJSICmBXkQIj1QENPiSa61Jc5MvEfRXKKADX4PIf8KeNmHr5Gtpox3EE9DJYBLOc0wcMumKTp8mlAAAANwGeZWpCfwBPshjYsJLhDRurbUx23s5GkaJXiPfWYaPb+3AAlqyrNP/DY+QlSR1UBwdDjMp1JOEAAADKQZpqSahBbJlMCG///oywAAADAALcqIRWXq+yABxMkHxz8W3O+B7o4wjaOdw4ghYhETxVJMpJOo/4k4Ix8s3JpuHnym2afLmXPFr2iY50jaD5tkFF9s9Ym7OrYjU3aHPLw3EmmdL9jU7nqx9flc6/Xs3f0PcDV2h15A25KG4mchIdnZs6HbBy9k8xiQNDy+4Tw5ja0RXxzvXLBt96L18v9wF79s5WsLou1E0JQ2C2ctNouS4JTEuV1jBHpq3FplxDGi5oWZhpjwKLoQAAAE5BnohFFSwr/wAyW5XKiJSIClxpCabg66OdtZhK66jTuQoPQJagBFtEBmCsY0ibkyEWchTUo30PDL4UnoTf3i/lRxK8a266JSYH0Jqqc5wAAAA/AZ6ndEJ/AE+ENWbncYHZ5cU5oEjYHiKXHaXucM6uBr4AIElBG+nhyCd9ATRv2QhU7wUl47RKHLHUrVzZNrpQAAAAPgGeqWpCfwBPshjYsJLhDcKgY0u368tOChADn4L6hNWTziT2bXKeU0WABtM1FFmLiwFU4PvWNuPGB1NAL3CxAAAA1kGarkmoQWyZTAhv//6MsAAAAwAC20xzz5YAbrUT+pCnd/eYJ9o9385TojEMO50BSFnWlz1yyObK0BVOT2PeS7Sv4DWau3NCly4ETQXCESEUI7zhOfENQ4/+D1sP0aWCQGscNAmNtw359k2cgKqsqEcUdrSOcr5L3d5ipPs1If2BPBoBPl3eeL+530VCRhXdwLF3UR54a4pbQpueW/d5/UprFPLMrxP3OgJfktY0LD5G1XP6UyLY0jPeU75Lo5Ob0PG2kNa95OupPBjlFMt2xUQ8tG1cwjwAAAA6QZ7MRRUsK/8AMluVyoiUiApOghDqPKsk93ZJ4HsNHCdbCDZHmSNDNInsg0YoxT1Rdn4aGmzGTw6jZAAAAD8Bnut0Qn8AT4Q1Zudxgds8FE7c6CDLlyFb0XkIAAXZPElJfRqdOfz6coQE6mlRirtv3fikWjGw7LQnntQLhoEAAAAwAZ7takJ/AE+yGNiwkuENGEv13neE9HsvnSiLHUHd5GqqLFmAxmdoAP3d4vPvb/ixAAAAf0Ga8kmoQWyZTAhv//6MsAAAAwAC3XY0yC1hORtK0Lq9LyD4260MQrkd/mQYAJ26qf32mfwSBQlW5IVGcd3kvYtx7/7VJk5hk/8XXE2BOkjAmE1fitUQGldVoL8dIXzkep8Xf++xxxtjwH2/CUsHMWA+A3yAmgnphHDboMvsLSEAAABQQZ8QRRUsK/8AMluVyoiUiAqnJ84lKAgoHk/c8ThRFWDWP8GABygAzVc5+e1S7U6dn/7/2OPHElMyh5UlPtRQQocVHDf2SnP8zNsdykn0nYAAAAAwAZ8vdEJ/AE+ENWbncYHa8x+BFJiGzMRgKkOgmpqOwR+fdWBbvIKSSCjW2xtq/tTgAAAAMwGfMWpCfwBPshjYsJLhDRto9Hh8N4IEc6XK7d3aMhqABcExhMVGOczQuzm5OgBXBujswQAAAGtBmzZJqEFsmUwIb//+jLAAAAMAAvHMuQKY6Me4ACIKmn0CAo5lMb84jxB1RvzwTga/92ZvkptrbJHN+YqNu7O8Lo1U3m5kIckloT2lVtXi9DPNQkhGQbvV1Zwn9tyyG+b02EPWs3jELi1sIAAAAD1Bn1RFFSwr/wAyW5XKiJSIClxpCYl/E+Zx1DZ+KDlN7YKYt7TmbhHsxrJVdkAJtonauLcHAqno4M9idENgAAAAMwGfc3RCfwBPhDVm53GB2zyOuYBdy0Bq/V0i9w+wAQ3NRjEGQ0WUbt7XTh5EdGooTqohsQAAADIBn3VqQn8AT7IY2LCS4Q2nn+7740IEo5R48g6oYY2hACEtlv6aOs1ZD6Lm2BWZH6pDYAAAAB9Bm3hJqEFsmUwUTDf//oywAAADAAEh6b0+Db4jDdBfAAAAOwGfl2pCfwBPx71Zz+sYHmotyUlkjNbz+D50HDOlJL0AJUFcfYcWxlNsVjQQDGK93eBd1ZVfWq/beB65AAAAaUGbmknhClJlMFLDf/6MsAAAAwAC3BoTrEnGwZ9kvUb4WwMo4TxC1FkmQAcWhYl3T+Yc9Wk+eU/j8WwVaYZSWRW9vkX26dhmDdB/T8XbuHftROtAkFCZMg/xnuL5bLGu+M3LxIDB3Fl8gAAAADsBn7lqQn8ATqIEmAANe5DJ49hDzq5xiCPqg8lP9lSgBBu3OVobdYAlDV/1ykkA5U+pQIoNcHLkDSJ7OQAAARRBm75J4Q6JlMCGf/44QAAAAwALHyfZeP2KSlXw3VLYMtgAL48ShRReOjsslGuTwHDoLOsl/xJvjKCKFub8EwwHoIuu/ElpvVF2Id6EsZzCLscgeiydcb2tW6k6EFKNBMy+YGwWOn+59lPf+zRJtyMHYfi19D4dABkm06OnBRi4Q/2/aKLMtuPUDzL2crijV+GMsq6b0g9d991D3JBvnne/FWBBTmtaXCnH0vLN6JAjNkKHeLVe35Qu3UkDk0P++qvpfcH57f5aKqKVGBI+Wm9nJqGioL7VqxoiEXa04waukLVk9eP4mRAerN9KHj1uGA0pBGiZKiUZePbDmxiirX4UnuePitfPNBQEarVqhEbdWI3qM0YAAABxQZ/cRRU8K/8AMb9zNAAHcItRhW/JXPbVWUWieugkVy+3Yui7ym3Vgafe2GnDfX62ANngiLjUsl5KQU93yuSxfPegFF5KmAE18GRijsW/lU/71PbiNrrNJhTlHf6lUAHI5Gj3pkpFG4LSuNbX/J/9sw0AAAA/AZ/7dEJ/AE+ENQAB8A6aSLZBc9rfehcUemelAv7gAXz3vHl10d032AkLyCYJ3V3cWI/RfP6hfA+5WObblY+BAAAAUgGf/WpCfwBPshiAAbBdZUlpc8nY1VYLLOrDYH6QCmLwk1PWXSL9NUrthmIBwXM1UIyrGhwk24AEsdsrF72SPjsC8zcWy8cSEN/qpieWcvBxlMAAAADqQZvgSahBaJlMFPDP/jhAAAADAARz1RRsgjSzmOABfH2KwnEIl/Bm3AaGaRoOQKFhgFwdz5rV/nUBoaMYqCZItEiH6P/RvZz7UcdRsBQDXGMO4JAB3RlsnUAAgOFCKBj4NXrn/Jb+TTGbC3m539O5b+4PVGnfh6zekoOMUE0JNI/byONAe7hV+ly2I7WMw8zJXUcwXe3OD1VdQm58j0DSRSPTBemC7mkuODxrUNG8c1cA5oT8SyYS/GGPrK4ikAU+NupPZb0o4sj+6Nnwn6tQli6b7FesBJ5HJTOxkmr9N50YNxetABZT5+5AAAAAXQGeH2pCfwBPx71AADNwNSf3i3g9ffpgOf8MFVgfQIh8CElNjUeYZe3FzFwATqgIRWNRYkNlZuQl7BZJwwI6p0pMWUiHVvrz9ypwPkDrVVq3WqSdLXQdAbjyeN/9gQAAAShBmgNJ4QpSZTAhn/44QAAAAwAEc8K2l68sKm+ADm/IzpR7LGmq4CihWy5m+YbEmHIcAYuF82PLf4yMeKhHWhyn7TchCosS7GOpLPGFgF/d1WJUlsjelvRsGWOu1SD7yFmD/7JCf2rVhqtU7Tyfn2aiju7fi/BQ0WJBMpYYP71itu+Xy7ksiQ6s91bK1xYpHIah9CLMp6x1o8GDUYZMn/qS5Ur1WD+49mn87KhUteqc6IXlJ4r48g794dzj4XmhOMErzbeeTkJLy7XDe41LMXoy6ihct0Ht31WmcZB1uXURUG7yRlHXm28jAWltkLjm2u3IYMaBeTHBh3svklRMjv977d8n1mufN10jE/7C4Xm8YDDdBO0OD6E/fmTGv7g8U5r7m3KA7uMPfQAAAGlBniFFNEwr/wAyV7OAAB3d3ahGnHCMY/+eOwrO25H3un3Ti156riMMAxbX7RsQVpF0uGF8/095uhVxAAc9Gn3mdXM4f33Hb/eYA/6GfOKPwmOE6h1dO1nfvuo2GaRlLPwLFHn5SRXKqa8AAABhAZ5CakJ/AE+yGIAAsVNYlvTy4QANpoGxQ5AqMZIaCyGcOff7pnmqPVb98dIDpJYmXjb2Mn+XgqNk5pEX5ziUx9qcGBnhK73S99tlWwZp9/ispbxyo4QLM9mT5wpWwwHAmgAAALJBmkRJqEFomUwIZ//+OEAAAAMABHuibN1uED6REd+AEDCx4vg/k8rTd3MMvA9xE06wq79nS1SIgZ/Dpc0xjRCYK3+sfHVvJpDj9gF3vAm2qB7P2+YGQSOTtljXW15flbZNWY9ylmPMJOIVjcZ2CMk0fy5LeJ31d7nktwkc+VFlrNa87DvwF7g2j0fD+mb1qPHBxPWUdEi7lxWSib+aQVYtoJUBrOGcV+zSeSVDsudsX3ztAAAA4EGaZUnhClJlMCG//oywAAADAAE4BiTX8sAH7qllQnoi3OSlOWsDgguTqUFnzsFmj5vn6ujXkCinA26rxIZWxxn40sd9g7zJPWXX/vztKwu+a5n5G/QHQ8c/pbs+O8+AdYZK3A5LKozz6ivbI/n+dDLVZUxlNt0dOU5p7M6h/xX+BTFIZRxplTvmBqnTuBLZcOvdm5zSxnGJYsz+S5QCqV+5O8reXavylTBO054a9yCT0hTgbBwtBFH4BNJz9Z9DTIKLIkWq64TDFBO3B7/oHwAV+UGRBgY5mGyjaucevFpPAAABRkGaiEnhDomUwIZ//jhAAAADAATVmkJmGDpgAFRx4Eg9zEiYJYzcu1n//gA5ljrBsg1R2fm7lMPraCqRnJlkL9SxiH1DwprW8+qb3lUVC9VzcLYIYCXWhv2n/L4/m+U/kOmAz4YSNW5FsqWU5xcpds0nqD8Cnxhxv+LesMGzHXQPUyy7aK8fLlI9yxK49JUVFvvAYq1sCZpWX3s8dl00FCt7NSU4siS6jZ5G0gCTocgzcFVtrwKe+QmXKTgGM7ReWNPyfM+2NEIbqh/3cHmFnm1BmyBk9Pef/ge7UX5xP6Ur2hHiiUcRNM4ww+FKlXanoLuwiNgDRXJ76tghoIcAQWdR0SCxeVrl0muJjVNkUzsulH4s81jYO1dd0M5h57hPaXFqABhe8RSaIcZToUyToU4o1XrLINFHt27FRcMjzKFoPwaKs1zzAAAApkGepkURPCv/ADJXs4AAIguuS2iNP/M7zWei9NACEwnX2X23CMetR1BK2ZoPJRHexoMf8Yfmr0QbsxNJxUCYCzxYfPRLAB5Cv9kS4gtYU4WjD4ptNDv2WZw88rGL8Bm3wDMBVmlSWj9fqOEKoi5GAhv8VjcX53hgTq6rx3UCoYdk/mmLf2KFKgzs8yoIqty8BNDNLWAfLOib7H94iKv781NFkZDfn00AAAB3AZ7HakJ/AE+yGIAAwbWvvIAWIB3fKi+3p1leGXtGZbpPXKzNbGrOuEAHN+LKsKinTMssX4nDxKs9qXHOGBLRb5y7MD1qGamx9q/rlVLh/OiLETotZY2aoxM3A1Nk3mFQ+kZ/08TwtNTX+mzwszdntZt0jGZoYPgAAAFLQZrLSahBaJlMCF///fEAAAMAACDcQcI6HmJABtRnZBfos0uSISgGBZs2EZa/xc+uN26R7qmCdepBSia0BElu5oTOBDqlcENv3f6h557BFz0ZSgR8A9qLOBkR/xWUhdhGsuAo6PGScLgxW41RcGNlxLSD76AxSHCGuGo5auP+ISuKaFs3k4PMxqhN+Xy+VbnMiGZR/C+3A84sEDeRXQ53rpH1tDU/mr32Cj7xlZeRSPfumqjB6hncs1v499mIA4pT+rByYNp8OLIx7Q4xPsI43L2y1/tzuL8e/Js/tWUO7tKKGeJND3Wtx1damfD/685GeZtz9HV/9dQyHW/IWbjmfwWbGNz30c0n4NoW1IbE1ZMcbnFV3eEWJRgV53u4CFaZvSxtYCixaYH+HcnM5gZ3eMdhcGXwNrdCvuCuzTaIFifRxi1sgZfrTDxT1gAAAJRBnulFESwr/wAyW5XAAD4vtuIgNT1RjXpVwG4PWS7BABetgtRggbntNVbniYD8pWMv3CbMK374HpUHZsSLmwl5Mur022ZbIyIVk+Q5l8QOsaCboFOhVpt1ronvviikbf4BRXRWS3st4/sycfPaVXQ523j40DMliL1Tj4rEePWd8vhmDF74fs3k7I+t0he7IPoC6t/DAAAAeQGfCmpCfwBPshiAAgvdINaYcdABxmJPaaBIq/zKSxqaHB1+hpeLSaUUFfvhdmJpIp70s3EP5T9oAVr2yFJWrY1GhPhmkvaVo3J4E3NLHnUCfWgQwI06wZqDNHL3mgm5Fcn6CTYoXZOkSrLT/JILzwmvjTCQLW7lRGcAAAD0QZsMSahBbJlMCGf//jhAAAADACOejdiOMQAtxg1hjmeH3g6sWOy8FM4CdrBI6ZgXq0+2A4upXylm/yI2V6Iqia+phlKog0zikJeGBPmDPWjsLQ+epySq4X9RfVnobS/7mXHjGQv0geFJvWiCeyEuGZewMe7ueZygCsCY3Eo19Jsd0a11bn14akGsMR1Htd70fNQIBcZy89FDxLqtsot2BIsdw1r1qbShbmZ1j0NofHQl63ia+JRxDc5FaCEMlqG0RWczCc3Asisy6qDjVh6vPP5+XbwOaOtDv+k+aUUJ01T3F+EEMqGZzeFXNpPSqwOulXC4OAAAAQdBmy1J4QpSZTAhn/44QAAAAwAktDP+u47ABNzUYGVtLPo0r/Ec0mdQH+kFw9Z3nZwsESVFmMSvEr063s2Tjy51AhIhg2LbXTYhTVbq7iQ+H1iKF9KKlkm9VG5cNwSUu/bjJm7YzC7cs1GPvUzt+Vjer4mSXo3b4QYyE15uo0Cj3ypmyWeXv9fNda3Fs67GNGJQ2rmmOQBR+g5g3HRZBf89FNlDSf9RC33hg0ZgbQcAhdfuv0hRVcRaOonnfhLl5A2cSbC3+yZcUcAWkuAjWDrWeG7JYRDkCeXS9chi6mfagGl31WjUnfA9RDccmBNBDJg02SOtNGFBXdRpkRjPazV84E3JdIEDpwAAAPxBm05J4Q6JlMCGf/44QAAAAwBhz0enQuwAXPqmxoRYJ6fRnJ8YVVjNvfxqM9qS146y9DiNBFtkoCQaBeOHJZnfsSL5YBAwGSuJBPu+HTPxX/bgBpZ2tS7f2cJdO58n1c0S/TaWNuWQZ2NGrqun0oM2HN0Exioq8NjiwOCzsaGsyvCaDcpuUZ+Mpv5GgfCE62s1TKd2ScKNH9hgijjS6yEcagyZrDK/GroZFSWfxhzcMOTXFgXD/UX5rb4zqYdxqTYRwd5sHABkm63CIKamy1gHYe7Bp7y0sSaVE5p3PqRAWR7G0I2fktOhyM0etHDWx4n6pltYtMP7r96Q8GEAAAFTQZtwSeEPJlMFETwz//44QAAAAwEFELwAR7zpBJQf5N1oSbCYp4QW34YKKX7QRttz/QHvR5GHVlQIvua7evjuC7tE6Fwzj96gfn/vRefZd8JgWoUpMOf9fVuN0BjdbtpJu6E+MrVxU7bqW9pRpSccsHsSzTIqVtBEO211v6VlkXyikw9Lka7AnRQeoOjGMsGnTv3pIvYEg1vigUja2arjGx3N1tX4U17rRHgd8aqizB+ArM+CNWtzIH2NMM+A/heJ+W6ldtknSIQtEr5FGFbQ3jg+aW66jKWz4q5DV63XCh/aru/IlbYTcoVPh5uJVs8Mkegulvr+tGAi9pYh6MGaoJFi6nAhvpvby02Sr6AP9pSBXN8zgxPIrfL+iuLbIWhsOSsCpttzugPQe1B5mT7ksKPPSZWzetv5XnBtzuGKn+4eakcMRR/fInefqoK4r7x1M42BAAAAeQGfj2pCfwBOogSYAUfbc0DWElqi2iVbF0S4YvajzYiYAG1ExBnenae8qClryMQpMnTvOMxAaNML76KVl65WcB3H69jDxmgwoB8GBmCT2MXscaqOvr9UXCGHkj+ScFp8GU1unBqVhED5rvnug/Ptybd6+y9Fgff5XigAAADRQZuRSeEPJlMCGf/+OEAAAAMBDaGt0KD2ADjFKAyV0BOoWCungreNoNdQC6Oi9uYDyDVOGJxpMiBF07yM0bODDpBvxkptGW5S4BeqSQJYi0ZZs0ARGWii9Af+C8slrPg6MfE8TkT2p6p8e8XDhjaSrL/SAwa6MAcUt5dTES1LaCyApnHP3WjyJw9WnBvFYhK7W3fdF5k7FGaBXUM4d8cV1U/bxmYZ2NMLvyIiDxTReNRMVICp3AEI9XkN5atqC09VxhH5xNa7qt7Zo6aAquZk7MAAAADpQZuzSeEPJlMFETwz//44QAAAAwLVHE54/nuAE0z5HZosvl6QSxM6jrzUj3BFlnTEoil7ZPk/El3Qt/2/WwqhfKL3xMLheGf8cQaJjjEqMlcMEPwioRAkqxR0uw6bKcsHQNODogBG5eJQOL3rkpYnlmJptr4rX3F1cXy73vWLlFJ5rbDPW5KyKzxpRDPmAA9arqmZb2l07zsOBYGGdpffUCFwI/7KES1qBTeBa8xWRsSfUkiF/lX7Y4HJulkiXufueAE8vzouUAC+ZkiF0HINxhr4mV3d7+EaluVZXyUlH+rgUECK1tMTFd0AAABcAZ/SakJ/AE6iBJgDc+R1ECkLv4VJAtikF7AmJv4fAB2henGyC94PQ0suB24+uCAc7xRX28of/IXnV4377369f986gDHY34cLneIt3FWFV3FYW/XfP68eJ5hAXigAAADYQZvUSeEPJlMCG//+jLAAAAMB6LOfD4o8wD1VvqYCzo9bl1i4H/A3/PuHO9coZtPT0mbW1NcYGvTXxtwVlVd6c5usTxVqpkZIHS2e/94ykdtol980XPmkxzEPaIxgUFSnHfgUKBMB+ri03c+BIkPuL9hVER9NzxfEls/QkIJyRGusovKLKPCUti3qWIN71UdNPpsIGetr356xzA5CDiAJk4z9ehUvtJSrPqABfo4HDjcqNrtFvbidouYoHoKlYhDxHqTIenN/+guaf/AadxgZ9WLXkx0PGr2AAAABGkGb+EnhDyZTAhv//oywAAAFcYc4S7LyIAG9dmyJoqiK7xy6/iN10k+yoljThewN1KDn+eePXkee2V66A4LHhNHwEFnFVKuj1eZ8LJUW5sb5zz/jdY/SuATUKbs8klAHo150/mjpkhHSbxtYMWib2AhgV3xMqVHMaS1uH94DFH3+uQfgkeOIMBHzJZ7IWlrFUsy+Lue0bGLtfavx27mulDEDLJ0SusKUS5+uEPSREuyCH4B1vgYJ+6c+Eg6vOyp+hHI9UXDB/+9Zu1o+o/ZJhHVh58kEdcZgKEusTBcn63XZmxb3ar4ef5f2j40Jbwzw+3IvllAdo6VLGNnqLj+Hb0eLV6u5cvVrzFT7/j1m+YY5AeWgMRzqxi3l3QAAAGVBnhZFETwr/wAxv3M0DkSjg6iHihFr3mnJH9HlrxmST7DsSRpZF2YJLx8AJ23SeKcy6K5t4imEgOsu3ifEJFRojKxgMNM3CJHO9cZE4cMyjCTLyR95kGFdVO0PjYzmlU1pLGspwAAAADIBnjV0Qn8AT4Q1A56mHYfkuDGBOCVZ/xsrB8qr6+WcV+4U6Ltv9B+a2S3+AJrSK7s64QAAAC4BnjdqQn8AT7IYgzkDIEIdMuIZJMe17ugOfVKZBipWskBcGwK5+jPy7Wj4do6xAAAAcUGaPEmoQWiZTAhn//44QAAAFQTHucQkACU/HOyF6jUlEvTtNiIlIdyrg2HhY6e7TVqT6FDCqBrdecUHkuZIbmLFtgFVbWQip0woTQK33ZwxyOeoBDilrkRNJrGe8CrczV0U5nxk3o5agLNur1bu/h6wAAAAUkGeWkURLCv/ADJblcBiHvN5HdkB8Xd/AESiLzaoNxchVE1EXuvYhCP5Fw2AtyNxYZWlFdJ01Frifg0bU3rh6tt7P8UkzfnHu1EHuZI/rrV+mZ8AAAA5AZ55dEJ/AE+ENQO3ElyFbXt4IlqDZYi1YBTwASlQzDA/6ORtSELDX8+F0EjCCagMmLnKhAZS8KczAAAARQGee2pCfwBPshiDNY1qDGLLkFlPpp9I87hC4X7gQAB8iqCnAu+h/i5+LUMvknMRBuz58TyJLe3dRHg6/sesK8GPHgRXQQAAAHJBmn5JqEFsmUwUTDP//jhAAAAVHk+q1lRjY2wA4xUCmfEBcG23OqWc8NcjwEp7K031lX2niEo5jruYC2S3jpoGbwKMvVXnGAFtQzsV6kOl4H0T7Hsv7FzrebkeBcKp5OzSKH8n857r7ySzq9gISn0sk4EAAABeAZ6dakJ/AE/HvUDt8ItQGwzrlpMHXdDDaQ4sdpiHjAAIgpXuWsqdtMl9QTgg6VsaibOWL3ap8W/0nFaLBbWGEA0ZTbfvxBgG9aSR/Hz++B2mihTBhXcsizX4KCQMgAAAAKdBmoBJ4QpSZTBSwz/+OEAAABSPa292gBZzfWgUewMX1ZeF6wbievXRJN57qCWaWnexsIMXzHy7ZqTIeSn4Onh6jqWWGWPdKCXY5Hwf5diIikNU6oxRnQQ7mOlqjCCUP7GNpucMKiRmNMqhpqih+n7gsso2HZ6bwss6CDtWoYHiNSuBSXRPefVDD/0jdgW+jLqQ+Uqe5yTHZsP+4Uw6Pn7EEBm/ZmYVMAAAAGABnr9qQn8ATqIEmBkjFT1oke6MC5P0Jt2g19Q1eQK9JAAHsxulffbb6qu6kSAODr85QnufeP9kcRKacE+dXvG6aG1s6xVuK3DfRdGcd5NdRc88+F0XIQRTMgTjZfew7SEAAAB2QZqhSeEOiZTAhn/+OEAAAAeff+kaMfeh55wvFAEcrU/UKQ/WbhX3U4xzmlw0Vr9bVBpIbN/t++MwM0b3ZOg3i0mMUkrgwT/G+3VeTW/kr0vYbSIa5+6LiEGn30D2s5zY7rDuBwCLcfXuoDEAuaINDfTexY/EUAAAAQ1BmsNJ4Q8mUwUVPDP//jhAAAADAujawYkqhQNEayVsieDHsiQ/vrwGV7WB623aEaFOZkSrAVqp341/8iyC5WMhli2av4xaya1OWco5csXMxEZIMQa6xLr3B5bCK3pzEx4oY5B/JbhBghTUg2QLJujjhBhssuvhBP8rM6TsoSV9JPI9IS2a32oN3zqiIrZpsmeNhiElHOv6h3h4lX9n8oURP5popvSI2oNZXdnJ8woaUPeQAOelzE2+Gml4dZ6sM61RVRurpIWHnIpLFKYBQIU/I4dS43z8ijxTmensH+Md+9MzSnTAPlD+0Tq3sB0jbcoHjAwHWj/peUKP2YqEeoXmb1ZCveuydy1E9cgeCQAAAFcBnuJqQn8ATqIEmAOJ2i702Lmi9TKArzPMCCJ0AHKLc8LwGsZW8SuxYhtyuFVmVJgOsGoexe3RSx/EEv1WLfFS3g0kIBnP5GZzYlW/q7et6jNdGBKZyxsAAAC9QZrkSeEPJlMCGf/+OEAAAAMBBuibLx+wumXKmvsagFsfAyIyzuNlHFuI06TYxBDF2AKPuMJUEVqdq7NNy75lQSDxdFLyutgKB8scDF/E3CVrEXjkcrHoHEEcyYahjrs/p/B0EDxdQHaQjUCtx7uyV2iDqv6zvxyzXBKn1bHb5Kr97H/kQW8XANzs1Ig6LVI+dgDPvxTAIZpGE95aHfwrM4LyAKO8cnw4HArPx7Q6hIgIijfyDQYTyhb/pk//AAAA5EGbBUnhDyZTAhn//jhAAAADAGT3/mvPZBQkIAQgVfYy473qEV1Ja7v9hJs/P+eLaFITnamD/5EIeZ1jC1PCLalQ+2kuD7GltGgFYK1NV5wdy6t3ooGBXv3PuIRqQ2t6sD5vGwmxqP1sy7RY7X8Ov6jzmg5dimLp6SIJF5vVrCbMsllQPft70xE6VElBwAzVhQsnbpn6yUa20aWj2MIxBcpd/wc1BuoAV8RP95oHGI8AgCt5KoUOLYhuYfFLiS9OS2RPOrFKfn+Y4xjqEH8hKA3V7dupUeFoIYtScI32+UGFH29DvwAAAStBmydJ4Q8mUwURPDP//jhAAAADAGJ9yL3by8AZvnR1qY2qLaPAOFqh7BH/l/PMf4rCtNUGd8WqVP7InTmBkK1DInqZhUV7Hq7y3UeTHpvTKq4UXsRhJ8bHoNHmymhbRy9/Qxb4M/l4YuOMcZUFLQrzQGmauVNO0yidagBi/pBG1ROmD+6/YYmVvJwDsKJW4p22k1diDRGWptaZV2VyqNN6Ttc9fcC/3NssiREsqMUIh/BVmaFXV6h9Kc7u4pXC09wm3PcKeImhkFlFg24nuNmxzYoAV604fqdJPMbpSJSaNtLov/vBFF80Bhj9OzCtJdlFx7Hj0/wggI2E4BC9HPkwz/tPOBA7K4R5OTxFVAxgdUVO+aKPc244oXQceFE2qtur23yeTLhAl3f/+QAAAJwBn0ZqQn8ATqIEmAB2uWeikdA0FQERAHkEX7FbMkAA7DvZ3I9Lpu9C7URYuVY5WS3skNFH6/DkRgNSGmu7Vcz1MfnBaSo0dLBBCOebxGy96h/ecbYB1lyA42YDmdVrj6X2FYjp+hyvuUokULQHJw2Gq3oMcscmTgL6WV4UQQ4NJG+tZFRxoPuj/TZMO35GS0QaREq8fk5QnKxwmYEAAADRQZtISeEPJlMCGf/+OEAAAAMAX/1IvFr1J5eJs3FuAEIcMCNwJE5yKfU0NbdSPtQ11aRjpfkTqsdGkfA24ROx6AS3/bowoC2QHaYYHaI/zPyfZc6h5ij3qjhhjqeB0KKzQvaabL3LGiQcv29Y5kCc+MnXD20g8u6ykGbo4Wa40PBe0MQ6ZNkU+ZzYJtJKrVaQB88EbcjzrxtFQW2uNDIwQ7cRSldfmXCpyI8elky1fHeCx+rLqoVOtNRndrGtVpPys4LzX/fRi3UfvVsvUf8ZB3wAAADPQZtpSeEPJlMCG//+jLAAAAMAA2nrdufGWcrTYssDQ9Jmyd9M4AEnnWzsGp2SwdJPSjBfjv+fWxzG2hgR4Wf1VVkmq8dMGewabZl/SwDL5qFGoRiTbo5wdnosHvI+OL3nGq1bA6g71cpa5hYFKKrm2eyJrm1u+eY8K5WvZCNAx3aWfzn7mUhgV5RqeFxXCK384yDZgFbcPIC9O/XnBEgqhemypBLRk+a2Of5uuBpA0vkX9P1cPMJM0OBVgZ5JC9EBLD8HIrjICeJzJDLvPw3wAAABQEGbjUnhDyZTAhn//jhAAAADAATb7DpN3NMrwIC0AOkdCvq32K7JkqSsNGstEyLApyTYtezvVisZcv91wC3dlbSdi1rrq04us1XCEYKEGszZiGUThMi14rREdWVRxj1VKvK2MjKUic2gZ/iuw0w7591oybQn/0GfiT/Z/G7rRCjxs4Sq1BIDtyzwYaLWNHEWKMCnV4HjYP8qE3o3d8NXTQ/eHvWSIe4VJAdmI7XKuUsHq+gC3JaBOb7e7DRyP0HA17rVOiZ0ksS8r534n3AgFIVuSMk1/5gnXF2ZqlSx2TCDr2+3+fwZn026K8J/C25J9znst/+9uHIbo0sAf//GpbOWt0fGlFm+t0q59Hi2lHT5ZTCAaLFg+9XO1Ey8J3/94f9w/yj//9gHvg4GojfIBUpIyUobYZX7Th8fqZrm08JBAAAArUGfq0URPCv/ADG/czQAA15Ss/F6oN/VQjjaZc5MOgADq7u4VrF/OvtEV7AKcBsQBFw/LWAON673uVidkdt/XJJggpPn1gb6fFIBOgg2CePuTADSIR+sB9oPY6J1mAkwbU7Y8qh9+W523KziyZijtpxufT7ngJTqLlVxKKBL/M/0R/SiNkMR+mFSps5YVDcXABkVlSEzJ/0WI641Hb2JpUMMkgzSinuKHs8CemTEAAAAoAGfynRCfwBPhDUAAOImifBm7DFDVosBqsEs6JfnVaGhAomxegGg8wtUAAThn3n1h/cj4BDqc7MLlSc8OiKjYb2CEOnwC+vm2lE80tp/mKU8uiGs5pfi6Z37LFrzf1XpGhDRW3HCzH/GXXqOJEfDe9SC2rT7BldkcLpS5G+ONgcrAeKZhjW5dJN4Ra9rZf1WF77UImfE7D7dWud/tCCMnmIAAACZAZ/MakJ/AE+yGIAAxETg8BG4Acvbay9AEXdLo/QSek8D7Ij620ZlfTxvvzwLg23bGghfWd1svBHuCUTwC2cQJjqW+ruAHFmTKfktxevnUcnAPY9e9oFUFfVW8h7Mbkq6LPtDTpPifZ/y+SEFtgVwVjDmcSH5BCdvvl4F2pwAKaFPjQq0qmp3LtzwRFH1LHhZR0lTpRkNv8bpAAABDUGbz0moQWiZTBTwz/44QAAAAwALHu3wZBO4UAIU8ykHYGv2pdFa3xkFOosHY4OAudYB3AbQ+gtutab4vw6INZE+Ww9x6WqJiaHwv7suHGmBaHCnHV9sQvOUyvAhXP2HvxIJRycdTAMlQtncia8xfNciXz4Flp63JPnnQETYsch4YimB23ow7/qZ5vucErrqahnRxh2rNhl9LXJCBqF45e3MvQ7R+gPBfG6oNRz97Ykj+GfMcVOj37weMcB0b2xpAwFGqV54ZgNvpVKX0gnmU3MULjcRFYRvAI8Iit+eike1Wc709AmvRBN4oeBk5nzYFCoBa4EAQklk8EiPZ5Cv2M6Gp39EhhjfZnhK96eBAAAAtAGf7mpCfwBPx71AAUfAjC+L2BB7bACMBSU6hmn8KSaTZMQmI4KeeULxM0+Rqv9Vl2Qo2voOxPUSKitygqWxPENvxDIepuLhyqiywgX7gjMevwNtxWuWIcW1I9O0rt2squexh2Yw3E2iNlh6gDJVHlrl05nse30D/m4CK6OtHLEa1RrROxlhqomLrHhOv18nsZKFi3AfXUe6JI5TtbV0MXoOwV5neDiJ9fT4cjK5nsGTeCNCQQAAASxBm/FJ4QpSZTBSwz/+OEAAAAMASWhzXxUZ/YAODXbvi1S07u6sxub1Fm1UnAlN/YNg8+gWpJsGgPAMNmLWRWFriRHSloSeVui+BfDl0EmPTTP9ZfvVsJjLj5Bo70LPX37Q2DS6ETiCi2Zq7xeHIWvo5l6J0ayRkYINk+SqksfwIWZOsudwrYmZphN9F9Oe1rMcn1f6/1VAPCcNYZFJLbZKqEZCWOHzwX2liHIryKiFZhqQk/r+mmsrfxFCuVgyhbW2ed9YimFO8wEvwykPCarQt6O+DeP3o7Gab/09RPHEMUU148A1ep97hQxoalrgpA5S8uqvj/cR0PlpL2mY5mmthYq7iBvO4+B/czUvV2f8gbrQczlNbwtFbzQMchxm4VPEDVNlwzQvO7c2qdsAAACVAZ4QakJ/AE6iBJgAWvdy+uAu2cL94x4bd7uARP3QAHStGlmRKTnzMN7m1nDxSgAmAEOdNf2/F+vTdt1AS90znL7uRf3zpbsjT7xacCwrncuynkUCVUA5h2zVoP9CYx01Ao3rLA4jZjKDDc/IxqAMhCEwdPeqC9zjgRNQ4CtcZzWIpNl/yybMqtFpNEXa3iW/+23MsqIAAADvQZoTSeEOiZTBRMM//jhAAAADAeW1uNEyGZk1obaAA/nm6m7dZBjH2k7h/AXY6sIfkhPeeB1TOutRIZBZHPPl4UTGsrVK0gPpFWxx7IfX8RTrGfLp78cRajQpjNF2ywpTHy/o3om9cRWe3hEDsuVrqzVDfajv39EZ800lVSGxDtoU4Z/SDQwOAfEGy6J4JO1TlabhaTJa3Jv1LFMBXMJz4npiMSEvbIk7VRkezeQ3wVXnUtNvB6cor/r+5PyHpdK48k/8p8ghBUZVAvChKvcwyoFyRsYnpAP45VTcvpXeQ1+P2pVl8dY3lT/ISu4easEAAAB1AZ4yakJ/AE6iBJgCXB9X1wF2QL/eiE9wJYg44AJqkqDSpV8Otv/YAANiqzeoCx65h6XOxvyGUdanA7qO3qG3YyU+WB4WXjZw3nXca4Nwt7JDvWzOnV3S0UkRF5RIxPJQfZmOmej9aUOTU6BjCXNo4TqAwSK0AAABEUGaNUnhDyZTBTwz//44QAAADSn3sAcUh2AFhzBPTw/B7N2Da4xDoyCKo0k7tCjU7JWsxtulsi9MQ2aUb8NqnSa2MVwapPl2JZz/Kqeh5wT8CYv2fGTrMPTQypP/W5KZo1vVjqJTutHQjx1m8e8lBc2g8Mozu4POab/gqyIcf71YfjNtWOrdywNJyE4qDIzBZPuKAnkSHYdllfRzZRLFq4eUk5qtQ5/oNQ2qBqO5gdDuh1GQf7HrXwlSEETA1RsNFAbqcDewQVD54LJfKIksz3Y8LuJ6y5tTXv759ruxZGSJnsT8R2GxgTR+ysUihq15kgbknXN/Jh1FLP9wdTHZ+vSbHnRM4YRzrhX94F287HGG0AAAAF0BnlRqQn8ATqIEmA/k47HwOnwL6HdPgLesIDe8JVkUy+20nzvguEWmEXGc46AWkV1sluFe4kfYTVubcYyL8saguaFXRP5qoyrkEfedxx4CK9hT4ybCrI1blEVlsRkAAADTQZpXSeEPJlMFPDP//jhAAABYyav326lam9U9G4AQpRtuFXgV87BTdQbTjhaSYEYwWcqv8I3lDBE7tn6Qc2+9Jkbnl/hlJTX65+kFhB/vzuJhZkeGLSoNRMihZBFX/9yKPs67N7sh+s46yImN6RTWUgXs4Q8kiVkgOddI/PGWIXlKOz+I+lb4tYlimBvjDhLJcZYhNJrf5sCoseiogjqU20BEZMle/N1vIyfFddtj2cUdw/njcIyaBDzKbEGSV3HE6LBj2uMzl9EUzhzgSbjQR1cDLgAAAGEBnnZqQn8ATqIEmRYQe6o/o4zAgu57oEIT0wIlwQx1hQ+VPheFgDQU4ABtdqfw8AHrfCBhpv57NYfMUzsVy/4JJJ5sErRGj57ti27i+X6s65+BobG/xl2LIgThYrGdCBQ7AAAAtUGaeUnhDyZTBTwz//44QAACXKuX77cE+wA6JBEh5aef5ope2nyMmj12/z4ZcNzhwLxxljpMy/S7AeinLU+ec/rJUj4w9aM2efPSmgMzPlvpIWjnNxbq4YzzsFW/yiM4XIENKHNF/Y0/En+U8Kolql/55M0Sn01A9hc9qHzoG56vcWlE0kItBe42sdN8BpPE+ooDkD7tIpY+bycj1a28KeHJy0B7LY8jWUHjWPj/1ORcUC9gZ8EAAABjAZ6YakJ/AE6iBJrpu5HAYI1b6jFqHq4RhTABze3H/UAn2/kRWBHKpyEG2fiFAIWA6/0Mo3dVIK8Q4n8iojR6iMsmDkhTCjrOVPi44xOoSM9rxAzNX7sMTArNqc26KUGM03V8AAAAxkGam0nhDyZTBTwz//44QAAPhnbOkjOVEAJf+VqX20Kj2aLyfzSEXwFVsI/Snae05utj+EMAAAyQ8B5s+66ttQkRjI9565+wARENvDVpgXfU5OTdkmPnrf+7Trdpco2NFfcG/LvBfP9y3qVl9CIQ7aA6t11hgrdgQtdT1hHMrqTsbdz8RyuDb0D6Q+sTHzsbz9roUb43mBJN+ZY1+xUua/rnNeZ0qqdaWEsCWlql4btkfX4wXRMlcbj8xpancyaMjaZA2HQBgQAAAEcBnrpqQn8ATqIEq2D6vr0uoC3+Uw678Iuu66cyTN1E29jy07anbwAVAIMABs8o8wALnv+t+qKnuZfVUC0z5B2aCnEBWC3dgAAAAO9Bmr1J4Q8mUwU8M//+OEAAaVoGAAdI7krS0MzRUWxCMiXnU92KYBmPsGY1xQ/b7owG/6YgCNQ/hXtq5uOy/5RiTeyFZG00JyzdixfwvRmLltWr2tjZAGu+yNh/Jtc2tp7b9VBf6VQvCbAp9rR50J5dwmsEIV08PdLaI/8burbOKhZiXnjmYSgkMEvTTIyTLaAlknSt6hSwOWljL2HHPI/fjTIZ1tqcSuBJ0xMpoZaD5+idJRCuhfEa/yQk+aHPo+/kaS7ywRdgS++ZIv4xeMrJQBuNXtC96g/itWO8BS/o6ZkbPoTyMok27Hq2EADPgQAAAGQBntxqQn8ATqIFFqd43BJRaeij9gCThrq1C90VNoWymWt3QeZDcVmWvTIAIDMhdQtbSyjZrnTAIeBeNVqB++WZXX/c1jfAdig7qdHQUErzJzHaGPxwd1IQHbK5t5Y69JAFG6SrAAAArkGa3knhDyZTAhn//jhAAGmCLw/NVAsDzWAB2QuZ2OhBD13Bqih7zQ2pmhPxf9TaNM25r3I2ZjNQyr5q3ASMVdS5mazkFLl0zUkSRfU/e9V8A/L8TmNzv5ggWYz3HqdOoGXXgaWZZbpb0uuU1soy2wRC5rM5NuLQ+aH+UKJC+F0Dv5RvZxjaooTou9py7wYVEoL7Rr7RDinO9y8XAS5Yf9EAQMwwl42DfFqKsAAPmAAAAN9BmuBJ4Q8mUwURPDP//jhAAQ5Vx6sMKWkAIU8rcZpXWz78IAvsbt+q2r/zxznL7iCMB7SQabJ1FS65CCCHfT59Sn89EAG9woqBXwWMAhwI9eEWjmMItsaWpzHjVZdpQlUYnyDKbI05oQJocFwtqqgeS10sJXaqS3FVy5hEgs7Fz4zYuzbRWlcYBxfK1rpH1v6iSrxiAsrc0HbJRBnEEsxBoBp70jNBA4BjvxOFD4+2WAYWA6ZQMWQ8QBXgqCPPi8e5ilFLrE2v5eMnyBbxZmKpVmfB+lKdXooFz3uAAC7gAAAAWwGfH2pCfwBOogZn6SjgRY4muoCezozCetzwfSuzN1tazesqBwMdSToRAnxeucnajaz7u9tTIM1MkoXrCoqdHtV2ROf+5ImnwPmhzUY4eFb0re3uzn5ABSjoP4EAAAEFQZsCSeEPJlMFPDP//jhAAsMc+G0c9gAh+cVIA8mU85IK8Ccln8cr/MjywAbvHNYvOO7Bn/DByzJ4pfDY3iC6bBx1getuKDwe6VEU0VVJ+8X89zIBMm4p+fx6UD7je9zIXCLkRk9OWGRZ7imyIE0BOXOOPwjOWVn6apoAseRdVN1udzE+FrkUxU4zmcCeC1+i3EMWs9p7KOC236olUcWSil/MHL0UhIsYSOJahqY9n//eKy5AuCtAIRueijboYfALix08bT0MMAC/zyT7nL3oVp2RxC4y9QY3xCF6PZN++x0we8EXSQ/SPtFl73wtNp99gCyqOWTv3VX9liC2wHW+ROYUAAEnAAAAaAGfIWpCfwBc9cAUSIn8CBZn+jCX6nOzTZD8IhjvkHrTvGdQSgku1gLtSC22pdGOfP3CU2FzwXW/MswOvD1dOEvG5+YgAiDsoDJo6/Fmd/tPUi2aXlJqxKsJWwqe29KW/SxuagAGwRm7AAAAqkGbI0nhDyZTAhv//oywALbUYyB+bABl3oyxi8bqDgjfpBstMXVTwbplwMlDRKoxVMzwyus5Ql4qcJ2/4bDTpITHvDibRV8OzbCwHsPPHts550PmwNvUndIlFRvm5f6xuywkWDlScJVX5Pz/kZLXwxG3DOYxTqKab9tKScF3q9N6z2vhelOQAFWEE9eYPivRolpJrvhrZGWLgxBaPwEgv64EZX8REXQAABOwAAAA9kGbRUnhDyZTBRE8N//+jLAByLQkD4UUCq7ABl2qqUxxyIfuJQpzwthIpvU8rCDzRCEl9TgsgRN/8qBmbtpS9EvRn3UE1ECZ06uuXsIDsGtGsEjuycg7TkSa2eLSXfrbB2GZjSQatOjoOVlp3TId+eJ9gXqFmWv9vpIuqlYJKcTzZbalYefYp9VZKTgaYh6NQNO6/L7q5euYTZj1THMt0O0t/wgAA7NloyLhSN3/uXz4Fa3FW0SL6BRfdHDJ3r/yTFRdhOsBWmKIpD6ZY6XsT0ZmIdb2RahcDq5Bz1LQQobMumcrrhi1FUUSoQ15MAVsosu3IAADawAAAHEBn2RqQn8A7fcPDmzEtbB+TnwS/QoHT+8mQYs5OxGEZazo1+RyUMmgP8KUnafdQfv+CwAMyPjleErdIgzbdr/VeHwIUUNNH8wCE1a77OxpHf32DPWbuidehw6HT4HKQP3LA6Aw6YEKSRyqZIAAyYxiIQAAAPFBm2dJ4Q8mUwU8N//+jLABx7XY7Zjcq4U8QAJeR+W4RIv4W2ZvEacxzUShWSZp25NIZPCu2lBkzzhKES+b6uUUGEQxCLvgp3r9fnBlHJjhLmHYlFz/0GDA8UVoxi5KVGXCmRQJIhttQE4yGP+JRWgmJWJ5ntyKWoS556AzgPhFt5CqWKofxavBg8HCnjld54beNCaAE4Pznko+02T2hvulq/aNv408HqwRALkoAgrXTo7D3ikjqYRwmuHsSRpuCtWjzsomYp/m0+zjP+Eph/nKnLSwpKQrFUH2I563PRVvJKv+mU4zZik+jX0ToAaAAAIvAAAAjwGfhmpCfwDuPkwDV7SHppZC8eJz7mxZtbvMNukJSI9CWkD+dWf64Cdo54kNgbM+VRfeFknsu2MzUJocatXDNa/XYv9gfrqkeKJAI8UjWry72OFoeUgO5cVbF4Ui2aTITLzdyG3yudzjLdOJWgbtPyHXEeapeVfaHa25IgOqiQ9Uz35qN88XPoBYAAZu/seBAAABiUGbi0nhDyZTAhv//oywAcn1u3OWXu5zDj33x61qyqjFGhDH4BbCAA9wBFAY3qGEdQxc3nlcLjPh9EkfGuLf8NTVRuAIvEYmfBpEwogCLhxi+uApL5IQsKyDUAl1Tc1svhXgtCkkPOJKuROiFRjaGyB4arQm+J9bbEurKoOFZSN91w5KCaHEJSWvPiDtxrqL5vsb3FFxVulgRxS/oLnHFD1ybk1ebge7oJXMcLwL3BxAwrYyx6oFLLn98+yl4IFun6W6QRQbROGTGq66PsJxVIdId7Dq5+USXd/nlS/o2MuzSAT2QWAaihQxp8fWoCnknd4xElmRLwCegDwSHU/n46t4hOS0/mbJfEAeqTfKuBVfH09qMqEbEtnWaOtAdq4EwciIy9uEpg/J1EnedvNydMFZ2sJW9IsgMyJAcSwVrVGg7rSs4ftuWxb5DqWMvwNGUDDEfGCpTjSvv40P/fpXEvqdgrOrXB4X2790MmHRv4ETQyvwCU/mDU0rouxyg3vgHI/XNZTT795TOAAAAM1Bn6lFETwr/wCSvTBddn1JwAbNv1dBIOHe6FMG5hQo0nz2nIWg4ijVXUJeEIRCkU9Xr/Gy0YnyAGbx48viJTS0TBKvWzJBhskb4t7tbY2HPsXANShSPD4i80tBwGlJel8IJCK2DB4Nheinf4Dn93eMkhXVvvJp4WTf+ERHBQTnQweFX9zXgyrfz/qzGDClqTCQbrtpD+IiLpPGNm6O6NWe7NR3Ezh24BZrMdkCUrxnDWs4GS5aZi/olBbgADllxttfyYuc7h6lbZEu/G7gAAAAbgGfyHRCfwJcNHCT6IFRUvf1/KvBtjQJiV6lzDZgRMDC8QE/RbAjxun3AFIcsXobaiunoLjBkpI8jaQ6hkhjW8DfagUX527LYJFrn5hPVqN+qcpitvqWomJ42ZQRn/Z0p15idRdbxsiYABMgZOeBAAAAewGfympCfwJbItH7uv4zD+ABfG+K7uEW8ytcw/X2bV2hOjKpuIvg7X+zf/sbyEHaqfB/CDpGLSJfE+dt7Rwlbq7ZTktPht3GTJEFjevCnDBMWN5CjvKFLaYCeR14DLhLRGb+tx54pEjpj+b2X5eMAA8w3IKazzZC8+4A2AAAAF1Bm89JqEFomUwIb//+jLAAAAMAASgL2WNC2syXnVCZ7TCi0AFpyb41fBYuRDlPaIBY/Txm/WNF1OYTnEmyuV0rwz98A4FcHBuKVi1KeQc6FmHtx633dp100dKRXBAAAAA/QZ/tRREsK/8AAAMAAGh+9iC8cKtdAyUt5ABcUzoUzoQfxlLT2p3rML0gz7U2bTCvUiBS1d/3dWQOb/5GeSDpAAAAFwGeDHRCfwAAAwAAqAuXjHo/X6rLubh3AAAAGgGeDmpCfwAAAwAAqGd7yKNhtMPoRUgchfghAAAAeUGaE0moQWyZTAhv//6MsAAAAwABKAxdwQ6AzVgaAhX+Qyk/Hi3Ci8WwAXQO8A4OSJF7cQMMATpJSPGoJ+tqxquPmGdDzP1+RVJwgz9BwGvz4PEj46e08H34g5K4XGuq2/DB1JaMJm/fJkSzAU35Y+xV/FmN6aP13owAAAA+QZ4xRRUsK/8AAAMAAGm3mH74D3bJ+MNbFks5QDkHxFAB++5XvBvM1+Ih6TijOxpwv1F5odEYdA+9DOQ3FIAAAAAvAZ5QdEJ/AAADAACoDHOQlOZWGB6SUVzddKYAITTiw7IHDLOdnssVWJ/PNcSSp2EAAAAvAZ5SakJ/AAADAACoZ3lpk58Q3rbHWrdzABFG/KQMAEDDUtApWIYEKOuVBJPRpqMAAACwQZpXSahBbJlMCG///oywAAADAALfzLmMWxbNjcelQAXUVhbEVkCZIt/hKRsG1Y/d1GQYQDOkAWuwWRba5v8YvCRLXdaMmfvmekG4PbtNxpie4AvAxtRtgzobA3crR+9ymYCAgEIMHVtEY7xKCjkN2bXkqfDv3h8s5yvH8MRFZcmtM+BVcDg+ExU5ele6QJCWAPi2Qf+biCL2iBPRLaRrI4bwEkEIdQoP/9bGck2doqAAAABOQZ51RRUsK/8AAAMAAOdEnqO9Sm2Yt0B1uz0PCVBcGO5+4b0DqgkH6P1eAEwwQqb1xzZC/5ua2jgkNelfBukkP9TqPaPI32cqhPAaL+CnAAAAOAGelHRCfwAAAwABdBdWUT2MjC+OSv4FXDgNljtJMpBsxdTKIAEKE3GMQlfithXKP+8uJBQkgKrUAAAAOgGelmpCfwAAAwABdM2N4m1uRyyTY0cVeq80sq/xj+rVBvnPABMHD1s+scVpCidptzlDYhv7iPebFQ0AAAA/QZqZSahBbJlMFEwr//3hAAADAAArXJ8PHafUdfuQo3/brFeSpfnA8ZL70ABOzXaGdr+tYocpNal4v0ED9PRhAAAATwGeuGpCfwAAAwABdFBcK1a4h06LCHj8HzPAAb0e3MBQMJzaeIAEtCZNkWoJGn8H9uomQcYZL+LjvZJXmVLXvJZDYBEDvukzWIHHe+RRE4AAAA6AZYiCAAQ//vdOvwKbRZdqA5JXCvbKpCZZuVJrAfKmAAADAAADAAA3ZVWldqup5dCaeE+/xAPHTLC1oAAACd+25n83xhR+wEr8yqhNCWH480hsQkxqiEBL6PpF7JFaiDu9FkNKyFfeDgBbvhot1I7CYP7Z7N9ENSRTErcsjoy0Cmb/85o19kmXWkLvhYjqSZn6d9iYvVNSwV7VHOnjkS+FOXdWsT7tYgSJB2ipSPL7VTlK6cOQBkgzw8MQbuDMzXoyu+W2kEizquL/dBdzjaFu/tOcghE0H7Eax1AB0rm36/BVsV6j7nyhMfp3S5msj5qOGQAAV+sdRuC/6O+z8hkOtmGTz0KR9fa8BtG/avpW7wDvQ+6fTRU1NZtr4pRTu0xYjEH9dsyNCiKrmo0rMHhje5jF4A2yNWbpVNI9x7mA0ZRg911c6VU+YBGdCOGVCRtC+udbwGX6sOwPJYr6zE19zyj4cZoe+stuzOiJ6KJjERi7J8LgNs+8Jn03dajJKn5hlxuS5nJiNyx/4IZ8g8xN8CycehfixbpaAziN09KvmWHujdoyvivTKyYKZkfFnNzQ3TofvcB8eVjaMkqGAVGtYmkN1PvmNZKZBkn6x8hMj4xPxOWIW2Vxl0pFVM3dSmxxgJih+4Vj1M3K173NUtILCbI3Ox0BZpITZ1SzmdCMs+p2t9NbXMiH91DVlCfoWdK3J5c0SNBUY/u3SwZQMtAZWfNnyKuLo2DLcRJQCB9gzGGgzALh+SdOu5CG0Z2emTUOCGdxPqSWhx0/bqBwjmzahJMucamA1WtlnG9+Rn4VbDVPX03TGp15BunL8lluKn+kgn19g1PwOSkrNR+vZ/Sm84+CViT/5HKoU4pYvfifS0593f1wMfj+Ocv4CB+eqforOLVRHLevsNjqG9R2CgFfYuGT5RW5M+Hp0XJoeB+uR9REpzj+mf8KqkF07ck/H0l5wExD204mzD/EikHdMQkLlPZII9om1iQGW26oTT96c1MKlp13GHYZqOhmgLkYwtWfInRTpKeLI0vfi+osW1un9nBI3u8nmD5s496T6ioFKCfJmCoePQBVoDCZKuhcNpvc9WHseC7GpAlXODEwqnGogMiIWxytTd4IdaS80xs4isaXQxiXYZdo02NiiYyXYxEb23yHxcw+aDY6aXQM7nevx+jmMfyzGuDFA7j1L7TjiYRmVFnm5gPYgJoyR7KKErwd4Pi5NVZdU9OaJLx8tVCHFpzqHO3rQJMYhjJcdikK3g/vaV4hDoACEoRBPtHPPpLTcQ6xsjwmqbgGbP1YzIcLOw2TTsScPzClWd2O4OdSAgdQTiQU6J5ijLWZqkTyu2Lt6DPhR+gX/VmIUeBlLFD8maYL0DanE600VEAMf7BgoAkjlhoJHss2zHYuQEJGZzgf7fnLTatrbsfdKxpfDOyFSw8Ozh8xPl8fRrazgi6XY66p/8oczB8RdIS/nEgu9o1DcSz2I/tenaNSV7wDbbWTwr39ikdfZXP7bmK4u8ySKu2v++e7r4jf09WdtYEGfu1KoLyx1suRoc75Ewl48noZ62EAhe6TNQVCkt8vE+o6luAEW/IbjQCsqyG3ZnJYRBRj41Fb8K4a1Af2111e7m7gkAHr62j2L58dlAPJBIT6WwdpKFh3+8XtgHdPKj6oHNY/AjjutKLCTtCPET2UxTjuafT4jR4dq8g0ijxv6W0Xkjz43Z0u/Ws2WWmbgHj1V9myWWt9RkcjxDOl9AGKZkbqWKYALYQAvxX2n0cte2ebIhVCL2+NEs+fE9fCyAqQOAChJoV5BIxUjwuoiaKn5tJfaGIi1xSact0W5ZijFsF9gT4qg0MJ+o4yW8EmAfTKUcPaD0RR3DD6D2rgHXZ2y93jN2QfzNdhlT2pZR35FJvkkd+cU4pgOyrnmffR8hcAgi5ec4tllvrjvEA7DM2N+/oBcApQzTpsuYXNy5B8AiW1FapPbCt6Slkd8HRbdWsbebO0XcZ854XY3scxxRKE96R5ZxPzNOVSW/wa1psQhmwNKKTZ7vUBBNqqf/YVH82JP1XddRIW0IZoFPpopXjZx52xBI1NHx56U7AlKSKocKFiSjg45bJj2do/+F7jqyRKOq/XJZb7r+8DK2K43XIUjO0/ZJWZuBJuMpviAfQ9ZjdH2sUpZAWM2yVcWBD98BXf0xQ9wAAANyuPClqt9MzxDnPx2eAQ/NKl/mH1D+nUdir52TCY3dkIcIyuOaHAMqqPoIncsnmPuFyXxcy7DKfKwqc2jKJQQCHzPvWDQeA48oI2quC/xAYzmq7LZyZVcZpfBLEiOPxfsjM04M2jC+wzPjBda9or9HU2SNcXzWSkELv3rQ+QX+di6YVwNUBGx7Yqz3czzEz2iV8RQ+CfK/51Y6I3awGFFT7qYEPkILSAAAAtbzPbwxzkl+FzsGcJ7kWNT1u/SJXQd/z7mbKZ3bw7f5qx1genWuhHyCwRFtKWxnN3/jwXpZbK4qlMqs/bWxXwZoJ+/lJV3VgY+MVgC4Z0mTEbyV50z9LhsgAAvKbVSbd6mCjZKhw8s3ujK4U99cCCR2KrGVZHj3mSEE0B5rms3nhTYANQFFB9L8/NiuVwGrPy3cBt3O6ZB/0shC2JVlBMhj+dbwSwjsZQJ5Kt3/xx02sjQVLXc9317/OnA9jN4fETCvoWBWMpGF2TEq/fYB/RSYuszkAFtvA0d3K3b2e9MExO/S+FHTELhggT22L/SCSD74AUEkBorSZMvjPqALJ6fm1Dt6xAkWinuT5JzMmFBiWS3Y7Yr+o0isygth8oFz7JPCn1HaMZQOEbbDSnADIQ8jTt/5sZRF+Rkwqau/AxJMbEde1wBaaqntW+AnjrOATQT6VudeF1K47eaX7l4Qmbf3FLv3d3xJF6SIGzDLcXdpuhIy1w/dlSfVch8QLoTyYDDfzAcrqefeghsK7JqHs7CD+KWfYPtqFQAgWAvXqbtw4F/SrCgAwqBNsbtirvyp8En09A2XXe2q8RKved1fAm9HhmessHJfpb6KFt9lcFBcbQ+RtTpJb0AR0pNRLq+vr7Sjb1OEYExmdOHGF2LIPmZs62oJz4uTED7HIKSWX0e6Zvdb3zEQN9q/EcJ6y8gUMDvOZsu4QQyLewh86SVSilwaJLaXdlJR1QcgmBNsJWgq3d7HZijX5K2wvCzAh4yonH1iur3yW9aP/4YMABNlvns7EmGvaVNWF0AqW/NDZlg8GRu37mXcGL/AGuJ6HfqjRDrKCDpRYosHfpkLGR5Ro1kd/cW2+vfreCR+QoyxV8iCEw+byLdOf4opB46tAKcilbHTQ9idma5r/AKSEKREFvEdSLLzPcz0PUTKYHTMejtZ7iXTU16WcWmlziwNoBD/tvdPnAgzRZ8WiFgg3pUnRdgEN1ggxFPRWE0BFnHi2X3wAGP1c0AaE3zLVdsMqzJzaKOxhcvDULgIqj2hB46XNOm03h07l/QPoISi8uPE5WfmC9qptD78EmkTF7W9T0GND4jY9hXW0Jwahk87qDHjpxa2w9wu2w5MCQdR34JLQznXpMyg/off6HzLKO6/fp987D3GHScKwsfln/aMJQypjc9Yhs3YPP7vEpB1+4W92IvxedQkjGbrrxNTDtYSykwNg6zFfU6qlvwFS5aFNPG1bTYkfw9X1tEg5waHEoZgpQ9wA3qwZ//GGd/I9X3G/wTx2tsJHHAiUktZW9jYpQUZhew1be/XIByV0gM4XKjE0E/Zclo94ZFmi9YMs6j9B0ia/46pTq2Xgyr6mRMkDX/Mz5AlnUwzP7TxO0AqZ4d1sEcEzF3scMYAtuDqJewTUtNQkb8VQGZDTJpgLohv92gmxA4iekrWsSa03oBhYC5g/weW6g9i0bKM8myYnawgLIZEr/yYeJ35g4MsGM0+RMlWqyacoxg7tCMu86f4y67NVZ5dcX7H1JA+/+N+3ax1+HPcmoQLOmCAerNO9WqwLVS8EpJgHhP8WlPE1yfDXfUf1Vqpp2SiGeERuBGpV4Repve8mX6NrMve1AKAVZ/OM7LmZ9gJeES3nUsOy484tFG5gVGnprV+THNmXxvui1B6xggKeidf0uK0e/iPwSmz+2aG2gDpWsp8dEjisbEy0Mg3Mt5FAAAVrKhUBNq1+/hnQ0718BldNrQxA3Iqm8bemT5camDQxRhxtw1c1Wz7f5Uu2Ttc6X812FtRmRleeL39asv0OHnzoSK+o5vQFLYFzMrkzJVCrAhfUXn0oxcOjMOR/Jb8Sv06EUcB81pb/0SpxaPYUgkUh9/r0WpjoPi9TQHKNX1lDBgfQ6Z9TwlabE5JL2NfRN7Xp50uEVvPdrpHw3U8vhbblk9OIKx7F0n/nadU/fYaOu9teIzg1nyBI/NVqYrN5e+Y7A39P8FS/Mqrvis9vAOSlu7M8rP0zoNlj68HEtFtcpwWg4KHsqJzrOyIlFuFEoI+b9tmvYpN67hCBlxPYaBVt7z6SD/3XwZehFWPKxkvddu2ASqAli1LTR9UrSzb7S1eb7RzhRRSJ3cDXgjNsz3RYHiFHb3MHFbFT0ElSdkUOaJX2Ya+OsIwEmN3jw8HPJYoQJUcdrDu1KyajU0ImIWUJDUMUniAoAhBfFf9SfpGCiXWNX303LVx9lVdyr4w6zT5T0aretS6rSoxNeMhZEY5x8+m1tHwxemAkC0YYa8qS3l0bI80DzhOyIB7h/7p3dP5qipfFLot7EQQaKUrDjTGtDWVMoZg8cb3uedppo8wWlGPjDZecoSfpocucMdfPmjtT3N3pnuLpUo4QQk7K+m+K4KqJZY8dAA9lmHngd6gqf6MYGCKOhWi0rKNWWsjRRuM15zH7Mt0LLCzQTC6wrTPQtybQ00tInFfumdB+dl+Fb4Ly4RLw5UJYaQKAdFMTrhghh2mZj6zoR6WAXZ3yXK/4f/NE+jY6DyuyN9LaLwBH0LXu6B77c8wmmLjoCvAC8gQAAAIBBmiJsQ3/+jLAAAAMAAtuqk25hQsy/xR/295yekQywn4AJTqVWTE2FLIU1rLdS6JLSe6wotLZnOueLRPrZcN9zpsx0Ij9kIpXmAE1DJzadBSJ3LSFknkStxnExLQW/GWcJMRdgwSCE0+IaDMJpemxqOKbjJwjAgFur48OJw/S2QAAAAEkBnkF5Cf8AAAMAAXTb6fsk/couFN01WmncIZBHq5VMAEymsvoM5/zdCg+Ik5tQrOtpRRcifMXFvpyZUNjqoYRwJ+JV9Zz0kNGxAAAAwUGaRjwhkymEN//+jLAAAAMAAtylHzM64YPHoAg6r4S3qVH/8UMA+09Uzlh/MGW4+AFSWBltjL25J2muPdcf+rez/qNwmdfp9+jHDx8WxAQU8qUgOw289yovQo0DOCQjmQKQfnz3JVLF/8W6UZVxlm5k/D9/qtGSYBKzYm8QrDjBFiSi+v1DeY5EihrvoxFUFFTnUMvejCP4TwVNRIYbL7z1Daz7E8t5326SpyzEq1hxD5+oZMs+8y1eu3wu31KpGsMAAAA6QZ5kalPCvwAAAwAA7cNehqj4BsLufH18yhJWVN6Eb8n1rZ1t9wNRbHNUvtEP2zr1UGmlPxmbcLWIwAAAADEBnoN0Qn8AAAMAAXTb4lbjjvXOBQanVDz3qjMgFxXSABeJkABtGgCcYlJO14Guhn2AAAAAOQGehWpCfwAAAwABfpGn+Pu4wiybap8dsY6jEnr8gF4/5In1nsO0Vzx6sk+KSIACVDOy2ibaWOyK4QAAANBBmopJqEFomUwIb//+jLAAAAMAAttXnJ4IALZ6Lw9gAYxEnEkWQO2vMoIvc/GbON6xzYTCvRCoNyvDPaSnG/cno6KXBBtTN7Vak40i53LXGvb4BQqajrEZ/LXIIZkaHihc95enhKAJD4lShiHCk6mI+pcgvkGQEFH/leXWI8a6VAMQpIkPNpXGUlQ+HZeiOy57VFDERj9DhVtqlTBNSWp0qNLFVJo447jM++I7LLEUj6AnUlPMimE3NaUrgoZBZlv6XjB+B2GaJArlJX1/RykwAAAAQ0GeqEURLCv/AAADAADt7hlfmjyLZ2RvywNJImzxq1kvnB+8pbD5j9BZAciKiL4IGaa3wAAe/Ges3j53NOCUPXnEG2cAAABDAZ7HdEJ/AAADAAF9v/VTASzJxXLAJ+yQghw95M6ADdVnrJd/aQuCsm+GWD3veV2ABo6lzFmgznnBTWvr+ZaSCd8GHgAAADMBnslqQn8AAAMAAX6Skdq9PypNuL9H4CHQMeKNIflB3AiOx88JRXSqGVboneUg2VQ978EAAAB2QZrMSahBbJlMFEw3//6MsAAAAwAC8cy5m00VuXk8vxxxgA/YvJK+YF4lHNaecKYEm7ZMXQCAnN8DoofczYqy+ob12iH7FKZGtTT15vY5Zzdh2qjljH2TxDaPT7i+fowJiLb8BGiUo10Eah8fL9NfQGEsawVHoQAAAD8BnutqQn8AAAMAAX7xr0vN4XNG5uN9DN41+4AF0BKtcsnlfWtSDiJLIMH9jP+Gqst7iqxYjScNNIXsVrzCKZEAAABzQZrwSeEKUmUwIb/+jLAAAAMAAt13X1GcAJlUBH8pVyi0WD0u484K7/7VDRmFoUuZ577zjOJP8ZrQjW/ql/3jlOCRU3azDszVH+52IKs/GNNSWqN0yTWqArAGpTEzA/dTFwR+LDGP2h2MgGvknYanE17Y7QAAADtBnw5FNEwr/wAAAwAA7dswNsrHoBiHGTJitXRswMo/wAOX08KUZAdOaIIP3c6VHgIRpJe4GasOvyG3cAAAAD8Bny10Qn8AAAMAAX3BRUdIBNIuWYeVluFNVpcADYXQX1EJKfu1kOuVg/ikBqZxUSYga1Z8dDxNnih0KOMPAcAAAAA4AZ8vakJ/AAADAAF+kvcLsYgDi6ErqWcrw6mvwAQ9YhI3uG0S54RG8RYn+IVMuO9rqsmyebujoOEAAABaQZs0SahBaJlMCGf//jhAAAADAAtnJ9YDw4DmJaW/Y4Z7G8tqVc659XUrAAXQTlhGBHyboHtvVKK2gkft5UN/lttT83pFmgvE39ng0wazskjSXLVoy9NwOj8gAAAAYUGfUkURLCv/AAADAADtgtXfX/AAy1GKwQ6JnnM3Dfxi0wPcMQu3rWO/DiEZmsNxvjRjP3nR0b5FzWnEoJkGDKMPD3l46lq+Lrfe6cEEUFsXvnlLoHzM0R7bkt3Xt8PoQVgAAAApAZ9xdEJ/AAADAAF+QsLWgO0Ue+Qc2gF2egkrpAAfKdPJzF2zy55RGoEAAAAgAZ9zakJ/AAADAAF9+CrGNK4UT2AXOFzts+RP6s/BvTEAAACoQZt2SahBbJlMFEwz//44QAAAAwALFbBRaBe9059QAssrfHeVuzPacIPxjsbHlC6j1HTTT/wpbMVGoIhO+6SBgI+sSvmU1OSmB8fzg+/nvBWly5Lf0NF7Vuq0ZNa+gMlONKZNV1egy1ItvFRmG0BI1Pb+mRhjyQu+A8mE3RNNjCffaFOUVCHnRUStkyQp9P7xWqPtPGIJKcnEy/bNttuRcgjH6py/OL4DAAAALAGflWpCfwAAAwABfpKQJX5ps5jYLqijmpEpRb6RXniV2DXr7qUyZrrlngI3AAAAgUGbl0nhClJlMCGf/jhAAAADAAsMsV7ABDSSamWrvwnXsYwF4X3n0e5f9uWTc6Gs+QUKAJcztnb7/3xtE6yURzfnvU0/Oswwg6oGIdvEEw9iaDXnbErJNkvZ9H7Xdb8e15czCzo8in7SpCZF5pD4bT+F4pGTKmbHLR8/meYMbwHSWAAAAMxBm7lJ4Q6JlMFNEw3//oywAAADAALfzLl4bqUOu1p8TATJWYV0NJUjfk1uACHq21yC9gs4SEV2r+ZefSDLVoBm7ZQVQwXWH7zsSOwQmpF6g8yGYy4fnc88vrVaSabaGAODqCp9s8yvwwoVWEprEdRnGB7+22U9luPQnTe8U4flNOCdmVoyMbSbop5tqnf6m+oZNASgKloIYfI87VDtPsIFeuAwLR8IUrQJouVUFml5N6ZvHyv2uq0z16vYu+5QLVh7rptMjScQcIkFF0EAAABUAZ/YakJ/AAADAAF51wEK5f5px3v1wcX0pGTo/epnHZRwZgPRiZiGnS4N2zMCRdOCAD34XlbeL7qG9wLuTXZOjsTBirez7+yzW28urddpIFfmYP6AAAAA7kGb20nhDyZTBTw3//6MsAAAAwABKAbmI88gAj2XS/cWsQj0jfeV4jTeQRj0EMy0h+YRVAjtT5ilwfkK0h+HR+Izb+vbHCUXZA9spnB/74RzvZCpgkEy/NAHVdA9dM9wp/4XoEJlc8G8B5fkYwMQ97er8MuEKL9JYM7+d3OimdinRu88NT5NnGT1HidNb7mlBde5BJoUXEbLjhUTZgdy+19rNfG28GtwJVCbLcOmI4PCU/1HeG7yYAb+OMdBMJlvDKkaxbDkQdEyqgkirZ8Og+aaQnchU3zqiExnJXMfu78odtqDV3ubC/gHYt2lmyAAAABLAZ/6akJ/AAADAACWu7QPzAwHJ8HYpFIuUPTpzwySRj91J2wdWzzjowuMNBTGtrjEUU0JQFf7EACIM6Aqu51sJGI7GcNqNqggIf7BAAABFkGb/0nhDyZTAhn//jhAAAADAAR7omzdbM/Xax7b4iNfwBrixdBcIWrB4ryAWADeLs4jznVPibQYUBkkHv6eMQH2Cg0VdX5fBBGgEcfoLUO5lvYR1fKZM1PnqZGT8nk9rT7l75S7WJ8gneOWDA3h7C4ssMTL9eXhbmgcidJtOgzA8bth/jJFy5/WEVDmvq7oA1kQIy+WcF3kPfQfNv6EA+W70tfdtcneQhgG+UOV/n7JBS6Tq+2q1sapIZ3NFIACvliyFqRWzL4ST97/my6KlX0pzH/vloSlRCF5DISBBEhFt+Y66ByyYb8hR7vy1UcNKJtDrgD2lQhhha8Hx/TaMUhDhw0XwU3vg/alXpcMINxgOywaEuSAAAAAt0GeHUURPCv/AAADAABkpoksMAHR5QGgbm1SBmNc/uDQl4/MAsBqxXXtPwUzy591ptqlxkEQLEaqmECBbQczRt6Q4MS1JBw1yKdkrM4FDI/2RN3CfHpGHkzRV4v1HSB9ybwcebi49aubUQrY502MGTDHJO/QKDdNusAzPL3Rw79vnOBYjRQSlPAm0zmiNFirDK9krqHdsQEfk/5MYucNjEn+JBSZ94CsYL705yQQG8sCkRkdm4XXwQAAAFwBnjx0Qn8AAAMAAJsLqPgWzfclRdbRn6d0VW3KRAtnu/mn0iOSQAcjf9UkthrXLMSO2a8ouIfT7x8jsPMd1SLfYPuNQH9/UYCppUmclgZNwOlaO5cVwMNHqqyWmwAAAHIBnj5qQn8AAAMAAJ9lyE/c1a9VyZN3IGaaiuOYC2ioCKiTmXUrxr02eA1U23toAJwz8uZ4nZzeVdPp+XwNFCGiyz5unYtwHVVMJZ6pDzdIiUeREN1d6F2lE2q41aQDjRTPUHZticeLOM9nNAdJFSW787oAAADRQZogSahBaJlMCGf//jhAAAADAASz0EX8lgAufngBCfgqhh8ILagxGha87Vtd/CJrvypHKZHoTCr8FRfWWQhf6qlnT62xssZsQilB7Hm0/STXo/2Z4+pBAYJYmQvon3O+wqIfBlZPTrlTp3h9DSQXgwKEOikzvOmPrLgvKOqoXxChAm43nrBhEutCSFdGiwKzPtuRaE9H79HsRhf0oPOHnuiXqiwqRmEnAKFenvTfxNGr+w1CkBAYBXjb9x+ZJ/pgs8WYs5ClDpPj8sikchvYcjUAAAFUQZpDSeEKUmUwIZ/+OEAAAAMABNPWgtNdVQAA0Vjs8gloV/EcOXCLBXONUvsdlldVRAvO/TIxGaxnsWvzsNyuMNeahVtZruZsVsUHcx4DqHJVgukeC77a//AStoGCT04fiFDzqh2zCLmPMKE2TD+LhnlpiGkfSkRHmJ7qvEIwXCSogzivGVgzqooRkxO2FqzJsBGo3f1nVWxnfvHTRlDrU2H2lmY3i2WCTrJee17IfHESLj1WqqTqHTv574DoPOXTf/8pKPwjmFytXBLokMLI3McwbB1uqxdKMLHzIAo+6A4+sEej3LRVhU4kj7InfqkTGAZjXZw7IHOi0lZLVp3V7gkcONMHdkFrwK+s/5N2LcrOtxI9Dg2LQA9DuraGHxkKkskCfOEGhostREf6wPbiqgMvrZK97yhLhTVvD2bAKK2BWAyQq9haNnVhnOKHki3++HoKQAAAAJxBnmFFNEwr/wAAAwAAZyXCXfK9h4jdiW5B0AD8482OrVarDxqkpX9Vx4eR6/Q438lBpULJJtGdcUd+DSley1KmNW4JAbyS0qsQ9AZoj/2jmTWsev59bHEokBNRVOEmyFublvagglZ1t0V2RZvUIH+1z9/27TmGn04IyeeE9D42OvqU4GuOZ/1JJgXsVD+leQGjwtYjdYy0TUE+2AUAAAB7AZ6CakJ/AAADAAGwk/MkVsR3RLoAPo7Vp+ss9rYQnyO+gqUZtyeRFRDWeWWUDnekLKbZ6CiKS09dKfAhj4eOPVI7ODQDbNud+UGe7NRsGvfjfyCUPtJLtjF7Bor7zMEYDdZUJEPc8uPvqSIAz5o19l9rPydcASYSilrhAAABM0GahUmoQWiZTBTwz/44QAAAAwANLomXy1tpABxsvQqT+t5JXh+uOsnCOpme0J+x7qQs9dXK8Nf9IQpha9gPUnJnJ5uf8MYQLR4To5fioM94giBDgzCsGKvtdva1a3OKVTEzEMBw78LNEyqjx/7rGs/FRGJf3DMRMl2IG4VQhvKXCUtkJICaUi8sQkMkTnymtGQXumQM4Fy4Vyos4ritlZMlreJDJX9xnSEETBhn5fqlHmMsEhqRLm4RdxO+tltmPxKHVsZGlUpgFSXkxUY0qQLdSvLWxqYQwy3XLhD3M7LaO/MwS/7Q0YtpYJju7YFPsH6naIarPTa87AjmnBPXBbNu+EM6QKNFJCV67EDErHV1lSYSPdtEjby2gz1qRhvxIlFu8Q/Uc0xOt+s1Onbp7MtFKbwAAABtAZ6kakJ/AAADAAG6kvwfaONA1UuprfHAAc9zYpdjgl4w1nIfjk6SdpDAS6SupaBSqICOebs3S9IwZqtQDWRaf62mzxqkhTydiu9Cp/9/R+vZc6dTVtMAayFRMhy6jQ8x1xhOAzvjgAC0p8aacAAAASVBmqdJ4QpSZTBSwv/98QAAAwAAWF6E28Ab4AW1+DyXnytY8pOVrrThmEUYJFU/7FZQv5MHapcJ4Q8/iGuVFLipfEYq5Z4UZzr3T+3G3DfzZln2Lfpv4QXP4D7RBsfGK8k04wrZl/hd5pOSurfOi93AVl8pJM3yG0aOfF+ChT4XqaaQRA4YAX68t5ZsTtIAgTZ8+TCCND7YVkuDsg+gjeyEN1kZbeXDUO2ufvG+SWCI6b5jKLpXk3O0siTUBuFusxY8jyHyCAYHovWyIO451QdX8xyhpK4hFNY/elszE2ePnRa70oDxB7dQAdq/JbCNmnGLRAc0ktlPcBei6/98CXAXbEhLaoyTn9C4U5VWKA5GTl9qRcsvSQ63kUaW7cvYGOF5Y3DqKQAAAF0BnsZqQn8AAAMABLfghbQqasBtN/t0EH9DrXMqgUSTAtiqQ63o0DIAEJrKZovooEIpKF8F2zB9E+UN0u7FaJJyfu71mAiCy4AIRDugcvkMD7Oq736+C9Q0eKU9QUAAAADdQZrISeEOiZTAhn/+OEAAAAMAJJ6drZrRACXTmFEnrbkyh1q87g5fOP1Rgt8tIwJzwIv+7ixqEkW9dCOzJUg5TZTAQ0oaGbL5LazqEfm6Rts1gaU7p4UgtjhMJ6lpguygUjtoW+0Y0wpJYiTxxgnoUJq+VxhYhx8h+NUeiFVD2LUBi7n+8UwbzGFl/BE1WNMntDu0+GNXrbnYzUU86NpyTLuX/Lch9rbu3IKbOAsbvk4OP+ffoErBa4wm68bTeZSpl65b+ZLnj4O7nv7UcMupYE/ORMYqktWBKlbpg/sAAADjQZrpSeEPJlMCGf/+OEAAAAMAYgdChHs9gA4ZtvL0wL3dpRoFtigZJttkHXNwN9Kmqq6lS0pvR4UzBFqCNVT35Trc0hs98MZY2WDZPQJdzQeEBihnGJQlMX6uxyk3M93ugTuebM3zbjP6ArcH1Llt/8OG962+Fuv2NGZ2nsLhPNuQcrmTcpbu6BN9S7/9GYu2qZ9Fk0IkAbGV38KGI8E8ciewvSx0nVki46Mtwvs6EWDaZ6pbtBDoPX45T9a9XOnq12b8pKW1zryN/TEc6ebqrDxQFXEyPEpIAW5wRGmA6gBQyoAAAAD+QZsKSeEPJlMCGf/+OEAAAAMAZIc8YqwPYAONeYgxEphOeel8M96m5a7OTCF7X4bizKSmDnfYsJ3f4HpCPyIl4l/TCQxvqBKuRHzGtohZNZ7PfVynPFrarVCDXVca28c/Ex7L+YdCLcomF4myRdkB3Ourc11FxFC/Iw0dUUy6k17XHDJmEd82H8vts/L3S0q2mJ4rHxa/x7rLtGyO3ZE40w6CXMi1huIGwCXD/Lv3k4d+fFJlfsyKxTySaDFK/XRzsd23fSS/cndHWSveIu3zgShQSsY7THhdlr1xLlhzkDgu/B/6gYzLyeceKQ4PaNb1aVNzqpdrl3TjAuvTYoEAAAEUQZsrSeEPJlMCG//+jLAAAAMARAGOKpTFPtotRjvE+jXDEkVzwFp8esENEqU7cV+oRnVhwTUEAW4ggpzHw2hlCAeQwV0taKmoR7v8e0a4aXs3VlS4EnHjg87cxoZEjCv3jB2462u8itsoAGWyH5m2N8zIEEY5OkhamQxNldepM0cpamxaXpdQ2fbeFm8i4i5am6WpcaN0gf9hPODEiioFqgxj7dAukXwy/YEX9CZrpZBNCmSY8J3YcNV+1ZhDIdmGmsmg8Vcag1nB1dOZQfSzU7UJRRvTJCToVft1elSvg+qpY9J0cP0c0SC+daRgnZobVGDJnXOtCiOddR4/UL2zyG+mkA05H0pv6ajzCLmEvUhOL/ahAAABL0GbTknhDyZTAhn//jhAAAADAtUdWEshf7gBCc1iURoFsuQicdIl9fzqP4rrXnhXxUr1iHBcttib/DcecrkttzvBe5/zcAsrFS1TNu12Ark5Y5xJ2zPY0psCMTv23wVmd+oV9QU/Ti+J8lTjNdqUYiIQWC+CvytgsrpPBRxyAvVsBYJiRQNVBKKXhA+eFFvsGs8ekcaKI/OhZMr+JWkn74mTEqFnwSDeKvTuM6WVJZYdudM+8+H5BMh3BvlhHbmSuEv0rdzQwCKKNgraOc11dHmiJJ9uyEjTUtvnRAi+XPwGhJmY+kPxM6f4XBIdjrzhKvYzo5M4t5To0Gw0LSvsXuAypEKoqVqYtKiftGuix1WN1Cd0tmY8DPi742cfgQFGr5Z6Y9XCBZP3WXXa4SlbmwAAAGFBn2xFETwr/wAAAwA7cPkfOgzTLm3mwEmkA08Mwlpxe3BeBUAGncP6twEhBWjf049H4Uap+acUYnicBGIxHvR2IE+dcPrLOSd7VNQo2ZtSUb81KhplwMjeTx7dpNXBvUM/AAAAQgGfjWpCfwAAAwBfpKJ22MzoZpRB3GNjyJgAOlz8lbcxKXZ+6foR9X9qk1dFWHDPGItSXOtmO2R356mmR2oCm9rd0gAAAP9Bm5BJqEFomUwU8M/+OEAAAAeW01h8gZsEVg4AD73Vo4XGcLQkAdiBv6TNOkPUc/SawH3tpqK53AIcih3QjPIyEHgJ51D29p/ojA1ViKxJg3mE7fKq2/vbEhLlSLZjrQr2wY/vcg6MAjd21qHy9+uSIhH66GubAqXYMFNQ0dH7U+b9FcghvOQcKneIzroVGhnA8agHVsGPCaGzOwk0F6FTaL9goS8i0LkArcHUtq1/UrTeRP+jXBZDMdxnwmQnVGf/MGEUcZ3KtakbJ1IEAppBL15b3hdOEooqEBKreHFEIDtgkVsUQEQ75mgwp8aXMrWu0zx9luJkWR0J4yMCuhYAAABBAZ+vakJ/AAADAP4/gVawAsPagwpV4sfG6L2Blwf9Xy+SALNhaw2PWW8CFBVg11N4nfhtG2l4UzRnRO+HDwKwmfEAAAC7QZuySeEKUmUwUsM//jhAAAAUaNrdMnNIAW20DKUb+LcxljlPTt2YdtF/nCsRQMOfACi/DxUBQm10LUicP1ppWHYt+3dzMXIfbH6/8itUQTBWPr7KIhSXCbk5BKszAi8lZwWAklPctK5vD93JghoAE//XgNDhQ/BTvaMiLdYTug8osg7o6RzgAwNcLXw6i36OeznYDA08eB0arb/k5HyKzl+8p4bSGD8G4MiONcMJwsGdW82MW7l0lu0BlwAAADYBn9FqQn8AAAMCxZhIK/sqG6SOu3YBPB5lwco0kHC62vsx015SHgATsp8V8xZScqz/ENkUNWAAAAByQZvTSeEOiZTAhv/+jLAAAAVyIECrmBrzJGb2m+8z4AAFxb1QdIzUh9RGwG2c+6usbJ09/FPGK2W8KD28mXoaIppuYxKw2FPl2PwK2JukrIn95kn/ygvSUmrJi1v+vZhia0Wa3eayWs6pABy/6ayhIbqhAAAAg0Gb90nhDyZTAhn//jhAAAAU+Huw4sAENFxlEd2xXsJVyT20TMWI/Yw03Nl4iCQPC/AZdhhAkSnshyT4ApLxkK1lws6CAe5AMU/emC4Y7oSAU8j1fA+nSDI4QONGmZfDUvdC6GjAttUua1/2qqnUGoJ/CDgTfkDvEWqA0x3Kx+0gt7irAAAAWEGeFUURPCv/AAAEl5Dzfcko2rmmUsflabOyTprAADcr3hN1dSSiSY18PVs8CzsPd9e+H9f7vjzXOIy817cIXG+jKGpRZFMbXvT7Bev099ljbuSbysEoyoEAAABDAZ40dEJ/AAADAsQHGtH9bVan+s+igyr9VUqpNvmqB0TySzmACF1yd5aBr8JGdzLX0OcCWhwrU6nFSTBgPWcAooBiqgAAAFEBnjZqQn8AAAdB+llUcvYVb7EAA6xmJPt+7CMLudjOHpcaJzNgCs59pZ0optEOTSxOQTWqLBGAcwM8t5KTq3gGhe1hzqEjMdGy8cW836N4VUAAAACFQZo5SahBaJlMFPC//fEAAAMAM7v+xSXAcG4Y9+laXc2X423XBAADhsklcD0pNAgI9qnAhvL5xDdOj/8ycXZXRygxOQ+dNXAMKABN1Rg9aM/RpF7qiCKtqDqAA/hT89e0GNL5ek5Ko5LG/GPZ0ZEJx3We+DdzmRAL2jWqNEolteWkm5oy4QAAAEgBnlhqQn8AAAdDu3iOK0Q4xeYmRA+yADO8AAG0AGD3wSZDAOQGNhZK+TauL8A3/Wtcc6WTQiOuvCkz1Lb96ZNdSkcMI1nAYccAAACBQZpaSeEKUmUwIX/98QAAAwAzu/7WY1CV0Phhdb2oBq8K57d0MCvynhQ7kker3NisgAaQAOm0PDzv8dV909DnIA2G673LfkvUKuVOk0GI95q7O2mC6CBxMDBu7m/OCzcbuZY5dK9vCcRDIyXVvADW4YSb1GRVk1FvJq3RKJdwrULAAAAAiUGae0nhDomUwIZ//jhAAAAHw3bzfVgVovRZIWmMdkvkqa/I0rjuepLj8fDTsdjZSAdhmfkBYKuciZH+VM7TDM1Ux86eUjDHI/Sd4HLFXUS3/iMdnQVqsnzU9FTp79lum/67/sdTxgUsVU2ySUKx0h8FMmYp05pXpndJecr/0VXzZw7qWDdWGBlxAAAAfkGanEnhDyZTAhn//jhAAAAHn3/pGjIAUGd2DJqQynEXP0ByrNs01enXAMIALo+WwWYLPq2ekg1zPh7igjrrmcFNIjSXzSNDdm9z0euDAMb5z/eWfMSrasxXGJJlS/df71Bmuy9Mld2QUb0I4awCoCnG/q24zH6b47tTWA2H4AAAARNBmr5J4Q8mUwURPC///fEAAAMABw7juVzbHcS93mm5nZS8XH+mmI22i9otjxjF3YjFHni1M4EPvqIVWSjCPwALsodVB6eX8yeX/B8GJHEHMGXz9Qs5GO4VRmOwqXx6TpDPYnSpSL7yIn/NgBGzTNytgPzuf3j/vwT+ajC640MLK/Rni8cP3GfKUuxlbB8kVuggwOQ/aQG9+SX0YUen55ktGH2o8ADZEOZJCqMqPGsGvKdfJHPZKiBG+uQ/GpUB7QidFjhlgW2qO/MDFA0RlpmGcoIYWlo2KUhrdKXQMr49PVHqpOslfX/Xh2yS2J9Xn6UIpLapXixRgPCeI59JdJq7JqlGjAoJ/TdRKSO4d7FJLAMhwQAAAFsBnt1qQn8AAAMAYf2KkeVh3knZ4ZvhegA3pWystzxoXVnlOa/n+w2EDFYtmKmQ/rsTLnUpXLkKoyV21wCinwOvR2eZeGWwGgI9dqIftEXBLD6SkJ4j+JpGFl+BAAAA20Ga30nhDyZTAhf//fEAAAMAAqD78fRxO4prahbNr8yRfAufWShX0g5p7hlZwQ4nll7B5aUqskiutdubSPE/VYti6hFoVkmKfFaCOhp/G+S679jhxMaS8L8326WWhVpUrujaU+fb/Xaic4ulzkJE1kitUMfhEYVDDNXqNjLVk/QtpUthGnHkKbX3tnuwjwZQobCjB0Wtg7xn4jblE9IJWHLP+7R2uOAU2Ri1WUYgwVh0MJSr8bMEgdh+sdKDKEN9mKZZFq4oc5czkGA96k5ggMG6bFD1gDanLqSbMAAAAM9BmuBJ4Q8mUwIX//3xAAADAADz7/rfhhcHoZeAHFokBAxemvqgSwwkNbOIDGdgnvZ43fxlXUnz3IkOmW3Q5Gz7nIQfjKYk6qmFDa+hCCEi0FVKN8uhKCga0lbygXGSuWv5GlRrOOj1NDNCNAWHrG4Vb21AERPWFTAmVLNNidgehM44SDdqmO84a1H9eNVP+H4vFmICWb6+5RfPjWeN15cH3SLnmh4fJZHxQAV4lQGDr9wmClj5xg8HHeQh0UsD1bY16K7xQEcFP+pmavsO3S8AAAEGQZsBSeEPJlMCGf/+OEAAAAMAYn1IveS6H+cyFgMYkOGuKhUjAYX6jMTEOg0qGOI3L+BGY9t9E6jN3MZmP0w3z8OxjXBoxxmh4QfHIZryOg27HX34Pkxcynbm4ouKbHi25UGfR7u3PHguutaBghKc1uPBYzKgKq70AuY0stv95Ag+O69FEiBAPJezPfvsceR/KSlr66QmXnB6RqQ6vQKsiYJYKmkNRoLj1ZMW5Am/tlVvGo5pM6MbgWy4H2O16Eu1If6O+3ddqy+MeBAEQHwBfx7tY5Cj0kLtfhr//rK6543tAaS7lLxCVqoIkg+ysLvXESH8FmWPkTGjMAaplu4aUQLhQHf/7QAAANxBmyJJ4Q8mUwIZ//44QAAAAwAk3wQt/K+9sXY3i+N98QMcE8Eis2c/3Qx7bdEQ6Kp9L0P/A8xeRm2qe/MYMiYZLBHjfTnZ57l+L6JTrtTB7OvhZMOkEKGke1l/SDHVlac1rtcIelfX7TmDQD1MaSunKzpuOJPHvhgrAWq/RsQswySQkROCfrY0N+IkumnuDCBBBx4Gz3SnnjJDjKkDWVN9ZCL+9ckXohj0KWM1ijZXe/SQUQPtxLnuTBgGGectB86NwyicOndlVFGOFh/+LYUWK3t7Y/t3rP4XQKz7AAAA9UGbQ0nhDyZTAhn//jhAAAADAA2PqNZWTdc1uAE0QJYxD2Ue/D9tHsDfXgw7VFP67qj7Mb1lbGx2T/eZhGAHEvU3zNMmfPqcbfc0+aUkG1ZaeZQ/DHyMn/ZuxD1Pa7x4TJZb/muLltX74dK6njjpQUYcQhwmSNPrP/vstWBrLWhf702Qy6+2WXXA685fk2b+Qty5V/IH1T5CgGnPW+Vn1ULTRh583JLjVl1cf2s5Vj86+VSXAOmFH6I/6vQpG3860Pr0pO36tNHWW36p7SG/zIDDLbYgNVB/yMqqCWEKaSMpkWa76xq+/zClGKvrMGImUE2XjWKdAAAA70GbZEnhDyZTAhn//jhAAAADAA0/uQ5mpdE8b1gRs+a79TD+RvfMAF1d6lrIXIHyZyodjxmwd4sDh4/tFURc15rJJDxlBaa2LCj7MSZVN9K5BxXMk5dcNe2yBq3DuZWa8oBL2YU7fKfjyemZUe53mQB0WdDlvh9HCqvLZkCd8Hbn0jrG9VD1+OGg5lfKog+1XhRCqo23i66cuysnOCII7hgPudw4GjDkvdGKRONgKqmcgVWn0HTawqpurXkmmuAcHFKIpTdqKAcdyzP4XeG4EnI9PV0ImQTcdaPAvrxKFBzmuSX8u3FVqqzluv6w34b4AAAA00GbhUnhDyZTAhv//oywAAADAAFAqheW4drLSTkwhEACJTlHRaB9uzTg3VGGleNxe5iVWMQIZaeMX06oKoAbpycElhzvT69XHbqrn16DAzA4Xc5zsBSQBCj74ibx4nlcBReFCDWfSitHlrTQTBsPzlylERYNwCguMCgMiIx3uf/BPKgcxIzUnHhmzKV9w3Nowc4vye0PmgYf+NvRLQu2HnPBw4u6zkPmknu90VF7REQOGE663AiHhete+KYPLhoBnPNVb7q1wVDQ/RrvAVqet8tq71AAAAFCQZupSeEPJlMCGf/+OEAAAAMACw2UCAIkK5yOCRtyg6cCeT7Jc79Q8gYWIi/EhgO9f7Yy5FlnQveidq1UEJ3w19ry1bM0/jPA/nKX+xuGs7R3EQOKyNR4zvx/fOqtrxBCJsz6s8tbWcd3/vZSHpC+reZKJGsOgknKgS6kB9VAaUEldm1hUjcjZ9fihKdXqaHXlMBlOXvoW0JAV/Mqd0g+1f26sHqkWO+qhkYtmUsDvVtT2pTZ5+ojQCe90kTlz+RaEgoW0OfoGsELQpXvVmeJvcOU3vi7mi/zmkzng5tLpfpFVaLWFt8fOc+ICEz9lZOIgKEpuTw9cDwwcberq9Nx/zvT/HpSvlJK+mDn8oxvcuT28lntSPwcEUjQ/SCGfXr1WIXBzSgGvGIYlH+qHrmQ9iFtO16Jj94JMOrB7f2+TjjUcwAAAPZBn8dFETwr/wAAAwAA5YLfPHr9mBgAF/sQmOGwkxsxotbCy5QP9q6qKyTX457b9x6YiOL7+doPP63tDiwxS7QhLIxLVv/QK7/ZACR4DxGfYSuGRzRLB7uYx/Hb+jGibt9YJSvu2uc2cEIXifcvokr2lACMVBjyuW4wpRx9nlq60YDB/o4u3NdXY6cNDUr+xKreggilIQy7HtVw1jRGRMiFd+UHBT04itCJ7hxGe3srWqxFBLaORCT+NyolY5fCtz9U3TV1UEuSlJQ0nKHIE8R15Zee4zc3a3UPsdhEUKJ+X4NJNq+RxnwVV+R8gXc7s2Q6oXsYX5AAAACpAZ/mdEJ/AAADAAF0F1FMlB+sV6sYbP5j75tvJLfgAOrgzHGhsdLC+a4qerOK5hOVRuPSsqZCwjcxIcp2bXzagzI57xCNkXUkuxnNdxkWGJroz1D10fMID9jQl0HFBOKu8cY4fn8b24HmU595axWKHMgnnIlcTNXCHmTAZQBfs+ZG1MhcaKLok3ywqJdPU9IDyYXU66UTdgzco+5+fSMdmUJ39sa3qeN9gQAAAJ8Bn+hqQn8AAAMAAXTNgAwaFiT0XcO1Ije1xsBGgADosZ2lrddYZpzR61TNDxQL+pEBcFYPrCtmV+SqSRf9WVeb4rw7Xief33kzMXp2zefPZyaaupf4szqPWqL3CfIdB632MRU71RqLD/UMTCJj+0C07qw/wIdZOzRdSpTRFty1828UfjhOj3pvh1o1MtVkhzPHQu0/HD6AIv8WTM1KtYAAAADoQZvqSahBaJlMCG///oywAAADAALcoFOV1TBHCzOwALs5RjRF4mCnPHdnB9eCUGIHKEoNgnpPfJfBQxmyEAoN0mBwQjbE3/xcwPIfC4zMHQOWXeGrwKMZ8us4FIiQ1s69P7WMjAvF6s9BhjV+0TFhcnkkDVCYXT9nxrmLa1oa1yY/kMpNSCedXJsdvX37DwOyduqalTYuq4nqkGwZHptwxOdh5Pxp2ojA6Hoh1PyN6JfE7ruQwtomn9Ie0IzX+rjyXoE1JBI/cc2pptgsMyZg83YaO5FXw+ahIBH21j8tO3PkJNTBP23BzQAAAUdBmg1J4QpSZTAhn/44QAAAAwC/6q4LMphQAtb+8TDtuIqHv4VdhzXodLhHwVFJGi1aKfacC4CxSDMDVkgwXM/SsPs86ujPaOHwaOUGfoNPx6T93IZPtFI6N3TpUHouyFwtWForH49hrMPm1RTB8MYUlNNkLDqjFSPWfBd9roy/8g4D5R+GxMvHVg8WtD1OwQ+l8DHm0DS1vRCLYYpSosBN5tD+GQbj7BurhqZjxanVT2x3azhf4PpvPNuJvrZwW5m2MsnsIwZwFnNkDZicJ7lyLTz63+P4dvjzhQBJeImfi5Qr+ogdTDOgWeNpdU1lUs3MV0zc9eEHDVSfHJRdhkeQXEW1BB0IMJO//0IxiJeUALxTa2KdpaMPS4+lTUFncas473DPJfx72tO9koH5/80YqqSj7DhJjV826nQwJ4s89Z1u3Lp58GsAAACwQZ4rRTRMK/8AAAMAD4w+R86SwTEgzlYdBwAE4wL0N8YxHtf/qINwqgjIu1YSat19JgnVA10LqaLV2ZU8yvvSniqn10LTkEXyeA5PC3+ruJL798ucKB2ZY+5ZA4vri6/ODtOtDm72DWhP8HlA0oct48uahwwXrY1cP5rECBpj2S2efRFrKADds+sQYkaAw40w1igqUn+sydqappu4XeDrBeUanXQg1ySzdLa9MsO3g9EAAACYAZ5MakJ/AAADABkpKl60F63WdwezqXwKa5/bOJWoVkAA15MSJfmYy0M8fQ0LdPBV6V8NZn40SJK7XO5O2n6RtMU8OkpJhanjmrAcOMkQ9GJMYCwfUEpPAmiaWou4D9VicbVg8P1gWQhIbRsGAybdEng1pl2ixt1jxaDZtfLamEHrCBOvITGBgLFgaRpdJAoO5OJg4OQkZ4EAAADsQZpPSahBaJlMFPDP/jhAAAAE9ju/u3d/SADkyW3wTLemVB/UwPITpaa3fwRWm8q+ehrv+c/wcH/jLjOtt5BHodkhg7/L9HJCZQUrQ+0NjIgE+4Jnfny/NZT1N/eJMzf4B3HZg6oWBk0Ep+BNPZfNARMBUfZSf3/0INB7OYa2GXJqz2hljiNyDdaikjwZZ7c6hqjQTE631ZXcq+oUNqTu3qUF48VoN/YrQsId5uBjhbIYC9PtUX7ddNrU0t0p6RqKfgL+eY066+bOFyD6opnxzMOFhFmsXPfEl7shmHkCFMEqhcOuirhZkzMQU6AAAABeAZ5uakJ/AAADAKhmEvgZ2wN+19P8F6hP0zUA5ymmkiAb2ff4ANQdkserar9C0KYViDlMqcxLj5ksPRhbyn1WqhDA4YmZwq5+l3l+vbqjVJQoUe+hZmHxwzsGwX2zBAAAAPRBmnFJ4QpSZTBSwz/+OEAAACGeuGFoeuyACWrURMX31tfae51mSn5QhBBbwSpM1qtVUn9s8VUGiZhN/VhTfz6x8binsI7YDHNPAiZf1URzn9OhcjMVSOoRgr49Ee2yIErTqmjcObdFa+vH3Yps7OWlZNxakA3G92HUtl4cV3+6qz28tTrUzKLDjma42vzu+Q18wD1JDX8UHTYy8bfqdBvmK5r2mTPiiIyjpjVle8BL8GblsRzy7JDh1QsVEz1qsavckSd27mjgus7856V/ASMl1lmOT44E2bReKZR2MZygwINO6N+e7SSY6GVWeG6X+kA4k+ZBAAAATQGekGpCfwAABHfghbMJLb+ZiJYKi3G4fScL0hbx51XEjNCO9iVKbEZrgAbJgZE8M6DFbhV8ZC0TZ29IH4XU4S+Dz6Wq4RcV+UcctHNAAAAAlkGak0nhDomUwUTDP/44QAAA4eS4Um6X6vnGgATrOGolhi3Wh31C1WG5E1nqLw3fM/otxEyhfNRkiaKmoUHbsPVB8gKNiCdAYM/IRp0Y3reF1H5omgtz8zfY8BNmPhidxoxM+uCG9RRrk6vvJxSGlO46rRhrCnln31B8ZIB8pJxrl+nrh/ytTUX0Z5ijK6d1srRxIjgMrAAAAFQBnrJqQn8AAB236XI68qkHKHd1SP738+z4hwmYO5LBXgG++hA0AAAN4vwuDLl1kQ1PNf5Wd2rDsh90L0QxDlD2qnDDtH0xJtL2fULPFHQJQpTEHwkAAADtQZq1SeEPJlMFPDP//jhAAAYc+0ZS627AAWPgfTR87aEWwTiyZxOFTh6ORW2hMU0Dw908d6llHClW0xiiADoSRW0lWgzPWe4cKj0imfNs54BK9tNbcfc2JnSXAK10qV3QksedinUVlyz9ew+IR1z1ac7YNa/UFdWPCTqKcoaT014xQ2tfc286EGmUwTsnYeWNuUJH5Z7JovqF1ufvF91Yk6KwJtPbbV/MFX0baY5Iiq8GTN7+DRavVFtzHtYHFbi/F1LLXIhgWePTnL+eEDLRaZ+SyUEaLhURNZxW1RbqBtbzZwxrAox2fqGVYmn1AAAAWgGe1GpCfwACC/H4w3jSk7rr8GUZnmfKKiv5owsX+JAd3MXzpStu6CzD4AFh7UGADpxQwnCKgkbKJ+cxNetz1ZMvVIcoGp29vpG2JvOcBLNyI+CB4Bxlcbg/8QAAAMtBmtZJ4Q8mUwIZ//44QAAPjwofsGz7sAFxgEDOeu6z/k7j4CzcSTY3xs42DjPVO8BJUV7JoT1CYmTSqUcIDiuuWz73y99zWn8pR9ZhJNOS+3GGMAQE0xLQUulzkKHPhcgi2Fc9w0+X2DxotAOKkH1stRYRJN1jr6/NoEtJzO73MLWZQqYl4PauXM/3XZ5L86uAvG6vOkvdvUTivhtW/LRTTKGfaOQQezPUc9vS42779RHG4rajM2wfUr/dFXtQHHonUlN4Vs977AAz4AAAAO5BmvhJ4Q8mUwURPDP//jhAAGlaBgAKDaiJunPQ92Lidzt1xamVdhuN9dVUer7NWxHlUanuERgYl2V4UGA907mulLIPgqiZHzeSofOF+qHZsqDfqodCJJ3Y6378duQkV61mODLW2sY/vgXlNctFv6BqCB8/OgwgqnLLwObsnQ3NBPUqJuQ1LmXMIKekKX7pCvPP8T1V8/UWz4rkszME5NHP2OzUNfCLaCoo5U+BD866etoC3zCdwtpPRXerO2m28/Q0rfHYcVrt8GMRMmGa0A5GwF8pr/09lAXPNsTlkq8QY4OQXrEMetUP9CE8AFlAAAAAewGfF2pCfwAN1J+Gl130Z08CJkHTgFHAqsnToaYhOM1/4jzT4ufK1znhvwrQcZdzysTIiifO3mUMCjtV0BEslXz87jmUOXyNO9vDiV2fVwT0Lv3OWiH4MzOxCqOIwzJNikKRtfpyn0Y9Ljp1e37S1J/WHYfOwRT9pkj0gQAAAK9BmxlJ4Q8mUwIZ//44QABpvvpHp5aHSPFgAcyr4vuxnHQavxmGlORGvddY/954wuJXEc/dcUb5OK09qJL/JyENesnZgsP2+gtDbq8lDzKlzqbF5RJKnNNKB8vKU5oDnXTt+Qj031C0Dzs+q03QdHK15i2Tu6pQ2c8ZHReZYfqfJUzIse9uRiq/iN9ZiHxBCLd/c00PD97lvMEhNJesiMDD4SQLHIyUFbHrX4tQAAWUAAAA60GbO0nhDyZTBRE8M//+OEABDPWBTHmWIAQp5wQMOYisQmr/LVQZjxup2HUGa/JdmlhRq/EyY198dyuOdtFO/zyQuW6MBu+vbTmOV4/rEpY+B0ZdH70T4SOzzw0YxK+aU6Uex6i9GHHvnS81upPMl2YgPBc8dYOQp9pDGNPaGQ9ebTdKg0Ij5doWRZUJetzOAOdLeFvia/jG/6IVrw3UgceOJWnZIpRdaWK51ctDmT7IgnAsJUA7kKIb41IC5gOD55W12OW76V4LvplPwge1GzvEWLoOcqJ6PmqgmTSoLIIRW4KAn0e2eEEAAb8AAABuAZ9aakJ/AF0zXLrhuLyK8AITvPHXC7ImOpLzdH5OEFwc/p6BpEC4kEYjom6y3b6Jr85bVMskeXHw9k+r4xcXq1Vw2NwitCznX8cBwKAxDjFc0GjXJNOssThjFlVI5IEdmF+FXBB5oR5grRRncsEAAAD/QZtdSeEPJlMFPDP//jhAAsTGEvYSZewAQ+PNHEyA+VP9MdDkxgqYd/Ws76nCo9B5htQ7c0ZyP9aALqB0Tc4PPz+IB2yXpHZDhwVCNwYYfQ3tKhXzgbmelCcpKhkYZN/OIfkwk0MBgQKdAdDxZUKz3UG4B5yEV8wseTdfO4pG/EmqWIBgvVOXDXy8sbV6GEbOnZsAd/7aKnKVG2E2I5TItDshXmCUtXn+xB9fGSjz6HzgN6LJqDuIiiOvj6BqIvP5bukkFMOipl2xabjfwaYuoAoNLXPYwGerlkONOxoxJShrcEsKenM5gQo+DsNS3R3srZG4+xeYavpd3S8AAHzAAAAAbgGffGpCfwDtwAuvm5jo+e1eWIicyRuVHHBsgUzyGlCK7VS8Bald4E7Ni7lIYEWXwgQiqnAAcyFzKHa1NmEMA98ChDeesEKLNGkrK/ibBKzVRpRNPH+vtdFwz6Tg1BR6419qicIpyN0eAIPiylbBAAAA90Gbf0nhDyZTBTwz//44QAbnRT+TYf0gBNXnB8Il18Pn1VucWtEvsFpDYzAsyd43+Y/kcT5RhXRW1qw7DEGtW3Ltq7n0WHMk5ves2qYzw9PJsi5mb+dGVf6o5zwUKvnUvN+kfbAxVEJ0JpvIW9TM/NqGHsSA5f1rxpC+XnxbZCnvNyyfTYBFffRts2NCE9LyHaxtiJMGBMZlkZBMyYwfLQCpiV2NnvP991fJ44+dN/gfe1RD5nHuwO50AQZqVSB58+XI7CgKkvBmmP8heCWdcKsPsoWru1fMK1kHY2OxL8CiO6oUd4iMmXH/3rF/YaoPlKA5MigAAm8AAABwAZ+eakJ/AO1f0RDF1bBWlyIaizaWCUVYwOeuvxmwPgf31GABxLIFvsNyMIzozRPsyEiRVKzLe6KKlBeElLWBngKtYlLDD/AQZOoA/mftzMdjPP43yysGhPqV58047//qG+WIHIR/lrvdlF4GbXU4vAAAAMpBm4BJ4Q8mUwIb//6MsAHHnsLjYRgAZ8Y5yQqTnubq3UbcEzMdIxCFrJy+xm+Y2N1FApdx54oet3xuUjIYKzPGeDYmapbMSxzd7PB/zlL7be7Tq4lLtpYA/GwyYpl1kdKDQkOAwmCRjDrsmE6gvNxya6BbUVAM44qjWB5xPukpcnc0fGrgFLVCilLeFbRhQc1f+a/4yqVL4AZZT6NeFWZ/BAngX29Tsh7XRz7zI2hxP8vYbtBPSESju6m4uOoKU4M828htQ33wAAIvAAAA70GboUnhDyZTAhv//oywAdIKKwAtnqUJk9R2p9UproXIbMCMDtL+gFFu1so2/YcWhyj8FSmNuCHtb5OWvlvW2arfzhOmgDrA6qUIr0Wpi37ke5tGYDRkacuM/zhDLqgg9hDTDbKpUa4hmPcJlM6G5exHlulvW9dH5Md/xy5vRIqe9LPue3yIpHyf1A3C2WkkLT4yJMaYiwYeojme32Ty2sebBsVJFAy2yBqWpeXN859eHnQgmlippi1rx/0NxxVIOLwOs4ahL8KbN5NXcOPuLIVxRZoq4ClvdoPd3p39zwdqlC7HPPAbRJ89j6YAAFbAAAABsUGbxUnhDyZTAhv//oywAdT1u3PcQ4H84mHaz/6hRjBRXesAtYdKwNHXn4aZSODHFqoCHSs3YSxoDfTju2j1Q+7bDFD5XE6IXhPvbD3bAp5PjaRIsQdVdMG97QE7+KFwbUKYqkeQUAA/T112TjdTz94FCpdqRXgT6xmk5wZ8L/pVhgAqSCK4SUJYvut+Rn1AtFfIoWPRRugXit8MwbdnwCZ1KUzg4j9jDXosGJ03R3eHWZzBVH/BG48jcvz0uNUjOcDDxpn1u7lr9yoz2QC5JjwRgRHlM/ojQ272Kv0T/8e24rY26/lDE69JCuDpPXnOcCZ60IhFdOHED3UZZXsiqyTNJgC9hLnYpF1Hxn5oHIpnonbj6G+tR6+tSv9fTzskd7Y8k9suWgPb0BbwtbgoM9o34z6TdizqO39FVmUCGEHubdVMSulDJB2+2oiPFQK9zTHNmcTehD1KiuDrswi0s7/1EwE7Q8dL//+1lLtnL7/5Aky0MbZB7odjAMxdVA8wZxu91n20sznHIL8AZQEJBqK1WzOlOtE0QeepQEJ+eJvqba2UbptyJOzWEDtRCla2DPEAAADNQZ/jRRE8K/8Alr+khK2R0vAyGTVTdZgAB2MAuf7p57Lf+MbubFKaWG/7OC1nLMWjUOiVbMtoQA8J+Ncj+yzN/gTC53ud7+vzupQiNKCROm5CGg11bEsAv2pGSK6LQyyhVsuDavkF7iVX5FC/lGGL6q6G+beFjx8PWzho5YWzz7vasJiccqRK6Ey0DZXsGnEg1JkEHSlsAhpTmAVQIMyWEvZArD6P//3675EjUDj+TvxOTZjwdqLr45wNcAvuM8L/cZ99KgsM3KyXIVS/4QAAAHgBngJ0Qn8A7ULli2UBxD7hWAAh0kOgXPhMbyF+CR9jSVCTAma+2yHvuoR6yvYggz30KgMcRi8fwZKZR++PDfMvr5QkNVUvXafet25jc26bTzrZLJ5TlGNZ6K8jNSaUv//NooqIw0gQFBJkQz93AAGauNY/TbhoIKAAAACHAZ4EakJ/AOfjwwkils6KADl/tSls/q6xfNhj1kiOzzZI6b8WgKJkVjGdjz2STbTNrX3qREhByDBJ+j1IAJMI4Lx5xiaDs/iBGd2eMGR0KPuB3LF+gSeG3kOklGIMnVRglnr7fV6YRdEqPUn+TABN5bYA6x0akgAA9IV01tRfM1Bhpq4eoD8gAAAApEGaCUmoQWiZTAhv//6MsAAAAwABKAMMaYgBCNQ9vAf8PP1dVxzrJsMRSxQ59rusRQyYwJ1v3W3x6q4x74kidGt/31LG74nd52xpP8Po30vwPkH+P6r2+TKdfCpF+rmdK8PtTLqflB6r0H/vFP1N6kW7kl+MPo5tr3za7WxSC4KuXdTqvPHybAwvKnHaqD6lRQ8ZuyRhJgBqkQbAPzgWBAenye8xAAAAL0GeJ0URLCv/AAB0MwxwCuVNbdpIja5zFf208SK3WL+rhUFpkDOUhQ4B6CU8khFPAAAAJgGeRnRCfwAAugt+wVzuLNfF7gVgBDVvBdwXuACIDvtJEIQtNJ8lAAAAJQGeSGpCfwAAumahQRXxAVmzwqaS1/RNF3Kgaku/hAN7W0Ws7DgAAACuQZpNSahBbJlMCG///oywAAADAAEpBXJw+0QASyWyuAf8hOYapQtPgMveJB8ryUHVV/zI4kFsJnTYH0S9z0g/iGgj0+DRHuVpdfSbfBI/UtgO72OYTR8V2MQ39wxJ+PGd3H83ea9RGyo8S0MZxwyQ3De+72vpAcmfUm/umO+WkqpReEnbYBYSJsVyFVak5Vs/5hG9laphQdKTL8WwD+Vl3HOD/yWBVHK/+4XECvchAAAATEGea0UVLCv/AAB0Nx3AK5UxtKDGkvY+mjc/EyuD5Ej89B1TKwp01BCjIggAfhxy6pB8KEoyIJfCXqOrpUp1qRVxh1xYI+m5qhBM5MEAAAA7AZ6KdEJ/AAC6C37BXO4rlyUzpTWm/+TKs5G+rF33/xacfwAJ1g1SKw8J2yFG74gYs7NAL1UsS4C+5f8AAABEAZ6MakJ/AAC6ZqFBFfEBbg/yIuH3nXOjddAAc3M5NC+LqZGeyxiHMk1tbU1HnVF/76xiYm5szzFCIrGcT50fiw0rLoEAAADOQZqRSahBbJlMCG///oywAAADAAEoCCJGAfHjuCqVxEftqt+AqdCQzKghwOy4tmdFmV3J0yY8LyoszuN1T2qvZW+UlIjZh3mdrNQGYkQeTeYLKEfOEZnXZ5FIR1TBi4WMspBnS2Hwxkzw42GL3HaRnBmj1j34iRkLXbHeiUYXUiAXOI7d4a0AIy2q+GMMuqRxY2fWlOSxXw+j9xU/yH1oW9Jtb/gy/hq5ZrIyZBnTHuqIY+ruHou6yJhxiQpexPRRFBPRmHHLpht0rLn4/cAAAABNQZ6vRRUsK/8AAHQ3HcArlTG0+nMCbBrIYCeVFVhGVz1pCNnBOTzGvI+bDOU2ygG0AAIebtwu5mhr3f3FZS75zG0rJUdeoRbf1BVEf3gAAABWAZ7OdEJ/AAC6C37BXO4sp+iXpaL+M68elzUtuAAL5KUxUnXI39g4ib+ZFIAIjnTLQ0RrOb403E75bfWSENYa7jqnDhVkL43nyzniglPyA1jMLK1MSNEAAABMAZ7QakJ/AAC6ZqFBFfEBkIKJmT1xE0sKa0TunPCNSYIyLAcsMEAH141pP4DURRWGfnKL3jea2nf16CCXJ+DzB2uwSW7lntQ6y3FEMAAAAO5BmtVJqEFsmUwIb//+jLAAAAMAASnpvQuivxdHWzGYAPvWi3WMswaWJsnBX3ANkaFCwkgjE5ahxbsniX9dijqbRzB7zKBv5FoXCX8FLzLxMAYlNwDhiPhbS9Rel9yePcqiKq7Ka6wCZnYAY/+ker0nujhoj3dIdeIo7RmErMzuoo5ay7kBxRQ9TztO5v0/OHaqiQDR9I662uhLg6PkG/J3CDkrRUf9adI4R5htCc2qr2u+KnAxONMhZ84MpTeMK5vl8WqK69r3m3+t5tVynkjxEPFoJWR5OB+VirFAchld6Ml88XCVWpwftVtKMKlAAAAATUGe80UVLCv/AAB0Nx3AK5Uxp3zXI6aI3NnXddxIeEkZHXGrTwCMIDOeaCFmI1W8bYRgwgLA4gQJl5tK8P7k/w9T5v85JGItABGhgUBxAAAANAGfEnRCfwAAugt+wVzuLNNE3AV55mrBZtwuuXF+h3BfzqPExnf72gAQ0SPBXd9BaTzXm0MAAAAoAZ8UakJ/AAC6ZqFBFfEBfp0Uu1gTjeItvjE7mkgU6z+NBf9e5HrBWwAAANlBmxhJqEFsmUwIb//+jLAAAAMAAtyr7zjkOXfFq8EQDA9DJfoUs7gveDB8vBi4ddGwXzYA6VsGmkkRF+kEEC0Le54bqyIGmTRosoStnymL9jCvFCoO3aq0Q1pfPd0QPk5St5Du64gLqqAODLKBal/vIy/5c3TZP3e/AxCLWbjz95k8vyjQAiG9A9p9r49RAjdaT7XZIK7tfyMH0jtd2/Jsl7xAG1naL82T2c6q6DXGPd3zprrSS3afecXUrM2w2rJNhBkgFgLTQUtCrjMixWStqNDKPfc33ZCcAAAAVkGfNkUVLCv/AAB0Nx3AK5U59UnpDyCzaWVsJcI3e9KjAAIJ79xfn1TBrXqaDcYh+7rgFWclFJ19RbJwiD8L/n0gMIJBUtTAOOmtkS2HvyDNMyJjLNCQAAAAMAGfV2pCfwAAumahQRXxVUmU4DSMmyQAho1igPNzHeYefuIPUiihHcN3FHEF+/9c9wAAAP1Bm1xJqEFsmUwIb//+jLAAAAMAAvHMuRZJgRUNoL6AEyHdqUkKBTg0HEUuF8vwxt54OEfoCCXN3FcAf+JErV93X+6MINnswWkwqLyBnY5xJMfv0gNyqOghPGzWIuVwW48pvu4eWHnU4AjBfvxtl+xr69wla2PRXzMyOiFQM2NNBc7/O85eRbtGp/za/rucwqD5sCLEtRxngFylEaKuu8yREFpLCCQh+Nw551fSHlcGKV29BOvTsmbxRKpfUM5k2SbMPvCnjOWpKPjLFcF++Vc8twXzvihMYNqLoKevX3k2iHtxxJNMaxIVu/JzrggRultw+twvtIB6mDYhwiCgAAAAbEGfekUVLCv/AAB0Nx3AK5U6qmhAkcYBhxFCS4l0bv28MR6OTcl8JsmUUKKygAA5I7MLA85wvRRbl8KFy100sYv5y+Bt6cAxIkCUyrgETf+N8VNDDzLRruWglMII0vM979QaAN0hcXNQjfXbhAAAADoBn5l0Qn8AALoLfsFc7prT3e4N79ceNXIuZQ9pyCnCPx/TJV1b4A7AAhu4N1A+nzdL+SSqhrnMZVnZAAAASwGfm2pCfwAAumahQRXxTK0EU2KsMWH+CUIMJrsV6z/niQALwHtGqiFebx9W9fccWxB1RxSz8t0xcZU0F+D8cHVC5fU4rV7lTrnagAAAANpBm59JqEFsmUwIb//+jLAAAAMAAtylIK+M4gAfs9Jshg3dhmlicNc9aWEJYKRHAJHUCqw1ka71OKVR0weLIXAROuo1BVrXRCTzxZ4IyJ7jy6GBy/gaynSnYfJbKz6z4arx2uXLI1t5kO2gDQ1M0sYZtbQNfsmq9zj3W8z70/8pVJx95dDMrX6m8/KiWS86DmFrNuSBTca4wTBMEjqRR5WzpJEmwQzkVuAp1XUuFzzfUAHn5OTSFD9rHDCrAAVk3CXUrJTwTR6ayuFOT1Ky0SXjGBo06+WZRCBj4QAAAFlBn71FFSwr/wAAdDcdwCuVOe8nmhOPCO9OkhVtaZIpH24/U4ft9vG/jysuDuGr1DpZCAB1HSaY72P0lZD8OR8RTUtha0j+WYARor4J9oWkpGX49elLbjhSSQAAAGQBn95qQn8AALpmoUE2SQFGsao3Skv6UsoO2yIIR0G6u+FAAnE3SaqE3bXXPrQ1WUIL0ASUxMZLY4m7HfZyGPjS7gR5lyxL6fSi+odaPr4o5DR6AedRiV6iWmBKw6ZsM6duX2CAAAAAykGbw0moQWyZTAhv//6MsAAAAwAHR45uhm4BNWGisWbASeF3CJ8ePNkcWzOdQUEv+qEAo08/Ldtw4Bz4FFmhQ3luHVeKvnFpYCMQscrDj7bJR30N9tFCnM1yD6ONRmvEXJ9SUOZwZGSQd/YSP4weYdoO9glPB8Q4yy7ChmcEDDZ6QsLkT0nQLcnwMf8TxocTUZB1so5+CQA4RGg8O5WAnuS8HUv5QpPMVdRSqLAqn0/qunBFLvuVHoYnJzZheokZoIMoQ9izX3ThrD0AAABfQZ/hRRUsK/8AAHQ3HcAwWGWFBmMW4PQvhWdyIV0AbrqEMLtOC1CyCUt+wAt4t8UYGPsBRKCUlrvGNaN/Vz01eBGepzn/lxjrWq/xCJbqL4U1xA4iPFxG8dIPEYb7Gi8AAABAAZ4AdEJ/AAC6C37BgaJbKRjirlSyzTS3FVy6Ep3pi21rG3BED4QADaXpnftZ+nmJ19ufgLn7MHOdokmhSBfJMwAAAD0BngJqQn8AALpmoUE170WLMy9X1I0XsYRRyG/IcPPWVTj1lAw7Je2Ej35gADS8I2oj/sx6HrPHs1gu+/7BAAAAckGaB0moQWyZTAhn//44QAAAAwAbvf+ltjwigI6TD2Py/+G5TaqhQDIve6ZQAcN+eDvikKQtJB8OAELUuQNiBxVyjKaLzT4zpnehNvLtDEe80fJb1eKYDbSW+mG2z6Cm7sUnhsVUWalQcNgCB2XX0mLehgAAAElBniVFFSwr/wAAdDcdwDA6hR4NvzHUP34fyplLL+gPvZYQVUP4fvAB6OFpglfnod0byY/kq36HG2JfKbQrqIsAPP9Y3Xkgk7CAAAAAJgGeRHRCfwAAugt+wYF3/HIfnPmjBo3eFvhLWSgfZjUIL9zqiHPjAAAAPAGeRmpCfwAAumahQTXc+8yCEd8xcmOULK/PtspdS200uwAIfKhGNO1c07ZyoM83In444oKRvgpDGyXP8AAAAHhBmkhJqEFsmUwIZ//+OEAAAAMAHG3/pbPChGfZGnrnubAV+8AFz/mQHqP5V6R4yrWYvbeaOtDKtsJJq5YYe4DMvybIAF86rJCY4pPELL9OjvLG+Ypc+Uay20680o8SxfrC93TGT24neg+OrfN5pOw1Dw5C3fFqGEEAAAD0QZprSeEKUmUwIZ/+OEAAAAMAC2cn1oQ6ZE16lXtAByTOTXstTo9nb2pzZnrbdu/KRta2215ilwv9JnhQvd0+dbBczpNvBaBhR+/e9DSAmhTVbmZ/TQnZuH52Tnnj3eG0qcRDSUSJO7fJtiYnHd6GYErm332KI6S6Psufjvfl5zJ3XHWRzYgTj5/sxWaKbSNrzFbazSvCImx9/S79eL5awymN0iVWASXTSWW3O43owEdNWFw5qRy4knH91b5L46PRiKGfIjmKcdG54MVRJ/mfw4P+f3EFAfN1nH8DytJr/Fl2YsVTfqADuyFxFf+//SfePDK2eAAAAGhBnolFNEwr/wAAdC2y4BXKnUzYlZIWme2wfGi1bYSRjhg8yfIy/8t8AFzpgHMVVBRzzmnieM3wsum3+9jQT8D5naee7Z93gBDpIn5nJHEbPeIt+Na8hGrqQKw5p6nxYHMyim/lVVFzIwAAAEoBnqpqQn8AALpmoUEV8Uwtq3UQaVmt/du2NSJHJFaPD84oAviO+tuQgvJn6Tm+5KgXi4AHzyWqcxmHH3601ip8L+v/RYO6Znl8QQAAAPxBmq1JqEFomUwU8M/+OEAAAAMACx8n2Xj9is4Mv2VorgANqOdbVQmXWAuTtZMuMdnhDRq35HhG0zENODYnAFRWkjisiJNv6+FmS/OpLqaZb9UvQ9kcKHUgLUOYEIeydKjkE2KPim/b80HweSGsrEojtXb/Roa7Y0KR3Guolx4wzdc1vpMgMOFKt12HURlOm/bjzBfvsAIg0cWgx5Lfd4t+OrgUeFf/vFdmTnG8j+8OFVWU5qIMswJKXpgXMp22W3hZli+TBJQWhkToyHvcwI2C+AsoS48J5xbgPDfBVjGBHw2nu7+KHEvVAvhGbgDW3o1BAK6ru0LuERDWNMEAAABiAZ7MakJ/AAC6kD+wV4qpDG8pcigeK9W46j5zGwUUABDDg/yWhmdxM/KF4GqIY1ZYLPPcQcyCNgTF0OLbSGnKV/sEUlAWvdX06n58ABLm+zSsKC9GjIk7CptR/6ktxc0++zEAAADHQZrOSeEKUmUwIZ/+OEAAAAMABHRC8AqfOjsOwa4pzOk3U/IbpY0UxxA/3FOJ2p+CQMae88qheKi2Bu5fHk0pMZSazkvWE6suEFiWU0yxSLT9depp+IFSBeeGW+Hr3cmzAfEHoG4/PklSxk9bR/oyZWvlbCsWQmA6BWRQ9LdaYJETw+MOgvTQuTFzjmiCfeVFottAU7gO4z7Q0L5yygK3qBWTFwCnLFM3YdenWEIQCZ2I/N/xCVkVD1isKLKdHGd1bb6pRzVOvQAAANZBmu9J4Q6JlMCGf/44QAAAAwAEdOAnLejLUgfAA7PZVAkzfb+rJzTwqbmct91JcWS2PtWO+Wdfq3WR4CJdQt1tYsIQfXu7W4YYXgYZSH9i7KINh0Reydjfu+kJMBQ4jJ7yHKF7h+ouOtzPJPI/lo0Nfdu+KuCGW/vxC4oE7Gpk3SdJq6adu/O/wHyvvPH7BtR+vBeeMJXDIS9o/2aPfsuVg17qPBgGxsU1y5E3Ndybp/a6l5M9w6uIt1Wku5JWXUQUHlt7g4jasMIBwzrQ1lSw+QZd8/cgAAABEUGbEUnhDyZTBRE8M//+OEAAAAMABHRC8AC2Lg7nGDz93by2LCRY2j1vhd9AXqSqNj+Yex9CFRzVROvTEzWxEO8lozafbqi9vdFN1u1TcBX17j2InuDVLGE3I/0nUsfxvOczaAeeTIZbsoUwkfrP8J5griEetgdgoe6xkwh6aji4Bgz+tnyutIIXWVD3o3qlCHyJz/zXGHveyJ4FuBflUFZybVGyujzKSNuSLLB5zcRe4RHagrm9nUpdgbq7zsZopvRvQINEHoukV1cTD46lLl2BqeLaPvim11AdVz0EM8cSsYWWFzNEmrretZW3h9d671FBPUZlX2zmFP6tN0gLyLXxwe4/25X4oSUu7KV+XqfCPwAAAIgBnzBqQn8AAAMAA17xjHtLPH9jPb4+vLdsADZFsnAJ09z8HYlvaX8xqSonG2XhidE+X8dXo5lNYGO4q+aA0c6FRnvX+Byz2dLh1xJzcf5TuLsI0LNYEaY6wWx96Ata3zDU7Y3lJO41sqJQ4hxYWO5RrSyPe0T2y2ztPOQxrM9pkneX3lg88qkJAAAA00GbMknhDyZTAhn//jhAAAADAAR0Cx2ADil50H/+DSHsfuQW/bqdHo4BPW7Fsdr5bE9A2em4QMCi+YUZSkCUH8hV0BnKu/S7iFUZyicQv5120Ud9cDYtSjB67MTZaypJL/bEf9hvX+Ykgy89wHd0OJsv095oBBMxUtfg2N+RDfHLv89kqIS8f87CNhY09ltCAE4fmhhOG0uL8Bz2ZH1dVGNEt+llC1udqXEEzIJFRX24u4tOGRwJqPwUsdKucNxsT4xYiJAHgpTscAdDf6pY/35d0zgAAADfQZtTSeEPJlMCGf/+OEAAAAMABLPRXjnRAFb8rGLiDz5YlGMWZkdrbe5WfktKdor1QbY2ZKcRK/Arpg0HFZEzVAvbZ2kKJ1g95ItbVX6Hy2fUT+Ojtu7MIuroTtf/Gc8GMkid1OuwCOxPVE6agqZCtZuQPK1/PiEjZTJ4pzX9ExjlK5QVOsKNyHNMbpQUAgraw0bpkX3+Zc02VJX+vSzlA53AflqmS/MdOtjL5RZa9nc4fe/Fs8mJDcV73Qnl1JI4vSH1CrmT28IGgfvDNA6GLmWil71ZYmA9rfIKECtRuQAAASxBm3VJ4Q8mUwURPDP//jhAAAADAATZVwQpRXYAIR1xJHDFvhF6xeh5TH8e5MgIaxz7GQoWXs6mKBPGY9ZqjgNwZQFO444P9bUsL6xJweaqsnDfb6gAI7wZgM/TVarG55vsdMy2tukI3scfQ5x6cPcr36V1s2az15xC6jCQolhE74lgWA1HhuwmGTRSZYLHYaZTp+xRqbOC/dMi+OEeCOd//xBUY4j5orK+mBhnnmIqFrqIE+5VYBBpkAsdpA8K75W5cucElhE8EuKJtj4TQ7V4hIfuY5LT28sBEE4shWzjEQBjbr+sBNLG6LY71482UajQGdmF3tYxYDUhq2tfIjzK/kGTQgRQU9/b1q4nH2aqeWBN27XVEZKCPwF0k8zx48TDgIL5Gxp/46j/vTUAAAB0AZ+UakJ/AAADAANe8Vl37LjjNh1bYjmjcOVnxiqQ2i4juiGANPYcttm6YmU9kfyBC3WHpWXSABfQIsBxp5Yp1DnlL4XLedY++ukQvSMx+aZoGETKckHFFZd+7hJQorOMD2OGBZgoc9i3cPiag9BHxc6B24EAAAD/QZuWSeEPJlMCGf/+OEAAAAMABNkWbR4syPGYABUk0x5rd8hjJaYiOpC/Ass5rmHayprone/807YCFCr0by5k6Thuc8QGnTkKWHkqrLUzV5Xhtuh/fqJeOFOoa8rUkxo3t5BVKJmTky8hP+dl8N7WLyCuh/ShhvTjvDUjjXyB5njMRPyYlRfgEZo1jPdlMdIM/Rq3POsIM4dhnKt2C3Lafm8Y6+CeM4MlHNW/fwaWdSMxa6NaHurJqr1X1dKzoZDYdugfkEpVbCsCDDnoqxfB7+yFHp6/gdA3ZGce0y0cFRUkuPUycbnyzf/DF8wtr2hJYa+LUE6ugWAyNn97tbHbAAABFUGbuEnhDyZTBRE8M//+OEAAAAMADSn0z3PyaQAZSp2TMXhlnmgN0nqdwPjfgzPs56sRY2fK8Ne2xZdTo1w1c1ni2nKNLkZWFg/qFE1iguQfmIv2/k+N2/jxSGl+JYXns1ODVQKiBkvBY5COKtlRiLrtOaszFAd1+b0W6HUjBjLmFi7SZPUKz3kvSmDu2b1qoNfrtFuLDZLp1gKcmfQzK3xkh/K9dhe0glT6drsD7NvZAxQTp/OCqRBb+BtXsZ9xmFt3sxKg3Y2nsWNtSoWfhO34QEQ0KKkcgLZbpuXlY664QdM+ThSJQi/M0q+94sZh8T59VtYqsASoW23YvDh/N0RW3JBnp2+vvP/2WiF35m1GLGPAQ7AAAABzAZ/XakJ/AAADAANe8bGrtPcLAiafLMZMf6yLQAOsgvhh8T9HFxdVxLIu8Z4WB8uiO5QZBT7iysabmW6zGCptDLcCEA/ua9XjHGoUh+fjJWQ4OaTpNheTJvi8gxaQaBiC88pNR6+Ad/FOJDgFdcG+wr+lTQAAAQZBm9lJ4Q8mUwIZ//44QAAAAwANh9z72Bm1XfIADoUhQRdW4dVYgh6K8+qldpEU+gJ31RMoznYSQj1QTb9GLlsvQWi/acVixePkBOlc5R33pSHCmXEhn/Ltb7yiS6aAl+b/Q4xq57i5mjjvLCOfDUrvgVDIv1/1kMcWANPTJIkxyBQh57uMb2kJduOD82sXSUxTaUD64lylOAY1LM0IgUM7DQZvlq+q3Jm5kiT17qs0XtDTHJFReLhCoIKJ1Gx2OiKkMe60dmwaGPQZBCA8CKJ+rXPNFziofqA9Tjok43SoD5kRHWg/5+3027bSKy2Yq8wK/4qh7SxozhLu2mAmT1pZxuGOcJB0AAABKEGb+0nhDyZTBRE8M//+OEAAAAMAJLJGyG8slNq//IADQasWJqhTbnt/XXk0SX9cPbiInJ0J1bU9kJiQWWliFPm2/4Rmlky8aRI8tWe4fnnSWg+w8wSpg/vuLkhQqwwAOBXwmq/fQC4AiVuRFxbZalq8ZbuXApJnpW7qbJivbTUCGmjiKw0XroJdqtYsodPtGHU6YYj6C/uigcw3UG2Q0pwlpZEP2MedjWDtnhF+Kn/QrRCdV9yPYRCcGumIZWEjGl+tUDSPl+i4rBc0QAIzx8LnLQgACZBw3S4OBFl9xTpfpSTsCam6TAO7q4egh9WqeBL1JFEwF6QEFE8aF9Q3nZr+T5glczbMLZKYBN4Q1ouI0rsDrx1+Zztxns05LgwML0Vc00i842GYAAAAbAGeGmpCfwAAAwAM5J2o/c6jGfhYo+YADZbQjIstnKHU4JRPnnl40UmL++lMw9U6JEXsDL744Y17PKrEHk9+KJmYWvqboVyN/kpcTUBKtWy7NjgrHLgCyNwBvSMaoHA4tLnNLjJhpYw566HPvQAAAPJBmhxJ4Q8mUwIZ//44QAAAAwBhz2doKV0gA49xS7dDB87/tDTkgOdSeEmhFQU+ob2UE+GKD+Mmve1JlaXbrayz5PWiahrEdXxoaYCfy8oR3/rgCx4/tmiLHqukTde14wqqMilkQSjHcIIrxeWADffaYqMqCR0VBYyHltkg8cI7ICqDwoKXFLZuRVhrQrBfS3tf8VlmFliOlfR9jnhHNGffKc7+/ojLo6LKO8Ky5vLhLMn2rFj2/LBdZApM7BVUBTDruFn4B2YQtsfnKUFm0avOh2hi+5fJQMxgk0W29alCfAm4q+dxvAaA2R3sRo0C53WdYwAAAOdBmj1J4Q8mUwIb//6MsAAAAwAZ5ZelmWqwAU732ce94EXGWnCA+dkcCV7xwLagv3009uXXZ19Wr3t2Q0a8EpNZ6ys2OYbHe2xWgiZt2I1MJhJs+3BkCfyBAcjqvnt3fLLvJFWpViGoZe7hLy6KHEFsQUwbKev62pc32uaynz+7zrzMUWsWp4E/0XiDajsf2/v7nNOr6tNKx46RQeYKKWx53A9Hp5ritiHYiseJoxBN8je2NQE9o8LNuBVWb1jxp0inLfP2xmct5a5twp44LXvDl/6wOtLFvWmb3kuXObpy8L20yb+27hEAAADhQZpeSeEPJlMCG//+jLAAAAMARge5AGb6lCZeM3uHSE+znBgpzKrTPkp8MY/wQXClN798QMt4nBtUrOMg3HskNg84J1P5sxcIZRmAvw7Aw6erXv2oowab3lCjNk6Wxl37Stv7zl0SSi7iGpJRX7OplI2xMplz8D0QnG/KArSZlofIuTViml+eNyGzE1oNTfDOQW0wftDKTfRbvB33tzJy8CSpIekiOInA20Vr0Y0WiH1m4/VzBMxKpkqXS0Of5MV+ary8rUept2YB5G4QBEH9hWl9wIe2PLelm3fv+T2hHOfpAAABYEGaYknhDyZTAhv//oywAAADAgA9yABLVs3ABX1UpBhqx9DCpoShEfmSMDPm8yYkW2ASie8N72kOtYWJXLTv10SjE8ZnGxYjrntF272JLzloWUj8e0qgPPASd8K3CMetfS9XqfxAE27UyJ+AOe5vd/bRqSbTUUmO6BMMg7yB6slDRxrncX3veirb8ef+onzUu121RBlLk5MGdHJx2uRVzP3MSbw9QZtcCuQVzcl10so4U0Qqm1Rx551v3nlOnDqQQPwvxqNqw/gpImRwWpSa6cddhRZ8wsFEncRzJWFcoQK7ZQaaMpknPqrJWm3VU61JufuwvAm/mMMZgWajraacXo3tuWx7g8gtz001PKWhmPPwbZpan8CoAJe+cPdWwjnKD9dLlscwNkzheVQQD9bPZFCLvpV9nOa12tlSfca4gOspQY1BnY82pH9ysdg2FxcP86LGM/8QPHTJvzVZxW5120AAAAB/QZ6ARRE8K/8AAHLFbvmqp9VKMb7I2WvLHnMWNk/s1ev1RixX++wl1ioAAlRjn9q+nzHRDwEmYhbpzQR1SrqNBOYN8fr3l3MYUv4DOsVnUX9YWUp4ZzqengKUKIYh7am8mJV1jljPR/21WhOzA5OYBR+mfC40fDPyYa+JT8PTZwAAAFUBnr90Qn8AALoLf9IeIzy+ItnucpsxnEauv6FiADab6NKgrkM3bgXfY7vOcW5ihSYTDIMq3/ARoixeuHtgrCHNeDqR5Lh32YqG1LhU+trV+C0DEVLwAAAAQwGeoWpCfwAAumaiHX9XxohENx9teuqj52fsPlk5FkZW4Is/qBqIAE1dpOhVf1H9T1r/jKfutZwhH5gpwvRKL+1kwIEAAAELQZqmSahBaJlMCG///oywAAAOPa8EWah6vnbjiAB/PGpgS0adyNa6s0ysbQcPGQ6Ps1eWCRjFzywBZIuBVdxY2WXpo8s0zZ2EFN1RsazoH1paKAmfJJxxpW7GkXY2cZoG2v+J/DhZ8TnZuIFCNqj3Xu4GA+goMQyoauzVZKDfSoHVLHtnV/DTqbz+8TgHRLxUXaiNqXkyioPQFLCRoMW4941l0da9/1xAo755TYHb+6O1umtRYpNT7bKm4nO7R0MK0FEBsFbObMvdKvNp2iYTqmxCpxlHeFwsgUPsugzWD+v4vuMBFbx7F5GpOX6WcjCFE6+A1QXrw0DZG0JgZ+pIJ1nHpxsV313d8SAhAAAAYEGexEURLCv/AAB0Nx4dMfsLb7TlSqElHqgAvrBvxgLgrYxFTUj95KJXYVhrz5mAjKk7Az6saoi9+AfK1Ye92Ig+F4Q69k8Dt3Vsxp+ieJ/TEvSRD4cvbMLrlKCsGtQHzAAAAEMBnuN0Qn8AALoLgcWLYvz91mwssxYr+aR5zICFaEY4FwfomWh/aMmI1rPoQTgAiBY0qEnGOj7+HWbroXlnsPrs2AF3AAAALwGe5WpCfwAAumajrI+yDihwyDFa0KK25/FcXv9wgcBvV+oOmdwhhZe3Xxl/UXWxAAAAg0Ga6kmoQWyZTAhn//44QAAAN0E4ei0WACWcghrcnF/oDwWTmo+e9YfT/607QtzUiGM9C8tlDTIcVF3mWFQG00Rsff7Rn3DKX3I0xmXIAwNBKu8gUfzpDMY7syUf1mpsWBzorQwLD+Cj7ThkycQVY93n3E4JfnoCy1yMbezXkGSnBwlYAAAAVUGfCEUVLCv/AAB0Nx4gdMhjHvu9LuX6OFB+Y6IeL4RcIDRIcMFTz80f9d3RWAAl1P53PLf6T+Cl3kHn1Yu7HGYLPU7mz2xJwO5N0Knx25qBbxwSVsEAAAA5AZ8ndEJ/AAC6C4HEXGMC2Vvu1LW1BQImF+xjJ4LNwOkTmwAIdTItSdnvfq/K2yXSKAFDZ+Jqlg6oAAAATAGfKWpCfwAAumajq7hK98N8KQwKsnHZsitCqrtP2EAFgthqgVtiJry7+LgmRts8lVvBI1fywQvJbg+MxWkF8lB/54uWJm8Rvp9hQk8AAACwQZstSahBbJlMCGf//jhAAAA3e/9LaEAFeID+zoD5lEdQNWH5+tzwZnIJ+UJpA/xSo2Gj/3USZDIjjBe17T8XeT2H9th57+j9+Ivh1kwy7ipTRYVpwHYXTZ816EL0E7qdyDniXUGbkb+y+JLDWZStP9HQLJ/PEeBZoFfXxZWGChag7ZtvBuGpcumqlewKNnQZxP5FBmoTBH1ZlA7QOhPXefS/P5N/b2bLByvQnMWEz4EAAABKQZ9LRRUsK/8AAHQ3Hh45vO9oi6zLxH5OdUg97ETB0D0vMQF3AABCehJSyozvu0r1rMou3FPYsSk6qNWeMCxxC4flWlr/VowkHpEAAABDAZ9sakJ/AAC6ZqOayNqzxwl0G7AFpxAAOpdvGmT3C2ntiGQ1GGZ7b/+bbVtAZa9R+DMfpWBtOjIn9gaLbN9BXr+a2QAAAMhBm29JqEFsmUwUTDP//jhAAAAVHk+zdbcbhMBAbrgjHiU0ziJ2pUAPqwbcaQJydDt/R+Q3oeRZQEQi/8d3mrzCF2llsRYghCp++6z2qVGvSGQxXxBOXoDZWvRSNR1XuVI+SGYvlUMrUzTAFqORtXDY8/9AGtIPpjQdDh3jMJ32dBe4/APUWatLN/tw453Ag4nfztKxzWE0nxfr1BE1N4KTO6r43aIi9+gqSsy1JfD7A/SknlMAdJe0LcYsQofnNbndnVcgjycDugAAAEMBn45qQn8AALqQP/ZXwq5r4b3P6XY8TMcOU0Fowf8KYojjbdYfgQZuV/wXug6MKhrCmbQ9Tj7H9v9VGe06IgO3UAu4AAAAjUGbkEnhClJlMCGf/jhAAAAHn3/pQoXMcPViyxygBxZPhrZjZvZ6iDHdPXVff8uU17IyEtg5QamTZin/dbdXCV9tK3IBRxJHGVsil/bSIiU6P0E918v+0IEofDHcyY0QSl/J2sAurDLw0QvAW62//1Nu/43XwJ7k5rww7vpXpzGIH4+7lfFl3iEV5+oHVQAAAMFBm7FJ4Q6JlMCGf/44QAAAAwLo2qdVwCH78LWC/sC1gHS1AqCqj2zJLTUSpRMjgNXA1JhD67/ct7G29PwQrIR5qrbFPBeFX9SS6ZLs1RGe3tTBeST+5ipObWk99iEq11mCnHjhlJckLrYRpeFWDVYsAH1Hs6kd7dCIQDPYP7kfTYeRKhg7+nKogbhVkM2XaMNjbPra2zpQ8UwIZmT75VJxZKZGfxGO6L7Dm65F/xOFpfi8I9UPAeI+CwmSTMGwMYCSAAAAoUGb0knhDyZTAhn//jhAAAADAsftbffeeqmlK8eVwlIcGqp1WVI02xCIQBreHrUPj9nkDLPOF3sna1pb2YnBuBp0k1VXgaobjHSh6zh1cLWrIX6c+BUarv8ocRaBOmYkvUdDUbiyhQha3dQNRuQ+8oWfZJ902Kb/xTrtlHfB5NdcqpJdjJvNR/MUhynG4hmuh9UhiJvO6dzgeqoKDKkLy1fAAAABPkGb9EnhDyZTBRE8M//+OEAAAAMBBvghxOwt6NbmQ4zZgNZZPUV9oLiR884wbxkmyED9GtpcbDM2QKSQT+/dP5F3ysakYMGzHrfhYPa2/+cPYYD8ybHoLYElAztf2mQHHBs4nXPj6ljF6jKiFpDdzWNgjfFxKAm7KPVITmyxNC3aXLTvtW7oGhZlJnPKVajcfpVicqnS2u/Q59KdkHpsAkJtaYJP8c2GGtSeyAg5I1qrf+mrrGtxbb5uDIVqfvfSV/6AX7IhmXoTNgQGN+zn/ZeI/762vBk9a0X3ceS0ByfSQF+HsTAfvJCsCNHIbDjUVUNPzIB1+uHrpgRRciLOrIoUqqK1j04kW8zpYC49KUKHOQ3mDrgCc6NZClspGnOUV5wJOFjW/hk9eqWLoXPXogCOrSbuOx6l5ibI4dqvYQAAAH0BnhNqQn8AAAMAIrHMNYcBC6Ztas9nAzdQAOahOfUmwYoOjCeUMUE7VmZCyz9pfZbLpKkYrxZ9vBq7oquldq5uq55D9Zt7jaSZ4VU3MHVDBpAG25f8JkkrkeiT/Yb6ok/6LD1CAXDB9oP8/+BiNuIQ8Lje6l0fcS6fZqZ3cQAAAOVBmhZJ4Q8mUwU8M//+OEAAAAMAJN9h0621hd3vWA82oj1VjQ8NYOoVPpQDAAPlSG1OYJLUW6A2E2gei+8UEA73nh20699RqvQMjM7L7vQlAdIfw9708mmhcA8fktP9NxZsd6CwHYvGTCFQeidP7xT1xKRlefY6DSD67157chBNLkOo5hEz3l2Dq/cH7RlvNLYgUkE76qEWYfnnsL+7t6AoiX+ui0MZVNlnn99td3BO7ECdso9zV4DKg8X6bkgjtqvsPAt7ULuqydfpKPT8bmarr9DUnIAPhMfoopaKpVHq0opC0lOBAAAAfAGeNWpCfwAAAwAMbrnmJqpgSjmnhVhxKwLsUjbvyveUAHKNiQinyE2GeoApW+TGSB4ODv3D2bdD8ZUMAlNX5/tPpcyijU+NJ9bGZvaj7optoNx1AGV90yHWVhLiTTguPjVyMd0Tig1gJNWNwy5drkB9jCgecwDq6EelN8AAAACuQZo3SeEPJlMCGf/+OEAAAAMAX/1IvFr1NB+JjMVdTMtTGSkkDvoAJXlROHTFhjnV+ukPmZXvJv2K2ScQMQ6fhEw48+A5UOYLSJFoRSm1IfkJlgEWqmmXNQaqh2EgnNpCDPHOBsKAKIe2azWTiQVF6IIZvJoucWAl2OZ+TBKHIeG9Blv7pUvoLubwSB/lW4NRO1JQ5jgt/UoYjlLit6TSaBnlrP3XJgC7mngQmk4LAAAA6EGaWknhDyZTAhn//jhAAAADAAT/6G81tqwuBfAy/EgISTTn0uZF5kRKti3MeAUMWqX6UTLhjuni9NZ+ypjAFeR6KGkS9KxKXbRaM5AC7G332fjjkOBjHmQ3RkjwYrLGrex7ArgJdTlcNTSl7qoEdx4VzXFl4mnpO1PE+gZxJiJUDQ4A26uLvx1wHIuaAzj/38tY4LbKJ+QLSqLte8gqsM1VuK//3e2TpDvAULf9K4M1ICvWVQQWkhFCsoVYyZE/MEMj7vnjzqosn1jHvgVS8h/dc86fWOKXK7mAhR7qSJ5y6y2VTWLmckkAAAC4QZ54RRE8K/8AAHLFbvgFc/6cd/VRibGKSMxTePHOADmglkpVv4ubTbcYYr9tn4O/rAtcsSUey2PTrycwGerr3eoKRn+daGl6m6vbV4vCau4zeWHtFaLcK632LNXrZDovL4dXlKUvjonAnlAYfBfQDHgT+x7SiFSjvIROhp8md7fHds5gUhWu9+YODYWE1vIA/Jk2Jl5k/yTDkbkZSRZKa8KMHy1f/3T0VUQDvW3LNpl6aup1UY2HwAAAAJUBnplqQn8AALpmoUEV8Xzc+7r434B79mqV9a9N8AaX+5JKz9a8ySHg8AB2ULZwinCP5DUOAvxSBDMaKmHP72BmSPZTEOBUx6JmEsg4uczsk7/qzrnMeRW9UYUHtJ6jXjb8FxYsMK5zF9ZjW5FM4AbNSn2nP/9dKCDjXOSj+wAyb8RrpPMYaFcj1J7H79DIWKmsVYRX9AAAANFBmptJqEFomUwIZ//+OEAAAAMADO+pF6yQXuAFvHQ1FRvHjtzxrlmR+k4oTO2ogqv64VOzPSODtA/N7hoy3PeXMQZzu33VpaYZiqhLD1oThWoUzg3DXluLEeiRkxUTF4r1nGLNszLEaIUSH7FvYMCdVS0pnylyPiGbPn/Yx5xaFpqXSScdoApy55qr2tr718cBG2ISA7z5w01tpGXtAUh+emqM//33hltddBuwn+Nj/nQOsUYc487v1FJ0YYcQMW9rJRt/2diTtDfq2uSWzDlTIQAAAUlBmr5J4QpSZTAhf/3xAAADAABFQJ/AC3fv0TFVOn3JvM+PhN28SshDesqBnLbJSweCAX3GlBIMZ05O+W1jXRIYHgEWfjeDbvsFeYvW/eTfYc2sHRpXiUOlgUZBTVabn7sWfe0ocMx76CRwj5/0yp247x6uAPAHyacvkTKgRk6LkRyucztwSxq9A0K3CLlkmb5hNS6z3w/BS8yT/i5LB33egQ7Jox5M6DgXDweWB92DvsjYHGYK6R8Nq/daV6KZpY4aiZUkmSLMeEPdKcJqvH5QeMUl2fV+4NaOsc+U3RsA4cIHrTkESs7nd4DGt3ob2qpUg8vH+jKMhXNrnV8SQmrlmLecUn3ERvyvPgO6RcVETYv3Gi8kd0V2RXUIuP3zG9pDgZRln86CUm2+zZVSO2xRx/H0b2/TBVrvLlp1YrAvCVfp95x3+mXNgAAAALZBntxFNEwr/wAAdC2y4BgpPUQZjvlss6qUljxD8SgAyzfzxWWA8nPBMzQF0k4AvIy0Df5T2/jjFJgSH0zGEm28fb48CLNdBsA+yJHzY9CVF0EkhlZiaf4Rg+jYMT7mCQkbPXgeO3AmsBgAD+2xcDCTdN7nbjN5cVR46HB4mvEpWqEbuH6yTz1SrIRgNM8jFyLB+w3Uu01O+t1GKiEyN7nT++YRkYIgdfY/j6lHMpcgVkVMyWjYgQAAAKgBnv1qQn8AALpmoUE170WLM9FBO1PKXOhHyechTswAPfD9j4QFFi9oL26H5TP6J5z0KTe2b/fk8fKuQfjd5vSz2u8sV4jLV7S6kfL3VNDw/XXFz6+/oHArerOklIggD4Du/1UvKJbaQszQxXv3NvHI7LIjCY7lVURn4uYbZOzqV8uRadnBSjwURuIQvRrw0JBypBZpaNoPlppYFeDa/OUKI/i68Xgu/H0AAADvQZr/SahBaJlMCF///fEAAAMAAEVo0F9Cd+ABaJuoBgOBcAW2hrkK5JUSq65f5hD1fhL+ymbZis27t/Bm9aHyWDoC1EOtuE/AEPM3UuMupS7ORuEMoURyFNKf8TbOv61oK0wLFw33x3xUVHJxiudsTrIHNiM2Z+nynV0vNnuKmQb6ymqT7xlFmc1kt3XZ0W29KUfvMFt5XgfeNmVmWaZDp7/IIZzOc6S7uien9JcnNQ+ENG8ZxRVFizW6zdOI2zcP75+bvgkrvcRTu9duX6q2oJMTvnLsJQuoXqR3dKXK1c0RxWYzXni2rc+GSaKMr4AAAADJQZsASeEKUmUwIZ/+OEAAAAMASWhvYEKb2ADgsbtP0dOThoL4xVqurrS6s6+evCKe/7TRx6uJawALc9KtUz5evfz9dgqibJ1+9JpLsQD2cbZNgRr7tLz7lQHsEBsQcTIiTpXJSxYsaKJuDoZ6jDxakHA2PkOZe5W/gyilRt3FxNykxXaxtELD43Hwex3YCPbfNrnWkEQbS4juQTNE3aen7u40vPAiTms9RBdMfZvuaLTTg+QFDZZE/Rec6UHFH680iqwGDjTCUtxfAAAArEGbIUnhDomUwIZ//jhAAAADAL8OnaoQsPAAXUaf46u+6Lvdbl8DTiNKa04S5kvxNkHfoI4dhDet+jqP3Y/D56B88URmK7aD347vO+WUtK86GaaCrcJX20pfjRkJSgwZNu4Gor3xwfkFiZatlnpinHv8zlADr/M/vruMFvoGbXxoxKHWCXGFqnKz9V7bzd3dnNdXtw6R/HzssCF/phlut+0JXlB2hhsl33XMMHgAAAC7QZtCSeEPJlMCGf/+OEAAAAMB5GrvJUtTqdFzUhnYe8ANwt0vmdnAIAHCTWh6/zaQiBUxWf5V7q2Vzlu5ZfDJuIS2LUL/Vb31AZ2cglmQzZ5LCG6SMH+8HlntNtq8tGZ1y5WA7lbgd7aHipVJlFYAhgEz7bzPEr29yonDdzJjjS4y/CbtPPEdaB9TCieITbevX0nm/sFq8MKpYtfNUalD4rLqq5Be267FS380NZHxJCUSZT1NsSJI0JHSwQAAAOFBm2RJ4Q8mUwURPC///fEAAAMAU96pnDh/L4AblFbt/16GprPbbgaVESsuQj12PwI4ZudOWE6mL2e6Man17UwfthafiZUIBB4QXPNQZOWufXhPvpL4qp8pgUvFktkX6amaw503zqr1rl/pcV4IauWeh2WfLPeKjLXnwuy2KTasR16uN1yX4UUoHDUBImbeBUQ+B8voKavClL+5lSrXY+wB4clclok4OIbMIc/zuTYC9iLUJlYUOu1xFCVSZd+uxuuSoFvC6EIHe1lQrhk58idXH1YhM6Ss/RQtEHlRIk7/3icAAABgAZ+DakJ/AAAEd+CFswf0O6nmZKx3RQ1z09dK7CzWwATq5aXfG/9pExcK7Bu84wK04lYdkcsEXeypQfv/dRh4ByM8JVfA24C7titIfkSIGwTrHnEmBaMcQ+nw3Ol8dUfAAAAApkGbhUnhDyZTAhn//jhAAABYY4bGSZuwAEnSmLSGuZ+chpPawLThhKzPbR1tt9MaUMbO1e2D8mW7YFEJvoJEj4BsJIbHuo0gixfSFrEL/y7J9Q/oBA+iu5DQkZ0Icc1mQsGWHxb51zloAukJzWgzd6dvYu8vfYKFtAvIO8QwnQR6EXszfqGh9CO7sQQjILu7e2t9iqbbiRuiWnKiwKKO2uiRjFOvCkgAAACHQZumSeEPJlMCGf/+OEAAAOGzO4xtkDX9/V3hACDLoIncVzpBx6yuWGenBmCVryycyv1PkTGYeyMXd0boeEeyQHajD7ivc6vYZsH0JYC9sVeeAhsoT/uwIZQ1fr36Wdqe74gXzV9G//we09TqMzjs0IjBcVxHzpV6Bhwk2j/LKPdyQmTpQJOBAAAAiUGbx0nhDyZTAhn//jhAAAJZ6g+TydEAcw2Ms0iY6klzUhGE4TrGqqZgQIxJCBpDbeGdSCnjsAF/EZ5Tegh1NLX18SzL6FRO0VVh8ddBDBmT/OAmoAnzODCTholhuv8dfb9TEFNrCbmIcgZnNRjYb8x0ErzgdOoUkaoUyIgWqACuv+P8EXrIEAJ2AAAAwEGb6EnhDyZTAhn//jhAAAYc+Gxh5OwAW+6dzalS7pQRLasdvCvGn1/IAHeTKDmBRgndbvjAXiV7ir94VAmpRfMOei1XVzdtjKXWc6+wofSGMiJx3Gb/VmT2ffs/ee0UwNlc8etAvtdG91vl43nhk/aPRNWoYt4NX5GbEzF/qO0f0YOvPOuqNDWhAnIXD5+NpnV7EHOkR8Z39x7vJ2zBy6BWhcr+0IdshXMhZN/o7oZtcSLJiik+E3tfBB4+Hhk0GQAAASNBmgtJ4Q8mUwIZ//44QAAo0eLMHKCe4AObrVClKqYXQIHrKrjNCPW3qjo86Fft/6NfJVeSID6TaJf/HiEy617Y03NKscXvYfGpiO1iT6wJEHkn63VxRVwG3idJITQEXdcESnhQq0Xf7yqNN6HJX+qTxArhUDpeTVhOvnU//Aj7tZfOq4Of/X6dXBf6VHXQue9ow/Is9DUtVYHMlxv0YseBXrri4XCrfPL1WAVOuYH9ir/qEYDpvVLZX8CM7SKUaCDI1+R6/hhJScyvtlXS4fwO/hGvZy5gmGYWESIm5kePnlTOtthn9aK6nxVPsfhHujrGbWmPwXXq/iehsofJTqn6mGxQCFUk/71gzoWEWOX06tePi7uODneCldoM6ST96dNVcVAAAACHQZ4pRRE8K/8ACK8oW3pkb+BmTLPzcABOineGwBwoOzf5LZUzlOLEQZnSbRP3rl+RMGqelAZbpyOw35VkB+S9iAHF88zMfZbDM/e71RxE+0FDt+8Xj6njIL7+1sZ1UP9V4z0bzZ2rqxjJLjox5w2XGP9ca0TZ//RCoXNHcNPhUhLHYgmLgCVtAAAAaQGeSmpCfwAOK/S5Iaih3X03gJpG4uTbUk8PMk+QuRSL/7AABBKeOxutLSlaUUOAy/mWvqd/a3tK99iiaMSXtuQS3IE04BZ2TFrw2fqGCcFvH7qGvUEkGKx54muU5kDPDtN3JDfdBTPRdwAAAONBmk1JqEFomUwU8M/+OEABDPWnSOXRiAEKZ0g+dtTILpiDyZz6O2np6H6l2YHoNcbHio4nAHippmRvuhq2LvQZSaiYbfk6stfofiE8bKng8syzpmxUrQAvSz6YC+s9IHGUnpiOqrJRQtmkJVAr1OTY2pgU5MdqiY0ZeAhK1vGFyXkknEXtZl2guCiI3FHZpKvNKu8PB8T2AiAZbs2sZeKXEGBkA7eTM1p18rm7lMaClQySN2T9W6dolkhAfSOfprySLQ+pW1hri1QzwKQAg/5c+EKKPsGqTsGowzEttyWoQAAIeQAAAHcBnmxqQn8AJL8EBwpNMVhYHGdxIiBr6lF4V88AAP5H79zvYO/jscLtNHaftXiVgKlVrHn8TJju2ofVgDli5apAXUzVssDbjSRaeorYAOevKAqCnHf11ds12PEMVWl3sfZ+ktNxyN56jF6copbxGwSBm0ikO66B7QAAALlBmm5J4QpSZTAhn/44QAEMslHXcV/hEAJlqCZ+Vg+lPOBVb6n/BmrAwnYURETdnQivNl9+Vnv1FTr3Er45cIqTM3Gx2qgAWAB4TNpB9aKmmrYkG3qJT1S/x7vhDqjrEaQBpHuf7ed04mNC+ctnkun1RYiiHwkHvjJtcnqYnZzstQHL+dYmezvWh+TWB1ZtVWOpnf4jZNEe04PHFUvTeoTJ4iZbvdnRaAHp05SUtSkWhtTv6OqhPAAFJAAAAQBBmpBJ4Q6JlMFNEwz//jhAAsTF9qejnsAE6xZV5BKg5Mz+mO2yEJk3j5yc5E0U6j13aXKVxTa2leVdVwyCW0JwzC+f8UGPu7JNhUC8C3BoEuhOE/e6Lv3kgGxVb+bftSD9FPRNb8kY7Ovm/RLlR4uqBLmbtgiIU3/zACajvKacb+blVn4Mz3HrHBRyKu+dRHElF6PsUNV1IisU/fk2gdakolje9MUDzeCdWCeY537dz8vqpBpJ5EQh3KKn4PXP808qVFaeK3lIhSUAp+tEacqrrYeQjWlYXiPIiCuHBLXDi8/3MuEB85UwpTcG5id+tNtDvCGuN1Gqudk95KmgABTQAAAAZQGer2pCfwDtwAlNadVtp+N+Wchf5bUFpb/KWpFNfwA7boKjSxFnzjqZk9f64TOQjx5zgQQ1ETs4+2+ykHrGHRzHK2LVnoaJVDgA940c9lWSkVoS/cqv2Yjd6SPxLoj9GAAihVGXAAAAt0GasUnhDyZTAhv//oywALby/44AOU6FahRWcXZXZ9NtUtq7HQ3IBhVpgaFqOl/Z3Mexk+kYCwIW9zOtpoUyPNcJIvQ7BG7t3nEFj6JyyDXJCQFWWIKLQpLGzlSRxBvE3D5CRa1qaTiAd8QqI9m4UhH6b2AHS8WZQQi3gdFpwz85jInQIeG50MxZ68e+1iMryUISK7VzjA06BbcCOe5hPMcb7r7jA0B3sbcAGpaR5DWgDRXQAABOwAAAAQVBmtNJ4Q8mUwURPDf//oywAcgskcp30QHG1WwANG5MW1tejc7J+p4BnVzDUFgzkBtnQK5o6U8aVspfo92BfkIr5rRWuldvjKCqu4m/921AOwFKRqltcQ45PJ6qlpFsZorlYjbTmcYNJp/Hfhs/rdfDJlE+Vw1GC6cL5tefY2emGauJE01/TJG+u8PSTbk+WpG9k84fLHkFePxcJtQSouj8HEQdJ4qDE7HEa+6bGWlZwv/CcQdmR47Nz66usd8kAX64rhZiiNuiGT2HCQuhDODV54ot0txuLwKJNCEaGfJs9KX5y6GNpGbS1HXtAuC2GtcRRmRGQo/pM/QGOOp9hpssAKAABgQAAAB8AZ7yakJ/AO326k+u8QPIpY7w4QAE6DPWQl7HsE9NyMxn6GDVgJfbE2YWcyfJIg/1h/kQ7mOaQJFaB6JkT6n2JIGX6Ur1P0hLiXYFe2Hba9iLyXs3MR9Sixb0Mcd4lxslG3aRbCFtkd4s1yBmxpGclX54SUwfmwALnUOtwQAAAOxBmvVJ4Q8mUwU8N//+jLABxubXuZgG4AMaYpwbdSivqQgGQtiHUBno/tkHK+jkjzPnsJMVkPOr/IXiWBi/lz/8569Mn+XY/8226yG7RYByU/ZeowYy7pfDMLKYmEUJexdnXr89W22+n1Fv+O9pnDfddJp1VzB8sAQrjbRD1V/cyMANCPGsLKK+LtJO6wlA5lAlqcPmMmYm1rEUMkh7FJrPE7H8HZUnugiriFYOvT35S2XW4B1IMxEa4O+6xZ/hR10t9Ni1MB0/pONJmx4AM9PO5hMiCLc8ZiloGaVwi+liTqCzswvQPchNAAAOuQAAAIwBnxRqQn8A5sVCVjcfO2dNH0QEAMJI46vK6kq3gAXsfde5pOt0y1r25IWzOX5vhAv2AiepdFOpd9J8mDNv7OTMmOVwPuo1QD1l39CXKIfWs0cp+Hfvv6pJ4axsggVlGGvLVm3GIYITsz75L1qHm4ZKab49yTXa3W9TMmf580U6auFs+/9eugAGvksrcQAAAXdBmxlJ4Q8mUwIb//6MsAHJ9btzll7ucw494xbJPS46vUE2bnPMvmgAbHVfLEa+gBD8b/zeg1EsHspeBB1Mzes+PrRqBqpNUCBmmNUb8nIB9PiRE2np00MtJfw19rwoG6N3RWthuyxtdYsKXQkmUj57hOOfL+HnBjfeeA7fdR7Wa58SqTybbvDbEpU8GSmUB1DwPaS4fQNo0Yp0u469PUSjh66pZXfx2Ork+F1SZjoMxC4JXsNVwZ8lPAYtpXBvmXxGB8xUAO9bZ0929tUOHDYGpRisOznPRrTj4yJEDgYqfZJPzoSoEkXgGRcH0r0ShgGE6G5AP3R+lfDQNMFI46ptGNmf2nulmGTPJDreiTNWAIfpCHSvxgYgywshJJNJ6i+1+1rZugpaad2l3lCYF1JSM4j/t6LIHMiK2GqcM2y2BzOBYoR3+eioMvV8DGVj9owmv42w11r7cG4xAV3+/kTX4nxpXGgUTk4/M5xAqeMD8YB2n/2DNMAAAAC1QZ83RRE8K/8Akr9GOvotN90cAF9PITO5RTF8oiFQiROZwmjaiVmsaroSKL2RCuKmkPpP2I7BLii6iKuBhnsTk8UnXxNmNvOGlwEBcJTf/ATIJxVRX/bhPhUntKjWL3QozO6eCsbafR/gJm8kslOLUKZ0LNHIIIDprzvu73eQh4cNPdmzwb8FEdJBSwIcPmp0mP/squ0pq0/5RRWvkl3lk9egZfw9ppFwJEuGBE75tGUbk/9fUAAAAG0Bn1Z0Qn8CXDRwgc0aj4uXTU8ha/JOH8QGJDC2uWAB1fyA5Dlcv8KHQGTyjmhT8ruDnTccTxgO9gBa3lcdrlZEFE2LknGNcQJ+9mPiqOqL7Eob1ZeBjYypd2/Fd5zEmYKXx5EwBpBy7ohFLtbhAAAAJgGfWGpCfwJbIq7ie5iZ1XtAHP9ByqnJ8LCbtqJLm3wM16CW9+6EAAAAw0GbXUmoQWiZTAhn//44QAAAAwAEtkThRibJ+sAE5swzDNA2ovU/zGMRf0dbeYkXZlb5RLkbMRTelhrGgylfe1COK8YRsH8hP9cHOn1bWuEGAqi7dcD2qNiHcXX5wiTtl4LSsFEoecne08HI+EaAy8JIXdjGRePDT3/WTUzLEzHA1580cM63nsazV8jRp21t7abFeCMDWfQ2hclLWRBcnScYds7fBrTOpu1uZLxNx+3mvT5FufEIX3ZHsgeZIy+Vbj0xoAAAAFVBn3tFESwr/wAAAwAPNuO/r6VXSqWZ3feUXyl9WAM2ELUmUb+VDC296lpT4xxKY6aACHgQj7KnqOojoWMdsvdyKgnWVBGeo0XMaTGC9TNpRj5miZ/BAAAAKQGfmnRCfwAAAwAYfCgVSdmPzTQCojKzb4oClfwUyFnA12K0y8lLOtBuAAAANAGfnGpCfwAAAwAYiTxaUGWO6xKzalREuo2aeXEHGWrSABs1XROGaP6SbyD1DtILI282df0AAAC8QZufSahBbJlMFEwz//44QAAAAwAEs86ijc13pbcxkAv6XePHdNuAC3HYxSL1e6SSg96hmbk8VchLJiTS0qOYllPeoveThPrO/DkZzXxX1c3kSf5BXkdvFiPccIpBvFxtDNfp3fcGOJbhVm83dH8sP2peOqDRu4azw0X1eCRERyoVuLMhY4XjGZdeoTTRvxaKbnfH6G0poUuqF76HgjwUIzKJdZspyEtn9GVqqrK9OSP3WXcL6rZcU7PzBEEAAABKAZ++akJ/AAADABiPIQVfml9bdD+39QOORUrol2eMgnm+OwI4LAA2KgFOInF1TFlD1l7115RRyHXcMDaU074YvERNCwZJC7JvnRwAAADYQZuhSeEKUmUwUsM//jhAAAADAAS74IcTh/jryf/ZWD5BJMcAAgdCtNcEd9BeEIVmRrdLFBTSaIWoxOAJMV5s6wTyb40E/bl0AnVdgXs6J2zSklMMGqfRug+h5MCXOXLygGh2VP7itS30WzjKzQ0/ylqCEIA+X3wfIzNPpd2WKEhBMs0HLVTE/ywvIy2due5p6eExqoHrdu8qp0BjInfpNT135giyESRd279RnHD+cxsxMfHFl1wVx4svrH9vyBUG3cBcvthbf8M7wz1lxw7z+gUzPvs07mGBAAAAUwGfwGpCfwAAAwAAnyIWJM07fsWkq67qQNpxpUdtg28x+ftei9aFHNCf6bsGOec/qMAJmuidQc4XqE9lPvquq1LCJuRmjgo9h/HYYWOzArXfiInwAAAArUGbwknhDomUwIZ//jhAAAADAAR0QvBF+VQaotDBvdIzbIqocIsnyDzUhWSwglt4pQc77ARGSJK9AJv76X8sMOcs5NnIBBP4eWmcJm5kqMt3hubzwvKJh+7Y1kR5N5FOgLndhzIDy7v6Zp1WSA80tbtwlIT7YZ5rcJleiffODglOoDNxYQkIcfHnQrvrHQ3tUgwnB6U24t3MA09ksNWFPOrolqyPImERF97yf1S7AAAA1UGb5EnhDyZTBRU8M//+OEAAAAMABHPDKcQDUUKPnxDU3pSGTzmJ4xwXWNYkvMEAN36DcFvBt8hJ0WeG8wXEW1/yCG8gy1lXRi9WuPCv9eyP70MxpmE93LDYm0QxHOzIa72H8DJLec/LKPu3NOkie1dqbIh5kpJPMSF/v/Rvo25sCZoCc9KdfytQa18+K5de52L+i94HZweJCd6csuk5QO9xJFlTHtjfBNDdd2V9xwlnluYzsHjluWauyOVT2ss7B0LzrPII89YHFfmKbTCl/y23zP57gQAAAGkBngNqQn8AAAMAAJktE9CjzGOjJMjIVF/cbogaI6gAcay00soS1csVV43RajUNNwtRsJbkXOfSgeS3iK6hapaxkU0HRLKz6Fhq50Bz6LWcaemlZL2u3+QeVwXIaPPvf7ykEDBnN5oxjGYAAACnQZoFSeEPJlMCGf/+OEAAAAMABJvgi2JMAq5gAnUMpuf7TEoFLH6xs+YQemfI8ZIjOwceGuFIXvZc2mKULme34TSQCLTxzl1XYo2CqEhZhz50fKEoOdtGWL379mInOMWXrgSQkx4ZFjlHQnoixR+vLfw/X3XmGpbcDViIbB1ZRyWfOl4YvZqv6jG9lHBahGqcv2MUQM54IdnaPJz2tvvzv9RyXtjb43AAAACcQZomSeEPJlMCG//+jLAAAAMAASimBXYCMTiM7VSyLsADpaxFqg+hB0bVzxph86AiqP5fzjWWq3pKnnL2g1sqpCqu2Ur4lPN+wco2ZktjgR54775M0EnqKVi7Al0BZXcTgXEzpWeH8nq9NUUa/xl5SHh07Z3iabvtWlq/U+O0fipvS3XYVPgeKyRPqtwUiE4+uIFhZdxVxZf+K0VBAAABX0GaSknhDyZTAhn//jhAAAADAAsTGB07av7ABxYtj+cooBQbT/JUxE7ZxuAS78HRXs265/CdVwlV1ItMaETvm0EWKtzSiOA4tJFZsH4V6FJxKPfk7XmrqVPJRUt2PXOEAQhXJuuZf7sSguO/40WPxhc6vBPIQjUAFZz21OGP3JQ858ZydImZWxpbEkyUVBVP/CRDdNZgoSf2H9zbxH87rkAVRExhdRSdqhfZb8KKRZnJfA5lAdtKA1kFlj8RW70v9aqwErdlK6r/JU84PhXGq5spBsNWdKOeL2ZAMk40849/FyIUwKkvgvzorWwsAc06iuW+c08XiDDs/13897voUP48dEqebon0CJp6yjC61+UZ7SJJLnyRGAALcVvYc4PtYrFa+gKsn5te15B1S8NhsfD2brjG0pd1dKapFDH3CQDcMyg6t+pA1nY/BpuKLW5rdksKmziIBaPVqdORNT3bvAAAAI1BnmhFETwr/wAAAwAPCC3hM/0fTgGilMwmlbcoHzegx3xqDkmmlFq9pD6EsikDvUBc/WAKGO9Rn8gwpAOZ8ALHH9RTYw+iTirLQ/IWdi8CuwrPOeG8FUIARGjo+7BzDTYFKtZHszAG9abOSlzRxvjtcDL4KFCIAvbVJxDp0Hc/S8+i7obDkcftINZsoLMAAABRAZ6HdEJ/AAADABh8KBEk3p44XFoxmAIJOc1nJXBE2XO3apEAC9IIIP40o1uK0h97G02ARvu+31yAGzjf0AJdyL2r6GiMO2T0JQ9m1rK6PrxoAAAAZgGeiWpCfwAAAwAYiTyZWPXFnY3BWCeaSzc+hXnZpg9iiHSONpVqYAG62vw1Y2ilmb3umVwpe7hoI7oVM6VbFOH47BOQEcaoi+BO+lDiA/cA1WpM5ONhn60OLvwbTTYnC0FvLW/ZsQAAAOBBmotJqEFomUwIZ//+OEAAAAMACxKALHnWkYYgcmfQALQx+rO0yGX0VB6dF8qQZZGFkV0GweRCvw30er+/LVIZpaGAh9NO1RceNut501gR8o9kI2GkeB88V2aXedvUiNhhyTljVLFF1FocT40LBaq/xnc5EaPlPMLvMFvugxbPJJ/qMQRmC5r4DDdgEhiOr9KLKpFSudUeNLi84GDFmWFIxi9uXV+OLg5x3d6Li5h1YW9Fx8Io3vhLtp663oEGhvhN8MUkN29GO6W4+R3zoOpmRtfAaI8ovnzd1n/lNdaUaQAAAL1BmqxJ4QpSZTAhn/44QAAAAwALEoK0kQW0A4AD8G/1GTnw2v2RSe8e0SWlQn4Qdx5XPFVha9IhqDiKCbnIIoMsy27zo9qHn0Bx+FGxx3kO8TdLbX/0KaOcon9kgnUsKfs4K3FjYKLMM6+9AUc8CsZjPwCILEuXuOlg8O4pOWSinaUphXoTYjQ7B87botFLAy/xvyUtPS1vf/LpxgihY9POC3szbtlMLop3UH8oVXpB3YRbDUk6xFM6nHokvUMAAACvQZrNSeEOiZTAhn/+OEAAAAMAC2cn1XB435YANRpftqHEmRMepEZGXRXmLjQZkU/CwQWVXVJuKuGKlTy/VKOb2gL5z5epXD/MZXxGfs172X+0vTohLMfQeF3kKYPFRlwOORWtoHB3X7psrCUtiWYevCwzHTmQQsET68tyoU9BcnfzgumluBCMSXv7qr/gzTt0Gqysmh2NURmTK5fECI4+nDfbjJGWR5VblOC8ShF2sQAAATdBmvBJ4Q8mUwIZ//44QAAAAwAcQzVDPJXsAFxgErMWM/9i45/glEz4Ignq0ObkTuvEYsayo7aZCl6lz+EnkJspQXd/ohacVuzFmSz5svIO+sKOXGXBmch2DZ1LMAw+bQ2zMZLeHjn3jX69fw+bngeoAVDka29+7YoQwHM03aZ918Ts4lKgZoQ4TdCsYIzSiDXAsaVvwegR1Ac66wJDu9jKaLlpImByLocBNmJcjJ8rp17vW7LtxcU/diC8MzCgzXJnagsbs/Wpw1gr/J/3aiwiv2tB+pR+i198vLKkRPDCc5mh8IJuWy2cmjoxQj/FM009L/xj3UYHyWzw7vdcuzoPXV4lSqO9O94/K3+GahvrMjBfg6qAoF3wtcYoDL0kcdYDeXrda7Gp7nPN0Za1ytggKwfpn5dO1gAAAHJBnw5FETwr/wAAAwAPCC3kvv4OIzoAOL8w+9nohzq+Uzn4r3oZQ7cH9dDm/n8mO4YXfkwlX9dm+Hy5HTe+0W+1cV2t192wzHMvsn4tet+S/XNCycsbEdcnI47PmNz8ogyY15FrfIzRPWkuh91VZC5WUFYAAABTAZ8vakJ/AAADABiJPU7THZAn+hYANLh92tKUY4HGeUHQnAA5WhhNYku/mjTClRUnXQsAlYfIKRvC46nNuJeXUcCbjcBn2wMRUO5HNg1jJgIbaIEAAACbQZsxSahBaJlMCGf//jhAAAADABxM5BeK7mLfnWgAS7DKgEvZFhBaBeJ3htKRKPIKtkpEYJ2kDcuh+iqWo2es2F8kFKAkFNuXtVk1K8TfoTLMMdPskxBhdNKMUOvT4/gbMsl8y/UjWgVODCyfiza+QIl7393K+I1/IXsuJjp75UaifJPoBdziryiqeBQ0sqNDbMT+mPBrypBnIzAAAADpQZtTSeEKUmUwURLDf/6MsAAAAwATAGaqqKIAEsjZo3IeQmbgt19ZMEeBQbGLXBIf/nyicZ/rTkXn76uqgaw3PBllQemCVRAeCJZiyOYb/c2pzhnK/dCkBIqIxwDdjmKTXFIQuC91X7rvPCHYe+/AUBLlmsbJAf2d472p3KbVUfnWP8yLwsOhykJt3JQ0G1eNSJWrVDBoc0HOTqxAhNLDAWI4bJe8Z2u1aPtSBAEUy7GqGhZQyLX//j93dt6IOKxmf3KHPHzlRzrkUyVXf3Bpnv0tyBKfQiVHGcwHA9go7D6DowsINHbFK4AAAABOAZ9yakJ/AAADAAmvLrJ71On8h7L6DqK4jD9uT0N3cAhlSF1RKQpUuAEOmDTg7ouXHG1aJpABsCw/O+a4+aXuyUaKjQTt8thSFqW+qqWBAAAA50GbdUnhDomUwUTDf/6MsAAAAwATFYitN+oQAH4oCP5IiqEH+5dnsGU1JeEeuoUfbN/JRUy96gOdA/hWXPpA3CP0T9s7jdmzVAfE7nZykbGj3o3CWfEkOJ81oaLDJN0lfNxCRELN6M1uINkSRY5DVtNzu0nBZokkdxVLaL46d4GAbciPITpBRra91tq9ABrCcd/FBlMsfGW1dRH1SarbAKkuAcaLW+s9b/N5snIO5sF2ZoLAeWUrYNMhejhRv7rOlDLQS0ZWLlUvxTSmUyRDx9a7w7uyieN2W37eiBSup4VW6jhMev92oQAAAEcBn5RqQn8AAAMAGSk/LsmR6NFaV/KiYmrecbzMtWAgATjM9bAfxBUC3WUoU0acD0LV6+CW1m/KKpf1PZkEPymYxear7muMwQAAAINBm5lJ4Q8mUwIZ//44QAAAAwC/Dj6wx+bFSlyubP8vjxa9ACCq9IQnNcVeG6bjRThMdHu9OW1eCqDfp8IS+TBJu2da/YdzXgTGVQsxO7XclO5Vcp/MsNObDMQee2GsIucKIrOIdw7KTus0/te4Wh83YE4S8AmM1NU50v3+ugwPTE1hlAAAAB9Bn7dFETwr/wAAAwAPh/hVvYtkYESXVO4EjnVYBoHIAAAASwGf1nRCfwAAAwAZGqIbdvV0dyPiUgGUVN0peE6ohasiFG4sO6zI11T1Yu8mXcAGd15ABdB1re2+uwclAAnsD3hS1nejVbkS+SSbgQAAAD0Bn9hqQn8AAAMAGR1Bhkx4K+O5qxteDpk4ACD4cn5UFOFRyYGYrK6y9B5Epjss7/sg5WaVn6QwPUiouIsQAAAN1WWIhAA///728P4FNjuY0JcRzeidMx+/Fbi6NDe9zgAAAwAAAwAAtTi0FyWuY1Jv5KR7vD+6dEqLVYAAAH2rbmfzYSGYYZ6YKqM2MSw/Ei4YTGekRI+zfQ5SrRyCMRMMISaFBTU7ezyHT7KqmewmDzrzdDyTpDpiVuWRxxZStt/+aCqqhTLrR32f2RzBmso9mb4jtAxYKVO6nNUdaDDFVdrWJ7He/jvpzG8YGb2luO69Ncg/FKV4yy97pL+5TWD28f3ttoabMqg1sGdcEUd6CfrZzZ8DYUL58HvzWI9fQMwFFjJ4q0WgnaRsc+/Mc6WW61gAEg76U+vB5YmYiuFHoNt2/djK3q/a8BtG++opW7wDvQ+6fTRUqModr4pRTu0xYiVJEdsyNCiKri5PLd4+JlK+QxH7RYerlki2GWFR+LoOybqmK7SYWQCM6EcMZkjaF9c63gMv1YhoOSxX1mJr7nnspD524LVGzuEqr1K8fbU/81gXAbZ94R1iL17eOzp35q4OHsFbnTWc96o25B5ib4Fkyhqhm13S0BnEbp5ndmeLUPGAHtE2/ro4EzI+LFdmhunQ/e4CkarG0ZI/L+aN4xNIbqffMaxzKDJP1j5CZHxg+yvdlE0aDsfTh/tOSvBOnLJ85kUvk4X6eSJxBqszbsS1L7SuYAAAAwAQCILoxdUkJs6pZzOhGVR6m2+3dJ+sbQvQ1ZQn6FnSttVVZGjQVGP7t0sGUCrFNjnzZ8iri6Ngt7ppiRP4vcd0hxrmJDcnTruQhIMLvifleN4zuJ9KS0N7Rz6hXlf+XlIf1pl5ds4eF9xvfkZ+FWwwz19N0xqdeQbpy/JVHFTicfvXYi/AAABNRGDfXlRdKbg3ag40WjYo16IJUC9+J9Lfcvp91vW2RD4qu/AQPz1T9FZxap95b19hsdQ3qOwSwnX2LBHXK3Jmw3Oi5NDwP1yNaIlOcf0z/hVUfunbkn4+jPOAmIe2nFX2r+FCXWga0AqrTofVjS8TaxIDLbdUJp+9OamFS067kh249wVEoaTRAwtWfInRTpKeLI08fi+osW1un9mOTiXzXulUWHr3icBhKxtrkzBUPHoAq0BfMlXQuG0Xusx3q5ZSHn+AFksL/KcoqcaiAyIhbHK1N3iWhvqcxv0yJQvMmh2kuwy7RpsbFExkutiI3tvkPi5h80Gx00ugX3O9fj9HMYnlmNcGKB3HqX2nHEwjMqLNNzAexATRkj3TwyU7sEJUctetj7Ac0SXj5aqEOLcnUOdvWgSYxDGS48tIVvB/e0rxCHQEEJQiCfaOefSWl4h1jZHhNOuADNDbjJ4Jyn6zeg67yI5lWduO4OdSAgdQTgQU6J5ijLWZqkTwu2Lt6DPhR+gX/VmEMeBlLFD8maYH0DanE600VEALf7BdAAr1am4HXksm94AHICEjM5wP9vzlptW1t2PulY0vhnZCpYeHZw+Yny+Po1m5zT+COcXfSiPjMHxF0hL+cSC72jUNxLPYj+16do1IgAMwV4h/YG1QxMFG8RY4sSsS94igbVJjMrQz7KbhyYufpwr8uePKqR+I31LQFyQKrenOnb/Rb2APQks4/Qvfa3VoisgYwLdbCfmpeM+ax6v7t+iqO3EaHeQBbAZtNZ1/ZYTYgdIOr3YIRNOFCTRg3s7wCDHp4RST/lNrki4Z76MVI0/e9DfzofaE7GUNK2RACoC+0aLj8mPaM6QLqqfu58lIO1BWY9TMRqU/wgvpEACR1Btuvhy0Uot8vh6yJwdCxljDlKB1jhpD/bm7O4Ds1ltjKu2wcn7k1CF8R7xJzuxnVqnMoFD1zd8nDYAB/yfQ9TE+ZfNyKiq27+MhmP6TSmqJKBxEFCvXpQwN5bt4Gn8vGuTFbviLbT4JMya4PXjQF9ME5nej8A+zJIjthqBKCInS7Emwzzizf08kP33CpytlrzgV2Rt4SL4WnxlQxdwv/DGqb9IgAnDvVBWtc1bFQhTs/dA7AvYmwghc/Ewvc1etAh4rRDP8oDVNOu1qHECkjG+RJyFR3DePfYc2z5Hig69XDVGLgD3PU9b3vQEKuf/sKkBT+DryvOqXKYXdAJPgdvJvmjThvpO9ksmele4CptRRqBURNnUrO3Zq1if8rcBuQIPiSVTeeEcTi/gnSAs/hEMWUnOI8uSchspIoZBE8bcDfYFJ0VG0AGaY9qyWuIm5JmPL9j2BD80qX+RC29efsQrhTZJD/r5jQZvvDM6lmI0f0GDsSGBWTj2D/dUxo7gax25tGUSjsLZbKC+vmozoBGwGfY08qAO3Y6o9lNmwBQd5D40eBYs+9arqZuW4QGVWIx1OXlE29Xu+mULXppOIQ7Xbx8qRmMUIjqJtUCAnUtJgyH4Cws9AyBnThHlUtVg6oGOGH5VG3LdgG7h1u5Cu30fCwmwcf8oA0H6xa5mnvqioLNwOMvA4Pfehu678qKu2BVtlzyrqX58Ub0FkiqG9IB5XDQRbb1T386F5uKyYw3gdM5pnrgaSCSlvGI//4/UASAAF7m9E40Pjr5rpCuucWHdt/sObopTs7LT28KC9f/NFT8R4yyfMZvENWXGYGIJQ9kPUWItKCviP7EHkTOOmTUQe2dVXSFrIWeJIhokvvv/jDniz4BimTW9iDIqpM8jgEOOIZpCPfp7Xi42YpRUFmGCBcoAaL/H7itqS6kp04pgH1evrDWq+JZOspFU+OLd3nFs5jB0fyAJVSKJUEoEQC14A/W/PtV4csWEI49SIUTepgkA3rr6Yte5eR+pxVNgoOF+qg+sC95A3In1n6/l4VZP86QDU0YT5bj/8rJVnPg9hbw3WPuqqVgjj6gOp8aoEcFgVoCqQzdTaPv3HjImTJrFDZM/yESUW0nGh2Nnz5v6R5n33wH0uZ6YUCn+vR7OBLoPWkNRC1I2JvF7tH08K30lh6bZfo1R3D7BNb+f0bmKAHolaucEJQRELe9vpYsHMRgAl741XksT8A0x1sEeTl432O2ygynPoUIhDw91FzLU22gSjr25fhHUFcmVQgdXPBRpmwR9vNXaqSqqAa01AhKT1YuHSR5eOMJV+7vgXtz6UXvtIOSnbeFFib/e6NWEo95V4bbR7laTeJayxSRETVycsd0yV7L1qoFqLyAVFaKAOZ4OG4nzPQ3NsDyd+g6vhME6CGyiJQ3w7Q5MKu7KHMhv/RABth9bUVdiqXaPu2tHEZJilzBld6N7UaPdVU6ZgixrxSpcVem7VCCUoFDr5YTIYfkwJU7bqnoqVeTJBFC5HC1PEZIJFgjZENWYKc3eBbr4lv6S+E+/WCySbh0J6KYrqT3KIX+LKfqeNwhS2AAjqkFP2ii/qSNWGIvGK4DT7wNHj4H7mXeTq6ekBEsWRsZDUmemCLCBsEj9ReXCc9UYpVyO+G9gEaSiDhAr4KEXMJ5+yeXVw1423QTxucb11TyK0HotvyEbWK0DtdiyVcbRncZJsoqDpWYIVZcIvWDYxU3RZH4TVFQoCnx93DugvVy7r2dtmfZ3+3lnZS4qrNQGynXzljYBktyhL436DBU3Q4OTzA5tV053XybJ8yaeG2DRcCfTGxLKzi6vevcwFGYeC5qQkgJalTxNy2pNOVwZYBKmcBl7Tn0x18JE9AAAlweO43xH6CEkAU8QAYXix2c4J2hZjCkP51b3yzC8ntfyRsgeCU6BywSvXCCTC0/tEFJv3FgXUhIvWWim5IX4byU1ikrzEC92AXZRZFLEeOuxXbXDGCiR4Z+3NTrms8QCNTp/Li426pCPdPoPpT+hOlutxCnHWQaNCCWkPYPgD6WPxJ7e27pMrQA1ZeqXY1FkX6k7F0q7mxHnxARwEcg0Qd/7aRaj35j4+PgAFVv2XzUz+p71zebUti44RWD+S+Op3PondHGWEGTGj+WCxq29vSqJe/r+FSg6Kgo0Q04tFyLjNq/QJJzx0Z8+eDVSrS5WVLBTAvURF+nMrGopvxMVYqypQRuLrImuWZ2C1KhBb/p987Nck+/+RvysbhJAelR5n0mRYx87OlIETiWyfePg6NNrgYNQJ0DKEjb7Wz0/Z2fanT+PRZNQYRgcSUIMlQSlAw4Uv/aQAAsXDDTOHIHL7ObO4qr/Ux64QNGs1Uz0hKJU27or/3VaO6WdmGcgcm0WLHuXK1Opl294+63iW2cwsqeqRTwLE7TbpI7P1Jk/No0/kbBh8Qe6MgX0rzWn3LwZRKpZ7z6dEtXy8CpCKVFEjisXRz3gnv1dASBJq/2y6dj8Dyg7PfTjTQSz/D4zZdYuBnHqe0pWTSKK0P2rzC3eRS7rmfSkMABNeo7VJ+/1s2XZawXg2rS9z9cNpa8geoRPHJa+GdgABXd+TtGBblksYjXf8szj/YKB01D6aGBNDcIE3rLlS1Qu8ADAFSH3dHwSmXq4jO8FdiCVscHK8QYjS15chAxm9zhK49xRJYjvObFizjFF5/lKc2XsvxrLXLfPszp86M8vhkpZgBHQT3nkbtopZfgFLAEOd5ibERtM8zDzYg1lKYB3TGpNrXj714L+PxjTaTN3pCdnooaoUKyng9r8R4+TF1GrXX2Zno6eJnFWOAsLD+ui0h20DLU7PzsdSFlgz5reGgujJ2MlElkjb4s3EwWwDdJ0KlY/adDwlPMtcqPkUGbf4PR3vcCyeBvEjNZjj8HO494GqOC/dm/7AlvV2KSh0N2kGeVHzLBVJ5D6nReG5htoadYtnRYCISUPgIE1xQ88AkUGYAcgALyAAAAD3QZokbEN//oywAAADAEgX+jgCy0ve77F0NtPSMwZO+nk/4kMPySn81r0HIe4Ct3geOwDU6+6T0BnB658VqNIZVuyzCxeWwhjPafE0u5Xq/GuF9Zek6pFi4UXvEBcUzeFz7tyQDPxMHLnvlq9UdaVzYyXziUHb8HG4GqTbV1hEJmBMMGW9M+2SDlFvh9z76/CimSqmzUZZOTdnHcIfRw1Sq1Zyug/YDeLh9p3yDAvLgcQGm8/WIvAdwUtQnTbw4x08449s/PUoS+fALmGCeZGWx3E9wJEtrHzQvKZ2wL4sk0yOOW347lxeRCOcuJFI2p4aze905RecLQAAAFhBnkJ4hP8AAAMAJLJgHDPZdQAIPiC2HynjOT2Bv5YHg6muEtmKKG52yhVM5Q0nSHbSruO1vblN1Un/Es4dd6r/jMnVU9T0lx44NA1cnJEdeRyhyqOAPC3VAAAAOgGeYXRCfwAAAwAlwvCm2FVWfi2hmHsSvZSElnCjcl2+hMnwq4MY+dIPMe0vQsGB1QVeqHz3Hg9FyC8AAABDAZ5jakJ/AAADACWyODjuQiGih9SOWAyfXDUy56lyFuQhSEzbB7GXB4ADqjACipZfbGZysy7R3qcMBWUtgE3s1Jh5gQAAAS5BmmdJqEFomUwIZ//+OEAAAAMASb4Iin1jUcpP/3VdM+FC24IDCiklBcwv/S26dOMnWJ5kHnltQ/ErznsIVm9cYHqoq5dbhK+uJpm28xsll4Si21MQQdi/NbD6D8YnyI4GO1F/a8fGpw9/vfy3/Pn9GVrmsCV4vUDzCMy5UYg50kQIwjZVM/+McclsddbHPB1YHbgMMDmJlN2TmOtk2kx3ArhMV0IMCJbjTmF4GUC75mVYgtUmvf2BlZWTEPu+j1I/h4ORdzoSR+G4CBwBtfIWZHR/ipHhpSXd6KymMFbduvf2SS5SA+KKF2HRE61PblZ68YcUUG7l9/nQqH91lSTms1Oh4rnf4l+84smQwAOeQquhv//jVMMoReZOxQOjQDto2M18BCGsVpOR/o69hgAAAIRBnoVFESwr/wAAAwAGIKfp1GOfLBwAg4mWRCsvxZGS6SF0psW0+aYyfc7biGNQYScILM5Xd8OXem1zPB3FbGLDExdPADW6fooXRRM0LxiKo3EecznXdTHiBH2/xmHqfSsvvtTItZRn4LsPOPRy/SLTUgrWBoBQXm/tcHY26VAlPjYsliEAAABfAZ6makJ/AAADAAPM/O3z9qiAAulQsIUFUoLKQTJLk9+ZvE7kZEdA9oVcmZA8yl1M//rjHrrnKGrGQU89vPRH91sy1e9XBnd8HpLrEjQE09HkLiQ7Qf0v9vUW4fZXkJgAAAFZQZqpSahBbJlMFEw3//6MsAAAAwAC21RxMI9EABfJaYYT8Y8HYb5MogLj0k9DCBOANtnN6y4mXNR83Wa+xaJRuWM0sUfuu4NOFNjHaQCaE4h1CDNRUM4fKP9djBnH8YsYDA7WVX2Cc/BNn+ojGy3eX8a3/NjovL0Ii8gJGNH5RHQNW7lkj0jOrvysALEW2lN17LBoYtK/uUJs/IQHY/dDUlkPJh361WJn6/OTldm5WbUspDVTqyH3dVZhkrWESvYt6RX86zgmvXkXtF7hrFPyy1E05zl/QJ4RdrBtvllncWSJcmxfIz4K4hF0cgAXXzOYQrWpcEB+6LA477698YOFdsRWuOkaIPWzJ+cRN+fDMOyuT/D4PGOIYRlAZ/A5cyeus5x7vSYYocRZejI3IvaXDEBooTC2VRZJdmAXJf/3ZufcbbDK57MSSsgHjIsXSJD7dW9H3M27QbKhAAAAYgGeyGpCfwAAAwADzd7zIxCuG9KcACHqoH32VAmEyIpXV3tWh2dF/pl2i9pt1ocN8ABOEaWog3LYcYEjCzRbuLkau6Fg3MaqqVA4EEeMcN8ywos94Ne7EERMdQuyFPuRk/WfAAABIkGazEnhClJlMCGf/jhAAAADAAtntbNpGUDLwAR7yqCPxLzuf5YREzyyehmg5mEp7ood85NAQPQEDWc+qYJHu63n7pklTfKzxVbSElWP6Qod0ivdkBMomX26h3vnbrh0eVPWdpdXqzTYwoQCR7tNAGyrMggIbVh9yb3vNwDScUvXas2dQH8/Kn9lGg/B+UDIXno+jjA0KDoTM9/bd6COMnYum7ELPDHUTopQd92gaO7m4qt0JbXOs+JkEPJbwckUmf3y3x1EuOZTcTye1vseG0jiKOvH8j406nHSZgiISgxlYOLHtXZR2WFiZavJ41kw7RibCaF66lyg8olu6nDd46Oz0MBkPkRz/2S1aWrCF4qoRkPG9FtqtK314ZRmri/M376AAAAAkEGe6kU0TCv/AAADAADtf0pEuIAFIPGCl6gYxBpI3P0rAMKvHPT79rubV5FHz30qXoCeHfXezTyx3ZS111pW0OpnDyRVMYEpTDpagMLcwPhWerlcsfKCH9mu7OALSOTy6X9kRiOYi1fWhtmutPuNZ8Tx7cf0CP5bXVYRmP5lCzI86ETAtpAhDNpFMHmjXq2kuAAAAJcBnwtqQn8AAAMAAX3206PEiGNtu1Jp4LTNp44/WGrKAAX1H9dcopbdBJ7/rMOUaM6wY76fgTRcaI1pMK1UtHplJT3/fls9QFSaXOFEmWfeklZaPvTv3zQT8J3cm8tnY1kI+u1AAtYYzGiH69s4LKG/3ixepbD9ncp+HnL8W5Q7rUBxuTCSDx3EEbYAUJp6jDbKj52fny1fAAAA/0GbDkmoQWiZTBTwz/44QAAAAwAEtZouJqrsAF0AoOyXM5CvCqG5nyxKPflYbAnv6ejbKJz93oyDPmRaBhA7MDITGqsQPkhUc7rbBGHrwLxo6okKUzp1XWYoh7J9R1LifqwXAvx5DlazjfJBkdI4QsDvXUn5Fm2uORGwqoLWHHav2HaIhiZESqhKXTyV8w9UECtZCcToiolpac/IsyH7RaR4FyGEbF25rcPJqHkS+2xML3w+uiYbPlmclHJSWCaqbDv1VyjBDOxpAGQps6c7x2gc3120oclh1teWS6iWlLNmlQBiSqnK1JWxND0GVe1RTkrmkLoURCjYfDtRQtAjcAAAAHUBny1qQn8AAAMAAJ9mPapS1sX0eip3XsnohNdXEAECfwQPGXS5sB1vsfk3MLWl0bHMTytK8h1K/kpuga07mk2r3m/1hoHroKxZZKJTvIrFcQWPWtnlOyQEIbqVKRkS2CMbBliZwDyudvXUdAg4Y0eCbvhl7ZUAAAEnQZsxSeEKUmUwIZ/+OEAAAAMADSn4OZoUHYAJ1jGZn7QoTCSGb5xs9dAaZ8oJ/qBwTItsnB2o0/Fzzopcg6qp35ORFULwVerpqo4/iZ+/Al5lEz3ejcmDUyjG4xWtf+ogbWxH9HsvmvdT17LBSu2yVKRrizkbpuFHJOsBcJzil07m6iw6LLH5jXSz5Z593+Kf9CVjQ4GhAB3TAboUlD7R/pGdZGTLm1t3idaJFKHXQ+AwRMPC2AkXRObjDZSmDU7L+X/e+oZSF0MGq/VE3oz/zrQTO/g0vEAQz62lcoWMLsrLeoWfhztm8crdTBKfAcXMI9iZepjbn6SycOfh3VV8mhfipgozGf2ZPiFC3SEf6EgSVaoiiuh64yWMqPZLC+7Vmaarkv1W2gAAAMRBn09FNEwr/wAAAwABFeQ823fwl2ACoAQTzLiq7l4B+rAo+EsH/gb1/qptMxXRhgoYcktAipWt6ZmLOkU4xugYzWsQJwm/Q2dXdWuFQJjERjRmg7fT9nr7xV7j1CdzT+8THdjhbWUoxGrUEidjJnbRi+lkdB5GN310NOKM23Koz3d8k2xo45Aqqh6ED8BvXbx7E+R7cEAtB2SX2nFgu7r1IIyz2VZ/b/82gPUeSVB/O+6n/+rWlF5X2wMCyq+LZOJz1XOBAAAAgAGfcGpCfwAAAwABupKlfQt0JoLnN08b0akg57aGSCozdCNU4e5Msab59IixALO64NvWzrD/ppgAIXCR04YB3ZoPO38dFlLsQFHSrm9hN7h9E+kry5mBFr1BtUoSCBgHMb6wMGBsDYI/M+p2YwXBlxRQCM7IabRbIweJN513LWi5AAABFkGbckmoQWiZTAhn//44QAAAAwANefB3bG+AAdm9kTcb7CdMluvGRhbEBup30NoRw5L88SrQuQct9bi7cuj/qT1Lav0zIeFCGxzf0Yo9U2bIM81znV5knaQgd1tryCRA3MKftX3e3p6A7bmjwMp7VeZGwb1ARrwaMhNVXTmujUpQwSh2E/mPjNIlAgQU6zRrOBDwv2FwtVjjz1vKQy9Bi3ZehUoClWb9VSW6eYLwvYEO4SY/HckjWQEgf61/krDhh+LR8Px3cN1nSQ/Mq62qUvhpM1AZh1yCrw44Wv34S9DdXfL00BOroWoPhsG3pjNocOOkPSHaUW7OzDWTY+DI0Ar+14dcjQUHIT4ZLyZ5BwFW3pmmO6IhAAABQEGblEnhClJlMFESwz/+OEAAAAMAYnVXAzIigB0juStIIcz2jGsCAJ/NjeTfSiPLB9E4opN2EjyXRMx+5olyV5HCqTUGoIig9j/g/3zZ1iFizc2kViqnNna7K04xfz750dgFE5qr+1jV/Wff36fsZX3NUuTMubxhmAxJY7OUX6eIXRu14zYZGHiog9skIF/KJcSqCbe6SLbvVCedcOebkzwzAqz96puhQonsMGchWPD+VcOcoyEUK/0+CkSLc+A2lJVDsey47jTYAB8TxXhKex1LJuFu4GJ7ti9w6XIOZ4o9MKJ+yToss29wVNwVzSlkSqjpBT4Kfh0ORjnhitCU0YcQSMuVG0YYKrau8bbjXktz/SgJUxm4aJyV3brbLqvI66tg9cp6OOQItwycVKTWHbmJiCANmEZVu96V2RfkkoO5AAAAhAGfs2pCfwAAAwAM5J+XxtRXW991I1jGms5H3vsKhCIACIF29kJdPLA8n1QmQvQ9pkmPFySLo7CbSGv+wjsNBfGPklconwXT/1eM0bGO3YyiTV0+W+gPI6VcqGrWb1x5+Kj7BTo6GoW+BDHzDCduclBH7HSEK1blvdB7Pfp5tXiIe9moQAAAAOZBm7VJ4Q6JlMCGf/44QAAAAwBkT32qpPPAAX1ywX3emZiSyLg5WW5gzdX0kw3Fre9ryMFz1vkvVho4t9TDhyW9ETLVz1H8gV7VVKlx//jp+619B8M7DBCk0a1hoi//8kh+wGd2H6ATIvhJpW8X+rky+fiybBTRIQALQJfDb1H89FY1mnJNRbcp8JHzJL0B32SiSZCP+Y46h5h5LvGPOAGu1pYOhXYzOdRKexMV3TgafM36JDqSvkuuP4Unhm540EdlXz/U7lnKCuIjUVyKrT6qIrbkCDGkkkqNoZcdbtL5pJgY+3IpwAAAANJBm9ZJ4Q8mUwIZ//44QAAAAwEM9QTdUCiATVGJHA8DEg+GX2HLSHKn85+nkhU8su4Z9C52p3KL3zYeAAKx0kvHgd1fDSDb4NL7fKOyfNwe3+L+hoTEe1TWur59cmUx5wdEYJSYl3HzJGoGnDcjrWICLQyg3GZx07LmWanA4070oYWu2aWMkVc/cTliPnLgaWGjEauTZ1UvOmKKo+we+Cxv7/xO32XK7qENttYh9mbjEXcjp8/HB/Pq6JwHD2iL3Jxq4PqFay9xn752Na3HTbEsphkAAAEwQZv3SeEPJlMCGf/+OEAAAAMC1Rg3aTL2ACcXAEtwh41y9S50exZ9FEqN85xyz0TtgRK5mNJ2c1/xJrp13xups5D9O6ogHkp/QiMIb/XTZvZ7ynAZUxj5ANQFSbPWu2V7/1ch8FtFDVSVbVa45vCeFSzW9EIlHVOPSstQv1Ey8C1Tbsbff/hEwD7Xmr018+KBN3G/rGGoeyAT6tdNxotBAgRJ9FzK5utCNwuYHJhItCJkUgw8J/n207FcZ0NlmXWiQKimRdifwLqNx9xASHqPtDoJiPTWULtzZ4t8zeybHkUNHfZmhBSMVPeNW4ytlDdgvhEzGRPUE459g3lF4M7Ony5RXZz2XwgJDB+BObIAFWQeyw1aSKZ5JVGEkUbd/cnazTBf0KKopYD3QzFtB6+4gAAAAPdBmhlJ4Q8mUwURPDP//jhAAAAHwztTkBfuiAIRnLpCNVlyJa66okx0jV4nWcES1R6w96YJgJk9Dq00pao6xMuw14UD4uVl87MLLwzYvOWMinFTU1xqsGkHGx/DOSLNGRFZS5N2TuXZU40mM0gufXWewTnV3inISWO4J2Ni7QkKMO904c5TmfyNrm5pIYXpwE5+Kh4h22Jah1gNNnPK/Z0Keqkw4SDZ8wBsVQO6u+CYD6OD9mbImrkFQYCcZsIOuxAF5C98GLnbWmOQFy5UrJv/nq6QJLDI8iEUUJWUtykSBkD5VY21Z5513UJP85WurdpX9f0XhlxAAAAAVQGeOGpCfwAAAwKzmuXxujz8AJ4FmTwXrAb5eRAAL3TVelwopw+LXgKMNwz8Kbk+3+QHuUC+pgjA+xzaksUu0EmpSavhl/ym3nmBmBjvQqDsaICTbaEAAAEAQZo9SeEPJlMCFf/94QAAAwJcWwsKGApzeAapFabpzZUAgxICXIgVAyBiG9BM9wBcZR3Qfk1y++Oa1PwWCtcPfX3DuMC3EG8QDXB+Txgc9FewVOVEO4y51fCY1tXMWNeoSblFuOJvEL01FCYpa5dWFxf4JMKsZo/b1GayrcwaKMKG8isgwkaP2s9H9a67DJg1StFmt6I+QzmPxeBk5zSN6q3H+fbR8rv/D+CPqf/tYCWEnDsRN2HxCJddUU83nEv+BF5ZYlgvZio8dXl1Wv+8X0OiVlZhjRDyu0Tm1EJTZWy1/PhTGUR9a9lVhcyd2FaI2NubNo+ZBYQ63TSYA3hGgQAAAF9BnltFETwr/wAADLq8h4/CJd5STm2aGsiSAr/CV56k4FENfk8UF1FqILXcAONDYIS0y+l881ffYm0yODtw2WX80EsqeNR6k9NUNCpza4W9YvJWedarBRNHtnOPixCqgQAAAC4Bnnp0Qn8AAAduvjynCHAl4zRLml9DRNjuj9W/EdnUuz3b/KWc/QfWbGGLCOmAAAAAVAGefGpCfwAAFHzC6mAZvaTh1oxWNT75bpxi82Rjny8MSD6WftYjTNYL2me4vFAzW9yRQ5RhIeFCr+gX+qKCNF//bmgzRf18b7T4HOFhK0R/LMDUgAAAAKJBmmFJqEFomUwIV//94QAABnCEN+F5b+AaWLYCJEnS+uCNfQ26KaWPotWWfqiZzsqBbXHYpqChoNhHy3VyxXAifPXyvfHvYvYNF7MG4o1nksUC/M9oZQL/gt0+IP+5AbLotjTBGzHlONkBTvyx+Q597aMRPTC13XiH/Vvlzlg9osqVpmuOgdFwqeeiRMrYVBFFL/jEGq1UgTk50A6xwlavAUMAAABMQZ6fRREsK/8AAFrxQtur4wwenIXlrKeeFegHMfkUALE1tBoak/yUOvavpjzhNk/ul9jKsOAEwPXe8uyeJyGHUNSMuQ924uhvUisE7AAAAD8Bnr50Qn8AADYXad9xIa23aPt6DogADmXIA6QXBw9QqC9caQXxKJo6JKkbtEtfosYS5jtPIPYsDWDSzwqgZkAAAAAzAZ6gakJ/AACO/H17Rl58Kvk+UMENKcaVPAWuEl6NMuKmlNngALFO43CYL7pX9fxhoHpBAAAAhEGapEmoQWyZTAhX//3hAAAGcIsvMrwFCbbYLFY7p7rRMiWMzUP6R4fDt48KO6OzxMsGwVNcdZHn3ftNs96gY3BTC0CVI11VapBMdRzI3AHLUrxrLFTPjgyFhGgZQvFQguZ90hhq5nyM+/mJYL8nWDTHrvmNbd5ZsWQtcetrVYpf7/wC7gAAADZBnsJFFSwr/wAAWwKBPOM6g+eoodtMcCgb4eGwAmrprHcf6A7E12V41bfYKvcipahaljz2CVkAAAAtAZ7jakJ/AACO/H2EWOQAE5l4qogtTwFCky0abX7LHTcmyA9iTFz3GQZxgCmhAAAAekGa5kmoQWyZTBRMM//+OEAAAaYnmt54nAjy5PnclaWg6FrN602pEWUJd55Q/zXBuWJU2K+AqgGK+PqZLYttaFyM9pkT1KF8fUAv1CROHPAUth93eiiahTQgZZwz/VBMM59I6Ei5MeoBK/P4p+f5LrJiqyorTK8zvMIeAAAAVwGfBWpCfwAAjsjyvMOtmVfYSXqSL8OaCv4wAAmf35NHSF+O7f7Uvp6TqY+IGPmPItU+E/Fh7D+lRIf7jVzrXokNi7T8wF5urUX9pnHg1xuPntg/7nAccQAAAJFBmwhJ4QpSZTBSwz/+OEAAAZ31IlrWNwmAWm4AoB8gNPplq9u676nGeuuK3ccuSi09wa+RLdqbxu2MU/n128IwK5J9q8zw0QiaUCouAMUFLxcYksrtpgWfFEaQzxuPq+SnGG44k1tVW2IdOIYhuKn45Dn0r8Ene7NKH6wbpNvQFT8aX+llJPibv9VlIv/yWwsoAAAATAGfJ2pCfwAANf7Z/jTVho3AAh2ch4qNFyaft2VCFz7FprSKPPtfrrpCh6CTEeUSvi8oPVOv/LzJJ6auDQ0a5O0Wj/5engKANv5yYu8AAAC+QZsqSeEOiZTBRML//fEAAAMBdfYiN5byPuHBskpdp5z4vAohANkhd51Q5pgU57psG21bRnbcgQRVpUSiYzz8Hhaij13l7dBr3Xmp2I0an0ofMwdmZO5Tx+au2Buj6LMDVQzFRr1tlxaCcHPGiQ+3AWEbzXdZ6SUARIvQxGOo/NtDYZpSD9e1Qn+n2Hu0bh/xOb5GN7s7CCtsrvWIvqqpBKD922iXKThiftm23fI8tL/NjeCsXOJURCuDK+AHdQAAAF8Bn0lqQn8AABPkwFZubOxs+8eh9I3eIQ5uUfNgATYMt/lWfEaSM9/7OKwWnKXFKDgyND9/Qb35LkJiFO9M7WOIWeRDisfq3y/DCB4V3mTIbeV+9bRNZVHIvoIx3+lBvQAAAIZBm0tJ4Q8mUwIX//3xAAADADTEBCeYWWtiXewGzagzirOwARjNEpqbG03KpDUtUlvWG4dNGCr3B0R1zS4iBhk7Ge/6Ozjja5NHaDemoTAtS+iL0X2RqClMA2IRcgUIZV0XSx+ZlOTYHjTFxgv+E6o8TfsLL/EaWLqn2ZVtJFHwyyUxQkJDGgAAAJRBm2xJ4Q8mUwIX//3xAAADADJ+61wYMwahdAqPLS84NfxKJPhtZGt2Fao8kr7HfnP5lt8SZVupoa01PksGV9/hCSTVl9NOje7a4DZAsgiWVNrNBoqrQC8FhVANud3DGZyU1Vfyp0SB51y3C382WNFt2P1j1NPst2GPPNwzbi08ZW/PNVq7bwJrf7e521yZbaiMQkLPAAAAp0GbjUnhDyZTAhf//fEAAAMAEu+AY3lPUa5NDuAXS3EM7nsb+yDGQouWJgFdchssR1mGmCquduwTqVuXQRQFP9KoN4AidB2UVaAV53SYTNQSus0Rx1Ik2a93PtuboEgpGMTBuwok78kIuFU+yayPWN7UkzB4OZbq4P7/okvWkpjTFCiB5JeGRIcJEDhkU9N0nIOECH5v7z9ep+x2uTI4cZs42WYCUcObAAAAxEGbrknhDyZTAhn//jhAAAADAtntbNpGLnBExMH+4BtUeot7YVBfoG4npreJuckm2nlhzZwPfdIWS4gNpYaIdIZLOQ6NIxNNOu7oeiiycDmTgw5uSV4rNYN/TmzVcrjSFIyjtTrL5RYfSXiapIcg6hnBiRTMb0wcaf2HTO93wk08GnM917oHG5ostq4+G7jYe7f8PqX1JTmM63wZavkmGG3XlWz9MNjbrlyPRRWIsvmfx4bvVdIMiqhkkmXbIOJA7ELoDZkAAADgQZvPSeEPJlMCGf/+OEAAAAMBDvghxOdAmbPSEBXgh1QOINwD0mLqt7SxAPTAK8rlHYEKeYKafEJe4rL5/pTuoNnU6BB1OQj4ll3yAf0uUr2Pb4CWYQmucwVhcF/G+2khuVn6zruoi0bqgy8YrdjqbOUnBZ9vFf/3sVYPK3bbvN1qrlTQBM0uNqdrRuCG0//cC0rLjD0aeuSFdKYLoKgdVRJ366tZ2W7NzAmlObTUccQJewj2/cQnGY7svEu2QBroHCIm+OVfEgqO42gH0xaeuzEHYnFAtw/tOSB/VUQTxnoAAADGQZvwSeEPJlMCGf/+OEAAAAMBDSxLZF+B+v63HPcITJcYlqq7/fXyAoC9UCfqyMIpTo3S8JEN97ml20Knj2E0J3GfPjeJZ4WLtiTdkXxVKmyMbZAQdaZXj3VrrVBMg12ppne/KI7DX1qgYb2Wc+Kr2DoCvqo4pP5n+OE9Tc5lfGUU05UBX+h6REOWXenbvbEPM6spJGwzrxuww9NyMuqleLl5YHdERpdrDPEJLQCndHtjg/0U4ZCR8hHgKoXriZfObl1t1QgpAAAA+kGaEknhDyZTBRE8M//+OEAAAAMAJN9h0621hhFGczNyJ+7oB7kIac4r3s9Ri333m6iDBFtgd9Ke7CL6rQktiZsk+LplmOMslmfWv6pMatgvzlSNVCvQzMfS3EqmO6PNrIDjgYgtj8ufGKDub+2Bg09AqB6uupyKAHlgeCOmngTH1Bwfg24vJdt/8nl4GJtfnfAOfc46AXQ46LCRM1q65KWb+6TI1qUGi+VqDtwkonahyEHv1EWGpja8wElCmNY4UFNgkcKB1fr07BtVGfzopKn5qSj/W+fq+Sbyxh94KDEQEs6DRtT8QgrzioHPirX9r7/6Yzd2mpWPtYkAAACaAZ4xakJ/AAADAATWN7BWCu1AATpy1fsnc/rHwyJIkG+G/syEXdmCSJxW/7b+kt9dx+jB1QcAG9aM4NIfAPJLG/+UhohWQMr0/2P60DCoHNEOH3qXcx0vFgDemGMiJZgQKsadz4NUZSaNaTeXRqyCENLERTN4QQrMmRD1o/2PT/LHuP7C1JwU4IaTw2sd6mD0E5QlDT1gFvnogQAAAL9BmjNJ4Q8mUwIZ//44QAAAAwANj6kOZp/G2DpOcBJb0U2+RVABT6umFbnKqRD7P3bcTSRMURFXXDd5En0Q/lsSdwb/dmfhY0WSnnNQCINlt9G/hDMvX58QhwsxCMSBIa1k/r6jwXi9spxi4+cWkxpLV1LIZ5aW3SmHoAnxc8LKUjsTRahJXXOn7hLt+HnM8ZYwyT99HXZcCONbbMj4krDSQHMPApMm2zy7ye07RpQ5hHoaAvta22qaKVMeu5epQQAAAP5BmlVJ4Q8mUwURPDP//jhAAAADAAT/6G81FGwDDoCYAQ+MR/ncNASyiJhUseWEODUfaSCI7TpQxVqwBHUBpOBL58WTsGwVjihWWJJGykLvdIVfVlny8mHpAZAFj1wbKvvAXz7hOcNbKQEyW+Ag+f78EP9+HhgeyA9yY6znRmToiyr1xuFjJKzt4ljDcZLR5eOhg7ljyXtmzCPZfs9mxGTKZF+Rq3b3i1SEb0cT4aqzjUwbh1YwGmOhJcdhLhHhtlbDp0dyOEweZsn9UGj2UeE/OZ07U9qx1gP7lt8I9fYzVOuu6hjDo1VM8Hi71z6a3FJLikxYiTbzKU1OUCLOgQAAAJMBnnRqQn8AAAMAAKglWsQKQXoelu/ZKnm1Uh+aE92hQ64AITWXopQcmwZE85bSt7e5dtZkDPBxAb5uDa8hOGiRywH4KF0I9WPMXBSJJxbCqndg9FtC40gMNx6HVWjJjyLrlKJa7x8e23cZZxIZ8SjNt4PB/c3xD1wNt7vyB4dQJbz0EschVk8wbf3M22g/sIbvoQQAAADRQZp2SeEPJlMCGf/+OEAAAAMABLvghxK/d3Af50NrrRnlH+WEQnyFPTOlHwr4VaVP5XGQmyzW8t0Z1UvG3DPrxIGYXytNHLn7DICvIQc8SN4+iWd2jyuEhdEGU7oIXqa8UcVIkN2bQkbCz1RJ469EhsufNMRF3P6xRXTF7X0nKVrYu8iMCZhn7MORe6ix2D3zRmWroCYZGFq84VxU4LjGLDs2vLwxtUlqmq3SHEyyCf6YGWSzAGVhJK2QZy5kZ5z///p7mq99+j7zQ+2YdMCORuEAAADDQZqXSeEPJlMCGf/+OEAAAAMABHNPtgCggEidR+MvxjXaJcYoKUVWYgJQnneXqgBNW4YyryGq0nEqW+EqMSetZLRzYvyOqjWalnatPAXLht+xnJ/Z7sCxEvp1njssQlT9xoigcGpyUKqrN9hgPQ2LmZzrH017+z/nJZqVSBawGuuoHt8Ov6HKwh4YkPQcJFH+v8lMoK8UG8HgAJdF/a0GQN5p60imIq6OmzDn//5Pc926Lxi3sEgEuNky8m0gvMcEvnPcAAABX0Gau0nhDyZTAhf//fEAAAMAALZurgRvcARMdTxCGlijOacqA4RlYHbBaKfVPs+8vb2GfNxjMRd/Ft0WmEGDmIvCL/Y+q9/S7me2VBFfCKOfE5EjqBkaY1cI/SelOg5gzV39m/XMLFlgbhO1tyzJx3LyW0ZKrB3YhndrLUhA796lDYoPvGX6V2UazFReKm2YS5dDsOMfzla++rBDeVDaAaUiFLJpf8+UN+MI2m+HLR+MPMKl9MKxHTf3VniUsjm4OWXa/6TEQ7tOypwusvjOgQFTxpslTPiUgqUO/X+58tfm+oYm3GbaeiLdm6WGty5s1gdDjCcE/vF041f1PPSpJGpjdPWqdQo6oqpJrtHz39hvO9FCLFY56uTjDTjuXPVA0l+RqwnIgAlwUkdsqWVVtxhVQJEdn3ZNhLcilVxkJANWOL9FOtyf7s/K9GFLgHe2FYNd7AQR+f36Ww8WoK5RUAAAAOdBntlFETwr/wAAAwAGImQ2K5aGM9sc7rUlgPzaOmADajR4QtsQJAK0LTCVuSTBKREg5RdjEFX6SmMqQD0pXzvULxisCXkhNs2XziG1ep57aBUG5F/tWc179AOe32D9r+ieWl7w3pTYPhtaL158tqR4j8BauX9a69T0ele/jntqm/TOAvp8+hQ3W+U5iPn3pgEr3AsXm3NIhkR/AsipWMQ8miJNlpNWUjXNhTfu7Nry428k9Vf/E4cr0KYGnR8Jr32DF5J7xgE/GrL13btTt1hPyLbSijsQ50Fu+AQXR001zH63Ix69DGkAAACWAZ74dEJ/AAADAAPLFGIYJ6LyYoi8LjlT6O6oAUMyeDdBhm4HcrdImEHVZhupS2zEaWib194ANsP05LuHWeA26XvHBCnFj21xHIsT+Qh3e9fZzsLSTfZYby2bXpvrNY9zud2J8byuG19rRgjGSe1mR8RVdzFc/m+k/M6uPTsJOLtfPQPm6QYsvLGvJdGC+bXyxJyxbSQbAAAAhwGe+mpCfwAAAwAJr8fhDVsbDpAAXSi87jT4wbzWEH3NuauBtTKD7tUl2K5H42KjDZJ6Sfv/bND/ZF63DbQesYa/6odDEFs/SAACAysyxayLsQzGk7U7yUAZjERNQ6PS9tpnyIA0jHZr9v39FNMeNVmbVIXaBw0IDy7SdzhEcIa0P/Ld5g3jOwAAANJBmvxJqEFomUwIX//98QAAAwAAtbTvxPk8fAAtCuWOeCKq7RVKA+9ppoF4Vw40P+7CHvesIf0FcyTA2EWVWo0C5GLfa2qaWrqHxQ+j3dX5jzSLY9uVzmaugNu8I4HD7w8cPYRF7NJd8gv/t0yMV/E1mGbzD+/+YAzfjci1XWHpoqT4Wn4UjizYkMo8+ige2N2v8Q2V5TexQcgbKaZe9Ri7BoNk4zlxraGiz1bPknHpmfnDQvPE11I3U6OwT67Ej4erUg2D2uLfJ5lD3OFmdDsOW1YAAACbQZsdSeEKUmUwIZ/+OEAAAAMAvp8VpBe6QAmrugRZkhL6iHzpL+JGTCuPrnIASQyxfqhPtlZkcY7Q9ZYnZv5vX5NnYLkBUS+mEALCBEwZ+PO0qXN8Iwpbju/K30odLIecaFy02nU/rnR3itdGV6Lw7cuKfsoUa1A6J1CWc83WXKw2HGsLYASJSEeI0INjni39iXoqd+3ajrswweAAAAC7QZs+SeEOiZTAhn/+OEAAAAT2OGxknHwAGwhGo0IlN1seyQpUM3wOm7gu0mIQf/pYu3WnIU5KIr7cLosRjDXHR4+vqsFXQl8f5WAosIH4wHgNd3hRAwHIjdwoQLznK7C+n/4Yw9TBMUFJFSv2Xgm9QuQG4wyC9grXTgW9nTL8br1sj/fsjDQwum2CT6Rl3xszumR3i/PulOS+5y46p9Ox/TAyTQkRV2Z8s4Aw8o3x7JMBAC1CuKkuLuAMaQAAANNBm0BJ4Q8mUwURPC///fEAAAMAU96pnDfoL4AbgnUB/5untkrFvJCgDnaFDjAwJh8Wy9sa8guLvM72/ThvPDNvr7YpnzYhuR/0ACqMBx3TCab0inuU22oQMUMQvEW24JC5ce54RS6Z2KTuUjir6tIyHhgbgKCEGiuypsuZtK09ADC0T3kI/PkSzqQgjmwAd8GbFnkMIRUaDqA5SxZBbK1qa+PRLokmiCKJWkyAsjQ8O93ZibvKHDuSIss0H1nP33Rrnz/N4D230vDCfHTY6uc/FpIwAAAAWgGff2pCfwAABHfghbMH9Dup5mVOft72REnj4qoABzFTRb4qgZ/0BUPXJXDeQ/ibpq2A+fhIjwBEGj80DoFVdMmGe1lza4M7zu/gw9hQQWKwDn8vgSCl6WOpuAAAAKZBm2FJ4Q8mUwIX//3xAAADANgDZMDhcPE/y/QAXTS1VcsHkEUKUIqnc94EdD6fTxQoNs+wTIs1+zxt6YYoa1J7eixbhvPSBlsGy2hfs5t/1SZ1f4VKbe3pXb8o7kI5ntFOljYK3K2uE0y6Th9VMFtbq5t2q7lHcRJDG9bv9HPb1t80dHvCjfjf2tpGDiGGfijTMC+Y17g/Y1cQoVcjKZX6w/9qzB0xAAAAiUGbgknhDyZTAhf//fEAAAMCKcDlK4MWEkWE4xK/8E+CAC6aHdkvVN7+EuquufiS+wcvHSkfV87ZZ0d5Jxkr5uMKBOpCvAgWHbv4Gvq662RVHB482G/Um8/aqOEWrvgWTa5n3ykJwEyIRk9l/5MyTKR94zXy1LsdKfZ260X+U+YUJVikxDkVAPCAAAAAfUGbo0nhDyZTAhn//jhAAAJZ6j5V2ow0jwkFL3LUJQAhK7hrOhuXzSF+5onXBmGz3aRr9pEBcibun3dKqxtlKW61mPpem/wqedrrXhlrqHDKGl05nsnNMpg1NC79Y5f2hVIQZ4LhgctF6v0nb2XHutl5h6MOJd5MRCWxQjplAAAAnEGbxEnhDyZTAhn//jhAAAYc+GxhTuwAF0ImpaGjh2DzjahZqKRsxxHDalvs5fy1lGKXqZvRSM7tXfWHGu/9y5GaHHHPMlgh6LCy30jFcz2nRoirG4B43tqzQAAZ74Qu+lA1d7SB4ZuJxpRtzhwaEHRvN1rHrbREWiD99daR6yxx04JbauHovSWVErUtAJMRnT/K7FbB/00xeUAYEQAAAKpBm+VJ4Q8mUwIZ//44QAAPfkPEAW3YALnlQ8QPQB8zbpBum9+0tRt7TAIkZ9/u2KET+X1eNgtbfJom5XPxy7Y6nVTNt4jaJ1E5J5TPG34JEE1DjnOXwkwi5UXZ04koRTwNq4wLSbmXSuPmNQZxEPtzFXBqduTtWU4ee4/mjbcLU7zX5Lj7HADKVhKBRAK4lGmYq+LDBSdrrfvMSkBHjiWvN9ubw8ll5QBGwAAAAORBmgdJ4Q8mUwURPDP//jhAACjR16sQUvuADm6tjkLhzx2UbQOiu92Z2JmZk/P/UBu09PoVvP+VRaJsOmTQAY3hymG+7ZJvmZfa4SohQ4YwY32IDbR+tYAmSII5IxnpPOAfG5+elitMICYPp7DUG5O82n87s0ObTTcb/3qQnyxilqspNS236EPlBo0B03pdXxuSMrf644j5lPdrEH5Tn9Zsg/WaDSW9xvCqZ+Ea39UbM+5GS/CDFJTUh07u+NrPJP1S5VAl2IAdBrq8OqcA7fQwnO8+WDhPgJrD7QyBrv8xehoAIWEAAABQAZ4makJ/AA3Un5TAGRwLUSAQ0dQc/U/NjFiCLYAIQ8EqzQeMFg/h/BoYQSAjUEeV9qDCk8L56axA9nxQ+Yx5dNFMS8GUtFzYV5z+EMJACTgAAADQQZopSeEPJlMFPDP//jhAAQz1oXDluogBuMeFRaKYfpqjxv13WSRBZgnq0rD68wFGEQ3BIb0zU+6uUImPOr13UHxanXxTftD3QAxOS2aP3GfQcsZvYxm2XasuXh03etPsHy+4NAZ1m4YrCNtlDzX30fdCLL64BPH/haSAjiBjlg4UBEzTKdIFdxvFUF/3vdjjMp25/Shnc3d3/zEi4eYpcd3f+sZGcohk8dHYLyYFWzh7rS0VdTgfhb6MIlI9XwxRj90BzOzVTxEyC+aPQACDgQAAAFgBnkhqQn8AI78f3Axn8t1XDrcG1x/AcY45EgwMXxcDRaPanbAnfKft7a5gYAP52K0Z4RZiuZTTSgbOXX/kD8lRHMHkzdn1+yNltytawcx3dNbe368YABjxAAAAsUGaSknhDyZTAhn//jhAAQ2wdbIZmOEAIHzpvGA6vE2MsbqsPOo9ahZ7kjzgrLP00mXMa2JuMJJIBf1y07ASieTkgWBr1tKHtWoAk93jhBjuxXOQRPCMlojr3jZN2HUc5zmjSkPETjxhyze24KW7WyoxTbZGiOsSrHqxGhpKn+t8QD0UYqoLyztWb19GNtHKK33BtetZFTw8J2VjsMLfa9RpORjrUgOSSwc5E7DvAAA1IAAAAPpBmmxJ4Q8mUwURPC///fEABrs0bu5lQt3gBNM070XVRUKFljh9zjVjMp3iDAgA3sWybWDoohx4sY3G8m/T196r+gZQtBc0+wFOZohCdtf1PubAj5lZlAc7Y2xfhC+Hy6qWG1KLdXpY/z4tGnjuP+ghffKGah4G1bEPag7sXdXt71dAlB5///+yLnXM36RLZfFMcXfLj6Mb9Zw1TVY7TIcOQ1qY9NA/IzTtDKsGzYwT3lZVUWAjXSjdgrVzsrRUlUlXd0Rmo0egKtilBmzGx639KzPG3AVT9Hq/M2iqkFKqkPr7Lvioq33wqrkuBMmV6My41n/5j25AAHpAAAAAXgGei2pCfwDtwAkgzyV5fV05q6FAADTgmS7rc38UlwU7F2Pl8+QNT7Ydr2swbOgTxrCRAAhTmPJEhZM3kzBJUPGQ0oQHMJCP+DXQXzdvEAZ49tfzcuRcR5zTmVgADgkAAADEQZqNSeEPJlMCF//98QAGwIO/gRn4AD6H6HxMZs531VK91EJJsyYl7d37iHMto/kieb4nNBLHm8ytPF20WYji9a9GITYicMeCe/M5nm+8PA0klfAiP2LZoyOeL/9iAHNQTBWdJOPP90KwnAFnO21TfsyOf0eHji+ztkCpHPmZ/zoX5eaoAVw+gTxkRQOjAF9/elrOQGESUmcrAHl2QynLm0eLb0B00AS2v++iQ9KoSs4um2482FU8q9hxvzQMBVkcAADegAAAAMVBmq5J4Q8mUwIX//3xABFuiazAQiwxEACdr6CXmyLQvJ5to495TEMeyi285nB5pbJF7N7MeHk30N/h/oZGuRAdLzYclBW16kTZZx2ZPZQkVTesoPp5CkDDm8rEG6mt5ag6H/En62RWMfaN1ZedcDoHkP27onFcVaFjNj1ETcv2LYnYchJkQAdOZGrHzRqAQDsJWiLs0wk1PJpgjmobH3Y+ENSKAsj64uCVadPMrmdzTV/pbdPDnbSICRMONNP3v/1xUAABxwAAAKtBms9J4Q8mUwIZ//44QAcbf+dtpngkhgAQxkp3jaGtuz6Y/4QDoKziXhQF6rqKJxgo/zb1c2cKzgbxz95RiD1xp6DI+H0xGz2hnNMYGPbil0ULIWS2culUFyxFrwb2p8vTaT4uu6S2MhXBx/Ad/JY6D5A+7qwyusvAaND1Fk0HflOYpaa/evztp2c3zXYNzlT9kAj/7hW37hZ3DYjGINRNLkphRGjhmYAABQQAAAC/QZrwSeEPJlMCGf/+OEAG6CIsqZtRIVAQAWmpKUafPrqCNXZxUlFnDjOBa1D/5UFv0b+JDKHJMVJaT/n881DBZi+xotLiqo1RSnnOJQtY/W1DYxKfcpYiZSv1yt6vBpff4kmLw9KaY2IF94JGOF/uFll65UEO4sp2H2PpTKHLM6QwcKzkrpMdik3Yr6V5vAp2ZHsrRhxkwz1V300c4pPsVeb3HW4g/T6ubJEpR0w6Hwy50pjjQRMwivABNAAAB7UAAADKQZsUSeEPJlMCE//8hABp/RL6Zp2K2ZHMADaJjaCykaTHv15LqWuxQlmFKdWq7ZnvHOerIT2Y7YS4zO6NN7nZYEgZ+UDYbkbNVxTMuKbCbPtZfzOzswQtXw3SOgwrCqSKvrXUYprermSU++tqATvJlVsv6n2Es1EwZgdLJL58YfKOoiBOP+xRn1uuq9setKg7UBaj3EIgiAQ6dPHbZ+nfOZgQn9tPJ5l4eYfNQxQzclvKQycQpkO6N1DpJ6fCWFBdHX4up/C4AABvwQAAAMVBnzJFETwr/wCVKKRZjchUcQAmom1S2bvau4CvuDVjmBRnNPvIuc3p/z/pbskp2QfNheT/oUDu2jUIo7uFdozKcyeM2JOr/D7l6Gcb7SqY6EiAoZaDynFfWuO8eYf9t5OTc9kEEt8DM7EtSHQx61oqDkENKAiKcx/n11wchaj8hwxpfB4m/NflDb8NO/xZARpJgaHOV9nbS36HTXVr7lxA0x5n3FL9Q0yGHw4xq8y+GUkOkObVn0i4hQtkZLQd8TkusAAA/wAAAGcBn1F0Qn8A7UMTc3tMQoR18HZxB9KAa7xqxZJkJo2FQAOxFpDvtJ9vf/9IDOzwj7sDZf6aC8dQeiP8grfSXt1Ar4HyRNbytu8Zc5Se2FrudjygoOIiro92rej27mtiLx16BOgAAHLBAAAAdwGfU2pCfwDtvrUMRACzkuXLRD5HouY2LDHkIDX5p9AAX05Oyt3s4dwfTC/mt3v+r9JWHpV1cu0ZEigr211XmvFXWhhP+RollIYHJICueeSV4t65V7q4J9EG2cKRxEN0LaZUADTlRHS/9dqJp+0jq/kH2wuAAAOaAAAb7W1vb3YAAABsbXZoZAAAAAAAAAAAAAAAAAAAA+gAAEwsAAEAAAEAAAAAAAAAAAAAAAABAAAAAAAAAAAAAAAAAAAAAQAAAAAAAAAAAAAAAAAAQAAAAAAAAAAAAAAAAAAAAAAAAAAAAAAAAAAAAAAAAAIAABsXdHJhawAAAFx0a2hkAAAAAwAAAAAAAAAAAAAAAQAAAAAAAEwsAAAAAAAAAAAAAAAAAAAAAAABAAAAAAAAAAAAAAAAAAAAAQAAAAAAAAAAAAAAAAAAQAAAAAJgAAABkAAAAAAAJGVkdHMAAAAcZWxzdAAAAAAAAAABAABMLAAABAAAAQAAAAAaj21kaWEAAAAgbWRoZAAAAAAAAAAAAAAAAAAAPAAABJIAVcQAAAAAAC1oZGxyAAAAAAAAAAB2aWRlAAAAAAAAAAAAAAAAVmlkZW9IYW5kbGVyAAAAGjptaW5mAAAAFHZtaGQAAAABAAAAAAAAAAAAAAAkZGluZgAAABxkcmVmAAAAAAAAAAEAAAAMdXJsIAAAAAEAABn6c3RibAAAAK5zdHNkAAAAAAAAAAEAAACeYXZjMQAAAAAAAAABAAAAAAAAAAAAAAAAAAAAAAJgAZAASAAAAEgAAAAAAAAAAQAAAAAAAAAAAAAAAAAAAAAAAAAAAAAAAAAAAAAAAAAAABj//wAAADRhdmNDAWQAHv/hABhnZAAerNlAmDOhAAADAAEAAAMAPA8WLZYBAAVo6+csi/34+AAAAAAUYnRydAAAAAAAAKInAACiJwAAABhzdHRzAAAAAAAAAAEAAAJJAAACAAAAABxzdHNzAAAAAAAAAAMAAAABAAAA+wAAAfUAAA+oY3R0cwAAAAAAAAHzAAAAAQAABAAAAAABAAAKAAAAAAEAAAQAAAAAAQAAAAAAAAABAAACAAAAAAEAAAoAAAAAAQAABAAAAAABAAAAAAAAAAEAAAIAAAAAAQAABgAAAAABAAACAAAAAAEAAAoAAAAAAQAABAAAAAABAAAAAAAAAAEAAAIAAAAAAQAACgAAAAABAAAEAAAAAAEAAAAAAAAAAQAAAgAAAAABAAAGAAAAAAEAAAIAAAAAAQAACgAAAAABAAAEAAAAAAEAAAAAAAAAAQAAAgAAAAABAAAKAAAAAAEAAAQAAAAAAQAAAAAAAAABAAACAAAAAAEAAAgAAAAAAgAAAgAAAAABAAAKAAAAAAEAAAQAAAAAAQAAAAAAAAABAAACAAAAAAEAAAoAAAAAAQAABAAAAAABAAAAAAAAAAEAAAIAAAAAAQAABgAAAAABAAACAAAAAAEAAAYAAAAAAQAAAgAAAAABAAAIAAAAAAIAAAIAAAAAAQAABgAAAAABAAACAAAAAAgAAAQAAAAAAQAABgAAAAABAAACAAAAAAMAAAQAAAAAAQAABgAAAAABAAACAAAAAAEAAAoAAAAAAQAABAAAAAABAAAAAAAAAAEAAAIAAAAAAQAACgAAAAABAAAEAAAAAAEAAAAAAAAAAQAAAgAAAAABAAAGAAAAAAEAAAIAAAAAAQAABAAAAAABAAAGAAAAAAEAAAIAAAAABQAABAAAAAABAAAGAAAAAAEAAAIAAAAAAQAABAAAAAABAAAGAAAAAAEAAAIAAAAAAQAABAAAAAABAAAKAAAAAAEAAAQAAAAAAQAAAAAAAAABAAACAAAAAAMAAAQAAAAAAQAABgAAAAABAAACAAAAAAIAAAQAAAAAAQAABgAAAAABAAACAAAAAAEAAAQAAAAAAQAABgAAAAABAAACAAAAAAEAAAQAAAAAAQAABgAAAAABAAACAAAAAAEAAAQAAAAAAQAABgAAAAABAAACAAAAAAEAAAYAAAAAAQAAAgAAAAABAAAGAAAAAAEAAAIAAAAAAQAABgAAAAABAAACAAAAAAEAAAoAAAAAAQAABAAAAAABAAAAAAAAAAEAAAIAAAAAAQAACgAAAAABAAAEAAAAAAEAAAAAAAAAAQAAAgAAAAABAAAKAAAAAAEAAAQAAAAAAQAAAAAAAAABAAACAAAAAAEAAAoAAAAAAQAABAAAAAABAAAAAAAAAAEAAAIAAAAAAQAACAAAAAACAAACAAAAAAEAAAoAAAAAAQAABAAAAAABAAAAAAAAAAEAAAIAAAAAAQAACgAAAAABAAAEAAAAAAEAAAAAAAAAAQAAAgAAAAABAAAKAAAAAAEAAAQAAAAAAQAAAAAAAAABAAACAAAAAAEAAAoAAAAAAQAABAAAAAABAAAAAAAAAAEAAAIAAAAAAQAABgAAAAABAAACAAAAAAEAAAYAAAAAAQAAAgAAAAABAAAKAAAAAAEAAAQAAAAAAQAAAAAAAAABAAACAAAAAAEAAAYAAAAAAQAAAgAAAAABAAAIAAAAAAIAAAIAAAAAAgAABAAAAAABAAAIAAAAAAIAAAIAAAAAAQAACAAAAAACAAACAAAAAAMAAAQAAAAAAQAABgAAAAABAAACAAAAAAEAAAQAAAAAAQAABgAAAAABAAACAAAAAAEAAAQAAAAAAQAACgAAAAABAAAEAAAAAAEAAAAAAAAAAQAAAgAAAAABAAAKAAAAAAEAAAQAAAAAAQAAAAAAAAABAAACAAAAAAEAAAYAAAAAAQAAAgAAAAABAAAGAAAAAAEAAAIAAAAAAQAABAAAAAABAAAGAAAAAAEAAAIAAAAAAgAABAAAAAABAAAGAAAAAAEAAAIAAAAAAgAABAAAAAABAAAKAAAAAAEAAAQAAAAAAQAAAAAAAAABAAACAAAAAAEAAAYAAAAAAQAAAgAAAAABAAAGAAAAAAEAAAIAAAAAAQAABgAAAAABAAACAAAAAAEAAAYAAAAAAQAAAgAAAAABAAAGAAAAAAEAAAIAAAAAAQAABgAAAAABAAACAAAAAAEAAAYAAAAAAQAAAgAAAAABAAAGAAAAAAEAAAIAAAAAAQAABAAAAAABAAAGAAAAAAEAAAIAAAAAAQAABgAAAAABAAACAAAAAAEAAAQAAAAAAQAABgAAAAABAAACAAAAAAEAAAYAAAAAAQAAAgAAAAABAAAKAAAAAAEAAAQAAAAAAQAAAAAAAAABAAACAAAAAAEAAAoAAAAAAQAABAAAAAABAAAAAAAAAAEAAAIAAAAAAQAACgAAAAABAAAEAAAAAAEAAAAAAAAAAQAAAgAAAAABAAAKAAAAAAEAAAQAAAAAAQAAAAAAAAABAAACAAAAAAEAAAYAAAAAAQAAAgAAAAABAAAEAAAAAAEAAAYAAAAAAQAAAgAAAAABAAAKAAAAAAEAAAQAAAAAAQAAAAAAAAABAAACAAAAAAEAAAoAAAAAAQAABAAAAAABAAAAAAAAAAEAAAIAAAAAAQAABgAAAAABAAACAAAAAAEAAAoAAAAAAQAABAAAAAABAAAAAAAAAAEAAAIAAAAAAQAACgAAAAABAAAEAAAAAAEAAAAAAAAAAQAAAgAAAAABAAAGAAAAAAEAAAIAAAAAAQAABAAAAAABAAAGAAAAAAEAAAIAAAAAAQAABgAAAAABAAACAAAAAAEAAAoAAAAAAQAABAAAAAABAAAAAAAAAAEAAAIAAAAAAQAABAAAAAABAAAIAAAAAAIAAAIAAAAAAQAABgAAAAABAAACAAAAAAEAAAYAAAAAAQAAAgAAAAAEAAAEAAAAAAEAAAgAAAAAAgAAAgAAAAABAAAGAAAAAAEAAAIAAAAAAQAABgAAAAABAAACAAAAAAEAAAQAAAAAAQAACgAAAAABAAAEAAAAAAEAAAAAAAAAAQAAAgAAAAABAAAGAAAAAAEAAAIAAAAAAwAABAAAAAABAAAGAAAAAAEAAAIAAAAABwAABAAAAAABAAAKAAAAAAEAAAQAAAAAAQAAAAAAAAABAAACAAAAAAEAAAQAAAAAAQAACAAAAAACAAACAAAAAAEAAAYAAAAAAQAAAgAAAAABAAAGAAAAAAEAAAIAAAAAAQAABgAAAAABAAACAAAAAAEAAAYAAAAAAQAAAgAAAAABAAAEAAAAAAEAAAYAAAAAAQAAAgAAAAABAAAEAAAAAAEAAAYAAAAAAQAAAgAAAAABAAAGAAAAAAEAAAIAAAAAAQAABgAAAAABAAACAAAAAAIAAAQAAAAAAQAACgAAAAABAAAEAAAAAAEAAAAAAAAAAQAAAgAAAAABAAAKAAAAAAEAAAQAAAAAAQAAAAAAAAABAAACAAAAAAEAAAoAAAAAAQAABAAAAAABAAAAAAAAAAEAAAIAAAAAAQAACgAAAAABAAAEAAAAAAEAAAAAAAAAAQAAAgAAAAABAAAKAAAAAAEAAAQAAAAAAQAAAAAAAAABAAACAAAAAAEAAAgAAAAAAgAAAgAAAAABAAAKAAAAAAEAAAQAAAAAAQAAAAAAAAABAAACAAAAAAEAAAgAAAAAAgAAAgAAAAABAAAKAAAAAAEAAAQAAAAAAQAAAAAAAAABAAACAAAAAAEAAAoAAAAAAQAABAAAAAABAAAAAAAAAAEAAAIAAAAAAQAABAAAAAABAAAIAAAAAAIAAAIAAAAAAQAABgAAAAABAAACAAAAAAIAAAQAAAAAAQAABgAAAAABAAACAAAAAAIAAAQAAAAAAQAABgAAAAABAAACAAAAAAEAAAQAAAAAAQAABgAAAAABAAACAAAAAAEAAAQAAAAAAQAABgAAAAABAAACAAAAAAMAAAQAAAAAAQAACgAAAAABAAAEAAAAAAEAAAAAAAAAAQAAAgAAAAABAAAKAAAAAAEAAAQAAAAAAQAAAAAAAAABAAACAAAAAAEAAAoAAAAAAQAABAAAAAABAAAAAAAAAAEAAAIAAAAAAQAACAAAAAACAAACAAAAAAEAAAYAAAAAAQAAAgAAAAADAAAEAAAAAAEAAAYAAAAAAQAAAgAAAAABAAAGAAAAAAEAAAIAAAAAAQAABAAAAAABAAAIAAAAAAIAAAIAAAAAAQAABAAAAAABAAAIAAAAAAIAAAIAAAAABAAABAAAAAABAAAGAAAAAAEAAAIAAAAABAAABAAAAAABAAAIAAAAAAIAAAIAAAAAAQAABgAAAAABAAACAAAAAAEAAAQAAAAAAQAABgAAAAABAAACAAAAAAEAAAQAAAAAAQAABgAAAAABAAACAAAAAAEAAAYAAAAAAQAAAgAAAAABAAAKAAAAAAEAAAQAAAAAAQAAAAAAAAABAAACAAAAAAEAAAoAAAAAAQAABAAAAAABAAAAAAAAAAEAAAIAAAAAAQAABgAAAAABAAACAAAAAAEAAAYAAAAAAQAAAgAAAAABAAAEAAAAAAEAAAYAAAAAAQAAAgAAAAACAAAEAAAAAAEAAAoAAAAAAQAABAAAAAABAAAAAAAAAAEAAAIAAAAAAwAABAAAAAABAAAIAAAAAAIAAAIAAAAAAQAABAAAAAABAAAGAAAAAAEAAAIAAAAAAQAABgAAAAABAAACAAAAAAEAAAoAAAAAAQAABAAAAAABAAAAAAAAAAEAAAIAAAAAAQAABAAAAAABAAAKAAAAAAEAAAQAAAAAAQAAAAAAAAABAAACAAAAAAEAAAgAAAAAAgAAAgAAAAABAAAGAAAAAAEAAAIAAAAAAQAACAAAAAACAAACAAAAAAEAAAYAAAAAAQAAAgAAAAABAAAIAAAAAAIAAAIAAAAAAQAABAAAAAABAAAGAAAAAAEAAAIAAAAAAwAABAAAAAABAAAGAAAAAAEAAAIAAAAAAQAACgAAAAABAAAEAAAAAAEAAAAAAAAAAQAAAgAAAAABAAAKAAAAAAEAAAQAAAAAAQAAAAAAAAABAAACAAAAAAEAAAgAAAAAAgAAAgAAAAABAAAGAAAAAAEAAAIAAAAAAQAABgAAAAABAAACAAAAAAEAAAYAAAAAAQAAAgAAAAAGAAAEAAAAAAEAAAYAAAAAAQAAAgAAAAABAAAEAAAAAAEAAAYAAAAAAQAAAgAAAAACAAAEAAAAAAEAAAoAAAAAAQAABAAAAAABAAAAAAAAAAEAAAIAAAAAAwAABAAAAAABAAAGAAAAAAEAAAIAAAAABQAABAAAAAABAAAGAAAAAAEAAAIAAAAAAQAABgAAAAABAAACAAAAAAEAAAQAAAAAAQAABgAAAAABAAACAAAAAAQAAAQAAAAAAQAACgAAAAABAAAEAAAAAAEAAAAAAAAAAQAAAgAAAAAcc3RzYwAAAAAAAAABAAAAAQAAAkkAAAABAAAJOHN0c3oAAAAAAAAAAAAAAkkAAA+IAAAAygAAACoAAAAiAAAAIAAAAIoAAABQAAAAIgAAACQAAABsAAAAQAAAAJQAAABFAAAAPwAAAD0AAACIAAAARQAAADMAAAA5AAAAfwAAADcAAACSAAAATwAAACUAAAAvAAAAqQAAADgAAAA1AAAAOAAAAGEAAAAoAAAAHQAAAI0AAAAhAAAAMwAAABgAAACyAAAAPQAAADoAAABDAAABAAAAAE0AAADZAAAAVgAAAQgAAACLAAAAgwAAAQ0AAAB6AAAA3QAAAOQAAADPAAAAzQAAAOwAAAD0AAAA2gAAAOMAAAFUAAAAcgAAANQAAAD6AAAAvAAAARIAAABRAAABIgAAAFkAAABGAAAAQAAAAHYAAABFAAAASAAAAEMAAABnAAAASQAAAHIAAADBAAAAQAAAALoAAADEAAAAzAAAAL8AAADYAAABLgAAAJUAAADgAAAA6QAAAKkAAADMAAABYAAAAPcAAACoAAAApAAAAPkAAADaAAAA8gAAAPYAAABoAAAAugAAAJ4AAAC4AAAALwAAALAAAADaAAAAYAAAALMAAADNAAAAYgAAANAAAAETAAAAeQAAAS4AAABzAAAA7QAAAFgAAADtAAAAigAAAbgAAAC8AAAAcgAAADIAAACdAAAAPQAAACEAAAA1AAAAagAAAEIAAAA3AAAAPgAAAKEAAABbAAAANQAAAD4AAACfAAAASgAAADsAAADOAAAAUgAAAEMAAABCAAAA2gAAAD4AAABDAAAANAAAAIMAAABUAAAANAAAADcAAABvAAAAQQAAADcAAAA2AAAAIwAAAD8AAABtAAAAPwAAARgAAAB1AAAAQwAAAFYAAADuAAAAYQAAASwAAABtAAAAZQAAALYAAADkAAABSgAAAKoAAAB7AAABTwAAAJgAAAB9AAAA+AAAAQsAAAEAAAABVwAAAH0AAADVAAAA7QAAAGAAAADcAAABHgAAAGkAAAA2AAAAMgAAAHUAAABWAAAAPQAAAEkAAAB2AAAAYgAAAKsAAABkAAAAegAAAREAAABbAAAAwQAAAOgAAAEvAAAAoAAAANUAAADTAAABRAAAALEAAACkAAAAnQAAAREAAAC4AAABMAAAAJkAAADzAAAAeQAAARUAAABhAAAA1wAAAGUAAAC5AAAAZwAAAMoAAABLAAAA8wAAAGgAAACyAAAA4wAAAF8AAAEJAAAAbAAAAK4AAAD6AAAAdQAAAPUAAACTAAABjQAAANEAAAByAAAAfwAAAGEAAABDAAAAGwAAAB4AAAB9AAAAQgAAADMAAAAzAAAAtAAAAFIAAAA8AAAAPgAAAEMAAABTAAAOhAAAAIQAAABNAAAAxQAAAD4AAAA1AAAAPQAAANQAAABHAAAARwAAADcAAAB6AAAAQwAAAHcAAAA/AAAAQwAAADwAAABeAAAAZQAAAC0AAAAkAAAArAAAADAAAACFAAAA0AAAAFgAAADyAAAATwAAARoAAAC7AAAAYAAAAHYAAADVAAABWAAAAKAAAAB/AAABNwAAAHEAAAEpAAAAYQAAAOEAAADnAAABAgAAARgAAAEzAAAAZQAAAEYAAAEDAAAARQAAAL8AAAA6AAAAdgAAAIcAAABcAAAARwAAAFUAAACJAAAATAAAAIUAAACNAAAAggAAARcAAABfAAAA3wAAANMAAAEKAAAA4AAAAPkAAADzAAAA1wAAAUYAAAD6AAAArQAAAKMAAADsAAABSwAAALQAAACcAAAA8AAAAGIAAAD4AAAAUQAAAJoAAABYAAAA8QAAAF4AAADPAAAA8gAAAH8AAACzAAAA7wAAAHIAAAEDAAAAcgAAAPsAAAB0AAAAzgAAAPMAAAG1AAAA0QAAAHwAAACLAAAAqAAAADMAAAAqAAAAKQAAALIAAABQAAAAPwAAAEgAAADSAAAAUQAAAFoAAABQAAAA8gAAAFEAAAA4AAAALAAAAN0AAABaAAAANAAAAQEAAABwAAAAPgAAAE8AAADeAAAAXQAAAGgAAADOAAAAYwAAAEQAAABBAAAAdgAAAE0AAAAqAAAAQAAAAHwAAAD4AAAAbAAAAE4AAAEAAAAAZgAAAMsAAADaAAABFQAAAIwAAADXAAAA4wAAATAAAAB4AAABAwAAARkAAAB3AAABCgAAASwAAABwAAAA9gAAAOsAAADlAAABZAAAAIMAAABZAAAARwAAAQ8AAABkAAAARwAAADMAAACHAAAAWQAAAD0AAABQAAAAtAAAAE4AAABHAAAAzAAAAEcAAACRAAAAxQAAAKUAAAFCAAAAgQAAAOkAAACAAAAAsgAAAOwAAAC8AAAAmQAAANUAAAFNAAAAugAAAKwAAADzAAAAzQAAALAAAAC/AAAA5QAAAGQAAACqAAAAiwAAAI0AAADEAAABJwAAAIsAAABtAAAA5wAAAHsAAAC9AAABBAAAAGkAAAC7AAABCQAAAIAAAADwAAAAkAAAAXsAAAC5AAAAcQAAACoAAADHAAAAWQAAAC0AAAA4AAAAwAAAAE4AAADcAAAAVwAAALEAAADZAAAAbQAAAKsAAACgAAABYwAAAJEAAABVAAAAagAAAOQAAADBAAAAswAAATsAAAB2AAAAVwAAAJ8AAADtAAAAUgAAAOsAAABLAAAAhwAAACMAAABPAAAAQQAADdkAAAD7AAAAXAAAAD4AAABHAAABMgAAAIgAAABjAAABXQAAAGYAAAEmAAAAlAAAAJsAAAEDAAAAeQAAASsAAADIAAAAhAAAARoAAAFEAAAAiAAAAOoAAADWAAABNAAAAPsAAABZAAABBAAAAGMAAAAyAAAAWAAAAKYAAABQAAAAQwAAADcAAACIAAAAOgAAADEAAAB+AAAAWwAAAJUAAABQAAAAwgAAAGMAAACKAAAAmAAAAKsAAADIAAAA5AAAAMoAAAD+AAAAngAAAMMAAAECAAAAlwAAANUAAADHAAABYwAAAOsAAACaAAAAiwAAANYAAACfAAAAvwAAANcAAABeAAAAqgAAAI0AAACBAAAAoAAAAK4AAADoAAAAVAAAANQAAABcAAAAtQAAAP4AAABiAAAAyAAAAMkAAACvAAAAwwAAAM4AAADJAAAAawAAAHsAAAAUc3RjbwAAAAAAAAABAAAAMAAAAGJ1ZHRhAAAAWm1ldGEAAAAAAAAAIWhkbHIAAAAAAAAAAG1kaXJhcHBsAAAAAAAAAAAAAAAALWlsc3QAAAAlqXRvbwAAAB1kYXRhAAAAAQAAAABMYXZmNTguNzYuMTAw\" type=\"video/mp4\">\n",
              "  Your browser does not support the video tag.\n",
              "  </video>"
            ]
          },
          "metadata": {},
          "execution_count": 36
        }
      ]
    },
    {
      "cell_type": "markdown",
      "source": [
        "For intuition, go ahead and compare the agent's performance to that of a random agent, which just takes arbitrary actions without learning. The difference is stark - the trained agent learns to reach the goal efficiently, while the random one is unable to make any progress and struggles in the valley."
      ],
      "metadata": {
        "id": "hFMHk3W_swtX"
      }
    },
    {
      "cell_type": "code",
      "source": [
        "# Generate and display the video for a random agent's behavior.\n",
        "create_policy_eval_video(random_policy, \"random-agent\")"
      ],
      "metadata": {
        "colab": {
          "base_uri": "https://localhost:8080/",
          "height": 539
        },
        "id": "C5qXg_QftmjR",
        "outputId": "5aa60bc7-3384-4903-97d7-ffc31d3bc7c4"
      },
      "execution_count": null,
      "outputs": [
        {
          "output_type": "stream",
          "name": "stderr",
          "text": [
            "WARNING:root:IMAGEIO FFMPEG_WRITER WARNING: input image is not divisible by macro_block_size=16, resizing from (400, 600) to (400, 608) to ensure video compatibility with most codecs and players. To prevent resizing, make your input image divisible by the macro_block_size or set the macro_block_size to None (risking incompatibility). You may also see a FFMPEG warning concerning speedloss due to data not being aligned.\n"
          ]
        },
        {
          "output_type": "execute_result",
          "data": {
            "text/plain": [
              "<IPython.core.display.HTML object>"
            ],
            "text/html": [
              "\n",
              "  <video width=\"640\" height=\"480\" controls>\n",
              "    <source src=\"data:video/mp4;base64,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\" type=\"video/mp4\">\n",
              "  Your browser does not support the video tag.\n",
              "  </video>"
            ]
          },
          "metadata": {},
          "execution_count": 37
        }
      ]
    },
    {
      "cell_type": "markdown",
      "source": [
        "## Thoughts"
      ],
      "metadata": {
        "id": "iOMF6N2wvgY2"
      }
    },
    {
      "cell_type": "markdown",
      "source": [
        "The objective of this tutorial was to train a DQN agent to solve `MountainCar-v0`, which is a challenging, sparse-reward environment, where an underpowered car must learn to build momentum to reach a flag. Enhancements used included ε-decay for exploration-exploitation balance, reward shaping to provide learning signals, and hyperparameter tuning. The goal was to have the agent (controlling the mountain car) learn consistent goal-reaching behavior, where it learns to reach the flag efficiently rather than timing out after 200 steps."
      ],
      "metadata": {
        "id": "norOai_8viJY"
      }
    },
    {
      "cell_type": "markdown",
      "source": [
        "The final average return of ~`-114.9` indicates successful learning and near-optimal performance. The agent consistently reaches the goal in approximately 115 steps, well below the 200-step episode limit. The video evidence confirms that the agent learned the correct policy: building momentum through strategic oscillation to climb up the hill."
      ],
      "metadata": {
        "id": "O817TUxyvoMo"
      }
    },
    {
      "cell_type": "markdown",
      "source": [
        "The learning curve reveals an interesting progression. For the first 29,000 steps, the average returns remained at `-200` as the agent explored randomly with high epsilon values while accumulating experience. The breakthrough around step 30,000 occurred when epsilon had decayed sufficiently to exploit learned patterns, and the replay buffer contained enough successful trajectories. From steps 50,000-100,000, there was notable improvement in observed rewards and learning as the agent learned to refine its policy, with some fluctuations due to ongoing exploration. Finally, convergence around return values of `-115` to `-125` indicates that the agent successfully learned the optimal oscillation strategy. This progression is clearly visible in the training plot, which shows the characteristic plateau followed by breakthrough and gradual convergence."
      ],
      "metadata": {
        "id": "RpZPUv3Avp5_"
      }
    },
    {
      "cell_type": "markdown",
      "source": [
        "The enhancements used have significantly aided this work: ε-decay provided proper exploration-exploitation balance, reward shaping (position + velocity bonuses) gave essential learning signals that sparse rewards alone could not provide, and the hyperparameter choices ensured stable learning dynamics. The result is an agent that not only reaches the goal consistently but does so efficiently - exactly what we set out to achieve with this challenging RL problem."
      ],
      "metadata": {
        "id": "EreyI-ZuvxDB"
      }
    },
    {
      "cell_type": "markdown",
      "source": [
        "## Next steps"
      ],
      "metadata": {
        "id": "pbr3_Zenw2tK"
      }
    },
    {
      "cell_type": "markdown",
      "source": [
        "Building on this DQN tutorial, here are worthy improvements and extensions one may explore.\n",
        "\n",
        "1.   **Double DQN (DDQN)**: Implement [DDQN](https://arxiv.org/abs/1509.06461) to reduce overestimation bias (when the agent / Q-network predicts higher rewards for actions than they actually yield) in Q-value learning. This uses separate Q-networks for action selection and action evaluation (target Q-value computation in our case), often leading to more stable training.\n",
        "\n",
        "2.   **Dueling DQN**: Try [Dueling Network Architecture](https://arxiv.org/abs/1511.06581) that modifies the Q-network structure to separately estimate \"how good it is to be in this state\" and \"how much better each action is compared to others.\" This can improve learning efficiency compared to the single-stream `Dense` layer approach, especially when not all actions significantly affect the outcome.\n",
        "\n",
        "3.   **Prioritized Experience Replay**: Replace uniform sampling with [Prioritized Experience Replay](https://arxiv.org/abs/1511.05952), which samples more important transitions (higher TD error) more frequently, accelerating learning.\n",
        "\n",
        "4.   **Rainbow DQN**: Combine multiple DQN improvements in the [Rainbow](https://arxiv.org/abs/1710.02298) implementation, which integrates DDQN, Dueling Network Architecture, Prioritized Experience Replay, and other enhancements.\n",
        "\n",
        "5.   **Different Environments**: Apply the same techniques to other classic control problems like `CartPole-v1`, `Acrobot-v1`, or `LunarLander-v3` to understand how reward shaping and hyperparameters transfer across tasks.\n",
        "\n",
        "6.   **Continuous Control**: Explore policy gradient methods like [PPO](https://arxiv.org/abs/1707.06347) or [SAC](https://arxiv.org/abs/1801.01290) on continuous action spaces such as `MountainCarContinuous-v0` or `Pendulum-v1`.\n",
        "\n",
        "7.   **Hyperparameter Optimization**: Use approaches like [Optuna](https://optuna.org/) or [Ray Tune](https://docs.ray.io/en/latest/tune/index.html) to automatically find optimal learning rates, network architectures, and epsilon decay schedules.\n",
        "\n",
        "8.   **Multi-Agent Learning**: Extend to multi-agent scenarios using frameworks like [PettingZoo](https://pettingzoo.farama.org/) to study cooperation and competition between multiple learning agents.\n",
        "\n",
        "9.   **Custom Reward Shaping**: Experiment with different reward shaping functions or learn to automatically shape rewards using techniques like [potential-based reward shaping](https://people.eecs.berkeley.edu/~pabbeel/cs287-fa09/readings/NgHaradaRussell-shaping-ICML1999.pdf).\n",
        "\n",
        "10.   **Transfer Learning**: Pre-train on one environment variant and fine-tune on another one (e.g., different mountain slopes) to study how learned policies transfer across similar tasks."
      ],
      "metadata": {
        "id": "bXQKCdLY0r4p"
      }
    }
  ],
  "metadata": {
    "colab": {
      "provenance": [],
      "toc_visible": true,
      "include_colab_link": true
    },
    "kernelspec": {
      "display_name": "Python 3",
      "name": "python3"
    },
    "pycharm": {
      "stem_cell": {
        "cell_type": "raw",
        "metadata": {
          "collapsed": false
        },
        "source": []
      }
    }
  },
  "nbformat": 4,
  "nbformat_minor": 0
}